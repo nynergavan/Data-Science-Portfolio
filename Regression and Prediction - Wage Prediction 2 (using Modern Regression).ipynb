{
  "cells": [
    {
      "cell_type": "markdown",
      "source": [
        "<font size =\"8\"> <div align=\"center\">**Use of Modern Regression for Causal Inference on Wage Prediction Exercise**</div></font>\n",
        "<font size =\"5\"> <div align=\"center\">By **Jon Nyner Gavan**</div></font>"
      ],
      "metadata": {
        "id": "2-EqsRF1klXd"
      }
    },
    {
      "cell_type": "markdown",
      "metadata": {
        "id": "l1z9_vNYhAuZ"
      },
      "source": [
        "---------------\n",
        "# **Context of the Exercise (Wage Prediction 2:  using Modern Regression Algorithm)**\n",
        "---------------\n",
        "\n",
        "In this section, the quality of the predictions provided by modern approaches will be displayed by carrying out a similar study to the Wage Prediction exercise previously.\n",
        "\n",
        "\n",
        "Modern Regression Methods, namely **Lasso**, **Random Forest**, **Boosted Trees**, and **Neural Networks**, when appropriately tuned and under some regularity conditions, provide estimated prediction rules $\\hat{g}$ that approximate the best prediction rule g(Z).\n",
        "\n",
        "-----------------------------\n",
        "## **Data Description:**\n",
        "-----------------------------\n",
        "\n",
        "The dataset is an extended version of the previous Wage Prediction data that contains 37 features composed of both numerical and encoded categorical data.\n",
        "\n",
        "-----------------------------\n",
        "## **Objectives of the Exercise**\n",
        "-----------------------------\n",
        "For this exercise, the same Wage prediction analysis will be carried out but using modern regression algorithms listed above. Comparison of results will be presented and the effectivity of modern regression algorithms will be commented on."
      ]
    },
    {
      "cell_type": "markdown",
      "metadata": {
        "id": "79G3MtrshAue"
      },
      "source": [
        "### **Importing the necessary libraries and overview of the dataset**"
      ]
    },
    {
      "cell_type": "markdown",
      "source": [
        "**Importing Libraries**"
      ],
      "metadata": {
        "id": "4uJvxvqYqLmi"
      }
    },
    {
      "cell_type": "code",
      "execution_count": null,
      "metadata": {
        "id": "2V5teRkchAue"
      },
      "outputs": [],
      "source": [
        "#importing required libraries\n",
        "import numpy as np\n",
        "import pandas as pd\n",
        "import matplotlib.pyplot as plt\n",
        "import seaborn as sns\n",
        "sns.set()\n",
        "#to ignore warnings\n",
        "import warnings\n",
        "warnings.filterwarnings('ignore')"
      ]
    },
    {
      "cell_type": "markdown",
      "metadata": {
        "id": "CIcLLBxfcu2V"
      },
      "source": [
        "**Mounting Google Drive and Loading the Data**"
      ]
    },
    {
      "cell_type": "code",
      "source": [
        "# Mounting Google Drive\n",
        "from google.colab import drive\n",
        "drive.mount('/content/drive/')"
      ],
      "metadata": {
        "id": "4CTy90SRqJu5"
      },
      "execution_count": null,
      "outputs": []
    },
    {
      "cell_type": "code",
      "execution_count": null,
      "metadata": {
        "id": "b06okghlhAug"
      },
      "outputs": [],
      "source": [
        "# Loading the test and training data\n",
        "train = pd.read_csv(\"wage2015_train.csv\") # importing train dataset\n",
        "test = pd.read_csv(\"wage2015_test.csv\")# importing test dataset"
      ]
    },
    {
      "cell_type": "markdown",
      "source": [
        "**Quick look at the Data**"
      ],
      "metadata": {
        "id": "pDcCxbc4qQ0b"
      }
    },
    {
      "cell_type": "code",
      "execution_count": null,
      "metadata": {
        "id": "zzLqwV-khAug",
        "outputId": "775d7998-2b52-49a2-afcc-dec6fa100592",
        "colab": {
          "base_uri": "https://localhost:8080/",
          "height": 236
        }
      },
      "outputs": [
        {
          "output_type": "execute_result",
          "data": {
            "text/plain": [
              "        wage     lwage  sex  white  black  hisp  shs  hsg  scl  clg  ...  \\\n",
              "0  11.639676  2.454420    0      1      0     0    0    0    1    0  ...   \n",
              "1  26.442308  3.274965    0      1      0     0    0    0    0    1  ...   \n",
              "2  20.000000  2.995732    1      1      0     0    0    0    0    1  ...   \n",
              "3  26.442308  3.274965    1      1      0     0    0    0    0    1  ...   \n",
              "4  25.480769  3.237924    0      1      0     0    0    0    0    1  ...   \n",
              "\n",
              "   health  age  exp1   exp2    exp3      exp4     occ  occ2     ind  ind2  \n",
              "0       1   62  40.0  16.00  64.000  256.0000  4620.0    15  8290.0    18  \n",
              "1       1   23   0.0   0.00   0.000    0.0000  2300.0     8  8470.0    18  \n",
              "2       1   31   7.0   0.49   0.343    0.2401  2720.0     9  8590.0    19  \n",
              "3       0   31   7.0   0.49   0.343    0.2401  5300.0    17  8660.0    20  \n",
              "4       1   28   4.0   0.16   0.064    0.0256    40.0     1  7470.0    14  \n",
              "\n",
              "[5 rows x 37 columns]"
            ],
            "text/html": [
              "\n",
              "  <div id=\"df-f4f668ea-9a75-4682-889f-228cb4f7dd2a\">\n",
              "    <div class=\"colab-df-container\">\n",
              "      <div>\n",
              "<style scoped>\n",
              "    .dataframe tbody tr th:only-of-type {\n",
              "        vertical-align: middle;\n",
              "    }\n",
              "\n",
              "    .dataframe tbody tr th {\n",
              "        vertical-align: top;\n",
              "    }\n",
              "\n",
              "    .dataframe thead th {\n",
              "        text-align: right;\n",
              "    }\n",
              "</style>\n",
              "<table border=\"1\" class=\"dataframe\">\n",
              "  <thead>\n",
              "    <tr style=\"text-align: right;\">\n",
              "      <th></th>\n",
              "      <th>wage</th>\n",
              "      <th>lwage</th>\n",
              "      <th>sex</th>\n",
              "      <th>white</th>\n",
              "      <th>black</th>\n",
              "      <th>hisp</th>\n",
              "      <th>shs</th>\n",
              "      <th>hsg</th>\n",
              "      <th>scl</th>\n",
              "      <th>clg</th>\n",
              "      <th>...</th>\n",
              "      <th>health</th>\n",
              "      <th>age</th>\n",
              "      <th>exp1</th>\n",
              "      <th>exp2</th>\n",
              "      <th>exp3</th>\n",
              "      <th>exp4</th>\n",
              "      <th>occ</th>\n",
              "      <th>occ2</th>\n",
              "      <th>ind</th>\n",
              "      <th>ind2</th>\n",
              "    </tr>\n",
              "  </thead>\n",
              "  <tbody>\n",
              "    <tr>\n",
              "      <th>0</th>\n",
              "      <td>11.639676</td>\n",
              "      <td>2.454420</td>\n",
              "      <td>0</td>\n",
              "      <td>1</td>\n",
              "      <td>0</td>\n",
              "      <td>0</td>\n",
              "      <td>0</td>\n",
              "      <td>0</td>\n",
              "      <td>1</td>\n",
              "      <td>0</td>\n",
              "      <td>...</td>\n",
              "      <td>1</td>\n",
              "      <td>62</td>\n",
              "      <td>40.0</td>\n",
              "      <td>16.00</td>\n",
              "      <td>64.000</td>\n",
              "      <td>256.0000</td>\n",
              "      <td>4620.0</td>\n",
              "      <td>15</td>\n",
              "      <td>8290.0</td>\n",
              "      <td>18</td>\n",
              "    </tr>\n",
              "    <tr>\n",
              "      <th>1</th>\n",
              "      <td>26.442308</td>\n",
              "      <td>3.274965</td>\n",
              "      <td>0</td>\n",
              "      <td>1</td>\n",
              "      <td>0</td>\n",
              "      <td>0</td>\n",
              "      <td>0</td>\n",
              "      <td>0</td>\n",
              "      <td>0</td>\n",
              "      <td>1</td>\n",
              "      <td>...</td>\n",
              "      <td>1</td>\n",
              "      <td>23</td>\n",
              "      <td>0.0</td>\n",
              "      <td>0.00</td>\n",
              "      <td>0.000</td>\n",
              "      <td>0.0000</td>\n",
              "      <td>2300.0</td>\n",
              "      <td>8</td>\n",
              "      <td>8470.0</td>\n",
              "      <td>18</td>\n",
              "    </tr>\n",
              "    <tr>\n",
              "      <th>2</th>\n",
              "      <td>20.000000</td>\n",
              "      <td>2.995732</td>\n",
              "      <td>1</td>\n",
              "      <td>1</td>\n",
              "      <td>0</td>\n",
              "      <td>0</td>\n",
              "      <td>0</td>\n",
              "      <td>0</td>\n",
              "      <td>0</td>\n",
              "      <td>1</td>\n",
              "      <td>...</td>\n",
              "      <td>1</td>\n",
              "      <td>31</td>\n",
              "      <td>7.0</td>\n",
              "      <td>0.49</td>\n",
              "      <td>0.343</td>\n",
              "      <td>0.2401</td>\n",
              "      <td>2720.0</td>\n",
              "      <td>9</td>\n",
              "      <td>8590.0</td>\n",
              "      <td>19</td>\n",
              "    </tr>\n",
              "    <tr>\n",
              "      <th>3</th>\n",
              "      <td>26.442308</td>\n",
              "      <td>3.274965</td>\n",
              "      <td>1</td>\n",
              "      <td>1</td>\n",
              "      <td>0</td>\n",
              "      <td>0</td>\n",
              "      <td>0</td>\n",
              "      <td>0</td>\n",
              "      <td>0</td>\n",
              "      <td>1</td>\n",
              "      <td>...</td>\n",
              "      <td>0</td>\n",
              "      <td>31</td>\n",
              "      <td>7.0</td>\n",
              "      <td>0.49</td>\n",
              "      <td>0.343</td>\n",
              "      <td>0.2401</td>\n",
              "      <td>5300.0</td>\n",
              "      <td>17</td>\n",
              "      <td>8660.0</td>\n",
              "      <td>20</td>\n",
              "    </tr>\n",
              "    <tr>\n",
              "      <th>4</th>\n",
              "      <td>25.480769</td>\n",
              "      <td>3.237924</td>\n",
              "      <td>0</td>\n",
              "      <td>1</td>\n",
              "      <td>0</td>\n",
              "      <td>0</td>\n",
              "      <td>0</td>\n",
              "      <td>0</td>\n",
              "      <td>0</td>\n",
              "      <td>1</td>\n",
              "      <td>...</td>\n",
              "      <td>1</td>\n",
              "      <td>28</td>\n",
              "      <td>4.0</td>\n",
              "      <td>0.16</td>\n",
              "      <td>0.064</td>\n",
              "      <td>0.0256</td>\n",
              "      <td>40.0</td>\n",
              "      <td>1</td>\n",
              "      <td>7470.0</td>\n",
              "      <td>14</td>\n",
              "    </tr>\n",
              "  </tbody>\n",
              "</table>\n",
              "<p>5 rows × 37 columns</p>\n",
              "</div>\n",
              "      <button class=\"colab-df-convert\" onclick=\"convertToInteractive('df-f4f668ea-9a75-4682-889f-228cb4f7dd2a')\"\n",
              "              title=\"Convert this dataframe to an interactive table.\"\n",
              "              style=\"display:none;\">\n",
              "        \n",
              "  <svg xmlns=\"http://www.w3.org/2000/svg\" height=\"24px\"viewBox=\"0 0 24 24\"\n",
              "       width=\"24px\">\n",
              "    <path d=\"M0 0h24v24H0V0z\" fill=\"none\"/>\n",
              "    <path d=\"M18.56 5.44l.94 2.06.94-2.06 2.06-.94-2.06-.94-.94-2.06-.94 2.06-2.06.94zm-11 1L8.5 8.5l.94-2.06 2.06-.94-2.06-.94L8.5 2.5l-.94 2.06-2.06.94zm10 10l.94 2.06.94-2.06 2.06-.94-2.06-.94-.94-2.06-.94 2.06-2.06.94z\"/><path d=\"M17.41 7.96l-1.37-1.37c-.4-.4-.92-.59-1.43-.59-.52 0-1.04.2-1.43.59L10.3 9.45l-7.72 7.72c-.78.78-.78 2.05 0 2.83L4 21.41c.39.39.9.59 1.41.59.51 0 1.02-.2 1.41-.59l7.78-7.78 2.81-2.81c.8-.78.8-2.07 0-2.86zM5.41 20L4 18.59l7.72-7.72 1.47 1.35L5.41 20z\"/>\n",
              "  </svg>\n",
              "      </button>\n",
              "      \n",
              "  <style>\n",
              "    .colab-df-container {\n",
              "      display:flex;\n",
              "      flex-wrap:wrap;\n",
              "      gap: 12px;\n",
              "    }\n",
              "\n",
              "    .colab-df-convert {\n",
              "      background-color: #E8F0FE;\n",
              "      border: none;\n",
              "      border-radius: 50%;\n",
              "      cursor: pointer;\n",
              "      display: none;\n",
              "      fill: #1967D2;\n",
              "      height: 32px;\n",
              "      padding: 0 0 0 0;\n",
              "      width: 32px;\n",
              "    }\n",
              "\n",
              "    .colab-df-convert:hover {\n",
              "      background-color: #E2EBFA;\n",
              "      box-shadow: 0px 1px 2px rgba(60, 64, 67, 0.3), 0px 1px 3px 1px rgba(60, 64, 67, 0.15);\n",
              "      fill: #174EA6;\n",
              "    }\n",
              "\n",
              "    [theme=dark] .colab-df-convert {\n",
              "      background-color: #3B4455;\n",
              "      fill: #D2E3FC;\n",
              "    }\n",
              "\n",
              "    [theme=dark] .colab-df-convert:hover {\n",
              "      background-color: #434B5C;\n",
              "      box-shadow: 0px 1px 3px 1px rgba(0, 0, 0, 0.15);\n",
              "      filter: drop-shadow(0px 1px 2px rgba(0, 0, 0, 0.3));\n",
              "      fill: #FFFFFF;\n",
              "    }\n",
              "  </style>\n",
              "\n",
              "      <script>\n",
              "        const buttonEl =\n",
              "          document.querySelector('#df-f4f668ea-9a75-4682-889f-228cb4f7dd2a button.colab-df-convert');\n",
              "        buttonEl.style.display =\n",
              "          google.colab.kernel.accessAllowed ? 'block' : 'none';\n",
              "\n",
              "        async function convertToInteractive(key) {\n",
              "          const element = document.querySelector('#df-f4f668ea-9a75-4682-889f-228cb4f7dd2a');\n",
              "          const dataTable =\n",
              "            await google.colab.kernel.invokeFunction('convertToInteractive',\n",
              "                                                     [key], {});\n",
              "          if (!dataTable) return;\n",
              "\n",
              "          const docLinkHtml = 'Like what you see? Visit the ' +\n",
              "            '<a target=\"_blank\" href=https://colab.research.google.com/notebooks/data_table.ipynb>data table notebook</a>'\n",
              "            + ' to learn more about interactive tables.';\n",
              "          element.innerHTML = '';\n",
              "          dataTable['output_type'] = 'display_data';\n",
              "          await google.colab.output.renderOutput(dataTable, element);\n",
              "          const docLink = document.createElement('div');\n",
              "          docLink.innerHTML = docLinkHtml;\n",
              "          element.appendChild(docLink);\n",
              "        }\n",
              "      </script>\n",
              "    </div>\n",
              "  </div>\n",
              "  "
            ]
          },
          "metadata": {},
          "execution_count": 23
        }
      ],
      "source": [
        "# first 5 records of training dataset\n",
        "train.head()"
      ]
    },
    {
      "cell_type": "code",
      "execution_count": null,
      "metadata": {
        "id": "zFGYCdZVhAuk",
        "outputId": "85408a3a-bb2c-43bd-e883-6cc9a69f76b4",
        "colab": {
          "base_uri": "https://localhost:8080/",
          "height": 236
        }
      },
      "outputs": [
        {
          "output_type": "execute_result",
          "data": {
            "text/plain": [
              "        wage     lwage  sex  white  black  hisp  shs  hsg  scl  clg  ...  \\\n",
              "0   9.615385  2.263364    0      1      0     0    0    0    0    1  ...   \n",
              "1  11.538462  2.445686    1      1      0     0    0    0    1    0  ...   \n",
              "2  28.846154  3.361977    0      1      0     0    0    0    0    1  ...   \n",
              "3  19.230769  2.956512    1      1      0     0    0    1    0    0  ...   \n",
              "4  11.500000  2.442347    1      1      0     0    0    1    0    0  ...   \n",
              "\n",
              "   health  age  exp1   exp2    exp3      exp4     occ  occ2     ind  ind2  \n",
              "0       1   31   7.0   0.49   0.343    0.2401  3600.0    11  8370.0    18  \n",
              "1       1   35  13.0   1.69   2.197    2.8561  6050.0    18   170.0     1  \n",
              "2       0   46  22.0   4.84  10.648   23.4256  2015.0     6  9470.0    22  \n",
              "3       1   57  37.0  13.69  50.653  187.4161  5240.0    17  5680.0     9  \n",
              "4       0   23   3.0   0.09   0.027    0.0081  8740.0    21  7790.0    16  \n",
              "\n",
              "[5 rows x 37 columns]"
            ],
            "text/html": [
              "\n",
              "  <div id=\"df-9157bd0e-7d96-4088-b79a-17b733aad0a2\">\n",
              "    <div class=\"colab-df-container\">\n",
              "      <div>\n",
              "<style scoped>\n",
              "    .dataframe tbody tr th:only-of-type {\n",
              "        vertical-align: middle;\n",
              "    }\n",
              "\n",
              "    .dataframe tbody tr th {\n",
              "        vertical-align: top;\n",
              "    }\n",
              "\n",
              "    .dataframe thead th {\n",
              "        text-align: right;\n",
              "    }\n",
              "</style>\n",
              "<table border=\"1\" class=\"dataframe\">\n",
              "  <thead>\n",
              "    <tr style=\"text-align: right;\">\n",
              "      <th></th>\n",
              "      <th>wage</th>\n",
              "      <th>lwage</th>\n",
              "      <th>sex</th>\n",
              "      <th>white</th>\n",
              "      <th>black</th>\n",
              "      <th>hisp</th>\n",
              "      <th>shs</th>\n",
              "      <th>hsg</th>\n",
              "      <th>scl</th>\n",
              "      <th>clg</th>\n",
              "      <th>...</th>\n",
              "      <th>health</th>\n",
              "      <th>age</th>\n",
              "      <th>exp1</th>\n",
              "      <th>exp2</th>\n",
              "      <th>exp3</th>\n",
              "      <th>exp4</th>\n",
              "      <th>occ</th>\n",
              "      <th>occ2</th>\n",
              "      <th>ind</th>\n",
              "      <th>ind2</th>\n",
              "    </tr>\n",
              "  </thead>\n",
              "  <tbody>\n",
              "    <tr>\n",
              "      <th>0</th>\n",
              "      <td>9.615385</td>\n",
              "      <td>2.263364</td>\n",
              "      <td>0</td>\n",
              "      <td>1</td>\n",
              "      <td>0</td>\n",
              "      <td>0</td>\n",
              "      <td>0</td>\n",
              "      <td>0</td>\n",
              "      <td>0</td>\n",
              "      <td>1</td>\n",
              "      <td>...</td>\n",
              "      <td>1</td>\n",
              "      <td>31</td>\n",
              "      <td>7.0</td>\n",
              "      <td>0.49</td>\n",
              "      <td>0.343</td>\n",
              "      <td>0.2401</td>\n",
              "      <td>3600.0</td>\n",
              "      <td>11</td>\n",
              "      <td>8370.0</td>\n",
              "      <td>18</td>\n",
              "    </tr>\n",
              "    <tr>\n",
              "      <th>1</th>\n",
              "      <td>11.538462</td>\n",
              "      <td>2.445686</td>\n",
              "      <td>1</td>\n",
              "      <td>1</td>\n",
              "      <td>0</td>\n",
              "      <td>0</td>\n",
              "      <td>0</td>\n",
              "      <td>0</td>\n",
              "      <td>1</td>\n",
              "      <td>0</td>\n",
              "      <td>...</td>\n",
              "      <td>1</td>\n",
              "      <td>35</td>\n",
              "      <td>13.0</td>\n",
              "      <td>1.69</td>\n",
              "      <td>2.197</td>\n",
              "      <td>2.8561</td>\n",
              "      <td>6050.0</td>\n",
              "      <td>18</td>\n",
              "      <td>170.0</td>\n",
              "      <td>1</td>\n",
              "    </tr>\n",
              "    <tr>\n",
              "      <th>2</th>\n",
              "      <td>28.846154</td>\n",
              "      <td>3.361977</td>\n",
              "      <td>0</td>\n",
              "      <td>1</td>\n",
              "      <td>0</td>\n",
              "      <td>0</td>\n",
              "      <td>0</td>\n",
              "      <td>0</td>\n",
              "      <td>0</td>\n",
              "      <td>1</td>\n",
              "      <td>...</td>\n",
              "      <td>0</td>\n",
              "      <td>46</td>\n",
              "      <td>22.0</td>\n",
              "      <td>4.84</td>\n",
              "      <td>10.648</td>\n",
              "      <td>23.4256</td>\n",
              "      <td>2015.0</td>\n",
              "      <td>6</td>\n",
              "      <td>9470.0</td>\n",
              "      <td>22</td>\n",
              "    </tr>\n",
              "    <tr>\n",
              "      <th>3</th>\n",
              "      <td>19.230769</td>\n",
              "      <td>2.956512</td>\n",
              "      <td>1</td>\n",
              "      <td>1</td>\n",
              "      <td>0</td>\n",
              "      <td>0</td>\n",
              "      <td>0</td>\n",
              "      <td>1</td>\n",
              "      <td>0</td>\n",
              "      <td>0</td>\n",
              "      <td>...</td>\n",
              "      <td>1</td>\n",
              "      <td>57</td>\n",
              "      <td>37.0</td>\n",
              "      <td>13.69</td>\n",
              "      <td>50.653</td>\n",
              "      <td>187.4161</td>\n",
              "      <td>5240.0</td>\n",
              "      <td>17</td>\n",
              "      <td>5680.0</td>\n",
              "      <td>9</td>\n",
              "    </tr>\n",
              "    <tr>\n",
              "      <th>4</th>\n",
              "      <td>11.500000</td>\n",
              "      <td>2.442347</td>\n",
              "      <td>1</td>\n",
              "      <td>1</td>\n",
              "      <td>0</td>\n",
              "      <td>0</td>\n",
              "      <td>0</td>\n",
              "      <td>1</td>\n",
              "      <td>0</td>\n",
              "      <td>0</td>\n",
              "      <td>...</td>\n",
              "      <td>0</td>\n",
              "      <td>23</td>\n",
              "      <td>3.0</td>\n",
              "      <td>0.09</td>\n",
              "      <td>0.027</td>\n",
              "      <td>0.0081</td>\n",
              "      <td>8740.0</td>\n",
              "      <td>21</td>\n",
              "      <td>7790.0</td>\n",
              "      <td>16</td>\n",
              "    </tr>\n",
              "  </tbody>\n",
              "</table>\n",
              "<p>5 rows × 37 columns</p>\n",
              "</div>\n",
              "      <button class=\"colab-df-convert\" onclick=\"convertToInteractive('df-9157bd0e-7d96-4088-b79a-17b733aad0a2')\"\n",
              "              title=\"Convert this dataframe to an interactive table.\"\n",
              "              style=\"display:none;\">\n",
              "        \n",
              "  <svg xmlns=\"http://www.w3.org/2000/svg\" height=\"24px\"viewBox=\"0 0 24 24\"\n",
              "       width=\"24px\">\n",
              "    <path d=\"M0 0h24v24H0V0z\" fill=\"none\"/>\n",
              "    <path d=\"M18.56 5.44l.94 2.06.94-2.06 2.06-.94-2.06-.94-.94-2.06-.94 2.06-2.06.94zm-11 1L8.5 8.5l.94-2.06 2.06-.94-2.06-.94L8.5 2.5l-.94 2.06-2.06.94zm10 10l.94 2.06.94-2.06 2.06-.94-2.06-.94-.94-2.06-.94 2.06-2.06.94z\"/><path d=\"M17.41 7.96l-1.37-1.37c-.4-.4-.92-.59-1.43-.59-.52 0-1.04.2-1.43.59L10.3 9.45l-7.72 7.72c-.78.78-.78 2.05 0 2.83L4 21.41c.39.39.9.59 1.41.59.51 0 1.02-.2 1.41-.59l7.78-7.78 2.81-2.81c.8-.78.8-2.07 0-2.86zM5.41 20L4 18.59l7.72-7.72 1.47 1.35L5.41 20z\"/>\n",
              "  </svg>\n",
              "      </button>\n",
              "      \n",
              "  <style>\n",
              "    .colab-df-container {\n",
              "      display:flex;\n",
              "      flex-wrap:wrap;\n",
              "      gap: 12px;\n",
              "    }\n",
              "\n",
              "    .colab-df-convert {\n",
              "      background-color: #E8F0FE;\n",
              "      border: none;\n",
              "      border-radius: 50%;\n",
              "      cursor: pointer;\n",
              "      display: none;\n",
              "      fill: #1967D2;\n",
              "      height: 32px;\n",
              "      padding: 0 0 0 0;\n",
              "      width: 32px;\n",
              "    }\n",
              "\n",
              "    .colab-df-convert:hover {\n",
              "      background-color: #E2EBFA;\n",
              "      box-shadow: 0px 1px 2px rgba(60, 64, 67, 0.3), 0px 1px 3px 1px rgba(60, 64, 67, 0.15);\n",
              "      fill: #174EA6;\n",
              "    }\n",
              "\n",
              "    [theme=dark] .colab-df-convert {\n",
              "      background-color: #3B4455;\n",
              "      fill: #D2E3FC;\n",
              "    }\n",
              "\n",
              "    [theme=dark] .colab-df-convert:hover {\n",
              "      background-color: #434B5C;\n",
              "      box-shadow: 0px 1px 3px 1px rgba(0, 0, 0, 0.15);\n",
              "      filter: drop-shadow(0px 1px 2px rgba(0, 0, 0, 0.3));\n",
              "      fill: #FFFFFF;\n",
              "    }\n",
              "  </style>\n",
              "\n",
              "      <script>\n",
              "        const buttonEl =\n",
              "          document.querySelector('#df-9157bd0e-7d96-4088-b79a-17b733aad0a2 button.colab-df-convert');\n",
              "        buttonEl.style.display =\n",
              "          google.colab.kernel.accessAllowed ? 'block' : 'none';\n",
              "\n",
              "        async function convertToInteractive(key) {\n",
              "          const element = document.querySelector('#df-9157bd0e-7d96-4088-b79a-17b733aad0a2');\n",
              "          const dataTable =\n",
              "            await google.colab.kernel.invokeFunction('convertToInteractive',\n",
              "                                                     [key], {});\n",
              "          if (!dataTable) return;\n",
              "\n",
              "          const docLinkHtml = 'Like what you see? Visit the ' +\n",
              "            '<a target=\"_blank\" href=https://colab.research.google.com/notebooks/data_table.ipynb>data table notebook</a>'\n",
              "            + ' to learn more about interactive tables.';\n",
              "          element.innerHTML = '';\n",
              "          dataTable['output_type'] = 'display_data';\n",
              "          await google.colab.output.renderOutput(dataTable, element);\n",
              "          const docLink = document.createElement('div');\n",
              "          docLink.innerHTML = docLinkHtml;\n",
              "          element.appendChild(docLink);\n",
              "        }\n",
              "      </script>\n",
              "    </div>\n",
              "  </div>\n",
              "  "
            ]
          },
          "metadata": {},
          "execution_count": 24
        }
      ],
      "source": [
        " # first 5 records of test dataset\n",
        "test.head()"
      ]
    },
    {
      "cell_type": "markdown",
      "metadata": {
        "id": "EXdnswdJhAum"
      },
      "source": [
        "**Understanding the shape of the data and its data types**"
      ]
    },
    {
      "cell_type": "code",
      "source": [
        "# Viewing the number of rows and columns\n",
        "print(f\"There are {train.shape[0]} rows and {train.shape[1]} columns.\")"
      ],
      "metadata": {
        "id": "8tE05P6_qc5w"
      },
      "execution_count": null,
      "outputs": []
    },
    {
      "cell_type": "code",
      "execution_count": null,
      "metadata": {
        "id": "dvF9cSZWhAun",
        "outputId": "e85cf555-df68-4f24-e3b9-d7f79075a336",
        "colab": {
          "base_uri": "https://localhost:8080/"
        }
      },
      "outputs": [
        {
          "output_type": "stream",
          "name": "stdout",
          "text": [
            "<class 'pandas.core.frame.DataFrame'>\n",
            "RangeIndex: 6348 entries, 0 to 6347\n",
            "Data columns (total 37 columns):\n",
            " #   Column    Non-Null Count  Dtype  \n",
            "---  ------    --------------  -----  \n",
            " 0   wage      6348 non-null   float64\n",
            " 1   lwage     6348 non-null   float64\n",
            " 2   sex       6348 non-null   int64  \n",
            " 3   white     6348 non-null   int64  \n",
            " 4   black     6348 non-null   int64  \n",
            " 5   hisp      6348 non-null   int64  \n",
            " 6   shs       6348 non-null   int64  \n",
            " 7   hsg       6348 non-null   int64  \n",
            " 8   scl       6348 non-null   int64  \n",
            " 9   clg       6348 non-null   int64  \n",
            " 10  mw        6348 non-null   int64  \n",
            " 11  so        6348 non-null   int64  \n",
            " 12  we        6348 non-null   int64  \n",
            " 13  union     6348 non-null   int64  \n",
            " 14  vet       6348 non-null   int64  \n",
            " 15  cent      6348 non-null   int64  \n",
            " 16  ncent     6348 non-null   int64  \n",
            " 17  fam1      6348 non-null   int64  \n",
            " 18  fam2      6348 non-null   int64  \n",
            " 19  fam3      6348 non-null   int64  \n",
            " 20  child     6348 non-null   int64  \n",
            " 21  fborn     6348 non-null   int64  \n",
            " 22  cit       6348 non-null   int64  \n",
            " 23  school    6348 non-null   int64  \n",
            " 24  pens      6348 non-null   int64  \n",
            " 25  fsize10   6348 non-null   int64  \n",
            " 26  fsize100  6348 non-null   int64  \n",
            " 27  health    6348 non-null   int64  \n",
            " 28  age       6348 non-null   int64  \n",
            " 29  exp1      6348 non-null   float64\n",
            " 30  exp2      6348 non-null   float64\n",
            " 31  exp3      6348 non-null   float64\n",
            " 32  exp4      6348 non-null   float64\n",
            " 33  occ       6348 non-null   float64\n",
            " 34  occ2      6348 non-null   int64  \n",
            " 35  ind       6348 non-null   float64\n",
            " 36  ind2      6348 non-null   int64  \n",
            "dtypes: float64(8), int64(29)\n",
            "memory usage: 1.8 MB\n"
          ]
        }
      ],
      "source": [
        "# Checking info of the dataset\n",
        "train.info()"
      ]
    },
    {
      "cell_type": "markdown",
      "metadata": {
        "id": "-pZARbKphAuo"
      },
      "source": [
        "- The dataset has 6348 observations and 37 different variables.\n",
        "- There are no missing values in the dataset."
      ]
    },
    {
      "cell_type": "markdown",
      "metadata": {
        "id": "An3prZGqhAup"
      },
      "source": [
        "### **Exploratory Data Analysis Analysis**"
      ]
    },
    {
      "cell_type": "markdown",
      "metadata": {
        "id": "1G0F-EnkhAup"
      },
      "source": [
        "> **Checking the summary statistics of the dataset**"
      ]
    },
    {
      "cell_type": "code",
      "execution_count": null,
      "metadata": {
        "id": "s2GqFGhahAup",
        "outputId": "46db5ffe-7ff0-430c-bc2b-465ec189d634",
        "colab": {
          "base_uri": "https://localhost:8080/",
          "height": 1000
        }
      },
      "outputs": [
        {
          "output_type": "execute_result",
          "data": {
            "text/plain": [
              "           count         mean           std         min          25%  \\\n",
              "wage      6348.0    18.151370     10.390258    0.015385    10.576923   \n",
              "lwage     6348.0     2.735925      0.602504   -4.174387     2.358675   \n",
              "sex       6348.0     0.541115      0.498346    0.000000     0.000000   \n",
              "white     6348.0     0.697385      0.459426    0.000000     0.000000   \n",
              "black     6348.0     0.184625      0.388024    0.000000     0.000000   \n",
              "hisp      6348.0     0.225425      0.417895    0.000000     0.000000   \n",
              "shs       6348.0     0.062697      0.242436    0.000000     0.000000   \n",
              "hsg       6348.0     0.307656      0.461560    0.000000     0.000000   \n",
              "scl       6348.0     0.299779      0.458197    0.000000     0.000000   \n",
              "clg       6348.0     0.239918      0.427067    0.000000     0.000000   \n",
              "mw        6348.0     0.187146      0.390059    0.000000     0.000000   \n",
              "so        6348.0     0.349716      0.476918    0.000000     0.000000   \n",
              "we        6348.0     0.278198      0.448147    0.000000     0.000000   \n",
              "union     6348.0     0.020006      0.140033    0.000000     0.000000   \n",
              "vet       6348.0     0.030088      0.170844    0.000000     0.000000   \n",
              "cent      6348.0     0.365942      0.481731    0.000000     0.000000   \n",
              "ncent     6348.0     0.348929      0.476669    0.000000     0.000000   \n",
              "fam1      6348.0     0.536232      0.498725    0.000000     0.000000   \n",
              "fam2      6348.0     0.139256      0.346241    0.000000     0.000000   \n",
              "fam3      6348.0     0.130277      0.336635    0.000000     0.000000   \n",
              "child     6348.0     0.162571      0.369003    0.000000     0.000000   \n",
              "fborn     6348.0     0.163989      0.370294    0.000000     0.000000   \n",
              "cit       6348.0     0.907845      0.289267    0.000000     1.000000   \n",
              "school    6348.0     0.148236      0.355361    0.000000     0.000000   \n",
              "pens      6348.0     0.386421      0.486967    0.000000     0.000000   \n",
              "fsize10   6348.0     0.109483      0.312269    0.000000     0.000000   \n",
              "fsize100  6348.0     0.158633      0.365362    0.000000     0.000000   \n",
              "health    6348.0     0.714713      0.451586    0.000000     0.000000   \n",
              "age       6348.0    33.825142     11.485257   16.000000    25.000000   \n",
              "exp1      6348.0    12.160996     11.535660    0.000000     3.000000   \n",
              "exp2      6348.0     2.809403      4.602627    0.000000     0.090000   \n",
              "exp3      6348.0     8.391547     20.015144    0.000000     0.027000   \n",
              "exp4      6348.0    29.073584     97.415275    0.000000     0.008100   \n",
              "occ       6348.0  8466.476528  19570.421355   10.000000  2320.000000   \n",
              "occ2      6348.0    12.876812      6.688689    1.000000     8.000000   \n",
              "ind       6348.0  7843.791273  11938.950959  170.000000  4950.000000   \n",
              "ind2      6348.0    13.232199      5.890789    1.000000     9.000000   \n",
              "\n",
              "                  50%          75%            max  \n",
              "wage        15.384615    23.367102      57.692308  \n",
              "lwage        2.733368     3.151328       4.055124  \n",
              "sex          1.000000     1.000000       1.000000  \n",
              "white        1.000000     1.000000       1.000000  \n",
              "black        0.000000     0.000000       1.000000  \n",
              "hisp         0.000000     0.000000       1.000000  \n",
              "shs          0.000000     0.000000       1.000000  \n",
              "hsg          0.000000     1.000000       1.000000  \n",
              "scl          0.000000     1.000000       1.000000  \n",
              "clg          0.000000     0.000000       1.000000  \n",
              "mw           0.000000     0.000000       1.000000  \n",
              "so           0.000000     1.000000       1.000000  \n",
              "we           0.000000     1.000000       1.000000  \n",
              "union        0.000000     0.000000       1.000000  \n",
              "vet          0.000000     0.000000       1.000000  \n",
              "cent         0.000000     1.000000       1.000000  \n",
              "ncent        0.000000     1.000000       1.000000  \n",
              "fam1         1.000000     1.000000       1.000000  \n",
              "fam2         0.000000     0.000000       1.000000  \n",
              "fam3         0.000000     0.000000       1.000000  \n",
              "child        0.000000     0.000000       1.000000  \n",
              "fborn        0.000000     0.000000       1.000000  \n",
              "cit          1.000000     1.000000       1.000000  \n",
              "school       0.000000     0.000000       1.000000  \n",
              "pens         0.000000     1.000000       1.000000  \n",
              "fsize10      0.000000     0.000000       1.000000  \n",
              "fsize100     0.000000     0.000000       1.000000  \n",
              "health       1.000000     1.000000       1.000000  \n",
              "age         30.000000    40.000000      85.000000  \n",
              "exp1         8.000000    19.000000      65.000000  \n",
              "exp2         0.640000     3.610000      42.250000  \n",
              "exp3         0.512000     6.859000     274.625000  \n",
              "exp4         0.409600    13.032100    1785.062500  \n",
              "occ       4700.000000  6200.000000  100000.000000  \n",
              "occ2        15.000000    17.000000      22.000000  \n",
              "ind       7380.000000  8270.000000  100000.000000  \n",
              "ind2        14.000000    18.000000      23.000000  "
            ],
            "text/html": [
              "\n",
              "  <div id=\"df-3169ed2b-8186-4c9b-8a2f-9457743e55ed\">\n",
              "    <div class=\"colab-df-container\">\n",
              "      <div>\n",
              "<style scoped>\n",
              "    .dataframe tbody tr th:only-of-type {\n",
              "        vertical-align: middle;\n",
              "    }\n",
              "\n",
              "    .dataframe tbody tr th {\n",
              "        vertical-align: top;\n",
              "    }\n",
              "\n",
              "    .dataframe thead th {\n",
              "        text-align: right;\n",
              "    }\n",
              "</style>\n",
              "<table border=\"1\" class=\"dataframe\">\n",
              "  <thead>\n",
              "    <tr style=\"text-align: right;\">\n",
              "      <th></th>\n",
              "      <th>count</th>\n",
              "      <th>mean</th>\n",
              "      <th>std</th>\n",
              "      <th>min</th>\n",
              "      <th>25%</th>\n",
              "      <th>50%</th>\n",
              "      <th>75%</th>\n",
              "      <th>max</th>\n",
              "    </tr>\n",
              "  </thead>\n",
              "  <tbody>\n",
              "    <tr>\n",
              "      <th>wage</th>\n",
              "      <td>6348.0</td>\n",
              "      <td>18.151370</td>\n",
              "      <td>10.390258</td>\n",
              "      <td>0.015385</td>\n",
              "      <td>10.576923</td>\n",
              "      <td>15.384615</td>\n",
              "      <td>23.367102</td>\n",
              "      <td>57.692308</td>\n",
              "    </tr>\n",
              "    <tr>\n",
              "      <th>lwage</th>\n",
              "      <td>6348.0</td>\n",
              "      <td>2.735925</td>\n",
              "      <td>0.602504</td>\n",
              "      <td>-4.174387</td>\n",
              "      <td>2.358675</td>\n",
              "      <td>2.733368</td>\n",
              "      <td>3.151328</td>\n",
              "      <td>4.055124</td>\n",
              "    </tr>\n",
              "    <tr>\n",
              "      <th>sex</th>\n",
              "      <td>6348.0</td>\n",
              "      <td>0.541115</td>\n",
              "      <td>0.498346</td>\n",
              "      <td>0.000000</td>\n",
              "      <td>0.000000</td>\n",
              "      <td>1.000000</td>\n",
              "      <td>1.000000</td>\n",
              "      <td>1.000000</td>\n",
              "    </tr>\n",
              "    <tr>\n",
              "      <th>white</th>\n",
              "      <td>6348.0</td>\n",
              "      <td>0.697385</td>\n",
              "      <td>0.459426</td>\n",
              "      <td>0.000000</td>\n",
              "      <td>0.000000</td>\n",
              "      <td>1.000000</td>\n",
              "      <td>1.000000</td>\n",
              "      <td>1.000000</td>\n",
              "    </tr>\n",
              "    <tr>\n",
              "      <th>black</th>\n",
              "      <td>6348.0</td>\n",
              "      <td>0.184625</td>\n",
              "      <td>0.388024</td>\n",
              "      <td>0.000000</td>\n",
              "      <td>0.000000</td>\n",
              "      <td>0.000000</td>\n",
              "      <td>0.000000</td>\n",
              "      <td>1.000000</td>\n",
              "    </tr>\n",
              "    <tr>\n",
              "      <th>hisp</th>\n",
              "      <td>6348.0</td>\n",
              "      <td>0.225425</td>\n",
              "      <td>0.417895</td>\n",
              "      <td>0.000000</td>\n",
              "      <td>0.000000</td>\n",
              "      <td>0.000000</td>\n",
              "      <td>0.000000</td>\n",
              "      <td>1.000000</td>\n",
              "    </tr>\n",
              "    <tr>\n",
              "      <th>shs</th>\n",
              "      <td>6348.0</td>\n",
              "      <td>0.062697</td>\n",
              "      <td>0.242436</td>\n",
              "      <td>0.000000</td>\n",
              "      <td>0.000000</td>\n",
              "      <td>0.000000</td>\n",
              "      <td>0.000000</td>\n",
              "      <td>1.000000</td>\n",
              "    </tr>\n",
              "    <tr>\n",
              "      <th>hsg</th>\n",
              "      <td>6348.0</td>\n",
              "      <td>0.307656</td>\n",
              "      <td>0.461560</td>\n",
              "      <td>0.000000</td>\n",
              "      <td>0.000000</td>\n",
              "      <td>0.000000</td>\n",
              "      <td>1.000000</td>\n",
              "      <td>1.000000</td>\n",
              "    </tr>\n",
              "    <tr>\n",
              "      <th>scl</th>\n",
              "      <td>6348.0</td>\n",
              "      <td>0.299779</td>\n",
              "      <td>0.458197</td>\n",
              "      <td>0.000000</td>\n",
              "      <td>0.000000</td>\n",
              "      <td>0.000000</td>\n",
              "      <td>1.000000</td>\n",
              "      <td>1.000000</td>\n",
              "    </tr>\n",
              "    <tr>\n",
              "      <th>clg</th>\n",
              "      <td>6348.0</td>\n",
              "      <td>0.239918</td>\n",
              "      <td>0.427067</td>\n",
              "      <td>0.000000</td>\n",
              "      <td>0.000000</td>\n",
              "      <td>0.000000</td>\n",
              "      <td>0.000000</td>\n",
              "      <td>1.000000</td>\n",
              "    </tr>\n",
              "    <tr>\n",
              "      <th>mw</th>\n",
              "      <td>6348.0</td>\n",
              "      <td>0.187146</td>\n",
              "      <td>0.390059</td>\n",
              "      <td>0.000000</td>\n",
              "      <td>0.000000</td>\n",
              "      <td>0.000000</td>\n",
              "      <td>0.000000</td>\n",
              "      <td>1.000000</td>\n",
              "    </tr>\n",
              "    <tr>\n",
              "      <th>so</th>\n",
              "      <td>6348.0</td>\n",
              "      <td>0.349716</td>\n",
              "      <td>0.476918</td>\n",
              "      <td>0.000000</td>\n",
              "      <td>0.000000</td>\n",
              "      <td>0.000000</td>\n",
              "      <td>1.000000</td>\n",
              "      <td>1.000000</td>\n",
              "    </tr>\n",
              "    <tr>\n",
              "      <th>we</th>\n",
              "      <td>6348.0</td>\n",
              "      <td>0.278198</td>\n",
              "      <td>0.448147</td>\n",
              "      <td>0.000000</td>\n",
              "      <td>0.000000</td>\n",
              "      <td>0.000000</td>\n",
              "      <td>1.000000</td>\n",
              "      <td>1.000000</td>\n",
              "    </tr>\n",
              "    <tr>\n",
              "      <th>union</th>\n",
              "      <td>6348.0</td>\n",
              "      <td>0.020006</td>\n",
              "      <td>0.140033</td>\n",
              "      <td>0.000000</td>\n",
              "      <td>0.000000</td>\n",
              "      <td>0.000000</td>\n",
              "      <td>0.000000</td>\n",
              "      <td>1.000000</td>\n",
              "    </tr>\n",
              "    <tr>\n",
              "      <th>vet</th>\n",
              "      <td>6348.0</td>\n",
              "      <td>0.030088</td>\n",
              "      <td>0.170844</td>\n",
              "      <td>0.000000</td>\n",
              "      <td>0.000000</td>\n",
              "      <td>0.000000</td>\n",
              "      <td>0.000000</td>\n",
              "      <td>1.000000</td>\n",
              "    </tr>\n",
              "    <tr>\n",
              "      <th>cent</th>\n",
              "      <td>6348.0</td>\n",
              "      <td>0.365942</td>\n",
              "      <td>0.481731</td>\n",
              "      <td>0.000000</td>\n",
              "      <td>0.000000</td>\n",
              "      <td>0.000000</td>\n",
              "      <td>1.000000</td>\n",
              "      <td>1.000000</td>\n",
              "    </tr>\n",
              "    <tr>\n",
              "      <th>ncent</th>\n",
              "      <td>6348.0</td>\n",
              "      <td>0.348929</td>\n",
              "      <td>0.476669</td>\n",
              "      <td>0.000000</td>\n",
              "      <td>0.000000</td>\n",
              "      <td>0.000000</td>\n",
              "      <td>1.000000</td>\n",
              "      <td>1.000000</td>\n",
              "    </tr>\n",
              "    <tr>\n",
              "      <th>fam1</th>\n",
              "      <td>6348.0</td>\n",
              "      <td>0.536232</td>\n",
              "      <td>0.498725</td>\n",
              "      <td>0.000000</td>\n",
              "      <td>0.000000</td>\n",
              "      <td>1.000000</td>\n",
              "      <td>1.000000</td>\n",
              "      <td>1.000000</td>\n",
              "    </tr>\n",
              "    <tr>\n",
              "      <th>fam2</th>\n",
              "      <td>6348.0</td>\n",
              "      <td>0.139256</td>\n",
              "      <td>0.346241</td>\n",
              "      <td>0.000000</td>\n",
              "      <td>0.000000</td>\n",
              "      <td>0.000000</td>\n",
              "      <td>0.000000</td>\n",
              "      <td>1.000000</td>\n",
              "    </tr>\n",
              "    <tr>\n",
              "      <th>fam3</th>\n",
              "      <td>6348.0</td>\n",
              "      <td>0.130277</td>\n",
              "      <td>0.336635</td>\n",
              "      <td>0.000000</td>\n",
              "      <td>0.000000</td>\n",
              "      <td>0.000000</td>\n",
              "      <td>0.000000</td>\n",
              "      <td>1.000000</td>\n",
              "    </tr>\n",
              "    <tr>\n",
              "      <th>child</th>\n",
              "      <td>6348.0</td>\n",
              "      <td>0.162571</td>\n",
              "      <td>0.369003</td>\n",
              "      <td>0.000000</td>\n",
              "      <td>0.000000</td>\n",
              "      <td>0.000000</td>\n",
              "      <td>0.000000</td>\n",
              "      <td>1.000000</td>\n",
              "    </tr>\n",
              "    <tr>\n",
              "      <th>fborn</th>\n",
              "      <td>6348.0</td>\n",
              "      <td>0.163989</td>\n",
              "      <td>0.370294</td>\n",
              "      <td>0.000000</td>\n",
              "      <td>0.000000</td>\n",
              "      <td>0.000000</td>\n",
              "      <td>0.000000</td>\n",
              "      <td>1.000000</td>\n",
              "    </tr>\n",
              "    <tr>\n",
              "      <th>cit</th>\n",
              "      <td>6348.0</td>\n",
              "      <td>0.907845</td>\n",
              "      <td>0.289267</td>\n",
              "      <td>0.000000</td>\n",
              "      <td>1.000000</td>\n",
              "      <td>1.000000</td>\n",
              "      <td>1.000000</td>\n",
              "      <td>1.000000</td>\n",
              "    </tr>\n",
              "    <tr>\n",
              "      <th>school</th>\n",
              "      <td>6348.0</td>\n",
              "      <td>0.148236</td>\n",
              "      <td>0.355361</td>\n",
              "      <td>0.000000</td>\n",
              "      <td>0.000000</td>\n",
              "      <td>0.000000</td>\n",
              "      <td>0.000000</td>\n",
              "      <td>1.000000</td>\n",
              "    </tr>\n",
              "    <tr>\n",
              "      <th>pens</th>\n",
              "      <td>6348.0</td>\n",
              "      <td>0.386421</td>\n",
              "      <td>0.486967</td>\n",
              "      <td>0.000000</td>\n",
              "      <td>0.000000</td>\n",
              "      <td>0.000000</td>\n",
              "      <td>1.000000</td>\n",
              "      <td>1.000000</td>\n",
              "    </tr>\n",
              "    <tr>\n",
              "      <th>fsize10</th>\n",
              "      <td>6348.0</td>\n",
              "      <td>0.109483</td>\n",
              "      <td>0.312269</td>\n",
              "      <td>0.000000</td>\n",
              "      <td>0.000000</td>\n",
              "      <td>0.000000</td>\n",
              "      <td>0.000000</td>\n",
              "      <td>1.000000</td>\n",
              "    </tr>\n",
              "    <tr>\n",
              "      <th>fsize100</th>\n",
              "      <td>6348.0</td>\n",
              "      <td>0.158633</td>\n",
              "      <td>0.365362</td>\n",
              "      <td>0.000000</td>\n",
              "      <td>0.000000</td>\n",
              "      <td>0.000000</td>\n",
              "      <td>0.000000</td>\n",
              "      <td>1.000000</td>\n",
              "    </tr>\n",
              "    <tr>\n",
              "      <th>health</th>\n",
              "      <td>6348.0</td>\n",
              "      <td>0.714713</td>\n",
              "      <td>0.451586</td>\n",
              "      <td>0.000000</td>\n",
              "      <td>0.000000</td>\n",
              "      <td>1.000000</td>\n",
              "      <td>1.000000</td>\n",
              "      <td>1.000000</td>\n",
              "    </tr>\n",
              "    <tr>\n",
              "      <th>age</th>\n",
              "      <td>6348.0</td>\n",
              "      <td>33.825142</td>\n",
              "      <td>11.485257</td>\n",
              "      <td>16.000000</td>\n",
              "      <td>25.000000</td>\n",
              "      <td>30.000000</td>\n",
              "      <td>40.000000</td>\n",
              "      <td>85.000000</td>\n",
              "    </tr>\n",
              "    <tr>\n",
              "      <th>exp1</th>\n",
              "      <td>6348.0</td>\n",
              "      <td>12.160996</td>\n",
              "      <td>11.535660</td>\n",
              "      <td>0.000000</td>\n",
              "      <td>3.000000</td>\n",
              "      <td>8.000000</td>\n",
              "      <td>19.000000</td>\n",
              "      <td>65.000000</td>\n",
              "    </tr>\n",
              "    <tr>\n",
              "      <th>exp2</th>\n",
              "      <td>6348.0</td>\n",
              "      <td>2.809403</td>\n",
              "      <td>4.602627</td>\n",
              "      <td>0.000000</td>\n",
              "      <td>0.090000</td>\n",
              "      <td>0.640000</td>\n",
              "      <td>3.610000</td>\n",
              "      <td>42.250000</td>\n",
              "    </tr>\n",
              "    <tr>\n",
              "      <th>exp3</th>\n",
              "      <td>6348.0</td>\n",
              "      <td>8.391547</td>\n",
              "      <td>20.015144</td>\n",
              "      <td>0.000000</td>\n",
              "      <td>0.027000</td>\n",
              "      <td>0.512000</td>\n",
              "      <td>6.859000</td>\n",
              "      <td>274.625000</td>\n",
              "    </tr>\n",
              "    <tr>\n",
              "      <th>exp4</th>\n",
              "      <td>6348.0</td>\n",
              "      <td>29.073584</td>\n",
              "      <td>97.415275</td>\n",
              "      <td>0.000000</td>\n",
              "      <td>0.008100</td>\n",
              "      <td>0.409600</td>\n",
              "      <td>13.032100</td>\n",
              "      <td>1785.062500</td>\n",
              "    </tr>\n",
              "    <tr>\n",
              "      <th>occ</th>\n",
              "      <td>6348.0</td>\n",
              "      <td>8466.476528</td>\n",
              "      <td>19570.421355</td>\n",
              "      <td>10.000000</td>\n",
              "      <td>2320.000000</td>\n",
              "      <td>4700.000000</td>\n",
              "      <td>6200.000000</td>\n",
              "      <td>100000.000000</td>\n",
              "    </tr>\n",
              "    <tr>\n",
              "      <th>occ2</th>\n",
              "      <td>6348.0</td>\n",
              "      <td>12.876812</td>\n",
              "      <td>6.688689</td>\n",
              "      <td>1.000000</td>\n",
              "      <td>8.000000</td>\n",
              "      <td>15.000000</td>\n",
              "      <td>17.000000</td>\n",
              "      <td>22.000000</td>\n",
              "    </tr>\n",
              "    <tr>\n",
              "      <th>ind</th>\n",
              "      <td>6348.0</td>\n",
              "      <td>7843.791273</td>\n",
              "      <td>11938.950959</td>\n",
              "      <td>170.000000</td>\n",
              "      <td>4950.000000</td>\n",
              "      <td>7380.000000</td>\n",
              "      <td>8270.000000</td>\n",
              "      <td>100000.000000</td>\n",
              "    </tr>\n",
              "    <tr>\n",
              "      <th>ind2</th>\n",
              "      <td>6348.0</td>\n",
              "      <td>13.232199</td>\n",
              "      <td>5.890789</td>\n",
              "      <td>1.000000</td>\n",
              "      <td>9.000000</td>\n",
              "      <td>14.000000</td>\n",
              "      <td>18.000000</td>\n",
              "      <td>23.000000</td>\n",
              "    </tr>\n",
              "  </tbody>\n",
              "</table>\n",
              "</div>\n",
              "      <button class=\"colab-df-convert\" onclick=\"convertToInteractive('df-3169ed2b-8186-4c9b-8a2f-9457743e55ed')\"\n",
              "              title=\"Convert this dataframe to an interactive table.\"\n",
              "              style=\"display:none;\">\n",
              "        \n",
              "  <svg xmlns=\"http://www.w3.org/2000/svg\" height=\"24px\"viewBox=\"0 0 24 24\"\n",
              "       width=\"24px\">\n",
              "    <path d=\"M0 0h24v24H0V0z\" fill=\"none\"/>\n",
              "    <path d=\"M18.56 5.44l.94 2.06.94-2.06 2.06-.94-2.06-.94-.94-2.06-.94 2.06-2.06.94zm-11 1L8.5 8.5l.94-2.06 2.06-.94-2.06-.94L8.5 2.5l-.94 2.06-2.06.94zm10 10l.94 2.06.94-2.06 2.06-.94-2.06-.94-.94-2.06-.94 2.06-2.06.94z\"/><path d=\"M17.41 7.96l-1.37-1.37c-.4-.4-.92-.59-1.43-.59-.52 0-1.04.2-1.43.59L10.3 9.45l-7.72 7.72c-.78.78-.78 2.05 0 2.83L4 21.41c.39.39.9.59 1.41.59.51 0 1.02-.2 1.41-.59l7.78-7.78 2.81-2.81c.8-.78.8-2.07 0-2.86zM5.41 20L4 18.59l7.72-7.72 1.47 1.35L5.41 20z\"/>\n",
              "  </svg>\n",
              "      </button>\n",
              "      \n",
              "  <style>\n",
              "    .colab-df-container {\n",
              "      display:flex;\n",
              "      flex-wrap:wrap;\n",
              "      gap: 12px;\n",
              "    }\n",
              "\n",
              "    .colab-df-convert {\n",
              "      background-color: #E8F0FE;\n",
              "      border: none;\n",
              "      border-radius: 50%;\n",
              "      cursor: pointer;\n",
              "      display: none;\n",
              "      fill: #1967D2;\n",
              "      height: 32px;\n",
              "      padding: 0 0 0 0;\n",
              "      width: 32px;\n",
              "    }\n",
              "\n",
              "    .colab-df-convert:hover {\n",
              "      background-color: #E2EBFA;\n",
              "      box-shadow: 0px 1px 2px rgba(60, 64, 67, 0.3), 0px 1px 3px 1px rgba(60, 64, 67, 0.15);\n",
              "      fill: #174EA6;\n",
              "    }\n",
              "\n",
              "    [theme=dark] .colab-df-convert {\n",
              "      background-color: #3B4455;\n",
              "      fill: #D2E3FC;\n",
              "    }\n",
              "\n",
              "    [theme=dark] .colab-df-convert:hover {\n",
              "      background-color: #434B5C;\n",
              "      box-shadow: 0px 1px 3px 1px rgba(0, 0, 0, 0.15);\n",
              "      filter: drop-shadow(0px 1px 2px rgba(0, 0, 0, 0.3));\n",
              "      fill: #FFFFFF;\n",
              "    }\n",
              "  </style>\n",
              "\n",
              "      <script>\n",
              "        const buttonEl =\n",
              "          document.querySelector('#df-3169ed2b-8186-4c9b-8a2f-9457743e55ed button.colab-df-convert');\n",
              "        buttonEl.style.display =\n",
              "          google.colab.kernel.accessAllowed ? 'block' : 'none';\n",
              "\n",
              "        async function convertToInteractive(key) {\n",
              "          const element = document.querySelector('#df-3169ed2b-8186-4c9b-8a2f-9457743e55ed');\n",
              "          const dataTable =\n",
              "            await google.colab.kernel.invokeFunction('convertToInteractive',\n",
              "                                                     [key], {});\n",
              "          if (!dataTable) return;\n",
              "\n",
              "          const docLinkHtml = 'Like what you see? Visit the ' +\n",
              "            '<a target=\"_blank\" href=https://colab.research.google.com/notebooks/data_table.ipynb>data table notebook</a>'\n",
              "            + ' to learn more about interactive tables.';\n",
              "          element.innerHTML = '';\n",
              "          dataTable['output_type'] = 'display_data';\n",
              "          await google.colab.output.renderOutput(dataTable, element);\n",
              "          const docLink = document.createElement('div');\n",
              "          docLink.innerHTML = docLinkHtml;\n",
              "          element.appendChild(docLink);\n",
              "        }\n",
              "      </script>\n",
              "    </div>\n",
              "  </div>\n",
              "  "
            ]
          },
          "metadata": {},
          "execution_count": 26
        }
      ],
      "source": [
        "# Printing the summary statistics for the dataset\n",
        "train.describe().T"
      ]
    },
    {
      "cell_type": "markdown",
      "metadata": {
        "id": "HdWxaSQQhAup"
      },
      "source": [
        "**Observations:**\n",
        "- The average wage is about 18 dollars while the highest wage is 58 and lowest is 0.015385.\n",
        "- Average age is 34 years, while min and max are from 16 to 40 years, which shows the data is diverse and is taken from different age groups.\n",
        "- Average experience is 12 years, while min and max from 0 to 65 years, which shows the data is diverse and is taken from different experience groups."
      ]
    },
    {
      "cell_type": "markdown",
      "source": [
        "> **Checking `wage` and `lwage` columns**"
      ],
      "metadata": {
        "id": "yxcDNBRDxp8B"
      }
    },
    {
      "cell_type": "code",
      "execution_count": null,
      "metadata": {
        "id": "gh1mBkVghAuq",
        "outputId": "90399ec8-fc63-4577-f2a1-72064c66afd9",
        "colab": {
          "base_uri": "https://localhost:8080/",
          "height": 396
        }
      },
      "outputs": [
        {
          "output_type": "display_data",
          "data": {
            "text/plain": [
              "<Figure size 1000x400 with 2 Axes>"
            ],
            "image/png": "[encoded data removed]"
          },
          "metadata": {}
        }
      ],
      "source": [
        "#Plotting the Distribution of Wages\n",
        "\n",
        "fig = plt.figure(figsize=(10,4))\n",
        "\n",
        "#  subplot #1\n",
        "plt.subplot(121)\n",
        "sns.histplot(data = train, x = 'wage')\n",
        "\n",
        "#  subplot #2\n",
        "plt.subplot(122)\n",
        "sns.boxplot(data = train, x = 'wage')\n",
        "\n",
        "plt.show()"
      ]
    },
    {
      "cell_type": "markdown",
      "metadata": {
        "id": "NvZW_CZRhAuq"
      },
      "source": [
        "- This is a plot of the target variable, which is the log of the wage. The variable has a right-skewed distribution. There are outliers in the wage variable, which makes it reasonable because have high wages as compared to others. To reduce skewness in modeling, the variable must be log-transformed."
      ]
    },
    {
      "cell_type": "code",
      "execution_count": null,
      "metadata": {
        "id": "OgXzU9MmhAuq",
        "outputId": "66cc6d32-322e-44b4-f372-6cab259d8005",
        "colab": {
          "base_uri": "https://localhost:8080/",
          "height": 396
        }
      },
      "outputs": [
        {
          "output_type": "display_data",
          "data": {
            "text/plain": [
              "<Figure size 1000x400 with 2 Axes>"
            ],
            "image/png": "[encoded data removed]"
          },
          "metadata": {}
        }
      ],
      "source": [
        "#Plotting the Distribution of logarithm of wages\n",
        "\n",
        "fig = plt.figure(figsize=(10,4))\n",
        "\n",
        "#  subplot #1\n",
        "plt.subplot(121)\n",
        "sns.histplot(data = train, x = 'lwage')\n",
        "\n",
        "#  subplot #2\n",
        "plt.subplot(122)\n",
        "sns.boxplot(data = train, x = 'lwage')\n",
        "\n",
        "plt.show()"
      ]
    },
    {
      "cell_type": "markdown",
      "metadata": {
        "id": "QAOew-AshAur"
      },
      "source": [
        "- After log transformation, the wage variable follows normal distribution but is a little left-skewed and and there are outliers."
      ]
    },
    {
      "cell_type": "markdown",
      "source": [
        "> **Checking `age` column**"
      ],
      "metadata": {
        "id": "AAyrkM44x1qh"
      }
    },
    {
      "cell_type": "code",
      "execution_count": null,
      "metadata": {
        "id": "RMfV0j_zhAur",
        "outputId": "743a2496-19f5-43b2-a0c5-83fdb6935a83",
        "colab": {
          "base_uri": "https://localhost:8080/",
          "height": 501
        }
      },
      "outputs": [
        {
          "output_type": "display_data",
          "data": {
            "text/plain": [
              "<Figure size 500x500 with 1 Axes>"
            ],
            "image/png": "[encoded data removed]"
          },
          "metadata": {}
        }
      ],
      "source": [
        "# Plotting the distribution of Age\n",
        "sns.displot(x='age',data=train)\n",
        "plt.show()"
      ]
    },
    {
      "cell_type": "markdown",
      "metadata": {
        "id": "oZPfi0w2hAur"
      },
      "source": [
        "- We can observe from the plot that the data is collected from various age groups. The majority of the data we have come from people between the ages of 20 and 30.One explanation for this is that the number of persons who have never married tends to decline as they get aged."
      ]
    },
    {
      "cell_type": "markdown",
      "source": [
        "> **Checking the `sex` column**"
      ],
      "metadata": {
        "id": "YTn9tPPDx7YQ"
      }
    },
    {
      "cell_type": "code",
      "execution_count": null,
      "metadata": {
        "id": "hjz3zfMzhAus",
        "outputId": "8028a7e0-9166-4333-80ee-96d98de5ab57",
        "colab": {
          "base_uri": "https://localhost:8080/",
          "height": 458
        }
      },
      "outputs": [
        {
          "output_type": "display_data",
          "data": {
            "text/plain": [
              "<Figure size 640x480 with 1 Axes>"
            ],
            "image/png": "[encoded data removed]"
          },
          "metadata": {}
        }
      ],
      "source": [
        "# Generating a Barplot for sex\n",
        "sns.countplot(x=\"sex\", data=train)\n",
        "plt.show()"
      ]
    },
    {
      "cell_type": "markdown",
      "metadata": {
        "id": "53MMZ-NXhAus"
      },
      "source": [
        "- Our data seems pretty balanced in case of gender which is good."
      ]
    },
    {
      "cell_type": "markdown",
      "metadata": {
        "id": "06P6fSPBhAut"
      },
      "source": [
        "### **Training Machine Learning Models**"
      ]
    },
    {
      "cell_type": "markdown",
      "source": [
        "#### **Data Preparation for Modeling**"
      ],
      "metadata": {
        "id": "mc1pmxT2yTng"
      }
    },
    {
      "cell_type": "markdown",
      "source": [
        "*Setting the predictors*"
      ],
      "metadata": {
        "id": "iuM4zqNOybsb"
      }
    },
    {
      "cell_type": "code",
      "execution_count": null,
      "metadata": {
        "id": "deX58aK6hAuu"
      },
      "outputs": [],
      "source": [
        "# Declaring the columns to be included for each model\n",
        "\n",
        "# Linear Control Variables. Use This Control Variables for Tree Based Machine Learning Methods.\n",
        "x_col = [\"sex\",\"white\",\"black\",\"hisp\",\"shs\",\"hsg\",\"scl\",\"clg\",\"mw\",\"so\",\"we\",\"union\",\"vet\",\"cent\",\"ncent\",\"fam1\",\"fam2\",\"fam3\",\"child\",\"fborn\",\"cit\",\"school\",\"pens\",\"fsize10\",\"fsize100\",\"health\",\"age\",\"exp1\",\"occ2\",\"ind2\"]\n",
        "\n",
        "# Quadratic Control Variables (Flexible Specification). Use This Control Variables for Linear methods\n",
        "xL_col = [\"sex\",\"white\",\"black\",\"hisp\",\"shs\",\"hsg\",\"scl\",\"clg\",\"mw\",\"so\",\"we\",\"union\",\"vet\",\"cent\",\"ncent\",\"fam1\",\"fam2\",\"fam3\",\"child\",\"fborn\",\"cit\",\"school\",\"pens\",\"fsize10\",\"fsize100\",\"health\",\"age\",\"exp1\",\"exp2\",\"exp3\",\"exp4\",\"occ2\",\"ind2\"]"
      ]
    },
    {
      "cell_type": "code",
      "execution_count": null,
      "metadata": {
        "id": "MChfh3mEhAuv"
      },
      "outputs": [],
      "source": [
        "# Defining independent and dependent variables\n",
        "\n",
        "# The training and testing predictors/regressors\n",
        "X_train = train[x_col]\n",
        "X_test = test[x_col]\n",
        "\n",
        "# outcome variable log wage\n",
        "y_train = train['lwage']\n",
        "y_test = test['lwage']"
      ]
    },
    {
      "cell_type": "markdown",
      "metadata": {
        "id": "X2pUwXpohAuv"
      },
      "source": [
        "#### **Linear Models**\n"
      ]
    },
    {
      "cell_type": "markdown",
      "source": [
        "In linear models, we estimate\n",
        "$\\hat{g}(Z)$= βˆ$^r$ X , we can generate X in two ways:\n",
        "\n",
        "1. basic model -  X consists of 72 raw regressors Z and a constant;\n",
        "\n",
        "2. flexible model - X consists of Z , four polynomials in experience, and all two-way interactions of these variables; this gives us 2336 regressors;\n",
        "\n",
        "We estimate $\\hat{β}$ by linear regression/least squares and by penalized regression methods **Lasso**, **Cross-Validated Lasso**, **Ridge**, and **Elastic Net**."
      ],
      "metadata": {
        "id": "nrziKbdBzQ-p"
      }
    },
    {
      "cell_type": "code",
      "execution_count": null,
      "metadata": {
        "id": "zptlEmBhhAuv"
      },
      "outputs": [],
      "source": [
        "# preparing the quadratic large specification data for train and test\n",
        "from sklearn.preprocessing import PolynomialFeatures\n",
        "poly = PolynomialFeatures(interaction_only=True,include_bias = False)\n",
        "XL_train = train[xL_col]\n",
        "XL_test = test[xL_col]\n",
        "XL_train_poly = poly.fit_transform(XL_train)\n",
        "XL_train_poly = pd.DataFrame(XL_train_poly,columns= poly.get_feature_names_out(XL_train.columns))\n",
        "XL_test_poly = poly.transform(XL_test)\n",
        "XL_test_poly = pd.DataFrame(XL_test_poly,columns= poly.get_feature_names_out(XL_test.columns))"
      ]
    },
    {
      "cell_type": "code",
      "execution_count": null,
      "metadata": {
        "id": "o6xp_kvAhAuw",
        "outputId": "9dca1bfc-3a68-4ea9-a21e-f5147b5b7e51",
        "colab": {
          "base_uri": "https://localhost:8080/",
          "height": 75
        }
      },
      "outputs": [
        {
          "output_type": "execute_result",
          "data": {
            "text/plain": [
              "LinearRegression(fit_intercept=False)"
            ],
            "text/html": [
              "<style>#sk-container-id-3 {color: black;background-color: white;}#sk-container-id-3 pre{padding: 0;}#sk-container-id-3 div.sk-toggleable {background-color: white;}#sk-container-id-3 label.sk-toggleable__label {cursor: pointer;display: block;width: 100%;margin-bottom: 0;padding: 0.3em;box-sizing: border-box;text-align: center;}#sk-container-id-3 label.sk-toggleable__label-arrow:before {content: \"▸\";float: left;margin-right: 0.25em;color: #696969;}#sk-container-id-3 label.sk-toggleable__label-arrow:hover:before {color: black;}#sk-container-id-3 div.sk-estimator:hover label.sk-toggleable__label-arrow:before {color: black;}#sk-container-id-3 div.sk-toggleable__content {max-height: 0;max-width: 0;overflow: hidden;text-align: left;background-color: #f0f8ff;}#sk-container-id-3 div.sk-toggleable__content pre {margin: 0.2em;color: black;border-radius: 0.25em;background-color: #f0f8ff;}#sk-container-id-3 input.sk-toggleable__control:checked~div.sk-toggleable__content {max-height: 200px;max-width: 100%;overflow: auto;}#sk-container-id-3 input.sk-toggleable__control:checked~label.sk-toggleable__label-arrow:before {content: \"▾\";}#sk-container-id-3 div.sk-estimator input.sk-toggleable__control:checked~label.sk-toggleable__label {background-color: #d4ebff;}#sk-container-id-3 div.sk-label input.sk-toggleable__control:checked~label.sk-toggleable__label {background-color: #d4ebff;}#sk-container-id-3 input.sk-hidden--visually {border: 0;clip: rect(1px 1px 1px 1px);clip: rect(1px, 1px, 1px, 1px);height: 1px;margin: -1px;overflow: hidden;padding: 0;position: absolute;width: 1px;}#sk-container-id-3 div.sk-estimator {font-family: monospace;background-color: #f0f8ff;border: 1px dotted black;border-radius: 0.25em;box-sizing: border-box;margin-bottom: 0.5em;}#sk-container-id-3 div.sk-estimator:hover {background-color: #d4ebff;}#sk-container-id-3 div.sk-parallel-item::after {content: \"\";width: 100%;border-bottom: 1px solid gray;flex-grow: 1;}#sk-container-id-3 div.sk-label:hover label.sk-toggleable__label {background-color: #d4ebff;}#sk-container-id-3 div.sk-serial::before {content: \"\";position: absolute;border-left: 1px solid gray;box-sizing: border-box;top: 0;bottom: 0;left: 50%;z-index: 0;}#sk-container-id-3 div.sk-serial {display: flex;flex-direction: column;align-items: center;background-color: white;padding-right: 0.2em;padding-left: 0.2em;position: relative;}#sk-container-id-3 div.sk-item {position: relative;z-index: 1;}#sk-container-id-3 div.sk-parallel {display: flex;align-items: stretch;justify-content: center;background-color: white;position: relative;}#sk-container-id-3 div.sk-item::before, #sk-container-id-3 div.sk-parallel-item::before {content: \"\";position: absolute;border-left: 1px solid gray;box-sizing: border-box;top: 0;bottom: 0;left: 50%;z-index: -1;}#sk-container-id-3 div.sk-parallel-item {display: flex;flex-direction: column;z-index: 1;position: relative;background-color: white;}#sk-container-id-3 div.sk-parallel-item:first-child::after {align-self: flex-end;width: 50%;}#sk-container-id-3 div.sk-parallel-item:last-child::after {align-self: flex-start;width: 50%;}#sk-container-id-3 div.sk-parallel-item:only-child::after {width: 0;}#sk-container-id-3 div.sk-dashed-wrapped {border: 1px dashed gray;margin: 0 0.4em 0.5em 0.4em;box-sizing: border-box;padding-bottom: 0.4em;background-color: white;}#sk-container-id-3 div.sk-label label {font-family: monospace;font-weight: bold;display: inline-block;line-height: 1.2em;}#sk-container-id-3 div.sk-label-container {text-align: center;}#sk-container-id-3 div.sk-container {/* jupyter's `normalize.less` sets `[hidden] { display: none; }` but bootstrap.min.css set `[hidden] { display: none !important; }` so we also need the `!important` here to be able to override the default hidden behavior on the sphinx rendered scikit-learn.org. See: https://github.com/scikit-learn/scikit-learn/issues/21755 */display: inline-block !important;position: relative;}#sk-container-id-3 div.sk-text-repr-fallback {display: none;}</style><div id=\"sk-container-id-3\" class=\"sk-top-container\"><div class=\"sk-text-repr-fallback\"><pre>LinearRegression(fit_intercept=False)</pre><b>In a Jupyter environment, please rerun this cell to show the HTML representation or trust the notebook. <br />On GitHub, the HTML representation is unable to render, please try loading this page with nbviewer.org.</b></div><div class=\"sk-container\" hidden><div class=\"sk-item\"><div class=\"sk-estimator sk-toggleable\"><input class=\"sk-toggleable__control sk-hidden--visually\" id=\"sk-estimator-id-3\" type=\"checkbox\" checked><label for=\"sk-estimator-id-3\" class=\"sk-toggleable__label sk-toggleable__label-arrow\">LinearRegression</label><div class=\"sk-toggleable__content\"><pre>LinearRegression(fit_intercept=False)</pre></div></div></div></div></div>"
            ]
          },
          "metadata": {},
          "execution_count": 35
        }
      ],
      "source": [
        "from sklearn.linear_model import LinearRegression\n",
        "# Linear Model: Quadratic (Large) Specification without intercept\n",
        "model_train_L = LinearRegression(fit_intercept=False)\n",
        "model_train_L.fit(XL_train,y_train)\n",
        "model_test_L = LinearRegression(fit_intercept=False)\n",
        "model_test_L.fit(XL_test,y_test)\n",
        "\n",
        "\n",
        "# Linear Model: Linear Specification without intercept\n",
        "model_train = LinearRegression(fit_intercept=False)\n",
        "model_train.fit(X_train,y_train)\n",
        "model_test = LinearRegression(fit_intercept=False)\n",
        "model_test.fit(X_test,y_test)"
      ]
    },
    {
      "cell_type": "code",
      "execution_count": null,
      "metadata": {
        "id": "VsigKxlxhAuw",
        "outputId": "fb4b0e8b-54f8-4e94-ddec-34913dc271eb",
        "colab": {
          "base_uri": "https://localhost:8080/",
          "height": 75
        }
      },
      "outputs": [
        {
          "output_type": "execute_result",
          "data": {
            "text/plain": [
              "LinearRegression()"
            ],
            "text/html": [
              "<style>#sk-container-id-4 {color: black;background-color: white;}#sk-container-id-4 pre{padding: 0;}#sk-container-id-4 div.sk-toggleable {background-color: white;}#sk-container-id-4 label.sk-toggleable__label {cursor: pointer;display: block;width: 100%;margin-bottom: 0;padding: 0.3em;box-sizing: border-box;text-align: center;}#sk-container-id-4 label.sk-toggleable__label-arrow:before {content: \"▸\";float: left;margin-right: 0.25em;color: #696969;}#sk-container-id-4 label.sk-toggleable__label-arrow:hover:before {color: black;}#sk-container-id-4 div.sk-estimator:hover label.sk-toggleable__label-arrow:before {color: black;}#sk-container-id-4 div.sk-toggleable__content {max-height: 0;max-width: 0;overflow: hidden;text-align: left;background-color: #f0f8ff;}#sk-container-id-4 div.sk-toggleable__content pre {margin: 0.2em;color: black;border-radius: 0.25em;background-color: #f0f8ff;}#sk-container-id-4 input.sk-toggleable__control:checked~div.sk-toggleable__content {max-height: 200px;max-width: 100%;overflow: auto;}#sk-container-id-4 input.sk-toggleable__control:checked~label.sk-toggleable__label-arrow:before {content: \"▾\";}#sk-container-id-4 div.sk-estimator input.sk-toggleable__control:checked~label.sk-toggleable__label {background-color: #d4ebff;}#sk-container-id-4 div.sk-label input.sk-toggleable__control:checked~label.sk-toggleable__label {background-color: #d4ebff;}#sk-container-id-4 input.sk-hidden--visually {border: 0;clip: rect(1px 1px 1px 1px);clip: rect(1px, 1px, 1px, 1px);height: 1px;margin: -1px;overflow: hidden;padding: 0;position: absolute;width: 1px;}#sk-container-id-4 div.sk-estimator {font-family: monospace;background-color: #f0f8ff;border: 1px dotted black;border-radius: 0.25em;box-sizing: border-box;margin-bottom: 0.5em;}#sk-container-id-4 div.sk-estimator:hover {background-color: #d4ebff;}#sk-container-id-4 div.sk-parallel-item::after {content: \"\";width: 100%;border-bottom: 1px solid gray;flex-grow: 1;}#sk-container-id-4 div.sk-label:hover label.sk-toggleable__label {background-color: #d4ebff;}#sk-container-id-4 div.sk-serial::before {content: \"\";position: absolute;border-left: 1px solid gray;box-sizing: border-box;top: 0;bottom: 0;left: 50%;z-index: 0;}#sk-container-id-4 div.sk-serial {display: flex;flex-direction: column;align-items: center;background-color: white;padding-right: 0.2em;padding-left: 0.2em;position: relative;}#sk-container-id-4 div.sk-item {position: relative;z-index: 1;}#sk-container-id-4 div.sk-parallel {display: flex;align-items: stretch;justify-content: center;background-color: white;position: relative;}#sk-container-id-4 div.sk-item::before, #sk-container-id-4 div.sk-parallel-item::before {content: \"\";position: absolute;border-left: 1px solid gray;box-sizing: border-box;top: 0;bottom: 0;left: 50%;z-index: -1;}#sk-container-id-4 div.sk-parallel-item {display: flex;flex-direction: column;z-index: 1;position: relative;background-color: white;}#sk-container-id-4 div.sk-parallel-item:first-child::after {align-self: flex-end;width: 50%;}#sk-container-id-4 div.sk-parallel-item:last-child::after {align-self: flex-start;width: 50%;}#sk-container-id-4 div.sk-parallel-item:only-child::after {width: 0;}#sk-container-id-4 div.sk-dashed-wrapped {border: 1px dashed gray;margin: 0 0.4em 0.5em 0.4em;box-sizing: border-box;padding-bottom: 0.4em;background-color: white;}#sk-container-id-4 div.sk-label label {font-family: monospace;font-weight: bold;display: inline-block;line-height: 1.2em;}#sk-container-id-4 div.sk-label-container {text-align: center;}#sk-container-id-4 div.sk-container {/* jupyter's `normalize.less` sets `[hidden] { display: none; }` but bootstrap.min.css set `[hidden] { display: none !important; }` so we also need the `!important` here to be able to override the default hidden behavior on the sphinx rendered scikit-learn.org. See: https://github.com/scikit-learn/scikit-learn/issues/21755 */display: inline-block !important;position: relative;}#sk-container-id-4 div.sk-text-repr-fallback {display: none;}</style><div id=\"sk-container-id-4\" class=\"sk-top-container\"><div class=\"sk-text-repr-fallback\"><pre>LinearRegression()</pre><b>In a Jupyter environment, please rerun this cell to show the HTML representation or trust the notebook. <br />On GitHub, the HTML representation is unable to render, please try loading this page with nbviewer.org.</b></div><div class=\"sk-container\" hidden><div class=\"sk-item\"><div class=\"sk-estimator sk-toggleable\"><input class=\"sk-toggleable__control sk-hidden--visually\" id=\"sk-estimator-id-4\" type=\"checkbox\" checked><label for=\"sk-estimator-id-4\" class=\"sk-toggleable__label sk-toggleable__label-arrow\">LinearRegression</label><div class=\"sk-toggleable__content\"><pre>LinearRegression()</pre></div></div></div></div></div>"
            ]
          },
          "metadata": {},
          "execution_count": 36
        }
      ],
      "source": [
        "# Linear Model: Linear Specification with intercept\n",
        "model_lm = LinearRegression()\n",
        "model_lm.fit(X_train,y_train)\n",
        "\n",
        "# Linear Model: Quadratic (Large) Specification with intercept\n",
        "model_lm2 = LinearRegression()\n",
        "model_lm2.fit(XL_train,y_train)"
      ]
    },
    {
      "cell_type": "code",
      "execution_count": null,
      "metadata": {
        "id": "XfAECPwRhAuw",
        "outputId": "b6f70af9-ae4a-472e-95f6-6d022d3ad6f6",
        "colab": {
          "base_uri": "https://localhost:8080/",
          "height": 75
        }
      },
      "outputs": [
        {
          "output_type": "execute_result",
          "data": {
            "text/plain": [
              "ElasticNetCV(alphas=[0.5], cv=11, n_jobs=-1)"
            ],
            "text/html": [
              "<style>#sk-container-id-5 {color: black;background-color: white;}#sk-container-id-5 pre{padding: 0;}#sk-container-id-5 div.sk-toggleable {background-color: white;}#sk-container-id-5 label.sk-toggleable__label {cursor: pointer;display: block;width: 100%;margin-bottom: 0;padding: 0.3em;box-sizing: border-box;text-align: center;}#sk-container-id-5 label.sk-toggleable__label-arrow:before {content: \"▸\";float: left;margin-right: 0.25em;color: #696969;}#sk-container-id-5 label.sk-toggleable__label-arrow:hover:before {color: black;}#sk-container-id-5 div.sk-estimator:hover label.sk-toggleable__label-arrow:before {color: black;}#sk-container-id-5 div.sk-toggleable__content {max-height: 0;max-width: 0;overflow: hidden;text-align: left;background-color: #f0f8ff;}#sk-container-id-5 div.sk-toggleable__content pre {margin: 0.2em;color: black;border-radius: 0.25em;background-color: #f0f8ff;}#sk-container-id-5 input.sk-toggleable__control:checked~div.sk-toggleable__content {max-height: 200px;max-width: 100%;overflow: auto;}#sk-container-id-5 input.sk-toggleable__control:checked~label.sk-toggleable__label-arrow:before {content: \"▾\";}#sk-container-id-5 div.sk-estimator input.sk-toggleable__control:checked~label.sk-toggleable__label {background-color: #d4ebff;}#sk-container-id-5 div.sk-label input.sk-toggleable__control:checked~label.sk-toggleable__label {background-color: #d4ebff;}#sk-container-id-5 input.sk-hidden--visually {border: 0;clip: rect(1px 1px 1px 1px);clip: rect(1px, 1px, 1px, 1px);height: 1px;margin: -1px;overflow: hidden;padding: 0;position: absolute;width: 1px;}#sk-container-id-5 div.sk-estimator {font-family: monospace;background-color: #f0f8ff;border: 1px dotted black;border-radius: 0.25em;box-sizing: border-box;margin-bottom: 0.5em;}#sk-container-id-5 div.sk-estimator:hover {background-color: #d4ebff;}#sk-container-id-5 div.sk-parallel-item::after {content: \"\";width: 100%;border-bottom: 1px solid gray;flex-grow: 1;}#sk-container-id-5 div.sk-label:hover label.sk-toggleable__label {background-color: #d4ebff;}#sk-container-id-5 div.sk-serial::before {content: \"\";position: absolute;border-left: 1px solid gray;box-sizing: border-box;top: 0;bottom: 0;left: 50%;z-index: 0;}#sk-container-id-5 div.sk-serial {display: flex;flex-direction: column;align-items: center;background-color: white;padding-right: 0.2em;padding-left: 0.2em;position: relative;}#sk-container-id-5 div.sk-item {position: relative;z-index: 1;}#sk-container-id-5 div.sk-parallel {display: flex;align-items: stretch;justify-content: center;background-color: white;position: relative;}#sk-container-id-5 div.sk-item::before, #sk-container-id-5 div.sk-parallel-item::before {content: \"\";position: absolute;border-left: 1px solid gray;box-sizing: border-box;top: 0;bottom: 0;left: 50%;z-index: -1;}#sk-container-id-5 div.sk-parallel-item {display: flex;flex-direction: column;z-index: 1;position: relative;background-color: white;}#sk-container-id-5 div.sk-parallel-item:first-child::after {align-self: flex-end;width: 50%;}#sk-container-id-5 div.sk-parallel-item:last-child::after {align-self: flex-start;width: 50%;}#sk-container-id-5 div.sk-parallel-item:only-child::after {width: 0;}#sk-container-id-5 div.sk-dashed-wrapped {border: 1px dashed gray;margin: 0 0.4em 0.5em 0.4em;box-sizing: border-box;padding-bottom: 0.4em;background-color: white;}#sk-container-id-5 div.sk-label label {font-family: monospace;font-weight: bold;display: inline-block;line-height: 1.2em;}#sk-container-id-5 div.sk-label-container {text-align: center;}#sk-container-id-5 div.sk-container {/* jupyter's `normalize.less` sets `[hidden] { display: none; }` but bootstrap.min.css set `[hidden] { display: none !important; }` so we also need the `!important` here to be able to override the default hidden behavior on the sphinx rendered scikit-learn.org. See: https://github.com/scikit-learn/scikit-learn/issues/21755 */display: inline-block !important;position: relative;}#sk-container-id-5 div.sk-text-repr-fallback {display: none;}</style><div id=\"sk-container-id-5\" class=\"sk-top-container\"><div class=\"sk-text-repr-fallback\"><pre>ElasticNetCV(alphas=[0.5], cv=11, n_jobs=-1)</pre><b>In a Jupyter environment, please rerun this cell to show the HTML representation or trust the notebook. <br />On GitHub, the HTML representation is unable to render, please try loading this page with nbviewer.org.</b></div><div class=\"sk-container\" hidden><div class=\"sk-item\"><div class=\"sk-estimator sk-toggleable\"><input class=\"sk-toggleable__control sk-hidden--visually\" id=\"sk-estimator-id-5\" type=\"checkbox\" checked><label for=\"sk-estimator-id-5\" class=\"sk-toggleable__label sk-toggleable__label-arrow\">ElasticNetCV</label><div class=\"sk-toggleable__content\"><pre>ElasticNetCV(alphas=[0.5], cv=11, n_jobs=-1)</pre></div></div></div></div></div>"
            ]
          },
          "metadata": {},
          "execution_count": 38
        }
      ],
      "source": [
        "# Initiating Penalized Regression methods on Basic Models\n",
        "\n",
        "from sklearn.linear_model import Lasso, LassoCV, RidgeCV, ElasticNetCV\n",
        "# basic lasso model on original data\n",
        "model_lasso = Lasso()\n",
        "model_lasso.fit(X_train,y_train)\n",
        "\n",
        "# lassocv model on original data\n",
        "model_lasso_cv = LassoCV(alphas=[1],cv = 11,n_jobs = -1) # cv - number of cross validations to be checked, n_jobs = -1 - use all the parallel processing power of the system\n",
        "model_lasso_cv.fit(X_train,y_train)\n",
        "\n",
        "#ridgecv model on original data\n",
        "model_ridge_cv = RidgeCV(alphas=[1e-3],cv = 11)\n",
        "model_ridge_cv.fit(X_train,y_train)\n",
        "\n",
        "#elasticnetcv model on original data\n",
        "model_elasticnet_cv = ElasticNetCV(alphas=[0.5],cv = 11,n_jobs = -1)\n",
        "model_elasticnet_cv.fit(X_train,y_train)"
      ]
    },
    {
      "cell_type": "code",
      "execution_count": null,
      "metadata": {
        "id": "Dmdpy7vNhAuw",
        "outputId": "cc61623a-36e0-498d-f3cd-33c347a6d589",
        "colab": {
          "base_uri": "https://localhost:8080/",
          "height": 75
        }
      },
      "outputs": [
        {
          "output_type": "execute_result",
          "data": {
            "text/plain": [
              "ElasticNetCV(alphas=[0.5], cv=11, n_jobs=-1)"
            ],
            "text/html": [
              "<style>#sk-container-id-6 {color: black;background-color: white;}#sk-container-id-6 pre{padding: 0;}#sk-container-id-6 div.sk-toggleable {background-color: white;}#sk-container-id-6 label.sk-toggleable__label {cursor: pointer;display: block;width: 100%;margin-bottom: 0;padding: 0.3em;box-sizing: border-box;text-align: center;}#sk-container-id-6 label.sk-toggleable__label-arrow:before {content: \"▸\";float: left;margin-right: 0.25em;color: #696969;}#sk-container-id-6 label.sk-toggleable__label-arrow:hover:before {color: black;}#sk-container-id-6 div.sk-estimator:hover label.sk-toggleable__label-arrow:before {color: black;}#sk-container-id-6 div.sk-toggleable__content {max-height: 0;max-width: 0;overflow: hidden;text-align: left;background-color: #f0f8ff;}#sk-container-id-6 div.sk-toggleable__content pre {margin: 0.2em;color: black;border-radius: 0.25em;background-color: #f0f8ff;}#sk-container-id-6 input.sk-toggleable__control:checked~div.sk-toggleable__content {max-height: 200px;max-width: 100%;overflow: auto;}#sk-container-id-6 input.sk-toggleable__control:checked~label.sk-toggleable__label-arrow:before {content: \"▾\";}#sk-container-id-6 div.sk-estimator input.sk-toggleable__control:checked~label.sk-toggleable__label {background-color: #d4ebff;}#sk-container-id-6 div.sk-label input.sk-toggleable__control:checked~label.sk-toggleable__label {background-color: #d4ebff;}#sk-container-id-6 input.sk-hidden--visually {border: 0;clip: rect(1px 1px 1px 1px);clip: rect(1px, 1px, 1px, 1px);height: 1px;margin: -1px;overflow: hidden;padding: 0;position: absolute;width: 1px;}#sk-container-id-6 div.sk-estimator {font-family: monospace;background-color: #f0f8ff;border: 1px dotted black;border-radius: 0.25em;box-sizing: border-box;margin-bottom: 0.5em;}#sk-container-id-6 div.sk-estimator:hover {background-color: #d4ebff;}#sk-container-id-6 div.sk-parallel-item::after {content: \"\";width: 100%;border-bottom: 1px solid gray;flex-grow: 1;}#sk-container-id-6 div.sk-label:hover label.sk-toggleable__label {background-color: #d4ebff;}#sk-container-id-6 div.sk-serial::before {content: \"\";position: absolute;border-left: 1px solid gray;box-sizing: border-box;top: 0;bottom: 0;left: 50%;z-index: 0;}#sk-container-id-6 div.sk-serial {display: flex;flex-direction: column;align-items: center;background-color: white;padding-right: 0.2em;padding-left: 0.2em;position: relative;}#sk-container-id-6 div.sk-item {position: relative;z-index: 1;}#sk-container-id-6 div.sk-parallel {display: flex;align-items: stretch;justify-content: center;background-color: white;position: relative;}#sk-container-id-6 div.sk-item::before, #sk-container-id-6 div.sk-parallel-item::before {content: \"\";position: absolute;border-left: 1px solid gray;box-sizing: border-box;top: 0;bottom: 0;left: 50%;z-index: -1;}#sk-container-id-6 div.sk-parallel-item {display: flex;flex-direction: column;z-index: 1;position: relative;background-color: white;}#sk-container-id-6 div.sk-parallel-item:first-child::after {align-self: flex-end;width: 50%;}#sk-container-id-6 div.sk-parallel-item:last-child::after {align-self: flex-start;width: 50%;}#sk-container-id-6 div.sk-parallel-item:only-child::after {width: 0;}#sk-container-id-6 div.sk-dashed-wrapped {border: 1px dashed gray;margin: 0 0.4em 0.5em 0.4em;box-sizing: border-box;padding-bottom: 0.4em;background-color: white;}#sk-container-id-6 div.sk-label label {font-family: monospace;font-weight: bold;display: inline-block;line-height: 1.2em;}#sk-container-id-6 div.sk-label-container {text-align: center;}#sk-container-id-6 div.sk-container {/* jupyter's `normalize.less` sets `[hidden] { display: none; }` but bootstrap.min.css set `[hidden] { display: none !important; }` so we also need the `!important` here to be able to override the default hidden behavior on the sphinx rendered scikit-learn.org. See: https://github.com/scikit-learn/scikit-learn/issues/21755 */display: inline-block !important;position: relative;}#sk-container-id-6 div.sk-text-repr-fallback {display: none;}</style><div id=\"sk-container-id-6\" class=\"sk-top-container\"><div class=\"sk-text-repr-fallback\"><pre>ElasticNetCV(alphas=[0.5], cv=11, n_jobs=-1)</pre><b>In a Jupyter environment, please rerun this cell to show the HTML representation or trust the notebook. <br />On GitHub, the HTML representation is unable to render, please try loading this page with nbviewer.org.</b></div><div class=\"sk-container\" hidden><div class=\"sk-item\"><div class=\"sk-estimator sk-toggleable\"><input class=\"sk-toggleable__control sk-hidden--visually\" id=\"sk-estimator-id-6\" type=\"checkbox\" checked><label for=\"sk-estimator-id-6\" class=\"sk-toggleable__label sk-toggleable__label-arrow\">ElasticNetCV</label><div class=\"sk-toggleable__content\"><pre>ElasticNetCV(alphas=[0.5], cv=11, n_jobs=-1)</pre></div></div></div></div></div>"
            ]
          },
          "metadata": {},
          "execution_count": 39
        }
      ],
      "source": [
        "# Initiating Penalized Regression methods on Flexible Quadratic Large Models\n",
        "\n",
        "# basic lasso model on quadratic transform data\n",
        "model_lasso_L = Lasso()\n",
        "model_lasso_L.fit(XL_train,y_train)\n",
        "\n",
        "# lasso cv model on quadratic transform data\n",
        "model_lasso_cv_L = LassoCV(alphas=[1],cv = 11,n_jobs = -1)\n",
        "model_lasso_cv_L.fit(XL_train,y_train)\n",
        "\n",
        "# ridge cv model on quadratic transform data\n",
        "model_ridge_cv_L = RidgeCV(alphas=[1e-3],cv = 11)\n",
        "model_ridge_cv_L.fit(XL_train,y_train)\n",
        "\n",
        "# elasticnet cv model on quadratic transform data\n",
        "model_elasticnet_cv_L = ElasticNetCV(alphas=[0.5],cv = 11,n_jobs = -1)\n",
        "model_elasticnet_cv_L.fit(XL_train,y_train)"
      ]
    },
    {
      "cell_type": "markdown",
      "metadata": {
        "id": "BV2WrSmChAux"
      },
      "source": [
        "#### **Non-Linear Models**\n"
      ]
    },
    {
      "cell_type": "markdown",
      "source": [
        "In nonlinear models, we estimate the prediction rule of the form $\\hat{g}(Z)$. We use **Random Forest**, **Regression Trees**, and **Boosted Trees** to estimate them."
      ],
      "metadata": {
        "id": "iRRYDF3az34N"
      }
    },
    {
      "cell_type": "code",
      "execution_count": null,
      "metadata": {
        "id": "iXEoZZ5PhAux",
        "outputId": "c27f56f8-7829-4e79-bf98-c94cae0b7af8",
        "colab": {
          "base_uri": "https://localhost:8080/",
          "height": 92
        }
      },
      "outputs": [
        {
          "output_type": "execute_result",
          "data": {
            "text/plain": [
              "GradientBoostingRegressor(learning_rate=0.01, max_depth=2,\n",
              "                          min_weight_fraction_leaf=0.5, n_estimators=1000)"
            ],
            "text/html": [
              "<style>#sk-container-id-7 {color: black;background-color: white;}#sk-container-id-7 pre{padding: 0;}#sk-container-id-7 div.sk-toggleable {background-color: white;}#sk-container-id-7 label.sk-toggleable__label {cursor: pointer;display: block;width: 100%;margin-bottom: 0;padding: 0.3em;box-sizing: border-box;text-align: center;}#sk-container-id-7 label.sk-toggleable__label-arrow:before {content: \"▸\";float: left;margin-right: 0.25em;color: #696969;}#sk-container-id-7 label.sk-toggleable__label-arrow:hover:before {color: black;}#sk-container-id-7 div.sk-estimator:hover label.sk-toggleable__label-arrow:before {color: black;}#sk-container-id-7 div.sk-toggleable__content {max-height: 0;max-width: 0;overflow: hidden;text-align: left;background-color: #f0f8ff;}#sk-container-id-7 div.sk-toggleable__content pre {margin: 0.2em;color: black;border-radius: 0.25em;background-color: #f0f8ff;}#sk-container-id-7 input.sk-toggleable__control:checked~div.sk-toggleable__content {max-height: 200px;max-width: 100%;overflow: auto;}#sk-container-id-7 input.sk-toggleable__control:checked~label.sk-toggleable__label-arrow:before {content: \"▾\";}#sk-container-id-7 div.sk-estimator input.sk-toggleable__control:checked~label.sk-toggleable__label {background-color: #d4ebff;}#sk-container-id-7 div.sk-label input.sk-toggleable__control:checked~label.sk-toggleable__label {background-color: #d4ebff;}#sk-container-id-7 input.sk-hidden--visually {border: 0;clip: rect(1px 1px 1px 1px);clip: rect(1px, 1px, 1px, 1px);height: 1px;margin: -1px;overflow: hidden;padding: 0;position: absolute;width: 1px;}#sk-container-id-7 div.sk-estimator {font-family: monospace;background-color: #f0f8ff;border: 1px dotted black;border-radius: 0.25em;box-sizing: border-box;margin-bottom: 0.5em;}#sk-container-id-7 div.sk-estimator:hover {background-color: #d4ebff;}#sk-container-id-7 div.sk-parallel-item::after {content: \"\";width: 100%;border-bottom: 1px solid gray;flex-grow: 1;}#sk-container-id-7 div.sk-label:hover label.sk-toggleable__label {background-color: #d4ebff;}#sk-container-id-7 div.sk-serial::before {content: \"\";position: absolute;border-left: 1px solid gray;box-sizing: border-box;top: 0;bottom: 0;left: 50%;z-index: 0;}#sk-container-id-7 div.sk-serial {display: flex;flex-direction: column;align-items: center;background-color: white;padding-right: 0.2em;padding-left: 0.2em;position: relative;}#sk-container-id-7 div.sk-item {position: relative;z-index: 1;}#sk-container-id-7 div.sk-parallel {display: flex;align-items: stretch;justify-content: center;background-color: white;position: relative;}#sk-container-id-7 div.sk-item::before, #sk-container-id-7 div.sk-parallel-item::before {content: \"\";position: absolute;border-left: 1px solid gray;box-sizing: border-box;top: 0;bottom: 0;left: 50%;z-index: -1;}#sk-container-id-7 div.sk-parallel-item {display: flex;flex-direction: column;z-index: 1;position: relative;background-color: white;}#sk-container-id-7 div.sk-parallel-item:first-child::after {align-self: flex-end;width: 50%;}#sk-container-id-7 div.sk-parallel-item:last-child::after {align-self: flex-start;width: 50%;}#sk-container-id-7 div.sk-parallel-item:only-child::after {width: 0;}#sk-container-id-7 div.sk-dashed-wrapped {border: 1px dashed gray;margin: 0 0.4em 0.5em 0.4em;box-sizing: border-box;padding-bottom: 0.4em;background-color: white;}#sk-container-id-7 div.sk-label label {font-family: monospace;font-weight: bold;display: inline-block;line-height: 1.2em;}#sk-container-id-7 div.sk-label-container {text-align: center;}#sk-container-id-7 div.sk-container {/* jupyter's `normalize.less` sets `[hidden] { display: none; }` but bootstrap.min.css set `[hidden] { display: none !important; }` so we also need the `!important` here to be able to override the default hidden behavior on the sphinx rendered scikit-learn.org. See: https://github.com/scikit-learn/scikit-learn/issues/21755 */display: inline-block !important;position: relative;}#sk-container-id-7 div.sk-text-repr-fallback {display: none;}</style><div id=\"sk-container-id-7\" class=\"sk-top-container\"><div class=\"sk-text-repr-fallback\"><pre>GradientBoostingRegressor(learning_rate=0.01, max_depth=2,\n",
              "                          min_weight_fraction_leaf=0.5, n_estimators=1000)</pre><b>In a Jupyter environment, please rerun this cell to show the HTML representation or trust the notebook. <br />On GitHub, the HTML representation is unable to render, please try loading this page with nbviewer.org.</b></div><div class=\"sk-container\" hidden><div class=\"sk-item\"><div class=\"sk-estimator sk-toggleable\"><input class=\"sk-toggleable__control sk-hidden--visually\" id=\"sk-estimator-id-7\" type=\"checkbox\" checked><label for=\"sk-estimator-id-7\" class=\"sk-toggleable__label sk-toggleable__label-arrow\">GradientBoostingRegressor</label><div class=\"sk-toggleable__content\"><pre>GradientBoostingRegressor(learning_rate=0.01, max_depth=2,\n",
              "                          min_weight_fraction_leaf=0.5, n_estimators=1000)</pre></div></div></div></div></div>"
            ]
          },
          "metadata": {},
          "execution_count": 40
        }
      ],
      "source": [
        "# Initializing RandomForest and GradientBoosting Regressors\n",
        "\n",
        "from sklearn.ensemble import RandomForestRegressor, GradientBoostingRegressor\n",
        "# random forest regresison on original data\n",
        "\n",
        "rf = RandomForestRegressor(n_estimators=2000,min_samples_leaf=5) # n_estimators - The number of trees in the forest, min_samples_leaf - The minimum number of samples required to be at a leaf node.\n",
        "rf.fit(X_train,y_train)\n",
        "\n",
        "# gradient boost regression on original data\n",
        "gbr = GradientBoostingRegressor(n_estimators=1000,min_weight_fraction_leaf=0.5,max_depth=2,learning_rate=0.01)\n",
        "# max_depth - The maximum depth of the tree\n",
        "# min_weight_fraction_leaf - The minimum weighted fraction of the sum total of weights (of all the input samples) required to be at a leaf node\n",
        "\n",
        "gbr.fit(X_train,y_train)"
      ]
    },
    {
      "cell_type": "code",
      "execution_count": null,
      "metadata": {
        "id": "gQXVSfihhAux",
        "outputId": "f8089823-b9a0-484f-a149-5aa4cea4263c",
        "colab": {
          "base_uri": "https://localhost:8080/",
          "height": 75
        }
      },
      "outputs": [
        {
          "output_type": "execute_result",
          "data": {
            "text/plain": [
              "DecisionTreeRegressor(max_depth=5)"
            ],
            "text/html": [
              "<style>#sk-container-id-8 {color: black;background-color: white;}#sk-container-id-8 pre{padding: 0;}#sk-container-id-8 div.sk-toggleable {background-color: white;}#sk-container-id-8 label.sk-toggleable__label {cursor: pointer;display: block;width: 100%;margin-bottom: 0;padding: 0.3em;box-sizing: border-box;text-align: center;}#sk-container-id-8 label.sk-toggleable__label-arrow:before {content: \"▸\";float: left;margin-right: 0.25em;color: #696969;}#sk-container-id-8 label.sk-toggleable__label-arrow:hover:before {color: black;}#sk-container-id-8 div.sk-estimator:hover label.sk-toggleable__label-arrow:before {color: black;}#sk-container-id-8 div.sk-toggleable__content {max-height: 0;max-width: 0;overflow: hidden;text-align: left;background-color: #f0f8ff;}#sk-container-id-8 div.sk-toggleable__content pre {margin: 0.2em;color: black;border-radius: 0.25em;background-color: #f0f8ff;}#sk-container-id-8 input.sk-toggleable__control:checked~div.sk-toggleable__content {max-height: 200px;max-width: 100%;overflow: auto;}#sk-container-id-8 input.sk-toggleable__control:checked~label.sk-toggleable__label-arrow:before {content: \"▾\";}#sk-container-id-8 div.sk-estimator input.sk-toggleable__control:checked~label.sk-toggleable__label {background-color: #d4ebff;}#sk-container-id-8 div.sk-label input.sk-toggleable__control:checked~label.sk-toggleable__label {background-color: #d4ebff;}#sk-container-id-8 input.sk-hidden--visually {border: 0;clip: rect(1px 1px 1px 1px);clip: rect(1px, 1px, 1px, 1px);height: 1px;margin: -1px;overflow: hidden;padding: 0;position: absolute;width: 1px;}#sk-container-id-8 div.sk-estimator {font-family: monospace;background-color: #f0f8ff;border: 1px dotted black;border-radius: 0.25em;box-sizing: border-box;margin-bottom: 0.5em;}#sk-container-id-8 div.sk-estimator:hover {background-color: #d4ebff;}#sk-container-id-8 div.sk-parallel-item::after {content: \"\";width: 100%;border-bottom: 1px solid gray;flex-grow: 1;}#sk-container-id-8 div.sk-label:hover label.sk-toggleable__label {background-color: #d4ebff;}#sk-container-id-8 div.sk-serial::before {content: \"\";position: absolute;border-left: 1px solid gray;box-sizing: border-box;top: 0;bottom: 0;left: 50%;z-index: 0;}#sk-container-id-8 div.sk-serial {display: flex;flex-direction: column;align-items: center;background-color: white;padding-right: 0.2em;padding-left: 0.2em;position: relative;}#sk-container-id-8 div.sk-item {position: relative;z-index: 1;}#sk-container-id-8 div.sk-parallel {display: flex;align-items: stretch;justify-content: center;background-color: white;position: relative;}#sk-container-id-8 div.sk-item::before, #sk-container-id-8 div.sk-parallel-item::before {content: \"\";position: absolute;border-left: 1px solid gray;box-sizing: border-box;top: 0;bottom: 0;left: 50%;z-index: -1;}#sk-container-id-8 div.sk-parallel-item {display: flex;flex-direction: column;z-index: 1;position: relative;background-color: white;}#sk-container-id-8 div.sk-parallel-item:first-child::after {align-self: flex-end;width: 50%;}#sk-container-id-8 div.sk-parallel-item:last-child::after {align-self: flex-start;width: 50%;}#sk-container-id-8 div.sk-parallel-item:only-child::after {width: 0;}#sk-container-id-8 div.sk-dashed-wrapped {border: 1px dashed gray;margin: 0 0.4em 0.5em 0.4em;box-sizing: border-box;padding-bottom: 0.4em;background-color: white;}#sk-container-id-8 div.sk-label label {font-family: monospace;font-weight: bold;display: inline-block;line-height: 1.2em;}#sk-container-id-8 div.sk-label-container {text-align: center;}#sk-container-id-8 div.sk-container {/* jupyter's `normalize.less` sets `[hidden] { display: none; }` but bootstrap.min.css set `[hidden] { display: none !important; }` so we also need the `!important` here to be able to override the default hidden behavior on the sphinx rendered scikit-learn.org. See: https://github.com/scikit-learn/scikit-learn/issues/21755 */display: inline-block !important;position: relative;}#sk-container-id-8 div.sk-text-repr-fallback {display: none;}</style><div id=\"sk-container-id-8\" class=\"sk-top-container\"><div class=\"sk-text-repr-fallback\"><pre>DecisionTreeRegressor(max_depth=5)</pre><b>In a Jupyter environment, please rerun this cell to show the HTML representation or trust the notebook. <br />On GitHub, the HTML representation is unable to render, please try loading this page with nbviewer.org.</b></div><div class=\"sk-container\" hidden><div class=\"sk-item\"><div class=\"sk-estimator sk-toggleable\"><input class=\"sk-toggleable__control sk-hidden--visually\" id=\"sk-estimator-id-8\" type=\"checkbox\" checked><label for=\"sk-estimator-id-8\" class=\"sk-toggleable__label sk-toggleable__label-arrow\">DecisionTreeRegressor</label><div class=\"sk-toggleable__content\"><pre>DecisionTreeRegressor(max_depth=5)</pre></div></div></div></div></div>"
            ]
          },
          "metadata": {},
          "execution_count": 41
        }
      ],
      "source": [
        "# Initializing RandomForest and GradientBoosting Regressors\n",
        "\n",
        "from sklearn.tree import DecisionTreeRegressor\n",
        "# decision tree regresison on original data\n",
        "dt = DecisionTreeRegressor()\n",
        "dt.fit(X_train,y_train)\n",
        "dt_pruned = DecisionTreeRegressor(max_depth=5)\n",
        "dt_pruned.fit(X_train,y_train)"
      ]
    },
    {
      "cell_type": "markdown",
      "source": [
        "#### **Predictions on test data for all Models built**"
      ],
      "metadata": {
        "id": "ywFZlq_I0MCk"
      }
    },
    {
      "cell_type": "markdown",
      "source": [
        "*Predicting Wages using each Model*"
      ],
      "metadata": {
        "id": "umbbuxbb0R8a"
      }
    },
    {
      "cell_type": "code",
      "execution_count": null,
      "metadata": {
        "id": "AvuqqScyhAux"
      },
      "outputs": [],
      "source": [
        "# predictions on test data for all the models build so far\n",
        "\n",
        "y_pred_lm = model_lm.predict(X_test)\n",
        "y_pred_lm2 = model_lm2.predict(XL_test)\n",
        "y_pred_lasso = model_lasso.predict(X_test)\n",
        "y_pred_lasso_cv = model_lasso_cv.predict(X_test)\n",
        "y_pred_ridge_cv = model_ridge_cv.predict(X_test)\n",
        "y_pred_elasticnet_cv = model_elasticnet_cv.predict(X_test)\n",
        "y_pred_lasso_L = model_lasso_L.predict(XL_test)\n",
        "y_pred_lasso_cv_L = model_lasso_cv_L.predict(XL_test)\n",
        "y_pred_ridge_cv_L = model_ridge_cv_L.predict(XL_test)\n",
        "y_pred_elasticnet_cv_L = model_elasticnet_cv_L.predict(XL_test)\n",
        "y_pred_rf = rf.predict(X_test)\n",
        "y_pred_gbr = gbr.predict(X_test)\n",
        "y_pred_dt = dt.predict(X_test)\n",
        "y_pred_dt_pruned = dt_pruned.predict(X_test)"
      ]
    },
    {
      "cell_type": "markdown",
      "source": [
        "*Evaluating the Models' performances*"
      ],
      "metadata": {
        "id": "CxP-FuxU0dUf"
      }
    },
    {
      "cell_type": "code",
      "execution_count": null,
      "metadata": {
        "id": "1ZYp3gnchAuy",
        "outputId": "6b81dcd8-ae1a-4db8-806f-60e9b5439510",
        "colab": {
          "base_uri": "https://localhost:8080/"
        }
      },
      "outputs": [
        {
          "output_type": "stream",
          "name": "stdout",
          "text": [
            "lm_r2 0.2564591769934085\n",
            "lm_mse 0.3127664499897118\n",
            "\n",
            "lm2_r2 0.2602708126287935\n",
            "lm2_mse 0.31116310595069446\n",
            "\n",
            "lasso_r2 0.04811131393532875\n",
            "lasso_mse 0.4004068585258824\n",
            "\n",
            "lasso_cv_r2 0.04811131393532875\n",
            "lasso_cv_mse 0.4004068585258824\n",
            "\n",
            "ridge_cv_r2 0.2564592773311202\n",
            "ridge_cv_mse 0.31276640778319276\n",
            "\n",
            "elasticnet_cv_r2 0.11137542178631354\n",
            "elasticnet_cv_mse 0.3737951516604702\n",
            "\n",
            "lasso_L_r2 0.04811131393532875\n",
            "lasso_L_mse 0.4004068585258824\n",
            "\n",
            "lasso_cv_L_r2 0.04811131393532875\n",
            "lasso_cv_L_mse 0.4004068585258824\n",
            "\n",
            "ridge_cv_L_r2 0.2602709108026534\n",
            "ridge_cv_L_mse 0.3111630646543881\n",
            "\n",
            "elasticnet_cv_L_r2 0.12063635718219501\n",
            "elasticnet_cv_L_mse 0.36989958897214126\n",
            "\n",
            "rf_r2 0.28734728200234816\n",
            "rf_mse 0.29977353466935175\n",
            "\n",
            "gbr_r2 -0.0002358120438648026\n",
            "gbr_mse 0.420743817159267\n",
            "\n",
            "dt_r2 -0.2921741931419217\n",
            "dt_mse 0.5435461277339123\n",
            "\n",
            "dt_pruned_r2 0.22385119365649309\n",
            "dt_pruned_mse 0.32648282288282504\n"
          ]
        }
      ],
      "source": [
        "# Evaluating the models performance\n",
        "\n",
        "from sklearn.metrics import r2_score,mean_squared_error\n",
        "# linear model metrics\n",
        "lm_r2 = r2_score(y_test,y_pred_lm)\n",
        "lm_mse = mean_squared_error(y_test,y_pred_lm)\n",
        "print(\"lm_r2\",lm_r2)\n",
        "print(\"lm_mse\",lm_mse)\n",
        "print()\n",
        "\n",
        "# quadratic model metrics\n",
        "lm2_r2 = r2_score(y_test,y_pred_lm2)\n",
        "lm2_mse = mean_squared_error(y_test,y_pred_lm2)\n",
        "print(\"lm2_r2\",lm2_r2)\n",
        "print(\"lm2_mse\",lm2_mse)\n",
        "print()\n",
        "\n",
        "# lasso model metrics\n",
        "lasso_r2 = r2_score(y_test,y_pred_lasso)\n",
        "lasso_mse = mean_squared_error(y_test,y_pred_lasso)\n",
        "print(\"lasso_r2\",lasso_r2)\n",
        "print(\"lasso_mse\",lasso_mse)\n",
        "print()\n",
        "\n",
        "# lassocv model metrics\n",
        "lasso_cv_r2 = r2_score(y_test,y_pred_lasso_cv)\n",
        "lasso_cv_mse = mean_squared_error(y_test,y_pred_lasso_cv)\n",
        "print(\"lasso_cv_r2\",lasso_cv_r2)\n",
        "print(\"lasso_cv_mse\",lasso_cv_mse)\n",
        "print()\n",
        "\n",
        "# ridgecv model metrics\n",
        "ridge_cv_r2 = r2_score(y_test,y_pred_ridge_cv)\n",
        "ridge_cv_mse = mean_squared_error(y_test,y_pred_ridge_cv)\n",
        "print(\"ridge_cv_r2\",ridge_cv_r2)\n",
        "print(\"ridge_cv_mse\",ridge_cv_mse)\n",
        "print()\n",
        "\n",
        "# elasticnetcv model metrics\n",
        "elasticnet_cv_r2 = r2_score(y_test,y_pred_elasticnet_cv)\n",
        "elasticnet_cv_mse = mean_squared_error(y_test,y_pred_elasticnet_cv)\n",
        "print(\"elasticnet_cv_r2\",elasticnet_cv_r2)\n",
        "print(\"elasticnet_cv_mse\",elasticnet_cv_mse)\n",
        "print()\n",
        "\n",
        "# lasso on quadratic data metrics\n",
        "lasso_L_r2 = r2_score(y_test,y_pred_lasso_L)\n",
        "lasso_L_mse = mean_squared_error(y_test,y_pred_lasso_L)\n",
        "print(\"lasso_L_r2\",lasso_L_r2)\n",
        "print(\"lasso_L_mse\",lasso_L_mse)\n",
        "print()\n",
        "\n",
        "# lassocv on quadratic data metrics\n",
        "lasso_cv_L_r2 = r2_score(y_test,y_pred_lasso_cv_L)\n",
        "lasso_cv_L_mse = mean_squared_error(y_test,y_pred_lasso_cv_L)\n",
        "print(\"lasso_cv_L_r2\",lasso_cv_L_r2)\n",
        "print(\"lasso_cv_L_mse\",lasso_cv_L_mse)\n",
        "print()\n",
        "\n",
        "# ridgecv on quadratic data metrics\n",
        "ridge_cv_L_r2 = r2_score(y_test,y_pred_ridge_cv_L)\n",
        "ridge_cv_L_mse = mean_squared_error(y_test,y_pred_ridge_cv_L)\n",
        "print(\"ridge_cv_L_r2\",ridge_cv_L_r2)\n",
        "print(\"ridge_cv_L_mse\",ridge_cv_L_mse)\n",
        "print()\n",
        "\n",
        "# elasticnetcv on quadratic data metrics\n",
        "elasticnet_cv_L_r2 = r2_score(y_test,y_pred_elasticnet_cv_L)\n",
        "elasticnet_cv_L_mse = mean_squared_error(y_test,y_pred_elasticnet_cv_L)\n",
        "print(\"elasticnet_cv_L_r2\",elasticnet_cv_L_r2)\n",
        "print(\"elasticnet_cv_L_mse\",elasticnet_cv_L_mse)\n",
        "print()\n",
        "\n",
        "# randomforest model metrics\n",
        "rf_r2 = r2_score(y_test,y_pred_rf)\n",
        "rf_mse = mean_squared_error(y_test,y_pred_rf)\n",
        "print(\"rf_r2\",rf_r2)\n",
        "print(\"rf_mse\",rf_mse)\n",
        "print()\n",
        "\n",
        "# gradientboost model metrics\n",
        "gbr_r2 = r2_score(y_test,y_pred_gbr)\n",
        "gbr_mse = mean_squared_error(y_test,y_pred_gbr)\n",
        "print(\"gbr_r2\",gbr_r2)\n",
        "print(\"gbr_mse\",gbr_mse)\n",
        "print()\n",
        "\n",
        "# decision tree model metrics\n",
        "dt_r2 = r2_score(y_test,y_pred_dt)\n",
        "dt_mse = mean_squared_error(y_test,y_pred_dt)\n",
        "print(\"dt_r2\",dt_r2)\n",
        "print(\"dt_mse\",dt_mse)\n",
        "print()\n",
        "\n",
        "# pruned decision tree model metrics\n",
        "dt_pruned_r2 = r2_score(y_test,y_pred_dt_pruned)\n",
        "dt_pruned_mse = mean_squared_error(y_test,y_pred_dt_pruned)\n",
        "print(\"dt_pruned_r2\",dt_pruned_r2)\n",
        "print(\"dt_pruned_mse\",dt_pruned_mse)"
      ]
    },
    {
      "cell_type": "markdown",
      "metadata": {
        "id": "Askdsxo2hAuy"
      },
      "source": [
        "### **Conclusion:**\n",
        "\n",
        "- The above result shows results for a single split of data into the training and testing part. We can observe that the Random Forest prediction algorithm performs the best here, with the lowest testing MSE or highest R-squared.\n",
        "\n",
        "- Other methods, such as the quadratic model, Cross-Validated Ridge, and Pruned regression tree, do similarly well.\n",
        "\n",
        "- **Remarkably** , OLS on a simple model with 72 regressors performs extremely well, almost as well as the sophisticated version of Random Forest.\n",
        "- Since the performance of OLS on a simple model is statistically indistinguishable from that of Random Forest, we may choose this method to be the winner here as OLS method is more interpretable than random forest and using the coefficient of variables in the OLS method we can select the more important features with valid reasons."
      ]
    }
  ],
  "metadata": {
    "colab": {
      "collapsed_sections": [
        "Askdsxo2hAuy"
      ],
      "provenance": []
    },
    "kernelspec": {
      "display_name": "Python 3 (ipykernel)",
      "language": "python",
      "name": "python3"
    },
    "language_info": {
      "codemirror_mode": {
        "name": "ipython",
        "version": 3
      },
      "file_extension": ".py",
      "mimetype": "text/x-python",
      "name": "python",
      "nbconvert_exporter": "python",
      "pygments_lexer": "ipython3",
      "version": "3.9.7"
    }
  },
  "nbformat": 4,
  "nbformat_minor": 0
}