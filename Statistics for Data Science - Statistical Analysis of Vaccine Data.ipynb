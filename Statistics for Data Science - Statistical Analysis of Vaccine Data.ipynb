{
  "cells": [
    {
      "cell_type": "markdown",
      "source": [
        "<font size =\"8\"> <div align=\"center\">**Statistical Analysis**</div></font>\n",
        "<font size =\"5\"> <div align=\"center\">By **Jon Nyner Gavan**</div></font>"
      ],
      "metadata": {
        "id": "z-ly5dByUiKn"
      }
    },
    {
      "cell_type": "markdown",
      "metadata": {
        "id": "7uTqu6UnZIuP"
      },
      "source": [
        "-----\n",
        "# **Context of the Exercise (Medicon Vaccine Data)**\n",
        "-----\n",
        "<p align = \"justify\">\n",
        "Medicon, a pharmaceutical company, has manufactured the sixth batch (40,000 units) of COVID-19 vaccine doses. <b> This vaccine was clinically tested last quarter and around 200,000 doses have already been given to people in five batches.</b>\n",
        "<p align = \"justify\">\n",
        "Now, the sixth batch of doses needs to be tested for their <b>time of effect</b> (measured as the <b>time taken for the dose to be absorbed in the body for its COVID-19 preventative effects</b>, such as antibody creation, to manifest), as well as for <b>quality assurance</b> (which tells you whether the dose will be able to do a satisfactory job or not).\n",
        "<p align = \"justify\">\n",
        "As part of the quality assurance team of Medicon, the goal is to use Statistical Analysis -  combining inferential and hypothesis testing concepts - to understand the quality of the sixth batch so that the company can plan for the next batch of doses.\n",
        "<br>\n",
        "\n",
        "-----\n",
        "## **Problem Statement**\n",
        "-----\n",
        "<p align = \"justify\">\n",
        "The previous analysis found that a dose is ten times more likely to produce a satisfactory\n",
        "result than not.\n",
        "<br>\n",
        "<p align = \"justify\">\n",
        "<b> Note: </b> Here, a satisfactory job for the vaccine means that the dose <b>has successfully prevented COVID-19</b> - which is assumed to have taken place if the person does not show any symptoms or side effects after 14 days have passed since the vaccine dose was administered.\n",
        "<br>\n",
        "\n",
        "**Question 1**<br><p align = \"justify\">\n",
        "The quality assurance team has collected 100 volunteers who were ready for the trial of this new batch, and they have given one dose to each volunteer. Help the team answer the following questions:\n",
        "\n",
        "\n",
        "> a) **Plot the probability distribution** for the number of unsatisfactory doses.\n",
        "\n",
        "> b) What is the probability that **exactly 3 doses will not be able to do a satisfactory job**?\n",
        "\n",
        "> c) What is the probability that **at most 3 doses will not do a satisfactory job** out of 100 selected?\n",
        "\n",
        "<br>\n",
        "\n",
        "**Question 2**<br><p align = \"justify\">\n",
        "The New York city administration wants to buy 200 doses for Health care workers who were COVID-Positive. They have contacted the company and requested 200 doses. What is the probability that **at least 30 doses will not do a satisfactory job** out of 200 doses?\n",
        "\n",
        "<br>\n",
        "\n",
        "**Question 3**<br><p align = \"justify\">\n",
        "The quality assurance team wants to analyze the **time of effect for doses**. So, they collected the 50 volunteers with the help of the city administration and gave one dose to each volunteer. Data for these 50 doses are in the 'doses.csv' file. Based on this sample, answer the following questions:\n",
        "\n",
        "> a) What is the probability that the time of effect is **less than 11.5 hours**?\n",
        "\n",
        "> b) What is the **90th percentile of time of effect for the doses**?\n",
        "\n",
        "> c) For the effectiveness test of the vaccine, estimate the range in which **the population mean (time of effect) will lie with a 95% confidence level**.\n",
        "\n",
        "\n"
      ]
    },
    {
      "cell_type": "markdown",
      "metadata": {
        "id": "8FbHCKa_NBGQ"
      },
      "source": [
        "### **Importing the necessary Libraries**"
      ]
    },
    {
      "cell_type": "code",
      "execution_count": null,
      "metadata": {
        "id": "cNXGq81liYXe"
      },
      "outputs": [],
      "source": [
        "# import the important libraries\n",
        "import pandas as pd               # library used for data manipulation and analysis\n",
        "import numpy as np                # library used for working with arrays\n",
        "import matplotlib.pyplot as plt   # library for visualization\n",
        "import seaborn as sns             # library for visualization\n",
        "%matplotlib inline\n",
        "import scipy.stats as stats       # this library contains a large number of probability\n",
        "                                  # distributions as well as a growing library of statistical functions"
      ]
    },
    {
      "cell_type": "code",
      "source": [
        "from google.colab import drive\n",
        "drive.mount('/content/drive')"
      ],
      "metadata": {
        "colab": {
          "base_uri": "https://localhost:8080/"
        },
        "id": "tJj-pqoNsy0o",
        "outputId": "27308e6a-f796-4c78-8e9b-6f44425df074"
      },
      "execution_count": null,
      "outputs": [
        {
          "output_type": "stream",
          "name": "stdout",
          "text": [
            "Mounted at /content/drive\n"
          ]
        }
      ]
    },
    {
      "cell_type": "markdown",
      "metadata": {
        "id": "lduM89uhi1Lv"
      },
      "source": [
        "### **Solution to Question 1**"
      ]
    },
    {
      "cell_type": "markdown",
      "metadata": {
        "id": "Hrjb75zpALlN"
      },
      "source": [
        "**Recall Problem Statement**<br>\n",
        "<p align = \"justify\">\n",
        "The quality assurance team has collected the 100 volunteers who were ready for the trial of this new batch and given one dose to each volunteer. What is the probability that k doses will do a satisfactory job out of 100 doses given to the volunteers?\n",
        "\n",
        "---\n",
        "\n",
        "<b> Preliminary Analysis </b>\n",
        "<p align = \"justify\">\n",
        "The above situation follows the Binomial distribution because we are taking a random sample of 100 doses and each dose either does a satisfactory job or doesn't.\n",
        "<br>\n",
        "\n",
        "First checking whether the assumptions of the binomial distribution are satisfied or not.\n",
        "\n",
        "*  There are only two possible outcomes (success or failure) for each trial\n",
        "> A dose will do a satisfactory job or not (yes or no).\n",
        "\n",
        "* The number of trials (n) is fixed\n",
        "> A  sample of size 100 is taken. Each dose in the sample represents a trial.\n",
        "\n",
        "* Each trial is independent of the other trials\n",
        "> It is reasonable to assume that giving a dose to each person is independent.\n",
        "\n",
        "* The probability of success (p) is the same for each trial\n",
        "> The probability of success for each trial (a dose will not do a satisfactory job) is not known.\n",
        "\n",
        "\n",
        "<b>Finding the probability of success of each trial</b>\n",
        "> i.e. a dose will not do a satisfactory job.\n",
        "\n",
        "Let $p$ be the probability that a dose will not do a satisfactory job.\n",
        "\n",
        "<p align = \"justify\">\n",
        "As we already know, the quality assurance team checked on five batches of doses and found that - it is 10 times more likely that a dose will be able to produce a satisfactory result than not. So, the probability that a dose will do a satisfactory job is $10p$.\n",
        "\n",
        "According to the rules of probability,\n",
        "\n",
        "$p + 10p = 1$\n",
        "\n",
        "$=> 11p = 1$\n",
        "\n",
        "$=> p = 1/11$\n",
        "\n",
        "$=> p = 0.09$\n",
        "\n",
        "Hence, the probability of success for each trial (a dose will not do a satisfactory job) is **0.09**."
      ]
    },
    {
      "cell_type": "markdown",
      "metadata": {
        "id": "sposkI4aH8_L"
      },
      "source": [
        "**Estimating the probability distribution of doses**"
      ]
    },
    {
      "cell_type": "code",
      "execution_count": null,
      "metadata": {
        "id": "sGLoIPMP_-Sf",
        "colab": {
          "base_uri": "https://localhost:8080/"
        },
        "outputId": "6557a102-0c09-4cde-8bbb-b77f0adff2a1"
      },
      "outputs": [
        {
          "output_type": "execute_result",
          "data": {
            "text/plain": [
              "array([  0,   1,   2,   3,   4,   5,   6,   7,   8,   9,  10,  11,  12,\n",
              "        13,  14,  15,  16,  17,  18,  19,  20,  21,  22,  23,  24,  25,\n",
              "        26,  27,  28,  29,  30,  31,  32,  33,  34,  35,  36,  37,  38,\n",
              "        39,  40,  41,  42,  43,  44,  45,  46,  47,  48,  49,  50,  51,\n",
              "        52,  53,  54,  55,  56,  57,  58,  59,  60,  61,  62,  63,  64,\n",
              "        65,  66,  67,  68,  69,  70,  71,  72,  73,  74,  75,  76,  77,\n",
              "        78,  79,  80,  81,  82,  83,  84,  85,  86,  87,  88,  89,  90,\n",
              "        91,  92,  93,  94,  95,  96,  97,  98,  99, 100])"
            ]
          },
          "metadata": {},
          "execution_count": 3
        }
      ],
      "source": [
        "# declare the sample size in variable n that represents the number of doses given to the volunteers\n",
        "n=100\n",
        "\n",
        "# declare p that represents the probability of success i.e. the probability that a dose will not do a satisfactory job\n",
        "p=0.09\n",
        "\n",
        "# declare the different number of doses selected in a Numpy array\n",
        "k=np.arange(0,101)\n",
        "k"
      ]
    },
    {
      "cell_type": "code",
      "execution_count": null,
      "metadata": {
        "id": "zOMdaSVSIhUd"
      },
      "outputs": [],
      "source": [
        "# import the binomial function from the scipy library\n",
        "from scipy.stats import binom\n",
        "\n",
        "# use the binom.pmf() function to generate the probability distribution\n",
        "binomial = binom.pmf(k = k,n = n, p = p)"
      ]
    },
    {
      "cell_type": "code",
      "execution_count": null,
      "metadata": {
        "colab": {
          "base_uri": "https://localhost:8080/"
        },
        "id": "mNiIIt6JI0Kk",
        "outputId": "a9650436-ea8d-4b1a-facb-c052af09dc1c"
      },
      "outputs": [
        {
          "output_type": "execute_result",
          "data": {
            "text/plain": [
              "array([8.01935118e-005, 7.93122644e-004, 3.88281470e-003, 1.25444783e-002,\n",
              "       3.00860701e-002, 5.71304716e-002, 8.94625517e-002, 1.18815257e-001,\n",
              "       1.36604904e-001, 1.38106057e-001, 1.24295451e-001, 1.00578737e-001,\n",
              "       7.37761613e-002, 4.93919862e-002, 3.03562992e-002, 1.72130224e-002,\n",
              "       9.04393005e-003, 4.41965812e-003, 2.01555838e-003, 8.60313523e-004,\n",
              "       3.44598109e-004, 1.29832882e-004, 4.61094802e-005, 1.54652915e-005,\n",
              "       4.90725596e-006, 1.47541234e-006, 4.20922794e-007, 1.14096288e-007,\n",
              "       2.94196474e-008, 7.22392251e-009, 1.69087417e-009, 3.77614579e-010,\n",
              "       8.05283837e-011, 1.64113789e-011, 3.19846848e-012, 5.96511861e-013,\n",
              "       1.06519975e-013, 1.82226034e-014, 2.98791675e-015, 4.69782347e-016,\n",
              "       7.08545353e-017, 1.02550118e-017, 1.42475439e-018, 1.90064347e-019,\n",
              "       2.43514011e-020, 2.99709552e-021, 3.54410483e-022, 4.02720353e-023,\n",
              "       4.39783902e-024, 4.61580772e-025, 4.65638625e-026, 4.51491879e-027,\n",
              "       4.20769059e-028, 3.76886240e-029, 3.24425884e-030, 2.68356276e-031,\n",
              "       2.13273728e-032, 1.62823205e-033, 1.19387230e-034, 8.40535911e-036,\n",
              "       5.68054489e-037, 3.68401398e-038, 2.29189810e-039, 1.36722336e-040,\n",
              "       7.81740003e-042, 4.28205851e-043, 2.24583488e-044, 1.12715348e-045,\n",
              "       5.40989952e-047, 2.48136815e-048, 1.08681588e-049, 4.54171625e-051,\n",
              "       1.80920015e-052, 6.86314073e-054, 2.47660113e-055, 8.49120386e-057,\n",
              "       2.76246511e-058, 8.51566239e-060, 2.48343493e-061, 6.83989590e-063,\n",
              "       1.77574220e-064, 4.33636680e-066, 9.93726512e-068, 2.13138746e-069,\n",
              "       4.26612090e-071, 7.94209967e-073, 1.37002742e-074, 2.18041498e-076,\n",
              "       3.18567124e-078, 4.24808611e-080, 5.13504915e-082, 5.58090114e-084,\n",
              "       5.39958185e-086, 4.59375981e-088, 3.38329282e-090, 2.11333502e-092,\n",
              "       1.08859977e-094, 4.43974076e-097, 1.34416910e-099, 2.68565255e-102,\n",
              "       2.65613989e-105])"
            ]
          },
          "metadata": {},
          "execution_count": 5
        }
      ],
      "source": [
        "binomial"
      ]
    },
    {
      "cell_type": "markdown",
      "metadata": {
        "id": "LEtZ2aqQI6dZ"
      },
      "source": [
        "* <p align = \"justify\"> It is seen that the <b>binomial</b> variable is the array of probabilities for the different number of doses that will not do a satisfactory job. Let us visualize the same in the following plot."
      ]
    },
    {
      "cell_type": "markdown",
      "metadata": {
        "id": "tRX9gs2fPrut"
      },
      "source": [
        "**a) Plot the  Probability Distribution**"
      ]
    },
    {
      "cell_type": "code",
      "execution_count": null,
      "metadata": {
        "colab": {
          "base_uri": "https://localhost:8080/",
          "height": 474
        },
        "id": "AsMrxVECI2zT",
        "outputId": "7ff3ba9d-7ab3-492e-cba7-a7e167f1ed7e"
      },
      "outputs": [
        {
          "output_type": "display_data",
          "data": {
            "text/plain": [
              "<Figure size 640x480 with 1 Axes>"
            ],
            "image/png": "[encoded data removed]"
          },
          "metadata": {}
        }
      ],
      "source": [
        "# plot the distribution\n",
        "plt.bar(k,binomial)\n",
        "plt.xlim(-10,50)\n",
        "plt.title('Binomial: n=%i , p=%.2f' % (n,p), fontsize=15)\n",
        "plt.xlabel('Number of Doses')\n",
        "plt.ylabel('Probability that doses will not do a satisfactory job')\n",
        "plt.show()"
      ]
    },
    {
      "cell_type": "markdown",
      "metadata": {
        "id": "jFFr2sXaK-IQ"
      },
      "source": [
        "**b) What is the probability that exactly 3 doses will not be able to do a satisfactory job?**"
      ]
    },
    {
      "cell_type": "code",
      "execution_count": null,
      "metadata": {
        "colab": {
          "base_uri": "https://localhost:8080/"
        },
        "id": "-azdDTV4JCgy",
        "outputId": "974d4e85-81c6-4a4e-c6ff-89a8ec3a9758"
      },
      "outputs": [
        {
          "output_type": "execute_result",
          "data": {
            "text/plain": [
              "np.float64(0.012544478265088926)"
            ]
          },
          "metadata": {},
          "execution_count": 7
        }
      ],
      "source": [
        "binomial[3]"
      ]
    },
    {
      "cell_type": "markdown",
      "metadata": {
        "id": "crI831a9Jmcn"
      },
      "source": [
        "* The probability of exactly 3 doses will not do a satisfactory job is **0.0125** i.e. 1.25%."
      ]
    },
    {
      "cell_type": "markdown",
      "metadata": {
        "id": "KvTxEpGZKN6c"
      },
      "source": [
        "**c) What is the probability that at most 3 doses will not do the satisfactory job out of 10 selected?**\n",
        "\n",
        "First, we need to calculate $P(X<=3)$.\n",
        "> Here, $X$ is the random variable that represents the number of doses that will not do a satisfactory job.\n",
        "\n",
        "CDF is used to calculate the cumulative probability."
      ]
    },
    {
      "cell_type": "code",
      "execution_count": null,
      "metadata": {
        "colab": {
          "base_uri": "https://localhost:8080/",
          "height": 474
        },
        "id": "hzrA4Oz3J__y",
        "outputId": "b29f1981-aed3-4fae-8ac5-1c6f67ad15d4"
      },
      "outputs": [
        {
          "output_type": "display_data",
          "data": {
            "text/plain": [
              "<Figure size 640x480 with 1 Axes>"
            ],
            "image/png": "[encoded data removed]"
          },
          "metadata": {}
        }
      ],
      "source": [
        "# plot the probability distribution\n",
        "# we are plotting the distributions here to better visualize the calculations\n",
        "# ofcourse you do not 'need' to create the following visualization to answer the question above\n",
        "# you can directly use the cdf function for probability calculations\n",
        "barl=plt.bar(k,binomial)\n",
        "plt.xlim(-10,50)\n",
        "plt.title('Binomial: n=%i , p=%.2f' % (n,p), fontsize=15)\n",
        "plt.xlabel('Number of Doses')\n",
        "plt.ylabel('Probability that doses will not do a satisfactory job')\n",
        "for i in range(0,4):\n",
        "    barl[i].set_color('r')\n",
        "plt.show()"
      ]
    },
    {
      "cell_type": "markdown",
      "metadata": {
        "id": "CgPbGLOSPPYq"
      },
      "source": [
        "* In the above graph, the red region represents $P(X<=3)$.\n"
      ]
    },
    {
      "cell_type": "markdown",
      "source": [
        "**Calculating the probability that out of 100 randomly selected doses, at most 3 will not do a satisfactory job**"
      ],
      "metadata": {
        "id": "qMX_2MDmd-4T"
      }
    },
    {
      "cell_type": "code",
      "execution_count": null,
      "metadata": {
        "colab": {
          "base_uri": "https://localhost:8080/"
        },
        "id": "C93TNkZiPH98",
        "outputId": "b7917407-4e09-4ee2-ab0b-4da754a24971"
      },
      "outputs": [
        {
          "output_type": "stream",
          "name": "stdout",
          "text": [
            "0.017300609121718068\n"
          ]
        }
      ],
      "source": [
        "# Calculate the cdf\n",
        "from scipy.stats import binom\n",
        "prob_atmost3 = binom.cdf(k = 3 ,n = n, p = p)\n",
        "print(prob_atmost3)"
      ]
    },
    {
      "cell_type": "markdown",
      "metadata": {
        "id": "bttPuQE-PvsY"
      },
      "source": [
        "* The probability of at most 3 doses will not do a satisfactory job is **1.73%**"
      ]
    },
    {
      "cell_type": "markdown",
      "metadata": {
        "id": "gLNNRfkAi1L1"
      },
      "source": [
        "### **Solution to Question 2**"
      ]
    },
    {
      "cell_type": "markdown",
      "metadata": {
        "id": "urid6LnBQWbk"
      },
      "source": [
        "**Recall Problem Statement**\n",
        "<p align = \"justify\">\n",
        "The New York city administration wants to buy 200 Doses for Health care workers who were COVID-Positive. They have contacted the company and requested 200 Doses. What is the probability that at least 30 doses will not do a satisfactory job out of 200 doses?\n",
        "\n",
        "---\n",
        "**Approach**\n",
        "\n",
        "To calculate using python libraries, the probability that at least 30 doses will not do a satisfactory job out of 200 selected. $P(X>=30)$\n",
        "> where $X$ is the random variable that represents doses that will not do a satisfactory job.\n",
        "\n"
      ]
    },
    {
      "cell_type": "code",
      "execution_count": null,
      "metadata": {
        "colab": {
          "base_uri": "https://localhost:8080/"
        },
        "id": "o8qJEipgQ3iI",
        "outputId": "3a604575-8be9-4a62-ceee-686a7bd2968d"
      },
      "outputs": [
        {
          "output_type": "execute_result",
          "data": {
            "text/plain": [
              "array([  0,   1,   2,   3,   4,   5,   6,   7,   8,   9,  10,  11,  12,\n",
              "        13,  14,  15,  16,  17,  18,  19,  20,  21,  22,  23,  24,  25,\n",
              "        26,  27,  28,  29,  30,  31,  32,  33,  34,  35,  36,  37,  38,\n",
              "        39,  40,  41,  42,  43,  44,  45,  46,  47,  48,  49,  50,  51,\n",
              "        52,  53,  54,  55,  56,  57,  58,  59,  60,  61,  62,  63,  64,\n",
              "        65,  66,  67,  68,  69,  70,  71,  72,  73,  74,  75,  76,  77,\n",
              "        78,  79,  80,  81,  82,  83,  84,  85,  86,  87,  88,  89,  90,\n",
              "        91,  92,  93,  94,  95,  96,  97,  98,  99, 100, 101, 102, 103,\n",
              "       104, 105, 106, 107, 108, 109, 110, 111, 112, 113, 114, 115, 116,\n",
              "       117, 118, 119, 120, 121, 122, 123, 124, 125, 126, 127, 128, 129,\n",
              "       130, 131, 132, 133, 134, 135, 136, 137, 138, 139, 140, 141, 142,\n",
              "       143, 144, 145, 146, 147, 148, 149, 150, 151, 152, 153, 154, 155,\n",
              "       156, 157, 158, 159, 160, 161, 162, 163, 164, 165, 166, 167, 168,\n",
              "       169, 170, 171, 172, 173, 174, 175, 176, 177, 178, 179, 180, 181,\n",
              "       182, 183, 184, 185, 186, 187, 188, 189, 190, 191, 192, 193, 194,\n",
              "       195, 196, 197, 198, 199, 200])"
            ]
          },
          "metadata": {},
          "execution_count": 10
        }
      ],
      "source": [
        "# declare the sample size in variable n which represents the number of doses selected randomly\n",
        "n = 200\n",
        "\n",
        "# declare p which represents the probability of success, i.e., the probability that a dose will not do a satisfactory job\n",
        "p = 0.09\n",
        "\n",
        "# declare the different number of doses selected in a Numpy array\n",
        "k = np.arange(0,201)\n",
        "k"
      ]
    },
    {
      "cell_type": "code",
      "execution_count": null,
      "metadata": {
        "id": "Y4pcrmVTRhde"
      },
      "outputs": [],
      "source": [
        "# import the required function\n",
        "from scipy.stats import binom\n",
        "\n",
        "# use the binom.pmf() function to generate the probability distribution\n",
        "binomial = binom.pmf(k = k,n = n, p = p)"
      ]
    },
    {
      "cell_type": "code",
      "execution_count": null,
      "metadata": {
        "colab": {
          "base_uri": "https://localhost:8080/",
          "height": 474
        },
        "id": "Aj4naC37PjBx",
        "outputId": "8d4b09bb-b31d-4ceb-d127-c50dc6421320"
      },
      "outputs": [
        {
          "output_type": "display_data",
          "data": {
            "text/plain": [
              "<Figure size 640x480 with 1 Axes>"
            ],
            "image/png": "[encoded data removed]"
          },
          "metadata": {}
        }
      ],
      "source": [
        "# plotting the probability distribution\n",
        "\n",
        "barl=plt.bar(k,binomial,width=0.7)\n",
        "plt.xlim(-10,50)\n",
        "plt.title('Binomial: n=%i , p=%.2f' % (n,p), fontsize=15)\n",
        "plt.xlabel('Number of Doses')\n",
        "plt.ylabel('Probability that doses will not do a satisfactory job')\n",
        "for i in range(30,201):\n",
        "    barl[i].set_color('r')\n",
        "plt.show()"
      ]
    },
    {
      "cell_type": "markdown",
      "metadata": {
        "id": "TEas5m-tQqcb"
      },
      "source": [
        "* In the above graph, the red region represents $P(X>=30)$.\n",
        "\n"
      ]
    },
    {
      "cell_type": "markdown",
      "source": [
        "**Calculating the probability that out of 200 randomly selected doses, at least 30 will not do a satisfactory job**\n",
        "\n",
        "> We will use binom.cdf() for this because $P(X>=30) = 1 - P(X<30)$"
      ],
      "metadata": {
        "id": "mLAHp60pgzux"
      }
    },
    {
      "cell_type": "code",
      "execution_count": null,
      "metadata": {
        "colab": {
          "base_uri": "https://localhost:8080/"
        },
        "id": "zxWaoAjMQm48",
        "outputId": "68bb9cde-5360-4e90-93d9-5a5cb200de41"
      },
      "outputs": [
        {
          "output_type": "stream",
          "name": "stdout",
          "text": [
            "0.003963863923503452\n"
          ]
        }
      ],
      "source": [
        "# calculate cdf\n",
        "prob_atleast30 = 1-binom.cdf(k = 29 , n = 200, p = 0.09)\n",
        "print(prob_atleast30)"
      ]
    },
    {
      "cell_type": "markdown",
      "metadata": {
        "id": "E_2gaKjaLMGT"
      },
      "source": [
        "* The probability of at least 30 doses will not do a satisfactory job is **0.003** i.e. ~0.3%."
      ]
    },
    {
      "cell_type": "markdown",
      "metadata": {
        "id": "pRAge3-Li1L3"
      },
      "source": [
        "### **Question 3 Solution**"
      ]
    },
    {
      "cell_type": "markdown",
      "metadata": {
        "id": "xzjVtrmk9xaU"
      },
      "source": [
        "**Recall Poblem Statement**\n",
        "<p align = \"justify\">\n",
        "The quality assurance team wants to analyze the time of effect for doses. So, they have collected the 50 volunteers with the help of the city administration and given one dose to each volunteer. Data of these 50 doses are in the 'doses.csv' file.\n",
        "\n",
        "---\n",
        "**Description of the Data**:\n",
        "\n",
        "We are using the dataset which is randomly generated and have two features\n",
        "\n",
        "1. **drug_serial_number**: It represents the serial number of each dose and is discrete in nature\n",
        "\n",
        "2. **time of effect**: It is measured as the **time taken for the dose to be absorbed in the body for its COVID-19 preventative effects**, such as antibody creation, to manifest. It is in hours and continuous in nature."
      ]
    },
    {
      "cell_type": "markdown",
      "metadata": {
        "id": "PH9A8NlF8Bl_"
      },
      "source": [
        "**Loading the dataset and taking a quick look**"
      ]
    },
    {
      "cell_type": "code",
      "execution_count": null,
      "metadata": {
        "colab": {
          "base_uri": "https://localhost:8080/",
          "height": 206
        },
        "id": "E6b88UwqAfLM",
        "outputId": "e5d8878e-7d10-49a6-dc44-f7bf219c0a6a"
      },
      "outputs": [
        {
          "output_type": "execute_result",
          "data": {
            "text/plain": [
              "   drug_serial_number  time_of_effect\n",
              "0                 672             5.8\n",
              "1                 895            17.3\n",
              "2                 518            16.7\n",
              "3                 448            13.1\n",
              "4                 402            13.6"
            ],
            "text/html": [
              "\n",
              "  <div id=\"df-ea2ea8dc-5b46-4771-b41c-e2e79a5a3070\" class=\"colab-df-container\">\n",
              "    <div>\n",
              "<style scoped>\n",
              "    .dataframe tbody tr th:only-of-type {\n",
              "        vertical-align: middle;\n",
              "    }\n",
              "\n",
              "    .dataframe tbody tr th {\n",
              "        vertical-align: top;\n",
              "    }\n",
              "\n",
              "    .dataframe thead th {\n",
              "        text-align: right;\n",
              "    }\n",
              "</style>\n",
              "<table border=\"1\" class=\"dataframe\">\n",
              "  <thead>\n",
              "    <tr style=\"text-align: right;\">\n",
              "      <th></th>\n",
              "      <th>drug_serial_number</th>\n",
              "      <th>time_of_effect</th>\n",
              "    </tr>\n",
              "  </thead>\n",
              "  <tbody>\n",
              "    <tr>\n",
              "      <th>0</th>\n",
              "      <td>672</td>\n",
              "      <td>5.8</td>\n",
              "    </tr>\n",
              "    <tr>\n",
              "      <th>1</th>\n",
              "      <td>895</td>\n",
              "      <td>17.3</td>\n",
              "    </tr>\n",
              "    <tr>\n",
              "      <th>2</th>\n",
              "      <td>518</td>\n",
              "      <td>16.7</td>\n",
              "    </tr>\n",
              "    <tr>\n",
              "      <th>3</th>\n",
              "      <td>448</td>\n",
              "      <td>13.1</td>\n",
              "    </tr>\n",
              "    <tr>\n",
              "      <th>4</th>\n",
              "      <td>402</td>\n",
              "      <td>13.6</td>\n",
              "    </tr>\n",
              "  </tbody>\n",
              "</table>\n",
              "</div>\n",
              "    <div class=\"colab-df-buttons\">\n",
              "\n",
              "  <div class=\"colab-df-container\">\n",
              "    <button class=\"colab-df-convert\" onclick=\"convertToInteractive('df-ea2ea8dc-5b46-4771-b41c-e2e79a5a3070')\"\n",
              "            title=\"Convert this dataframe to an interactive table.\"\n",
              "            style=\"display:none;\">\n",
              "\n",
              "  <svg xmlns=\"http://www.w3.org/2000/svg\" height=\"24px\" viewBox=\"0 -960 960 960\">\n",
              "    <path d=\"M120-120v-720h720v720H120Zm60-500h600v-160H180v160Zm220 220h160v-160H400v160Zm0 220h160v-160H400v160ZM180-400h160v-160H180v160Zm440 0h160v-160H620v160ZM180-180h160v-160H180v160Zm440 0h160v-160H620v160Z\"/>\n",
              "  </svg>\n",
              "    </button>\n",
              "\n",
              "  <style>\n",
              "    .colab-df-container {\n",
              "      display:flex;\n",
              "      gap: 12px;\n",
              "    }\n",
              "\n",
              "    .colab-df-convert {\n",
              "      background-color: #E8F0FE;\n",
              "      border: none;\n",
              "      border-radius: 50%;\n",
              "      cursor: pointer;\n",
              "      display: none;\n",
              "      fill: #1967D2;\n",
              "      height: 32px;\n",
              "      padding: 0 0 0 0;\n",
              "      width: 32px;\n",
              "    }\n",
              "\n",
              "    .colab-df-convert:hover {\n",
              "      background-color: #E2EBFA;\n",
              "      box-shadow: 0px 1px 2px rgba(60, 64, 67, 0.3), 0px 1px 3px 1px rgba(60, 64, 67, 0.15);\n",
              "      fill: #174EA6;\n",
              "    }\n",
              "\n",
              "    .colab-df-buttons div {\n",
              "      margin-bottom: 4px;\n",
              "    }\n",
              "\n",
              "    [theme=dark] .colab-df-convert {\n",
              "      background-color: #3B4455;\n",
              "      fill: #D2E3FC;\n",
              "    }\n",
              "\n",
              "    [theme=dark] .colab-df-convert:hover {\n",
              "      background-color: #434B5C;\n",
              "      box-shadow: 0px 1px 3px 1px rgba(0, 0, 0, 0.15);\n",
              "      filter: drop-shadow(0px 1px 2px rgba(0, 0, 0, 0.3));\n",
              "      fill: #FFFFFF;\n",
              "    }\n",
              "  </style>\n",
              "\n",
              "    <script>\n",
              "      const buttonEl =\n",
              "        document.querySelector('#df-ea2ea8dc-5b46-4771-b41c-e2e79a5a3070 button.colab-df-convert');\n",
              "      buttonEl.style.display =\n",
              "        google.colab.kernel.accessAllowed ? 'block' : 'none';\n",
              "\n",
              "      async function convertToInteractive(key) {\n",
              "        const element = document.querySelector('#df-ea2ea8dc-5b46-4771-b41c-e2e79a5a3070');\n",
              "        const dataTable =\n",
              "          await google.colab.kernel.invokeFunction('convertToInteractive',\n",
              "                                                    [key], {});\n",
              "        if (!dataTable) return;\n",
              "\n",
              "        const docLinkHtml = 'Like what you see? Visit the ' +\n",
              "          '<a target=\"_blank\" href=https://colab.research.google.com/notebooks/data_table.ipynb>data table notebook</a>'\n",
              "          + ' to learn more about interactive tables.';\n",
              "        element.innerHTML = '';\n",
              "        dataTable['output_type'] = 'display_data';\n",
              "        await google.colab.output.renderOutput(dataTable, element);\n",
              "        const docLink = document.createElement('div');\n",
              "        docLink.innerHTML = docLinkHtml;\n",
              "        element.appendChild(docLink);\n",
              "      }\n",
              "    </script>\n",
              "  </div>\n",
              "\n",
              "\n",
              "<div id=\"df-07e7495e-4a7a-4b44-991f-cb4ff20e28f0\">\n",
              "  <button class=\"colab-df-quickchart\" onclick=\"quickchart('df-07e7495e-4a7a-4b44-991f-cb4ff20e28f0')\"\n",
              "            title=\"Suggest charts\"\n",
              "            style=\"display:none;\">\n",
              "\n",
              "<svg xmlns=\"http://www.w3.org/2000/svg\" height=\"24px\"viewBox=\"0 0 24 24\"\n",
              "     width=\"24px\">\n",
              "    <g>\n",
              "        <path d=\"M19 3H5c-1.1 0-2 .9-2 2v14c0 1.1.9 2 2 2h14c1.1 0 2-.9 2-2V5c0-1.1-.9-2-2-2zM9 17H7v-7h2v7zm4 0h-2V7h2v10zm4 0h-2v-4h2v4z\"/>\n",
              "    </g>\n",
              "</svg>\n",
              "  </button>\n",
              "\n",
              "<style>\n",
              "  .colab-df-quickchart {\n",
              "      --bg-color: #E8F0FE;\n",
              "      --fill-color: #1967D2;\n",
              "      --hover-bg-color: #E2EBFA;\n",
              "      --hover-fill-color: #174EA6;\n",
              "      --disabled-fill-color: #AAA;\n",
              "      --disabled-bg-color: #DDD;\n",
              "  }\n",
              "\n",
              "  [theme=dark] .colab-df-quickchart {\n",
              "      --bg-color: #3B4455;\n",
              "      --fill-color: #D2E3FC;\n",
              "      --hover-bg-color: #434B5C;\n",
              "      --hover-fill-color: #FFFFFF;\n",
              "      --disabled-bg-color: #3B4455;\n",
              "      --disabled-fill-color: #666;\n",
              "  }\n",
              "\n",
              "  .colab-df-quickchart {\n",
              "    background-color: var(--bg-color);\n",
              "    border: none;\n",
              "    border-radius: 50%;\n",
              "    cursor: pointer;\n",
              "    display: none;\n",
              "    fill: var(--fill-color);\n",
              "    height: 32px;\n",
              "    padding: 0;\n",
              "    width: 32px;\n",
              "  }\n",
              "\n",
              "  .colab-df-quickchart:hover {\n",
              "    background-color: var(--hover-bg-color);\n",
              "    box-shadow: 0 1px 2px rgba(60, 64, 67, 0.3), 0 1px 3px 1px rgba(60, 64, 67, 0.15);\n",
              "    fill: var(--button-hover-fill-color);\n",
              "  }\n",
              "\n",
              "  .colab-df-quickchart-complete:disabled,\n",
              "  .colab-df-quickchart-complete:disabled:hover {\n",
              "    background-color: var(--disabled-bg-color);\n",
              "    fill: var(--disabled-fill-color);\n",
              "    box-shadow: none;\n",
              "  }\n",
              "\n",
              "  .colab-df-spinner {\n",
              "    border: 2px solid var(--fill-color);\n",
              "    border-color: transparent;\n",
              "    border-bottom-color: var(--fill-color);\n",
              "    animation:\n",
              "      spin 1s steps(1) infinite;\n",
              "  }\n",
              "\n",
              "  @keyframes spin {\n",
              "    0% {\n",
              "      border-color: transparent;\n",
              "      border-bottom-color: var(--fill-color);\n",
              "      border-left-color: var(--fill-color);\n",
              "    }\n",
              "    20% {\n",
              "      border-color: transparent;\n",
              "      border-left-color: var(--fill-color);\n",
              "      border-top-color: var(--fill-color);\n",
              "    }\n",
              "    30% {\n",
              "      border-color: transparent;\n",
              "      border-left-color: var(--fill-color);\n",
              "      border-top-color: var(--fill-color);\n",
              "      border-right-color: var(--fill-color);\n",
              "    }\n",
              "    40% {\n",
              "      border-color: transparent;\n",
              "      border-right-color: var(--fill-color);\n",
              "      border-top-color: var(--fill-color);\n",
              "    }\n",
              "    60% {\n",
              "      border-color: transparent;\n",
              "      border-right-color: var(--fill-color);\n",
              "    }\n",
              "    80% {\n",
              "      border-color: transparent;\n",
              "      border-right-color: var(--fill-color);\n",
              "      border-bottom-color: var(--fill-color);\n",
              "    }\n",
              "    90% {\n",
              "      border-color: transparent;\n",
              "      border-bottom-color: var(--fill-color);\n",
              "    }\n",
              "  }\n",
              "</style>\n",
              "\n",
              "  <script>\n",
              "    async function quickchart(key) {\n",
              "      const quickchartButtonEl =\n",
              "        document.querySelector('#' + key + ' button');\n",
              "      quickchartButtonEl.disabled = true;  // To prevent multiple clicks.\n",
              "      quickchartButtonEl.classList.add('colab-df-spinner');\n",
              "      try {\n",
              "        const charts = await google.colab.kernel.invokeFunction(\n",
              "            'suggestCharts', [key], {});\n",
              "      } catch (error) {\n",
              "        console.error('Error during call to suggestCharts:', error);\n",
              "      }\n",
              "      quickchartButtonEl.classList.remove('colab-df-spinner');\n",
              "      quickchartButtonEl.classList.add('colab-df-quickchart-complete');\n",
              "    }\n",
              "    (() => {\n",
              "      let quickchartButtonEl =\n",
              "        document.querySelector('#df-07e7495e-4a7a-4b44-991f-cb4ff20e28f0 button');\n",
              "      quickchartButtonEl.style.display =\n",
              "        google.colab.kernel.accessAllowed ? 'block' : 'none';\n",
              "    })();\n",
              "  </script>\n",
              "</div>\n",
              "\n",
              "    </div>\n",
              "  </div>\n"
            ],
            "application/vnd.google.colaboratory.intrinsic+json": {
              "type": "dataframe",
              "variable_name": "drug",
              "summary": "{\n  \"name\": \"drug\",\n  \"rows\": 50,\n  \"fields\": [\n    {\n      \"column\": \"drug_serial_number\",\n      \"properties\": {\n        \"dtype\": \"number\",\n        \"std\": 245,\n        \"min\": 116,\n        \"max\": 993,\n        \"num_unique_values\": 48,\n        \"samples\": [\n          910,\n          449,\n          681\n        ],\n        \"semantic_type\": \"\",\n        \"description\": \"\"\n      }\n    },\n    {\n      \"column\": \"time_of_effect\",\n      \"properties\": {\n        \"dtype\": \"number\",\n        \"std\": 4.7455280775371955,\n        \"min\": 5.0,\n        \"max\": 23.8,\n        \"num_unique_values\": 45,\n        \"samples\": [\n          11.3,\n          5.2,\n          9.5\n        ],\n        \"semantic_type\": \"\",\n        \"description\": \"\"\n      }\n    }\n  ]\n}"
            }
          },
          "metadata": {},
          "execution_count": 14
        }
      ],
      "source": [
        "path = '/content/drive/MyDrive/Classroom/Data Science/MIT Summer School/2 Foundations of Data Science/2 Statistics for Data Science/2 Mentored Learning Session/Dataset 1 Medicon Dose Testing.csv'\n",
        "drug = pd.read_csv(path)\n",
        "drug.head()"
      ]
    },
    {
      "cell_type": "markdown",
      "metadata": {
        "id": "OiNQWmnx-bOQ"
      },
      "source": [
        "**Getting an overview of the dataset**"
      ]
    },
    {
      "cell_type": "code",
      "execution_count": null,
      "metadata": {
        "colab": {
          "base_uri": "https://localhost:8080/"
        },
        "id": "08ZOa6zpAu-h",
        "outputId": "57b1dafa-3673-42e3-ccd6-bcf5b14a3185"
      },
      "outputs": [
        {
          "output_type": "stream",
          "name": "stdout",
          "text": [
            "<class 'pandas.core.frame.DataFrame'>\n",
            "RangeIndex: 50 entries, 0 to 49\n",
            "Data columns (total 2 columns):\n",
            " #   Column              Non-Null Count  Dtype  \n",
            "---  ------              --------------  -----  \n",
            " 0   drug_serial_number  50 non-null     int64  \n",
            " 1   time_of_effect      50 non-null     float64\n",
            "dtypes: float64(1), int64(1)\n",
            "memory usage: 932.0 bytes\n"
          ]
        }
      ],
      "source": [
        "drug.info()"
      ]
    },
    {
      "cell_type": "markdown",
      "metadata": {
        "id": "X8Nu1fcmA4En"
      },
      "source": [
        "* As you can see from the result of the info function, there are **no null values** present in any of the columns."
      ]
    },
    {
      "cell_type": "markdown",
      "metadata": {
        "id": "eKmM-Hv9KySo"
      },
      "source": [
        "**Calculating the mean and standard deviation of the time of effect for the sample doses**"
      ]
    },
    {
      "cell_type": "code",
      "execution_count": null,
      "metadata": {
        "colab": {
          "base_uri": "https://localhost:8080/"
        },
        "id": "9JmSPFqkRodY",
        "outputId": "f266fe27-bc52-422c-babb-817c0e9329a6"
      },
      "outputs": [
        {
          "output_type": "stream",
          "name": "stdout",
          "text": [
            "The estimated mean is 13.44\n",
            "The estimated standard deviation is 4.75\n"
          ]
        }
      ],
      "source": [
        "# import the required function\n",
        "from scipy.stats import norm\n",
        "# estimate the mean and standard deviation of the time of effect for the doses\n",
        "mu = drug['time_of_effect'].mean()\n",
        "sigma = drug['time_of_effect'].std()\n",
        "print('The estimated mean is', round(mu,2))\n",
        "print('The estimated standard deviation is', round(sigma,2))"
      ]
    },
    {
      "cell_type": "markdown",
      "metadata": {
        "id": "COpe00rKM66m"
      },
      "source": [
        "**Plotting the Distribution**\n",
        "\n",
        "> It will help us analyze the shape of the distribution of time of effect for doses."
      ]
    },
    {
      "cell_type": "code",
      "execution_count": null,
      "metadata": {
        "colab": {
          "base_uri": "https://localhost:8080/",
          "height": 523
        },
        "id": "8X0snKzrC0pO",
        "outputId": "e5c80c36-e00e-489a-ec7f-cd2b97e156b5"
      },
      "outputs": [
        {
          "output_type": "execute_result",
          "data": {
            "text/plain": [
              "<seaborn.axisgrid.FacetGrid at 0x796d249e3350>"
            ]
          },
          "metadata": {},
          "execution_count": 17
        },
        {
          "output_type": "display_data",
          "data": {
            "text/plain": [
              "<Figure size 500x500 with 1 Axes>"
            ],
            "image/png": "[encoded data removed]"
          },
          "metadata": {}
        }
      ],
      "source": [
        "# Plotting the Distribution curve\n",
        "sns.displot(drug['time_of_effect'],kind=\"kde\")"
      ]
    },
    {
      "cell_type": "markdown",
      "metadata": {
        "id": "RuxwnAxMNZ2n"
      },
      "source": [
        "* <p align = \"justify\"> We can see in the above plot, that the shape of the distribution is not perfectly normal because we have just 50 observations in the sample. But, we can assume this data distribution to be normal and perform our calculations based on the normality assumption."
      ]
    },
    {
      "cell_type": "markdown",
      "metadata": {
        "id": "GjG-LOUgDtln"
      },
      "source": [
        "**a) What is the probability that the time of effect is less than 11.5 hours?**"
      ]
    },
    {
      "cell_type": "code",
      "execution_count": null,
      "metadata": {
        "colab": {
          "base_uri": "https://localhost:8080/"
        },
        "id": "Rs6QKIKOLX4n",
        "outputId": "7f248fd5-cca4-4cec-ca41-d71c3bbd0dce"
      },
      "outputs": [
        {
          "output_type": "stream",
          "name": "stdout",
          "text": [
            "The probability that a dose will take less than 11.5 hours is 0.3412\n"
          ]
        }
      ],
      "source": [
        "# find the cumulative probability\n",
        "# norm.cdf() calculates the cumulative probability\n",
        "prob = norm.cdf(11.5, mu, sigma)\n",
        "print('The probability that a dose will take less than 11.5 hours is', round(prob, 4))"
      ]
    },
    {
      "cell_type": "markdown",
      "metadata": {
        "id": "askOv-hMFB9X"
      },
      "source": [
        "**b) What is the 90th percentile of the time of effect for doses?**"
      ]
    },
    {
      "cell_type": "code",
      "execution_count": null,
      "metadata": {
        "id": "7OLQd57CD2pg",
        "colab": {
          "base_uri": "https://localhost:8080/"
        },
        "outputId": "92f94a34-2267-4b75-f521-edbf264a6ab6"
      },
      "outputs": [
        {
          "output_type": "stream",
          "name": "stdout",
          "text": [
            "The 90th percentile of the time of effect for doses is 19.52\n"
          ]
        }
      ],
      "source": [
        "perc_90th = norm.ppf(0.90, mu, sigma)\n",
        "print('The 90th percentile of the time of effect for doses is', round(perc_90th, 2))"
      ]
    },
    {
      "cell_type": "markdown",
      "metadata": {
        "id": "41ch2tXRGAre"
      },
      "source": [
        "<p align = \"justify\">\n",
        "<b>c) For the effectiveness test of the\n",
        "vaccine, estimate the range in which the population mean (effective time) will lie with a 95% confidence level.</b>\n",
        "\n",
        "> <p align = \"justify\"> The population standard deviation is not known here. Therefore, we will calculate the confidence interval using the t-distribution."
      ]
    },
    {
      "cell_type": "code",
      "execution_count": null,
      "metadata": {
        "colab": {
          "base_uri": "https://localhost:8080/"
        },
        "id": "yZl-i6l_Gzng",
        "outputId": "5ee90954-928c-4f47-a59a-ef4df0401e20"
      },
      "outputs": [
        {
          "output_type": "execute_result",
          "data": {
            "text/plain": [
              "array([12.09, 14.79])"
            ]
          },
          "metadata": {},
          "execution_count": 20
        }
      ],
      "source": [
        "# import the required function\n",
        "# use t distribution whenever population standard deviation is unknown (only sample sd is given)\n",
        "from scipy.stats import t\n",
        "\n",
        "# set the values of the sample mean and sample standard deviation\n",
        "x_bar, s = mu, sigma\n",
        "\n",
        "# set the value of sample size and degrees of freedom\n",
        "n = 50\n",
        "k = n - 1\n",
        "\n",
        "# construct the confidence interval\n",
        "np.round(t.interval(0.95, df = k, loc = x_bar, scale = s/np.sqrt(n)), 2)"
      ]
    },
    {
      "cell_type": "markdown",
      "metadata": {
        "id": "nD9IcSVgHpqr"
      },
      "source": [
        "* **95% of the time**, the mean effective time of doses will be between **12.09 hours and 14.79 hours.**"
      ]
    },
    {
      "cell_type": "markdown",
      "source": [
        "### **Summary and Conclusions**\n",
        "* This project took a close look at the Medicon dataset concerning COVID-19 vaccine doses.\n",
        "* By using statistical analysis tools such as inferential statistics and different hypothesis testing methods, the quality of the supposed 6th batch of doses were evaluated\n",
        "* Three case scenarios were considered wherein probabilities of several events were calculated:\n",
        "\n",
        "> **Scenario 1:**\n",
        "  * For a sample size of 100 Volunteer, the probability that 3 doses will not be able to do well was found to be 1.25%\n",
        "  * On the other hand, the probability that at most 3 doses will fail was 1.73%\n",
        "\n",
        "> **Scenario 2:**\n",
        "  * Taking the case of New York City Administrations 200 Doses sample, it was found that the probability of at least 30 out of these 200 will fail was calculated to be 0.3%\n",
        "\n",
        "> **Scenario 3:**\n",
        "  * Looking at the 'dose time of effect' data obtained from 50 volunteers, it was found that the probability of the doses to take effect in less than 11.5 hours was 34.12%\n",
        "  * The 90th percentile of the 'time of effect' was 19.52 hrs\n",
        "  * With a 95% confidence, the mean effective time of dose was calculated between 12.09 and 14.79 hours"
      ],
      "metadata": {
        "id": "0vdk7-q02uFW"
      }
    }
  ],
  "metadata": {
    "colab": {
      "provenance": []
    },
    "kernelspec": {
      "display_name": "Python 3 (ipykernel)",
      "language": "python",
      "name": "python3"
    },
    "language_info": {
      "codemirror_mode": {
        "name": "ipython",
        "version": 3
      },
      "file_extension": ".py",
      "mimetype": "text/x-python",
      "name": "python",
      "nbconvert_exporter": "python",
      "pygments_lexer": "ipython3",
      "version": "3.9.7"
    }
  },
  "nbformat": 4,
  "nbformat_minor": 0
}