{
  "cells": [
    {
      "cell_type": "markdown",
      "source": [
        "<font size =\"8\"> <div align=\"center\">**FoodHub Data Analysis**</div></font>\n",
        "<font size =\"5\"> <div align=\"center\">By **Jon Nyner Gavan**</div></font>"
      ],
      "metadata": {
        "id": "TSNk2tT_y4yC"
      }
    },
    {
      "cell_type": "markdown",
      "metadata": {
        "id": "NqikjkWwJY_L"
      },
      "source": [
        "-----\n",
        "# **Context of the Case Study (FoodHub)**\n",
        "-----\n",
        "<p align = \"justify\">\n",
        "The number of restaurants in New York is increasing day by day. Lots of students and busy professionals rely on those restaurants due to their hectic lifestyles. Online food delivery service is a great option for them. It provides them with good food from their favorite restaurants. A food aggregator company FoodHub offers access to multiple restaurants through a single smartphone app.\n",
        "\n",
        "<p align = \"justify\">\n",
        "The app allows the restaurants to receive a direct online order from a customer. The app assigns a delivery person from the company to pick up the order after it is confirmed by the restaurant. The delivery person then uses the map to reach the restaurant and waits for the food package. Once the food package is handed over to the delivery person, he/she confirms the pick-up in the app and travels to the customer's location to deliver the food. The delivery person confirms the drop-off in the app after delivering the food package to the customer. The customer can rate the order in the app. The food aggregator earns money by collecting a fixed margin of the delivery order from the restaurants.\n",
        "\n",
        "<p align = \"justify\">\n",
        "The food aggregator company has stored the data of the different orders made by the registered customers in their online portal. They want to analyze the data to get a fair idea about the demand of different restaurants which will help them in enhancing their customer experience.\n",
        "<br>\n",
        "<br>\n",
        "\n",
        "-----\n",
        "## **Data Description**\n",
        "-----\n",
        "\n",
        "The data contains the different data related to a food order. The detailed data dictionary is given below.\n",
        "\n",
        "**Data Dictionary**\n",
        "\n",
        "* **order_id:** Unique ID of the order\n",
        "* **customer_id:** ID of the customer who ordered the food\n",
        "* **restaurant_name:** Name of the restaurant\n",
        "* **cuisine_type:** Cuisine ordered by the customer\n",
        "* **cost:** Cost of the order\n",
        "* **day_of_the_week:** Indicates whether the order is placed on a weekday or weekend (The weekday is from Monday to Friday and the weekend is Saturday and Sunday)\n",
        "* **rating:** Rating given by the customer out of 5\n",
        "* **food_preparation_time:** Time (in minutes) taken by the restaurant to prepare the food. This is calculated by taking the difference between the timestamps of the restaurant's order confirmation and the delivery person's pick-up confirmation.\n",
        "* **delivery_time:** Time (in minutes) taken by the delivery person to deliver the food package. This is calculated by taking the difference between the timestamps of the delivery person's pick-up confirmation and drop-off information\n",
        "\n",
        "---\n",
        "## **Goals of the Study**\n",
        "---\n",
        "<p align = \"justify\">\n",
        "Suppose you are hired as a Data Scientist in this company and the Data Science team has shared some of the key questions that need to be answered. Perform the data analysis to find answers to these questions that will help the company to improve the business."
      ]
    },
    {
      "cell_type": "markdown",
      "metadata": {
        "id": "cEtNUxNAJY_M"
      },
      "source": [
        "### **Importing the Python Libraries needed for the Analysis**"
      ]
    },
    {
      "cell_type": "code",
      "execution_count": null,
      "metadata": {
        "id": "u6PlpJAPJY_N"
      },
      "outputs": [],
      "source": [
        "# import libraries for data manipulation\n",
        "import numpy as np\n",
        "import pandas as pd\n",
        "\n",
        "# import libraries for data visualization\n",
        "import matplotlib.pyplot as plt\n",
        "import seaborn as sns\n",
        "import warnings\n",
        "warnings.filterwarnings('ignore')"
      ]
    },
    {
      "cell_type": "code",
      "execution_count": null,
      "metadata": {
        "id": "WBh2ZGB9kFhU",
        "colab": {
          "base_uri": "https://localhost:8080/"
        },
        "outputId": "581b0e70-304a-49be-e808-8cc1c037db69"
      },
      "outputs": [
        {
          "output_type": "stream",
          "name": "stdout",
          "text": [
            "Mounted at /content/drive\n"
          ]
        }
      ],
      "source": [
        "# Mounting google drive\n",
        "\n",
        "from google.colab import drive\n",
        "drive.mount('/content/drive')"
      ]
    },
    {
      "cell_type": "code",
      "execution_count": null,
      "metadata": {
        "id": "GF01IZDbJY_O",
        "scrolled": true
      },
      "outputs": [],
      "source": [
        "# reading the data from google Drive\n",
        "\n",
        "path = '/content/drive/MyDrive/Classroom/Data Science/MIT Summer School/2 Foundations of Data Science/4 Assessment Project/foodhub_order.csv'\n",
        "df = pd.read_csv(path)\n",
        "\n"
      ]
    },
    {
      "cell_type": "markdown",
      "source": [
        "### **Taking a quick look at the Data**"
      ],
      "metadata": {
        "id": "2yGCq8xJ1r6M"
      }
    },
    {
      "cell_type": "markdown",
      "source": [
        "**Looking at 10 random entries from the Data**"
      ],
      "metadata": {
        "id": "XSln1HCP16uM"
      }
    },
    {
      "cell_type": "code",
      "source": [
        "# Taking 10 Random samples out of the Dataset\n",
        "df.sample(n=10)"
      ],
      "metadata": {
        "colab": {
          "base_uri": "https://localhost:8080/",
          "height": 417
        },
        "id": "aIM-iM301p2o",
        "outputId": "c9b60b3e-95b3-4371-b87e-9003b7499f43"
      },
      "execution_count": null,
      "outputs": [
        {
          "output_type": "execute_result",
          "data": {
            "text/plain": [
              "      order_id  customer_id    restaurant_name   cuisine_type  \\\n",
              "287    1478440       231042             Momoya       Japanese   \n",
              "231    1477615       136876           Rubirosa        Italian   \n",
              "964    1476768        72757  Jack's Wife Freda  Mediterranean   \n",
              "133    1477110       144997     RedFarm Hudson        Chinese   \n",
              "620    1477719       367051     RedFarm Hudson        Chinese   \n",
              "1397   1477232       275689     Nobu Next Door       Japanese   \n",
              "406    1477237        59217  Jack's Wife Freda  Mediterranean   \n",
              "273    1477712       373633            Yama 49       Japanese   \n",
              "766    1478049       259341                TAO       Japanese   \n",
              "1785   1477857       363202              S'MAC       American   \n",
              "\n",
              "      cost_of_the_order day_of_the_week     rating  food_preparation_time  \\\n",
              "287               12.13         Weekend          5                     22   \n",
              "231               14.07         Weekend          5                     35   \n",
              "964                8.49         Weekend  Not given                     23   \n",
              "133               29.05         Weekend          4                     22   \n",
              "620               15.04         Weekend          3                     35   \n",
              "1397               9.17         Weekend  Not given                     24   \n",
              "406               16.15         Weekend          4                     26   \n",
              "273               12.61         Weekday          5                     23   \n",
              "766               12.71         Weekend          3                     22   \n",
              "1785              25.27         Weekend          5                     20   \n",
              "\n",
              "      delivery_time  \n",
              "287              21  \n",
              "231              16  \n",
              "964              18  \n",
              "133              28  \n",
              "620              25  \n",
              "1397             15  \n",
              "406              22  \n",
              "273              28  \n",
              "766              17  \n",
              "1785             29  "
            ],
            "text/html": [
              "\n",
              "  <div id=\"df-e8b5e950-6d0a-4af9-aa3d-89fb8a6e6a3f\" class=\"colab-df-container\">\n",
              "    <div>\n",
              "<style scoped>\n",
              "    .dataframe tbody tr th:only-of-type {\n",
              "        vertical-align: middle;\n",
              "    }\n",
              "\n",
              "    .dataframe tbody tr th {\n",
              "        vertical-align: top;\n",
              "    }\n",
              "\n",
              "    .dataframe thead th {\n",
              "        text-align: right;\n",
              "    }\n",
              "</style>\n",
              "<table border=\"1\" class=\"dataframe\">\n",
              "  <thead>\n",
              "    <tr style=\"text-align: right;\">\n",
              "      <th></th>\n",
              "      <th>order_id</th>\n",
              "      <th>customer_id</th>\n",
              "      <th>restaurant_name</th>\n",
              "      <th>cuisine_type</th>\n",
              "      <th>cost_of_the_order</th>\n",
              "      <th>day_of_the_week</th>\n",
              "      <th>rating</th>\n",
              "      <th>food_preparation_time</th>\n",
              "      <th>delivery_time</th>\n",
              "    </tr>\n",
              "  </thead>\n",
              "  <tbody>\n",
              "    <tr>\n",
              "      <th>287</th>\n",
              "      <td>1478440</td>\n",
              "      <td>231042</td>\n",
              "      <td>Momoya</td>\n",
              "      <td>Japanese</td>\n",
              "      <td>12.13</td>\n",
              "      <td>Weekend</td>\n",
              "      <td>5</td>\n",
              "      <td>22</td>\n",
              "      <td>21</td>\n",
              "    </tr>\n",
              "    <tr>\n",
              "      <th>231</th>\n",
              "      <td>1477615</td>\n",
              "      <td>136876</td>\n",
              "      <td>Rubirosa</td>\n",
              "      <td>Italian</td>\n",
              "      <td>14.07</td>\n",
              "      <td>Weekend</td>\n",
              "      <td>5</td>\n",
              "      <td>35</td>\n",
              "      <td>16</td>\n",
              "    </tr>\n",
              "    <tr>\n",
              "      <th>964</th>\n",
              "      <td>1476768</td>\n",
              "      <td>72757</td>\n",
              "      <td>Jack's Wife Freda</td>\n",
              "      <td>Mediterranean</td>\n",
              "      <td>8.49</td>\n",
              "      <td>Weekend</td>\n",
              "      <td>Not given</td>\n",
              "      <td>23</td>\n",
              "      <td>18</td>\n",
              "    </tr>\n",
              "    <tr>\n",
              "      <th>133</th>\n",
              "      <td>1477110</td>\n",
              "      <td>144997</td>\n",
              "      <td>RedFarm Hudson</td>\n",
              "      <td>Chinese</td>\n",
              "      <td>29.05</td>\n",
              "      <td>Weekend</td>\n",
              "      <td>4</td>\n",
              "      <td>22</td>\n",
              "      <td>28</td>\n",
              "    </tr>\n",
              "    <tr>\n",
              "      <th>620</th>\n",
              "      <td>1477719</td>\n",
              "      <td>367051</td>\n",
              "      <td>RedFarm Hudson</td>\n",
              "      <td>Chinese</td>\n",
              "      <td>15.04</td>\n",
              "      <td>Weekend</td>\n",
              "      <td>3</td>\n",
              "      <td>35</td>\n",
              "      <td>25</td>\n",
              "    </tr>\n",
              "    <tr>\n",
              "      <th>1397</th>\n",
              "      <td>1477232</td>\n",
              "      <td>275689</td>\n",
              "      <td>Nobu Next Door</td>\n",
              "      <td>Japanese</td>\n",
              "      <td>9.17</td>\n",
              "      <td>Weekend</td>\n",
              "      <td>Not given</td>\n",
              "      <td>24</td>\n",
              "      <td>15</td>\n",
              "    </tr>\n",
              "    <tr>\n",
              "      <th>406</th>\n",
              "      <td>1477237</td>\n",
              "      <td>59217</td>\n",
              "      <td>Jack's Wife Freda</td>\n",
              "      <td>Mediterranean</td>\n",
              "      <td>16.15</td>\n",
              "      <td>Weekend</td>\n",
              "      <td>4</td>\n",
              "      <td>26</td>\n",
              "      <td>22</td>\n",
              "    </tr>\n",
              "    <tr>\n",
              "      <th>273</th>\n",
              "      <td>1477712</td>\n",
              "      <td>373633</td>\n",
              "      <td>Yama 49</td>\n",
              "      <td>Japanese</td>\n",
              "      <td>12.61</td>\n",
              "      <td>Weekday</td>\n",
              "      <td>5</td>\n",
              "      <td>23</td>\n",
              "      <td>28</td>\n",
              "    </tr>\n",
              "    <tr>\n",
              "      <th>766</th>\n",
              "      <td>1478049</td>\n",
              "      <td>259341</td>\n",
              "      <td>TAO</td>\n",
              "      <td>Japanese</td>\n",
              "      <td>12.71</td>\n",
              "      <td>Weekend</td>\n",
              "      <td>3</td>\n",
              "      <td>22</td>\n",
              "      <td>17</td>\n",
              "    </tr>\n",
              "    <tr>\n",
              "      <th>1785</th>\n",
              "      <td>1477857</td>\n",
              "      <td>363202</td>\n",
              "      <td>S'MAC</td>\n",
              "      <td>American</td>\n",
              "      <td>25.27</td>\n",
              "      <td>Weekend</td>\n",
              "      <td>5</td>\n",
              "      <td>20</td>\n",
              "      <td>29</td>\n",
              "    </tr>\n",
              "  </tbody>\n",
              "</table>\n",
              "</div>\n",
              "    <div class=\"colab-df-buttons\">\n",
              "\n",
              "  <div class=\"colab-df-container\">\n",
              "    <button class=\"colab-df-convert\" onclick=\"convertToInteractive('df-e8b5e950-6d0a-4af9-aa3d-89fb8a6e6a3f')\"\n",
              "            title=\"Convert this dataframe to an interactive table.\"\n",
              "            style=\"display:none;\">\n",
              "\n",
              "  <svg xmlns=\"http://www.w3.org/2000/svg\" height=\"24px\" viewBox=\"0 -960 960 960\">\n",
              "    <path d=\"M120-120v-720h720v720H120Zm60-500h600v-160H180v160Zm220 220h160v-160H400v160Zm0 220h160v-160H400v160ZM180-400h160v-160H180v160Zm440 0h160v-160H620v160ZM180-180h160v-160H180v160Zm440 0h160v-160H620v160Z\"/>\n",
              "  </svg>\n",
              "    </button>\n",
              "\n",
              "  <style>\n",
              "    .colab-df-container {\n",
              "      display:flex;\n",
              "      gap: 12px;\n",
              "    }\n",
              "\n",
              "    .colab-df-convert {\n",
              "      background-color: #E8F0FE;\n",
              "      border: none;\n",
              "      border-radius: 50%;\n",
              "      cursor: pointer;\n",
              "      display: none;\n",
              "      fill: #1967D2;\n",
              "      height: 32px;\n",
              "      padding: 0 0 0 0;\n",
              "      width: 32px;\n",
              "    }\n",
              "\n",
              "    .colab-df-convert:hover {\n",
              "      background-color: #E2EBFA;\n",
              "      box-shadow: 0px 1px 2px rgba(60, 64, 67, 0.3), 0px 1px 3px 1px rgba(60, 64, 67, 0.15);\n",
              "      fill: #174EA6;\n",
              "    }\n",
              "\n",
              "    .colab-df-buttons div {\n",
              "      margin-bottom: 4px;\n",
              "    }\n",
              "\n",
              "    [theme=dark] .colab-df-convert {\n",
              "      background-color: #3B4455;\n",
              "      fill: #D2E3FC;\n",
              "    }\n",
              "\n",
              "    [theme=dark] .colab-df-convert:hover {\n",
              "      background-color: #434B5C;\n",
              "      box-shadow: 0px 1px 3px 1px rgba(0, 0, 0, 0.15);\n",
              "      filter: drop-shadow(0px 1px 2px rgba(0, 0, 0, 0.3));\n",
              "      fill: #FFFFFF;\n",
              "    }\n",
              "  </style>\n",
              "\n",
              "    <script>\n",
              "      const buttonEl =\n",
              "        document.querySelector('#df-e8b5e950-6d0a-4af9-aa3d-89fb8a6e6a3f button.colab-df-convert');\n",
              "      buttonEl.style.display =\n",
              "        google.colab.kernel.accessAllowed ? 'block' : 'none';\n",
              "\n",
              "      async function convertToInteractive(key) {\n",
              "        const element = document.querySelector('#df-e8b5e950-6d0a-4af9-aa3d-89fb8a6e6a3f');\n",
              "        const dataTable =\n",
              "          await google.colab.kernel.invokeFunction('convertToInteractive',\n",
              "                                                    [key], {});\n",
              "        if (!dataTable) return;\n",
              "\n",
              "        const docLinkHtml = 'Like what you see? Visit the ' +\n",
              "          '<a target=\"_blank\" href=https://colab.research.google.com/notebooks/data_table.ipynb>data table notebook</a>'\n",
              "          + ' to learn more about interactive tables.';\n",
              "        element.innerHTML = '';\n",
              "        dataTable['output_type'] = 'display_data';\n",
              "        await google.colab.output.renderOutput(dataTable, element);\n",
              "        const docLink = document.createElement('div');\n",
              "        docLink.innerHTML = docLinkHtml;\n",
              "        element.appendChild(docLink);\n",
              "      }\n",
              "    </script>\n",
              "  </div>\n",
              "\n",
              "\n",
              "    <div id=\"df-00b9da38-442f-47a3-bd6b-be93b30e3e69\">\n",
              "      <button class=\"colab-df-quickchart\" onclick=\"quickchart('df-00b9da38-442f-47a3-bd6b-be93b30e3e69')\"\n",
              "                title=\"Suggest charts\"\n",
              "                style=\"display:none;\">\n",
              "\n",
              "<svg xmlns=\"http://www.w3.org/2000/svg\" height=\"24px\"viewBox=\"0 0 24 24\"\n",
              "     width=\"24px\">\n",
              "    <g>\n",
              "        <path d=\"M19 3H5c-1.1 0-2 .9-2 2v14c0 1.1.9 2 2 2h14c1.1 0 2-.9 2-2V5c0-1.1-.9-2-2-2zM9 17H7v-7h2v7zm4 0h-2V7h2v10zm4 0h-2v-4h2v4z\"/>\n",
              "    </g>\n",
              "</svg>\n",
              "      </button>\n",
              "\n",
              "<style>\n",
              "  .colab-df-quickchart {\n",
              "      --bg-color: #E8F0FE;\n",
              "      --fill-color: #1967D2;\n",
              "      --hover-bg-color: #E2EBFA;\n",
              "      --hover-fill-color: #174EA6;\n",
              "      --disabled-fill-color: #AAA;\n",
              "      --disabled-bg-color: #DDD;\n",
              "  }\n",
              "\n",
              "  [theme=dark] .colab-df-quickchart {\n",
              "      --bg-color: #3B4455;\n",
              "      --fill-color: #D2E3FC;\n",
              "      --hover-bg-color: #434B5C;\n",
              "      --hover-fill-color: #FFFFFF;\n",
              "      --disabled-bg-color: #3B4455;\n",
              "      --disabled-fill-color: #666;\n",
              "  }\n",
              "\n",
              "  .colab-df-quickchart {\n",
              "    background-color: var(--bg-color);\n",
              "    border: none;\n",
              "    border-radius: 50%;\n",
              "    cursor: pointer;\n",
              "    display: none;\n",
              "    fill: var(--fill-color);\n",
              "    height: 32px;\n",
              "    padding: 0;\n",
              "    width: 32px;\n",
              "  }\n",
              "\n",
              "  .colab-df-quickchart:hover {\n",
              "    background-color: var(--hover-bg-color);\n",
              "    box-shadow: 0 1px 2px rgba(60, 64, 67, 0.3), 0 1px 3px 1px rgba(60, 64, 67, 0.15);\n",
              "    fill: var(--button-hover-fill-color);\n",
              "  }\n",
              "\n",
              "  .colab-df-quickchart-complete:disabled,\n",
              "  .colab-df-quickchart-complete:disabled:hover {\n",
              "    background-color: var(--disabled-bg-color);\n",
              "    fill: var(--disabled-fill-color);\n",
              "    box-shadow: none;\n",
              "  }\n",
              "\n",
              "  .colab-df-spinner {\n",
              "    border: 2px solid var(--fill-color);\n",
              "    border-color: transparent;\n",
              "    border-bottom-color: var(--fill-color);\n",
              "    animation:\n",
              "      spin 1s steps(1) infinite;\n",
              "  }\n",
              "\n",
              "  @keyframes spin {\n",
              "    0% {\n",
              "      border-color: transparent;\n",
              "      border-bottom-color: var(--fill-color);\n",
              "      border-left-color: var(--fill-color);\n",
              "    }\n",
              "    20% {\n",
              "      border-color: transparent;\n",
              "      border-left-color: var(--fill-color);\n",
              "      border-top-color: var(--fill-color);\n",
              "    }\n",
              "    30% {\n",
              "      border-color: transparent;\n",
              "      border-left-color: var(--fill-color);\n",
              "      border-top-color: var(--fill-color);\n",
              "      border-right-color: var(--fill-color);\n",
              "    }\n",
              "    40% {\n",
              "      border-color: transparent;\n",
              "      border-right-color: var(--fill-color);\n",
              "      border-top-color: var(--fill-color);\n",
              "    }\n",
              "    60% {\n",
              "      border-color: transparent;\n",
              "      border-right-color: var(--fill-color);\n",
              "    }\n",
              "    80% {\n",
              "      border-color: transparent;\n",
              "      border-right-color: var(--fill-color);\n",
              "      border-bottom-color: var(--fill-color);\n",
              "    }\n",
              "    90% {\n",
              "      border-color: transparent;\n",
              "      border-bottom-color: var(--fill-color);\n",
              "    }\n",
              "  }\n",
              "</style>\n",
              "\n",
              "      <script>\n",
              "        async function quickchart(key) {\n",
              "          const quickchartButtonEl =\n",
              "            document.querySelector('#' + key + ' button');\n",
              "          quickchartButtonEl.disabled = true;  // To prevent multiple clicks.\n",
              "          quickchartButtonEl.classList.add('colab-df-spinner');\n",
              "          try {\n",
              "            const charts = await google.colab.kernel.invokeFunction(\n",
              "                'suggestCharts', [key], {});\n",
              "          } catch (error) {\n",
              "            console.error('Error during call to suggestCharts:', error);\n",
              "          }\n",
              "          quickchartButtonEl.classList.remove('colab-df-spinner');\n",
              "          quickchartButtonEl.classList.add('colab-df-quickchart-complete');\n",
              "        }\n",
              "        (() => {\n",
              "          let quickchartButtonEl =\n",
              "            document.querySelector('#df-00b9da38-442f-47a3-bd6b-be93b30e3e69 button');\n",
              "          quickchartButtonEl.style.display =\n",
              "            google.colab.kernel.accessAllowed ? 'block' : 'none';\n",
              "        })();\n",
              "      </script>\n",
              "    </div>\n",
              "\n",
              "    </div>\n",
              "  </div>\n"
            ],
            "application/vnd.google.colaboratory.intrinsic+json": {
              "type": "dataframe",
              "summary": "{\n  \"name\": \"df\",\n  \"rows\": 10,\n  \"fields\": [\n    {\n      \"column\": \"order_id\",\n      \"properties\": {\n        \"dtype\": \"number\",\n        \"std\": 493,\n        \"min\": 1476768,\n        \"max\": 1478440,\n        \"num_unique_values\": 10,\n        \"samples\": [\n          1478049,\n          1477615,\n          1477232\n        ],\n        \"semantic_type\": \"\",\n        \"description\": \"\"\n      }\n    },\n    {\n      \"column\": \"customer_id\",\n      \"properties\": {\n        \"dtype\": \"number\",\n        \"std\": 120124,\n        \"min\": 59217,\n        \"max\": 373633,\n        \"num_unique_values\": 10,\n        \"samples\": [\n          259341,\n          136876,\n          275689\n        ],\n        \"semantic_type\": \"\",\n        \"description\": \"\"\n      }\n    },\n    {\n      \"column\": \"restaurant_name\",\n      \"properties\": {\n        \"dtype\": \"string\",\n        \"num_unique_values\": 8,\n        \"samples\": [\n          \"Rubirosa\",\n          \"Yama 49\",\n          \"Momoya\"\n        ],\n        \"semantic_type\": \"\",\n        \"description\": \"\"\n      }\n    },\n    {\n      \"column\": \"cuisine_type\",\n      \"properties\": {\n        \"dtype\": \"string\",\n        \"num_unique_values\": 5,\n        \"samples\": [\n          \"Italian\",\n          \"American\",\n          \"Mediterranean\"\n        ],\n        \"semantic_type\": \"\",\n        \"description\": \"\"\n      }\n    },\n    {\n      \"column\": \"cost_of_the_order\",\n      \"properties\": {\n        \"dtype\": \"number\",\n        \"std\": 6.653544502326895,\n        \"min\": 8.49,\n        \"max\": 29.05,\n        \"num_unique_values\": 10,\n        \"samples\": [\n          12.71,\n          14.07,\n          9.17\n        ],\n        \"semantic_type\": \"\",\n        \"description\": \"\"\n      }\n    },\n    {\n      \"column\": \"day_of_the_week\",\n      \"properties\": {\n        \"dtype\": \"category\",\n        \"num_unique_values\": 2,\n        \"samples\": [\n          \"Weekday\",\n          \"Weekend\"\n        ],\n        \"semantic_type\": \"\",\n        \"description\": \"\"\n      }\n    },\n    {\n      \"column\": \"rating\",\n      \"properties\": {\n        \"dtype\": \"category\",\n        \"num_unique_values\": 4,\n        \"samples\": [\n          \"Not given\",\n          \"3\"\n        ],\n        \"semantic_type\": \"\",\n        \"description\": \"\"\n      }\n    },\n    {\n      \"column\": \"food_preparation_time\",\n      \"properties\": {\n        \"dtype\": \"number\",\n        \"std\": 5,\n        \"min\": 20,\n        \"max\": 35,\n        \"num_unique_values\": 6,\n        \"samples\": [\n          22,\n          35\n        ],\n        \"semantic_type\": \"\",\n        \"description\": \"\"\n      }\n    },\n    {\n      \"column\": \"delivery_time\",\n      \"properties\": {\n        \"dtype\": \"number\",\n        \"std\": 5,\n        \"min\": 15,\n        \"max\": 29,\n        \"num_unique_values\": 9,\n        \"samples\": [\n          17,\n          16\n        ],\n        \"semantic_type\": \"\",\n        \"description\": \"\"\n      }\n    }\n  ]\n}"
            }
          },
          "metadata": {},
          "execution_count": 6
        }
      ]
    },
    {
      "cell_type": "markdown",
      "metadata": {
        "id": "J_Y9aJDJJY_P"
      },
      "source": [
        "* The DataFrame has 9 columns as mentioned in the Data Dictionary.\n",
        "* Data in each row corresponds to the order placed by a customer."
      ]
    },
    {
      "cell_type": "markdown",
      "metadata": {
        "id": "c3kenV4vJY_Q"
      },
      "source": [
        "**Checking the Shape of the Data**"
      ]
    },
    {
      "cell_type": "code",
      "execution_count": null,
      "metadata": {
        "id": "Yvz5i-PhJY_Q",
        "colab": {
          "base_uri": "https://localhost:8080/"
        },
        "outputId": "da74ffa6-945e-4e0c-8613-f5ffcd3ff12b"
      },
      "outputs": [
        {
          "output_type": "stream",
          "name": "stdout",
          "text": [
            "There are 1898 number of rows and 9 number of columns in the dataset\n"
          ]
        }
      ],
      "source": [
        "# Checking the shape of the dataset\n",
        "print('There are {} number of rows and {} number of columns in the dataset'.format(df.shape[0], df.shape[1]))"
      ]
    },
    {
      "cell_type": "markdown",
      "metadata": {
        "id": "UsTNy3unJY_R"
      },
      "source": [
        "* The given data contains **1898 rows and 9 columns**, corresponding to **1898 different orders and their information**\n"
      ]
    },
    {
      "cell_type": "markdown",
      "metadata": {
        "id": "jRXakVrUJY_R"
      },
      "source": [
        "**Checking the dataypes of the columns in the Dataset**"
      ]
    },
    {
      "cell_type": "code",
      "execution_count": null,
      "metadata": {
        "id": "Kp70Z0BNJY_R",
        "colab": {
          "base_uri": "https://localhost:8080/"
        },
        "outputId": "1c430e17-ca00-49bf-d9e3-4f270dd706da"
      },
      "outputs": [
        {
          "output_type": "stream",
          "name": "stdout",
          "text": [
            "<class 'pandas.core.frame.DataFrame'>\n",
            "RangeIndex: 1898 entries, 0 to 1897\n",
            "Data columns (total 9 columns):\n",
            " #   Column                 Non-Null Count  Dtype  \n",
            "---  ------                 --------------  -----  \n",
            " 0   order_id               1898 non-null   int64  \n",
            " 1   customer_id            1898 non-null   int64  \n",
            " 2   restaurant_name        1898 non-null   object \n",
            " 3   cuisine_type           1898 non-null   object \n",
            " 4   cost_of_the_order      1898 non-null   float64\n",
            " 5   day_of_the_week        1898 non-null   object \n",
            " 6   rating                 1898 non-null   object \n",
            " 7   food_preparation_time  1898 non-null   int64  \n",
            " 8   delivery_time          1898 non-null   int64  \n",
            "dtypes: float64(1), int64(4), object(4)\n",
            "memory usage: 133.6+ KB\n"
          ]
        }
      ],
      "source": [
        "# Using info() to print a concise summary of the DataFrame\n",
        "df.info()"
      ]
    },
    {
      "cell_type": "markdown",
      "metadata": {
        "id": "WJes5GP2JY_S"
      },
      "source": [
        "> From the results above, there are **5 numerical columns** with **4** of them being **integers** and **4 categorical columns**, presumably containing **strings**\n",
        "\n",
        "- Oder and Customer IDs: identification numbers stored as integers\n",
        "- Restaurant name and Cuisine type: Names stored as strings\n",
        "- day of the week: String classifying orders into those made during weekdays and/or weekends\n",
        "- rating: customer feedback (with 5 being the maximum), stored as string\n",
        "- food preparation and delivery times: time in minutes, stored as integer\n",
        "- cost of the order: total amount of the order, stored as a float"
      ]
    },
    {
      "cell_type": "markdown",
      "metadata": {
        "id": "pF_92MN6JY_S"
      },
      "source": [
        "**Checking for Missing Values**"
      ]
    },
    {
      "cell_type": "code",
      "execution_count": null,
      "metadata": {
        "id": "Zth-RR1PJY_S",
        "colab": {
          "base_uri": "https://localhost:8080/",
          "height": 366
        },
        "outputId": "b1c6a8c3-2e86-49b9-9572-9f165e90df18"
      },
      "outputs": [
        {
          "output_type": "execute_result",
          "data": {
            "text/plain": [
              "order_id                 0\n",
              "customer_id              0\n",
              "restaurant_name          0\n",
              "cuisine_type             0\n",
              "cost_of_the_order        0\n",
              "day_of_the_week          0\n",
              "rating                   0\n",
              "food_preparation_time    0\n",
              "delivery_time            0\n",
              "dtype: int64"
            ],
            "text/html": [
              "<div>\n",
              "<style scoped>\n",
              "    .dataframe tbody tr th:only-of-type {\n",
              "        vertical-align: middle;\n",
              "    }\n",
              "\n",
              "    .dataframe tbody tr th {\n",
              "        vertical-align: top;\n",
              "    }\n",
              "\n",
              "    .dataframe thead th {\n",
              "        text-align: right;\n",
              "    }\n",
              "</style>\n",
              "<table border=\"1\" class=\"dataframe\">\n",
              "  <thead>\n",
              "    <tr style=\"text-align: right;\">\n",
              "      <th></th>\n",
              "      <th>0</th>\n",
              "    </tr>\n",
              "  </thead>\n",
              "  <tbody>\n",
              "    <tr>\n",
              "      <th>order_id</th>\n",
              "      <td>0</td>\n",
              "    </tr>\n",
              "    <tr>\n",
              "      <th>customer_id</th>\n",
              "      <td>0</td>\n",
              "    </tr>\n",
              "    <tr>\n",
              "      <th>restaurant_name</th>\n",
              "      <td>0</td>\n",
              "    </tr>\n",
              "    <tr>\n",
              "      <th>cuisine_type</th>\n",
              "      <td>0</td>\n",
              "    </tr>\n",
              "    <tr>\n",
              "      <th>cost_of_the_order</th>\n",
              "      <td>0</td>\n",
              "    </tr>\n",
              "    <tr>\n",
              "      <th>day_of_the_week</th>\n",
              "      <td>0</td>\n",
              "    </tr>\n",
              "    <tr>\n",
              "      <th>rating</th>\n",
              "      <td>0</td>\n",
              "    </tr>\n",
              "    <tr>\n",
              "      <th>food_preparation_time</th>\n",
              "      <td>0</td>\n",
              "    </tr>\n",
              "    <tr>\n",
              "      <th>delivery_time</th>\n",
              "      <td>0</td>\n",
              "    </tr>\n",
              "  </tbody>\n",
              "</table>\n",
              "</div><br><label><b>dtype:</b> int64</label>"
            ]
          },
          "metadata": {},
          "execution_count": 9
        }
      ],
      "source": [
        "# checking for any missing values in the dataset\n",
        "df.isnull().sum()"
      ]
    },
    {
      "cell_type": "markdown",
      "metadata": {
        "id": "jDHT3vD1JY_S"
      },
      "source": [
        "* As seen above, the **sum of missing values for all columns is 0**, indicating there are **no missing values that need treatment**.\n",
        "\n",
        "* This makes sense **since the summary output previously reported non-null counts** equalling the total number of orders."
      ]
    },
    {
      "cell_type": "markdown",
      "metadata": {
        "id": "MnJo7MWrJY_S"
      },
      "source": [
        "**Preliminary analysis of Numerical Columns of the Data**"
      ]
    },
    {
      "cell_type": "code",
      "execution_count": null,
      "metadata": {
        "id": "WprQBgOSJY_T",
        "colab": {
          "base_uri": "https://localhost:8080/",
          "height": 226
        },
        "outputId": "76facea7-2046-4cb8-f570-030bb81df93b"
      },
      "outputs": [
        {
          "output_type": "execute_result",
          "data": {
            "text/plain": [
              "                        count          mean            std         min  \\\n",
              "order_id               1898.0  1.477496e+06     548.049724  1476547.00   \n",
              "customer_id            1898.0  1.711685e+05  113698.139743     1311.00   \n",
              "cost_of_the_order      1898.0  1.649885e+01       7.483812        4.47   \n",
              "food_preparation_time  1898.0  2.737197e+01       4.632481       20.00   \n",
              "delivery_time          1898.0  2.416175e+01       4.972637       15.00   \n",
              "\n",
              "                              25%         50%           75%         max  \n",
              "order_id               1477021.25  1477495.50  1.477970e+06  1478444.00  \n",
              "customer_id              77787.75   128600.00  2.705250e+05   405334.00  \n",
              "cost_of_the_order           12.08       14.14  2.229750e+01       35.41  \n",
              "food_preparation_time       23.00       27.00  3.100000e+01       35.00  \n",
              "delivery_time               20.00       25.00  2.800000e+01       33.00  "
            ],
            "text/html": [
              "\n",
              "  <div id=\"df-70b8e7a6-af54-4205-900e-9b5086c66bc3\" class=\"colab-df-container\">\n",
              "    <div>\n",
              "<style scoped>\n",
              "    .dataframe tbody tr th:only-of-type {\n",
              "        vertical-align: middle;\n",
              "    }\n",
              "\n",
              "    .dataframe tbody tr th {\n",
              "        vertical-align: top;\n",
              "    }\n",
              "\n",
              "    .dataframe thead th {\n",
              "        text-align: right;\n",
              "    }\n",
              "</style>\n",
              "<table border=\"1\" class=\"dataframe\">\n",
              "  <thead>\n",
              "    <tr style=\"text-align: right;\">\n",
              "      <th></th>\n",
              "      <th>count</th>\n",
              "      <th>mean</th>\n",
              "      <th>std</th>\n",
              "      <th>min</th>\n",
              "      <th>25%</th>\n",
              "      <th>50%</th>\n",
              "      <th>75%</th>\n",
              "      <th>max</th>\n",
              "    </tr>\n",
              "  </thead>\n",
              "  <tbody>\n",
              "    <tr>\n",
              "      <th>order_id</th>\n",
              "      <td>1898.0</td>\n",
              "      <td>1.477496e+06</td>\n",
              "      <td>548.049724</td>\n",
              "      <td>1476547.00</td>\n",
              "      <td>1477021.25</td>\n",
              "      <td>1477495.50</td>\n",
              "      <td>1.477970e+06</td>\n",
              "      <td>1478444.00</td>\n",
              "    </tr>\n",
              "    <tr>\n",
              "      <th>customer_id</th>\n",
              "      <td>1898.0</td>\n",
              "      <td>1.711685e+05</td>\n",
              "      <td>113698.139743</td>\n",
              "      <td>1311.00</td>\n",
              "      <td>77787.75</td>\n",
              "      <td>128600.00</td>\n",
              "      <td>2.705250e+05</td>\n",
              "      <td>405334.00</td>\n",
              "    </tr>\n",
              "    <tr>\n",
              "      <th>cost_of_the_order</th>\n",
              "      <td>1898.0</td>\n",
              "      <td>1.649885e+01</td>\n",
              "      <td>7.483812</td>\n",
              "      <td>4.47</td>\n",
              "      <td>12.08</td>\n",
              "      <td>14.14</td>\n",
              "      <td>2.229750e+01</td>\n",
              "      <td>35.41</td>\n",
              "    </tr>\n",
              "    <tr>\n",
              "      <th>food_preparation_time</th>\n",
              "      <td>1898.0</td>\n",
              "      <td>2.737197e+01</td>\n",
              "      <td>4.632481</td>\n",
              "      <td>20.00</td>\n",
              "      <td>23.00</td>\n",
              "      <td>27.00</td>\n",
              "      <td>3.100000e+01</td>\n",
              "      <td>35.00</td>\n",
              "    </tr>\n",
              "    <tr>\n",
              "      <th>delivery_time</th>\n",
              "      <td>1898.0</td>\n",
              "      <td>2.416175e+01</td>\n",
              "      <td>4.972637</td>\n",
              "      <td>15.00</td>\n",
              "      <td>20.00</td>\n",
              "      <td>25.00</td>\n",
              "      <td>2.800000e+01</td>\n",
              "      <td>33.00</td>\n",
              "    </tr>\n",
              "  </tbody>\n",
              "</table>\n",
              "</div>\n",
              "    <div class=\"colab-df-buttons\">\n",
              "\n",
              "  <div class=\"colab-df-container\">\n",
              "    <button class=\"colab-df-convert\" onclick=\"convertToInteractive('df-70b8e7a6-af54-4205-900e-9b5086c66bc3')\"\n",
              "            title=\"Convert this dataframe to an interactive table.\"\n",
              "            style=\"display:none;\">\n",
              "\n",
              "  <svg xmlns=\"http://www.w3.org/2000/svg\" height=\"24px\" viewBox=\"0 -960 960 960\">\n",
              "    <path d=\"M120-120v-720h720v720H120Zm60-500h600v-160H180v160Zm220 220h160v-160H400v160Zm0 220h160v-160H400v160ZM180-400h160v-160H180v160Zm440 0h160v-160H620v160ZM180-180h160v-160H180v160Zm440 0h160v-160H620v160Z\"/>\n",
              "  </svg>\n",
              "    </button>\n",
              "\n",
              "  <style>\n",
              "    .colab-df-container {\n",
              "      display:flex;\n",
              "      gap: 12px;\n",
              "    }\n",
              "\n",
              "    .colab-df-convert {\n",
              "      background-color: #E8F0FE;\n",
              "      border: none;\n",
              "      border-radius: 50%;\n",
              "      cursor: pointer;\n",
              "      display: none;\n",
              "      fill: #1967D2;\n",
              "      height: 32px;\n",
              "      padding: 0 0 0 0;\n",
              "      width: 32px;\n",
              "    }\n",
              "\n",
              "    .colab-df-convert:hover {\n",
              "      background-color: #E2EBFA;\n",
              "      box-shadow: 0px 1px 2px rgba(60, 64, 67, 0.3), 0px 1px 3px 1px rgba(60, 64, 67, 0.15);\n",
              "      fill: #174EA6;\n",
              "    }\n",
              "\n",
              "    .colab-df-buttons div {\n",
              "      margin-bottom: 4px;\n",
              "    }\n",
              "\n",
              "    [theme=dark] .colab-df-convert {\n",
              "      background-color: #3B4455;\n",
              "      fill: #D2E3FC;\n",
              "    }\n",
              "\n",
              "    [theme=dark] .colab-df-convert:hover {\n",
              "      background-color: #434B5C;\n",
              "      box-shadow: 0px 1px 3px 1px rgba(0, 0, 0, 0.15);\n",
              "      filter: drop-shadow(0px 1px 2px rgba(0, 0, 0, 0.3));\n",
              "      fill: #FFFFFF;\n",
              "    }\n",
              "  </style>\n",
              "\n",
              "    <script>\n",
              "      const buttonEl =\n",
              "        document.querySelector('#df-70b8e7a6-af54-4205-900e-9b5086c66bc3 button.colab-df-convert');\n",
              "      buttonEl.style.display =\n",
              "        google.colab.kernel.accessAllowed ? 'block' : 'none';\n",
              "\n",
              "      async function convertToInteractive(key) {\n",
              "        const element = document.querySelector('#df-70b8e7a6-af54-4205-900e-9b5086c66bc3');\n",
              "        const dataTable =\n",
              "          await google.colab.kernel.invokeFunction('convertToInteractive',\n",
              "                                                    [key], {});\n",
              "        if (!dataTable) return;\n",
              "\n",
              "        const docLinkHtml = 'Like what you see? Visit the ' +\n",
              "          '<a target=\"_blank\" href=https://colab.research.google.com/notebooks/data_table.ipynb>data table notebook</a>'\n",
              "          + ' to learn more about interactive tables.';\n",
              "        element.innerHTML = '';\n",
              "        dataTable['output_type'] = 'display_data';\n",
              "        await google.colab.output.renderOutput(dataTable, element);\n",
              "        const docLink = document.createElement('div');\n",
              "        docLink.innerHTML = docLinkHtml;\n",
              "        element.appendChild(docLink);\n",
              "      }\n",
              "    </script>\n",
              "  </div>\n",
              "\n",
              "\n",
              "    <div id=\"df-5b7ca62c-06d2-43aa-bc7a-7ae4cf900911\">\n",
              "      <button class=\"colab-df-quickchart\" onclick=\"quickchart('df-5b7ca62c-06d2-43aa-bc7a-7ae4cf900911')\"\n",
              "                title=\"Suggest charts\"\n",
              "                style=\"display:none;\">\n",
              "\n",
              "<svg xmlns=\"http://www.w3.org/2000/svg\" height=\"24px\"viewBox=\"0 0 24 24\"\n",
              "     width=\"24px\">\n",
              "    <g>\n",
              "        <path d=\"M19 3H5c-1.1 0-2 .9-2 2v14c0 1.1.9 2 2 2h14c1.1 0 2-.9 2-2V5c0-1.1-.9-2-2-2zM9 17H7v-7h2v7zm4 0h-2V7h2v10zm4 0h-2v-4h2v4z\"/>\n",
              "    </g>\n",
              "</svg>\n",
              "      </button>\n",
              "\n",
              "<style>\n",
              "  .colab-df-quickchart {\n",
              "      --bg-color: #E8F0FE;\n",
              "      --fill-color: #1967D2;\n",
              "      --hover-bg-color: #E2EBFA;\n",
              "      --hover-fill-color: #174EA6;\n",
              "      --disabled-fill-color: #AAA;\n",
              "      --disabled-bg-color: #DDD;\n",
              "  }\n",
              "\n",
              "  [theme=dark] .colab-df-quickchart {\n",
              "      --bg-color: #3B4455;\n",
              "      --fill-color: #D2E3FC;\n",
              "      --hover-bg-color: #434B5C;\n",
              "      --hover-fill-color: #FFFFFF;\n",
              "      --disabled-bg-color: #3B4455;\n",
              "      --disabled-fill-color: #666;\n",
              "  }\n",
              "\n",
              "  .colab-df-quickchart {\n",
              "    background-color: var(--bg-color);\n",
              "    border: none;\n",
              "    border-radius: 50%;\n",
              "    cursor: pointer;\n",
              "    display: none;\n",
              "    fill: var(--fill-color);\n",
              "    height: 32px;\n",
              "    padding: 0;\n",
              "    width: 32px;\n",
              "  }\n",
              "\n",
              "  .colab-df-quickchart:hover {\n",
              "    background-color: var(--hover-bg-color);\n",
              "    box-shadow: 0 1px 2px rgba(60, 64, 67, 0.3), 0 1px 3px 1px rgba(60, 64, 67, 0.15);\n",
              "    fill: var(--button-hover-fill-color);\n",
              "  }\n",
              "\n",
              "  .colab-df-quickchart-complete:disabled,\n",
              "  .colab-df-quickchart-complete:disabled:hover {\n",
              "    background-color: var(--disabled-bg-color);\n",
              "    fill: var(--disabled-fill-color);\n",
              "    box-shadow: none;\n",
              "  }\n",
              "\n",
              "  .colab-df-spinner {\n",
              "    border: 2px solid var(--fill-color);\n",
              "    border-color: transparent;\n",
              "    border-bottom-color: var(--fill-color);\n",
              "    animation:\n",
              "      spin 1s steps(1) infinite;\n",
              "  }\n",
              "\n",
              "  @keyframes spin {\n",
              "    0% {\n",
              "      border-color: transparent;\n",
              "      border-bottom-color: var(--fill-color);\n",
              "      border-left-color: var(--fill-color);\n",
              "    }\n",
              "    20% {\n",
              "      border-color: transparent;\n",
              "      border-left-color: var(--fill-color);\n",
              "      border-top-color: var(--fill-color);\n",
              "    }\n",
              "    30% {\n",
              "      border-color: transparent;\n",
              "      border-left-color: var(--fill-color);\n",
              "      border-top-color: var(--fill-color);\n",
              "      border-right-color: var(--fill-color);\n",
              "    }\n",
              "    40% {\n",
              "      border-color: transparent;\n",
              "      border-right-color: var(--fill-color);\n",
              "      border-top-color: var(--fill-color);\n",
              "    }\n",
              "    60% {\n",
              "      border-color: transparent;\n",
              "      border-right-color: var(--fill-color);\n",
              "    }\n",
              "    80% {\n",
              "      border-color: transparent;\n",
              "      border-right-color: var(--fill-color);\n",
              "      border-bottom-color: var(--fill-color);\n",
              "    }\n",
              "    90% {\n",
              "      border-color: transparent;\n",
              "      border-bottom-color: var(--fill-color);\n",
              "    }\n",
              "  }\n",
              "</style>\n",
              "\n",
              "      <script>\n",
              "        async function quickchart(key) {\n",
              "          const quickchartButtonEl =\n",
              "            document.querySelector('#' + key + ' button');\n",
              "          quickchartButtonEl.disabled = true;  // To prevent multiple clicks.\n",
              "          quickchartButtonEl.classList.add('colab-df-spinner');\n",
              "          try {\n",
              "            const charts = await google.colab.kernel.invokeFunction(\n",
              "                'suggestCharts', [key], {});\n",
              "          } catch (error) {\n",
              "            console.error('Error during call to suggestCharts:', error);\n",
              "          }\n",
              "          quickchartButtonEl.classList.remove('colab-df-spinner');\n",
              "          quickchartButtonEl.classList.add('colab-df-quickchart-complete');\n",
              "        }\n",
              "        (() => {\n",
              "          let quickchartButtonEl =\n",
              "            document.querySelector('#df-5b7ca62c-06d2-43aa-bc7a-7ae4cf900911 button');\n",
              "          quickchartButtonEl.style.display =\n",
              "            google.colab.kernel.accessAllowed ? 'block' : 'none';\n",
              "        })();\n",
              "      </script>\n",
              "    </div>\n",
              "\n",
              "    </div>\n",
              "  </div>\n"
            ],
            "application/vnd.google.colaboratory.intrinsic+json": {
              "type": "dataframe",
              "summary": "{\n  \"name\": \"df\",\n  \"rows\": 5,\n  \"fields\": [\n    {\n      \"column\": \"count\",\n      \"properties\": {\n        \"dtype\": \"number\",\n        \"std\": 0.0,\n        \"min\": 1898.0,\n        \"max\": 1898.0,\n        \"num_unique_values\": 1,\n        \"samples\": [\n          1898.0\n        ],\n        \"semantic_type\": \"\",\n        \"description\": \"\"\n      }\n    },\n    {\n      \"column\": \"mean\",\n      \"properties\": {\n        \"dtype\": \"number\",\n        \"std\": 645876.9529336845,\n        \"min\": 16.498851422550054,\n        \"max\": 1477495.5,\n        \"num_unique_values\": 5,\n        \"samples\": [\n          171168.478398314\n        ],\n        \"semantic_type\": \"\",\n        \"description\": \"\"\n      }\n    },\n    {\n      \"column\": \"std\",\n      \"properties\": {\n        \"dtype\": \"number\",\n        \"std\": 50784.71247265651,\n        \"min\": 4.63248077592887,\n        \"max\": 113698.13974303962,\n        \"num_unique_values\": 5,\n        \"samples\": [\n          113698.13974303962\n        ],\n        \"semantic_type\": \"\",\n        \"description\": \"\"\n      }\n    },\n    {\n      \"column\": \"min\",\n      \"properties\": {\n        \"dtype\": \"number\",\n        \"std\": 660181.1448777716,\n        \"min\": 4.47,\n        \"max\": 1476547.0,\n        \"num_unique_values\": 5,\n        \"samples\": [\n          1311.0\n        ],\n        \"semantic_type\": \"\",\n        \"description\": \"\"\n      }\n    },\n    {\n      \"column\": \"25%\",\n      \"properties\": {\n        \"dtype\": \"number\",\n        \"std\": 652710.1666554807,\n        \"min\": 12.08,\n        \"max\": 1477021.25,\n        \"num_unique_values\": 5,\n        \"samples\": [\n          77787.75\n        ],\n        \"semantic_type\": \"\",\n        \"description\": \"\"\n      }\n    },\n    {\n      \"column\": \"50%\",\n      \"properties\": {\n        \"dtype\": \"number\",\n        \"std\": 648764.1850689455,\n        \"min\": 14.14,\n        \"max\": 1477495.5,\n        \"num_unique_values\": 5,\n        \"samples\": [\n          128600.0\n        ],\n        \"semantic_type\": \"\",\n        \"description\": \"\"\n      }\n    },\n    {\n      \"column\": \"75%\",\n      \"properties\": {\n        \"dtype\": \"number\",\n        \"std\": 641497.2176487005,\n        \"min\": 22.2975,\n        \"max\": 1477969.75,\n        \"num_unique_values\": 5,\n        \"samples\": [\n          270525.0\n        ],\n        \"semantic_type\": \"\",\n        \"description\": \"\"\n      }\n    },\n    {\n      \"column\": \"max\",\n      \"properties\": {\n        \"dtype\": \"number\",\n        \"std\": 640369.1284858972,\n        \"min\": 33.0,\n        \"max\": 1478444.0,\n        \"num_unique_values\": 5,\n        \"samples\": [\n          405334.0\n        ],\n        \"semantic_type\": \"\",\n        \"description\": \"\"\n      }\n    }\n  ]\n}"
            }
          },
          "metadata": {},
          "execution_count": 10
        }
      ],
      "source": [
        "# Getting summary statistics of numerical data using the describe function\n",
        "df.describe().T"
      ]
    },
    {
      "cell_type": "markdown",
      "metadata": {
        "id": "9YbSOR5wJY_T"
      },
      "source": [
        "- As seen before, there are 5 numerical columns:\n",
        "  - `order_id `\n",
        "  - `customer_id`\n",
        "  - `cost_of_the_order`\n",
        "  - `food_preparation_time`\n",
        "  - `delivery_time`\n",
        "- Upon cheking the food_preparation_time row of the summary statistics, the **average amount of time to prepare food is around 27.4 mins**, with the m**inimum and maximum being 20 and 35 mins, respectivel**y"
      ]
    },
    {
      "cell_type": "markdown",
      "metadata": {
        "id": "cw3l58z_JY_T"
      },
      "source": [
        "**Taking a closer look at the Ratings column**"
      ]
    },
    {
      "cell_type": "code",
      "source": [
        "# Checking the number of counts each unique rating got\n",
        "df['rating'].value_counts()"
      ],
      "metadata": {
        "colab": {
          "base_uri": "https://localhost:8080/",
          "height": 241
        },
        "id": "JYnWy1ipS5ys",
        "outputId": "723e4a49-d66a-4d92-f372-d2ae0015999d"
      },
      "execution_count": null,
      "outputs": [
        {
          "output_type": "execute_result",
          "data": {
            "text/plain": [
              "rating\n",
              "Not given    736\n",
              "5            588\n",
              "4            386\n",
              "3            188\n",
              "Name: count, dtype: int64"
            ],
            "text/html": [
              "<div>\n",
              "<style scoped>\n",
              "    .dataframe tbody tr th:only-of-type {\n",
              "        vertical-align: middle;\n",
              "    }\n",
              "\n",
              "    .dataframe tbody tr th {\n",
              "        vertical-align: top;\n",
              "    }\n",
              "\n",
              "    .dataframe thead th {\n",
              "        text-align: right;\n",
              "    }\n",
              "</style>\n",
              "<table border=\"1\" class=\"dataframe\">\n",
              "  <thead>\n",
              "    <tr style=\"text-align: right;\">\n",
              "      <th></th>\n",
              "      <th>count</th>\n",
              "    </tr>\n",
              "    <tr>\n",
              "      <th>rating</th>\n",
              "      <th></th>\n",
              "    </tr>\n",
              "  </thead>\n",
              "  <tbody>\n",
              "    <tr>\n",
              "      <th>Not given</th>\n",
              "      <td>736</td>\n",
              "    </tr>\n",
              "    <tr>\n",
              "      <th>5</th>\n",
              "      <td>588</td>\n",
              "    </tr>\n",
              "    <tr>\n",
              "      <th>4</th>\n",
              "      <td>386</td>\n",
              "    </tr>\n",
              "    <tr>\n",
              "      <th>3</th>\n",
              "      <td>188</td>\n",
              "    </tr>\n",
              "  </tbody>\n",
              "</table>\n",
              "</div><br><label><b>dtype:</b> int64</label>"
            ]
          },
          "metadata": {},
          "execution_count": 11
        }
      ]
    },
    {
      "cell_type": "code",
      "source": [
        "# Checking the percentage of unrated orders\n",
        "df['rating'].value_counts(normalize = 'True')       #use of normalize parameter to immediately check how much of the orders were unrated"
      ],
      "metadata": {
        "colab": {
          "base_uri": "https://localhost:8080/",
          "height": 241
        },
        "id": "37_yd-srTDy-",
        "outputId": "280e997c-3e3d-4322-b09f-ed330f3d0eb7"
      },
      "execution_count": null,
      "outputs": [
        {
          "output_type": "execute_result",
          "data": {
            "text/plain": [
              "rating\n",
              "Not given    0.387777\n",
              "5            0.309800\n",
              "4            0.203372\n",
              "3            0.099052\n",
              "Name: proportion, dtype: float64"
            ],
            "text/html": [
              "<div>\n",
              "<style scoped>\n",
              "    .dataframe tbody tr th:only-of-type {\n",
              "        vertical-align: middle;\n",
              "    }\n",
              "\n",
              "    .dataframe tbody tr th {\n",
              "        vertical-align: top;\n",
              "    }\n",
              "\n",
              "    .dataframe thead th {\n",
              "        text-align: right;\n",
              "    }\n",
              "</style>\n",
              "<table border=\"1\" class=\"dataframe\">\n",
              "  <thead>\n",
              "    <tr style=\"text-align: right;\">\n",
              "      <th></th>\n",
              "      <th>proportion</th>\n",
              "    </tr>\n",
              "    <tr>\n",
              "      <th>rating</th>\n",
              "      <th></th>\n",
              "    </tr>\n",
              "  </thead>\n",
              "  <tbody>\n",
              "    <tr>\n",
              "      <th>Not given</th>\n",
              "      <td>0.387777</td>\n",
              "    </tr>\n",
              "    <tr>\n",
              "      <th>5</th>\n",
              "      <td>0.309800</td>\n",
              "    </tr>\n",
              "    <tr>\n",
              "      <th>4</th>\n",
              "      <td>0.203372</td>\n",
              "    </tr>\n",
              "    <tr>\n",
              "      <th>3</th>\n",
              "      <td>0.099052</td>\n",
              "    </tr>\n",
              "  </tbody>\n",
              "</table>\n",
              "</div><br><label><b>dtype:</b> float64</label>"
            ]
          },
          "metadata": {},
          "execution_count": 12
        }
      ]
    },
    {
      "cell_type": "markdown",
      "metadata": {
        "id": "5E0O_oviJY_T"
      },
      "source": [
        "* From the results above, it is seen that **736 orders have not been rated** and is registered with `Not given` string\n",
        "> This is also the reason why the Rating column is stored as class string\n",
        "* The `Not given` rating actually accounts for 38% of the total\n"
      ]
    },
    {
      "cell_type": "markdown",
      "metadata": {
        "id": "-2xfI28YJY_T"
      },
      "source": [
        "### **Univariate Analysis**"
      ]
    },
    {
      "cell_type": "markdown",
      "source": [
        "#### **Analysis for Non-numerical Data**"
      ],
      "metadata": {
        "id": "cUtuEhZTAydp"
      }
    },
    {
      "cell_type": "code",
      "source": [
        "# Defining a function that plots barplot with corresponding values\n",
        "\n",
        "def bar_annot(data, col, size):\n",
        "    total = len(data[col])\n",
        "    plt.figure(figsize = size)\n",
        "\n",
        "    # Convert the column to a categorical data type\n",
        "    data[col] = data[col].astype('category')\n",
        "    # Plotting the countplot\n",
        "    ax = sns.countplot(x=col,\n",
        "                       data=data,\n",
        "                       palette='Paired',\n",
        "                       hue = col,\n",
        "                       order=data[col].value_counts().index\n",
        "                       )\n",
        "    ax.set_xticklabels(ax.get_xticklabels(), rotation=90)\n",
        "    # Annotating the Percentages of each Category\n",
        "    for p in ax.patches:\n",
        "        percentage = '{:.1f}%'.format(100 * p.get_height() / total) # Percentage of each class\n",
        "        count = p.get_height()                                      # Count of each class\n",
        "        x = p.get_x() + p.get_width() / 2 - 0.05                    # Width of the plot\n",
        "        y = p.get_y() + p.get_height()                              # Height of the plot\n",
        "        ax.annotate(count, (x, y), size = 10)                  # Annotate the percentage\n",
        "\n",
        "    plt.show()"
      ],
      "metadata": {
        "id": "5jLAmCnvA7SY"
      },
      "execution_count": null,
      "outputs": []
    },
    {
      "cell_type": "markdown",
      "source": [
        "**Order ID**"
      ],
      "metadata": {
        "id": "jQ6pBXKdU1UX"
      }
    },
    {
      "cell_type": "code",
      "execution_count": null,
      "metadata": {
        "id": "rU5ZqISjJY_U",
        "colab": {
          "base_uri": "https://localhost:8080/"
        },
        "outputId": "255874af-06a3-464c-e627-e617b39b0bbe"
      },
      "outputs": [
        {
          "output_type": "execute_result",
          "data": {
            "text/plain": [
              "1898"
            ]
          },
          "metadata": {},
          "execution_count": 14
        }
      ],
      "source": [
        "# Checking number of unique order IDs\n",
        "df['order_id'].nunique()    # use of nunique() function"
      ]
    },
    {
      "cell_type": "markdown",
      "source": [
        "* Since the order ID merely distinguishes individual orders from each other, **plotting order ID data will not yield meaningful conclusions**."
      ],
      "metadata": {
        "id": "5eEqHlkUVPyO"
      }
    },
    {
      "cell_type": "markdown",
      "source": [
        "**Customer ID**"
      ],
      "metadata": {
        "id": "quuLizHdV8XG"
      }
    },
    {
      "cell_type": "code",
      "source": [
        "# Checking the number of unique customer IDs\n",
        "df['customer_id'].nunique()"
      ],
      "metadata": {
        "colab": {
          "base_uri": "https://localhost:8080/"
        },
        "id": "Wi30THU-WovG",
        "outputId": "8bb76b00-5daa-43db-81d1-98323db6c27b"
      },
      "execution_count": null,
      "outputs": [
        {
          "output_type": "execute_result",
          "data": {
            "text/plain": [
              "1200"
            ]
          },
          "metadata": {},
          "execution_count": 15
        }
      ]
    },
    {
      "cell_type": "markdown",
      "source": [
        "\n",
        "*  <p align = \"justify\">The number of unique customer IDs is 1200, which is less than the total number of unique order IDs\n",
        "* <p align = \"justify\">This indicates that some customers have placed orders using the app more than once."
      ],
      "metadata": {
        "id": "ZWJyhW0dWwDL"
      }
    },
    {
      "cell_type": "code",
      "source": [
        "# Looking at the top patrons of the App\n",
        "df['customer_id'].value_counts().head()"
      ],
      "metadata": {
        "colab": {
          "base_uri": "https://localhost:8080/",
          "height": 272
        },
        "id": "0iX4faZlW3DR",
        "outputId": "62a6394b-62e7-4acf-c3b4-a8e4d147cd7d"
      },
      "execution_count": null,
      "outputs": [
        {
          "output_type": "execute_result",
          "data": {
            "text/plain": [
              "customer_id\n",
              "52832     13\n",
              "47440     10\n",
              "83287      9\n",
              "250494     8\n",
              "259341     7\n",
              "Name: count, dtype: int64"
            ],
            "text/html": [
              "<div>\n",
              "<style scoped>\n",
              "    .dataframe tbody tr th:only-of-type {\n",
              "        vertical-align: middle;\n",
              "    }\n",
              "\n",
              "    .dataframe tbody tr th {\n",
              "        vertical-align: top;\n",
              "    }\n",
              "\n",
              "    .dataframe thead th {\n",
              "        text-align: right;\n",
              "    }\n",
              "</style>\n",
              "<table border=\"1\" class=\"dataframe\">\n",
              "  <thead>\n",
              "    <tr style=\"text-align: right;\">\n",
              "      <th></th>\n",
              "      <th>count</th>\n",
              "    </tr>\n",
              "    <tr>\n",
              "      <th>customer_id</th>\n",
              "      <th></th>\n",
              "    </tr>\n",
              "  </thead>\n",
              "  <tbody>\n",
              "    <tr>\n",
              "      <th>52832</th>\n",
              "      <td>13</td>\n",
              "    </tr>\n",
              "    <tr>\n",
              "      <th>47440</th>\n",
              "      <td>10</td>\n",
              "    </tr>\n",
              "    <tr>\n",
              "      <th>83287</th>\n",
              "      <td>9</td>\n",
              "    </tr>\n",
              "    <tr>\n",
              "      <th>250494</th>\n",
              "      <td>8</td>\n",
              "    </tr>\n",
              "    <tr>\n",
              "      <th>259341</th>\n",
              "      <td>7</td>\n",
              "    </tr>\n",
              "  </tbody>\n",
              "</table>\n",
              "</div><br><label><b>dtype:</b> int64</label>"
            ]
          },
          "metadata": {},
          "execution_count": 16
        }
      ]
    },
    {
      "cell_type": "markdown",
      "source": [
        "- The **top patron (ID: 52832) has placed a total of 13 orders using the App**\n",
        "- The large **difference between unique order IDs and unique customer IDs** could also indicate that a considerable number of patrons **have used the app more than once**"
      ],
      "metadata": {
        "id": "KZowjxoRXHq6"
      }
    },
    {
      "cell_type": "markdown",
      "source": [
        "**Restaurant Name**"
      ],
      "metadata": {
        "id": "ckNHWjpyWAhz"
      }
    },
    {
      "cell_type": "code",
      "source": [
        "# Checking the number of unique Restaurants catering to customers\n",
        "df['restaurant_name'].nunique()"
      ],
      "metadata": {
        "colab": {
          "base_uri": "https://localhost:8080/"
        },
        "id": "_sb4fMUcYNkA",
        "outputId": "c6a600f9-680d-4cfa-8a2f-9415aec52a0c"
      },
      "execution_count": null,
      "outputs": [
        {
          "output_type": "execute_result",
          "data": {
            "text/plain": [
              "178"
            ]
          },
          "metadata": {},
          "execution_count": 17
        }
      ]
    },
    {
      "cell_type": "code",
      "source": [
        "# checking the number of orders made from each unique Restaurant\n",
        "df['restaurant_name'].value_counts()"
      ],
      "metadata": {
        "colab": {
          "base_uri": "https://localhost:8080/",
          "height": 489
        },
        "id": "bnQbiaEJZQ-X",
        "outputId": "c27c0c0b-6661-4f9c-8441-97e3911ca0c7"
      },
      "execution_count": null,
      "outputs": [
        {
          "output_type": "execute_result",
          "data": {
            "text/plain": [
              "restaurant_name\n",
              "Shake Shack                  219\n",
              "The Meatball Shop            132\n",
              "Blue Ribbon Sushi            119\n",
              "Blue Ribbon Fried Chicken     96\n",
              "Parm                          68\n",
              "                            ... \n",
              "Rye House                      1\n",
              "Hiroko's Place                 1\n",
              "Frank Restaurant               1\n",
              "Sarabeth's West                1\n",
              "'wichcraft                     1\n",
              "Name: count, Length: 178, dtype: int64"
            ],
            "text/html": [
              "<div>\n",
              "<style scoped>\n",
              "    .dataframe tbody tr th:only-of-type {\n",
              "        vertical-align: middle;\n",
              "    }\n",
              "\n",
              "    .dataframe tbody tr th {\n",
              "        vertical-align: top;\n",
              "    }\n",
              "\n",
              "    .dataframe thead th {\n",
              "        text-align: right;\n",
              "    }\n",
              "</style>\n",
              "<table border=\"1\" class=\"dataframe\">\n",
              "  <thead>\n",
              "    <tr style=\"text-align: right;\">\n",
              "      <th></th>\n",
              "      <th>count</th>\n",
              "    </tr>\n",
              "    <tr>\n",
              "      <th>restaurant_name</th>\n",
              "      <th></th>\n",
              "    </tr>\n",
              "  </thead>\n",
              "  <tbody>\n",
              "    <tr>\n",
              "      <th>Shake Shack</th>\n",
              "      <td>219</td>\n",
              "    </tr>\n",
              "    <tr>\n",
              "      <th>The Meatball Shop</th>\n",
              "      <td>132</td>\n",
              "    </tr>\n",
              "    <tr>\n",
              "      <th>Blue Ribbon Sushi</th>\n",
              "      <td>119</td>\n",
              "    </tr>\n",
              "    <tr>\n",
              "      <th>Blue Ribbon Fried Chicken</th>\n",
              "      <td>96</td>\n",
              "    </tr>\n",
              "    <tr>\n",
              "      <th>Parm</th>\n",
              "      <td>68</td>\n",
              "    </tr>\n",
              "    <tr>\n",
              "      <th>...</th>\n",
              "      <td>...</td>\n",
              "    </tr>\n",
              "    <tr>\n",
              "      <th>Rye House</th>\n",
              "      <td>1</td>\n",
              "    </tr>\n",
              "    <tr>\n",
              "      <th>Hiroko's Place</th>\n",
              "      <td>1</td>\n",
              "    </tr>\n",
              "    <tr>\n",
              "      <th>Frank Restaurant</th>\n",
              "      <td>1</td>\n",
              "    </tr>\n",
              "    <tr>\n",
              "      <th>Sarabeth's West</th>\n",
              "      <td>1</td>\n",
              "    </tr>\n",
              "    <tr>\n",
              "      <th>'wichcraft</th>\n",
              "      <td>1</td>\n",
              "    </tr>\n",
              "  </tbody>\n",
              "</table>\n",
              "<p>178 rows × 1 columns</p>\n",
              "</div><br><label><b>dtype:</b> int64</label>"
            ]
          },
          "metadata": {},
          "execution_count": 18
        }
      ]
    },
    {
      "cell_type": "markdown",
      "source": [
        "- from the results above, a total of 178 restaurants have catered to customers\n",
        "- The **top 3 most popular restaurants** have all managed to receive over 100 orders"
      ],
      "metadata": {
        "id": "PFMdnE0kZZ9q"
      }
    },
    {
      "cell_type": "code",
      "source": [
        "# Displaying the top restaurants that were able to receive more than 50 orders\n",
        "df['restaurant_name'].value_counts().loc[df['restaurant_name'].value_counts() > 50]\n"
      ],
      "metadata": {
        "colab": {
          "base_uri": "https://localhost:8080/",
          "height": 335
        },
        "id": "6C-J2t8Pb4Hd",
        "outputId": "cd3a38f6-893b-4295-c10e-ee1bf9a9a657"
      },
      "execution_count": null,
      "outputs": [
        {
          "output_type": "execute_result",
          "data": {
            "text/plain": [
              "restaurant_name\n",
              "Shake Shack                  219\n",
              "The Meatball Shop            132\n",
              "Blue Ribbon Sushi            119\n",
              "Blue Ribbon Fried Chicken     96\n",
              "Parm                          68\n",
              "RedFarm Broadway              59\n",
              "RedFarm Hudson                55\n",
              "Name: count, dtype: int64"
            ],
            "text/html": [
              "<div>\n",
              "<style scoped>\n",
              "    .dataframe tbody tr th:only-of-type {\n",
              "        vertical-align: middle;\n",
              "    }\n",
              "\n",
              "    .dataframe tbody tr th {\n",
              "        vertical-align: top;\n",
              "    }\n",
              "\n",
              "    .dataframe thead th {\n",
              "        text-align: right;\n",
              "    }\n",
              "</style>\n",
              "<table border=\"1\" class=\"dataframe\">\n",
              "  <thead>\n",
              "    <tr style=\"text-align: right;\">\n",
              "      <th></th>\n",
              "      <th>count</th>\n",
              "    </tr>\n",
              "    <tr>\n",
              "      <th>restaurant_name</th>\n",
              "      <th></th>\n",
              "    </tr>\n",
              "  </thead>\n",
              "  <tbody>\n",
              "    <tr>\n",
              "      <th>Shake Shack</th>\n",
              "      <td>219</td>\n",
              "    </tr>\n",
              "    <tr>\n",
              "      <th>The Meatball Shop</th>\n",
              "      <td>132</td>\n",
              "    </tr>\n",
              "    <tr>\n",
              "      <th>Blue Ribbon Sushi</th>\n",
              "      <td>119</td>\n",
              "    </tr>\n",
              "    <tr>\n",
              "      <th>Blue Ribbon Fried Chicken</th>\n",
              "      <td>96</td>\n",
              "    </tr>\n",
              "    <tr>\n",
              "      <th>Parm</th>\n",
              "      <td>68</td>\n",
              "    </tr>\n",
              "    <tr>\n",
              "      <th>RedFarm Broadway</th>\n",
              "      <td>59</td>\n",
              "    </tr>\n",
              "    <tr>\n",
              "      <th>RedFarm Hudson</th>\n",
              "      <td>55</td>\n",
              "    </tr>\n",
              "  </tbody>\n",
              "</table>\n",
              "</div><br><label><b>dtype:</b> int64</label>"
            ]
          },
          "metadata": {},
          "execution_count": 19
        }
      ]
    },
    {
      "cell_type": "markdown",
      "source": [
        "* From the summary above, it can be seen that the 5 most popular restaurants are:\n",
        "  1.  `Shake Shack`\n",
        "  2.  `The Meatball Shop`\n",
        "  3.  `Blue Ribbon Sushi`\n",
        "  4.  `Blue Ribbon Fried Chicken`\n",
        "  5.  `Parm`"
      ],
      "metadata": {
        "id": "K5x1lk0-PqWq"
      }
    },
    {
      "cell_type": "code",
      "execution_count": null,
      "metadata": {
        "id": "PaJZ3wlOJY_U",
        "colab": {
          "base_uri": "https://localhost:8080/"
        },
        "outputId": "3de1d733-72bb-40a8-d8df-dc7c9e10b5c9"
      },
      "outputs": [
        {
          "output_type": "execute_result",
          "data": {
            "text/plain": [
              "Shake Shack                  219\n",
              "The Meatball Shop            132\n",
              "Blue Ribbon Sushi            119\n",
              "Blue Ribbon Fried Chicken     96\n",
              "Parm                          68\n",
              "Name: restaurant_name, dtype: int64"
            ]
          },
          "metadata": {},
          "execution_count": 29
        }
      ],
      "source": [
        "# Getting the top 5 restaurants using the value_counts function\n",
        "df['restaurant_name'].value_counts().head()"
      ]
    },
    {
      "cell_type": "markdown",
      "source": [
        "**Cuisine Type**"
      ],
      "metadata": {
        "id": "PFKDxPMcWI1C"
      }
    },
    {
      "cell_type": "code",
      "source": [
        "# Check unique cuisine type\n",
        "df['cuisine_type'].nunique()"
      ],
      "metadata": {
        "colab": {
          "base_uri": "https://localhost:8080/"
        },
        "id": "W5m_tTSYdrvf",
        "outputId": "9557b621-63b4-4ac4-e05a-a7d360f856db"
      },
      "execution_count": null,
      "outputs": [
        {
          "output_type": "execute_result",
          "data": {
            "text/plain": [
              "14"
            ]
          },
          "metadata": {},
          "execution_count": 20
        }
      ]
    },
    {
      "cell_type": "code",
      "source": [
        "# Checking the value counts of each cuisine type\n",
        "df['cuisine_type'].value_counts()"
      ],
      "metadata": {
        "colab": {
          "base_uri": "https://localhost:8080/"
        },
        "id": "NWvbtRoxduwU",
        "outputId": "8deccb7b-98d4-42b4-8b6c-1c7adb5e8dda"
      },
      "execution_count": null,
      "outputs": [
        {
          "output_type": "execute_result",
          "data": {
            "text/plain": [
              "American          584\n",
              "Japanese          470\n",
              "Italian           298\n",
              "Chinese           215\n",
              "Mexican            77\n",
              "Indian             73\n",
              "Middle Eastern     49\n",
              "Mediterranean      46\n",
              "Thai               19\n",
              "French             18\n",
              "Southern           17\n",
              "Korean             13\n",
              "Spanish            12\n",
              "Vietnamese          7\n",
              "Name: cuisine_type, dtype: int64"
            ]
          },
          "metadata": {},
          "execution_count": 18
        }
      ]
    },
    {
      "cell_type": "code",
      "source": [
        "# Applying Annotated Bar plot function on Cuisin Type\n",
        "bar_annot(df, 'cuisine_type', (15,5))"
      ],
      "metadata": {
        "colab": {
          "base_uri": "https://localhost:8080/",
          "height": 333
        },
        "id": "0k5imBFQLuLZ",
        "outputId": "ac326ea6-51de-465e-f2a1-8e8ad55ea452"
      },
      "execution_count": null,
      "outputs": [
        {
          "output_type": "display_data",
          "data": {
            "text/plain": [
              "<Figure size 1500x500 with 1 Axes>"
            ],
            "image/png": "[encoded data removed]"
          },
          "metadata": {}
        }
      ]
    },
    {
      "cell_type": "markdown",
      "source": [
        "- from the results above, it can be seen that the **top 4 cuisines** favored by customers are\n",
        "  1. `American`\n",
        "  2. `Japanese`\n",
        "  3. `Italian`\n",
        "  4. `Chinese`\n",
        "- The abovementioned 4 cuisines are **siginificantly more popular** compared to the others as seen in the **large difference in order counts**"
      ],
      "metadata": {
        "id": "ORTj6ueuew-K"
      }
    },
    {
      "cell_type": "markdown",
      "source": [
        "**Day of the Week**"
      ],
      "metadata": {
        "id": "c7u7MtafWTlO"
      }
    },
    {
      "cell_type": "code",
      "source": [
        "# Plotting the barplot of orders segregated by day of the week\n",
        "bar_annot(df, 'day_of_the_week', (4,3))"
      ],
      "metadata": {
        "colab": {
          "base_uri": "https://localhost:8080/",
          "height": 363
        },
        "id": "K7RKJK23MbdW",
        "outputId": "96bb8322-ec8c-4e46-8998-a5ac533b9a4b"
      },
      "execution_count": null,
      "outputs": [
        {
          "output_type": "display_data",
          "data": {
            "text/plain": [
              "<Figure size 400x300 with 1 Axes>"
            ],
            "image/png": "[encoded data removed]"
          },
          "metadata": {}
        }
      ]
    },
    {
      "cell_type": "markdown",
      "source": [
        "- It can be seen that there is a **significant difference between the anount of orders being placed by customers during weekends and weekdays**\n",
        "- From the results above, there are **more** than twice the amounts of **orders being placed during the weekends** compared to weekdays"
      ],
      "metadata": {
        "id": "kFWTNTC2iBlK"
      }
    },
    {
      "cell_type": "markdown",
      "source": [
        "#### **Analysis for Numerical Data**"
      ],
      "metadata": {
        "id": "6FxA__-OM_ts"
      }
    },
    {
      "cell_type": "code",
      "source": [
        "# Defining a function that plots Histogram and Boxplot\n",
        "\n",
        "def hist_box(feature, figsize=(8, 6), bins=\"auto\"):\n",
        "    \"\"\" Boxplot and histogram combined\n",
        "    feature: 1-d feature array\n",
        "    figsize: size of fig (default (8, 6))\n",
        "    bins: number of bins (default \"auto\")\n",
        "    \"\"\"\n",
        "    f, (ax_box, ax_hist) = plt.subplots(\n",
        "        nrows=2,  # Number of rows of the subplot grid\n",
        "        sharex=True,  # The X-axis will be shared among all the subplots\n",
        "        gridspec_kw={\"height_ratios\": (.25, .75)},\n",
        "        figsize=figsize\n",
        "    )\n",
        "\n",
        "    # Creating the subplots\n",
        "    # Boxplot will be created and the mean value of the column will be indicated using some symbol\n",
        "    sns.boxplot(x=feature, ax=ax_box, showmeans=True, color='red')\n",
        "\n",
        "    # For histogram\n",
        "    sns.histplot(x=feature, kde=False, ax=ax_hist, bins=bins)\n",
        "    ax_hist.axvline(np.mean(feature), color='g', linestyle='--')      # Add mean to the histogram\n",
        "    ax_hist.axvline(np.median(feature), color='black', linestyle='-') # Add median to the histogram\n",
        "\n",
        "    plt.show()"
      ],
      "metadata": {
        "id": "sxrHuDS4NFWf"
      },
      "execution_count": null,
      "outputs": []
    },
    {
      "cell_type": "markdown",
      "source": [
        "**Cost of the Order**"
      ],
      "metadata": {
        "id": "39Ne9bz8WLXb"
      }
    },
    {
      "cell_type": "code",
      "source": [
        "# Applying hist_box function on Cost of order\n",
        "hist_box(df['cost_of_the_order'])"
      ],
      "metadata": {
        "colab": {
          "base_uri": "https://localhost:8080/",
          "height": 542
        },
        "id": "jKBheIy2NTx8",
        "outputId": "00309f2b-2fe7-41bd-f16f-e74d8e81c43e"
      },
      "execution_count": null,
      "outputs": [
        {
          "output_type": "display_data",
          "data": {
            "text/plain": [
              "<Figure size 800x600 with 2 Axes>"
            ],
            "image/png": "[encoded data removed]"
          },
          "metadata": {}
        }
      ]
    },
    {
      "cell_type": "markdown",
      "source": [
        "- From the plots above, it can be seen that the **most occurring cost of orders is in the range 11-12.5 USD**\n",
        "- Observing the Boxplot, **no outliers** can be found. Moreover the data is **right-skewed**, indicating that a **significant number of orders are relatively low-priced**"
      ],
      "metadata": {
        "id": "2zjTHmHWgbpV"
      }
    },
    {
      "cell_type": "code",
      "execution_count": null,
      "metadata": {
        "id": "OTpHyTdzJY_U",
        "colab": {
          "base_uri": "https://localhost:8080/"
        },
        "outputId": "85283398-cfe6-4d7f-ec23-073dea76d864"
      },
      "outputs": [
        {
          "output_type": "stream",
          "name": "stdout",
          "text": [
            "The number of total orders that cost above 20 dollars is: 555\n",
            "Percentage of orders above 20 dollars: 29.241 %\n"
          ]
        }
      ],
      "source": [
        "# Extracting the orders that cost more than 20 dollars\n",
        "more_than_20 = df.loc[df['cost_of_the_order'] > 20]       # using the loc function\n",
        "\n",
        "# Calculate percentage of such orders in the dataset\n",
        "percent = (more_than_20.shape[0] / df.shape[0]) * 100\n",
        "\n",
        "print('The number of total orders that cost above 20 dollars is:', more_than_20.shape[0])\n",
        "print(\"Percentage of orders above 20 dollars:\", round(percent, 3), '%')"
      ]
    },
    {
      "cell_type": "markdown",
      "source": [
        "**Food Preparation Time**"
      ],
      "metadata": {
        "id": "tcPG0BnoWYam"
      }
    },
    {
      "cell_type": "code",
      "source": [
        "# Getting the range of food preparation time\n",
        "\n",
        "min_time = df.food_preparation_time.min()\n",
        "max_time = df.food_preparation_time.max()\n",
        "print('The minimum time for preparing food is', min_time)\n",
        "print('The maximum time for preparing food is', max_time)\n"
      ],
      "metadata": {
        "colab": {
          "base_uri": "https://localhost:8080/"
        },
        "id": "lAPx_n2Il_SU",
        "outputId": "ea5a5d89-cbee-499b-8ca6-2afc2b78c0ca"
      },
      "execution_count": null,
      "outputs": [
        {
          "output_type": "stream",
          "name": "stdout",
          "text": [
            "The minimum time for preparing food is 20\n",
            "The maximum time for preparing food is 35\n"
          ]
        }
      ]
    },
    {
      "cell_type": "code",
      "source": [
        "# Applying hist_box function on Food preparation time\n",
        "hist_box(df['food_preparation_time'], bins = 16)"
      ],
      "metadata": {
        "colab": {
          "base_uri": "https://localhost:8080/",
          "height": 542
        },
        "id": "sfp-PVrcN9zx",
        "outputId": "ac19cb79-0c50-40bb-a79d-8cf229256c07"
      },
      "execution_count": null,
      "outputs": [
        {
          "output_type": "display_data",
          "data": {
            "text/plain": [
              "<Figure size 800x600 with 2 Axes>"
            ],
            "image/png": "[encoded data removed]"
          },
          "metadata": {}
        }
      ]
    },
    {
      "cell_type": "markdown",
      "source": [
        "- **Food preparation time ranges from 20-35 mins**\n",
        "- from the bar graph, it can be seen that There are **roughly equal numbers of orders for each food preparation time value**"
      ],
      "metadata": {
        "id": "N6nSGKrYn7aV"
      }
    },
    {
      "cell_type": "markdown",
      "source": [
        "**Delivery Time**"
      ],
      "metadata": {
        "id": "SvweTEuLWa5Q"
      }
    },
    {
      "cell_type": "code",
      "source": [
        "# Getting some preliminary information on delivery time\n",
        "\n",
        "min_time1 = df.delivery_time.min()\n",
        "max_time1 = df.delivery_time.max()\n",
        "print('The minimum time for delivering food is', min_time1)\n",
        "print('The maximum time for delivering food is', max_time1)"
      ],
      "metadata": {
        "colab": {
          "base_uri": "https://localhost:8080/"
        },
        "id": "0i4m4y9VoquL",
        "outputId": "e9c7b8f2-5070-4477-f927-38682826ad5e"
      },
      "execution_count": null,
      "outputs": [
        {
          "output_type": "stream",
          "name": "stdout",
          "text": [
            "The minimum time for delivering food is 15\n",
            "The maximum time for delivering food is 33\n"
          ]
        }
      ]
    },
    {
      "cell_type": "code",
      "execution_count": null,
      "metadata": {
        "id": "cyFL13hNJY_V",
        "colab": {
          "base_uri": "https://localhost:8080/"
        },
        "outputId": "5145a672-7280-40cc-dc6b-de602e702846"
      },
      "outputs": [
        {
          "output_type": "stream",
          "name": "stdout",
          "text": [
            "The average time for delivering food is 24.161749209694417 With a standard deviation of  4.972636933991106\n"
          ]
        }
      ],
      "source": [
        "# Getting the Average Order Delivery Time\n",
        "mean_time1 = df.delivery_time.mean()\n",
        "std_time1 = df.delivery_time.std()\n",
        "print('The average time for delivering food is', mean_time1, 'With a standard deviation of ', std_time1)"
      ]
    },
    {
      "cell_type": "code",
      "source": [
        "# Applying hist_box function on Delivery time\n",
        "hist_box(df['delivery_time'], bins = 19)"
      ],
      "metadata": {
        "colab": {
          "base_uri": "https://localhost:8080/",
          "height": 542
        },
        "id": "yTbUAakKOZER",
        "outputId": "b3cd79d0-374f-454a-f9b9-6a14ae7a2918"
      },
      "execution_count": null,
      "outputs": [
        {
          "output_type": "display_data",
          "data": {
            "text/plain": [
              "<Figure size 800x600 with 2 Axes>"
            ],
            "image/png": "[encoded data removed]"
          },
          "metadata": {}
        }
      ]
    },
    {
      "cell_type": "markdown",
      "source": [
        "- **Food delivery time ranges from 15-33 mins**\n",
        "- From the bar graph, it can be seen that **a large portion of the total orders are delivered in 24-30 mins**"
      ],
      "metadata": {
        "id": "K4TUf7EhpB1g"
      }
    },
    {
      "cell_type": "markdown",
      "source": [
        "**Rating**"
      ],
      "metadata": {
        "id": "tjYMgUhEWVgb"
      }
    },
    {
      "cell_type": "code",
      "source": [
        "# Applying Annotated Bar plot function on Rating\n",
        "bar_annot(df, 'rating', (6,4))"
      ],
      "metadata": {
        "colab": {
          "base_uri": "https://localhost:8080/",
          "height": 441
        },
        "id": "ey-d0v7_i2OO",
        "outputId": "19a05acb-3d72-410d-ae9d-c246082667a7"
      },
      "execution_count": null,
      "outputs": [
        {
          "output_type": "display_data",
          "data": {
            "text/plain": [
              "<Figure size 600x400 with 1 Axes>"
            ],
            "image/png": "[encoded data removed]"
          },
          "metadata": {}
        }
      ]
    },
    {
      "cell_type": "markdown",
      "source": [
        "- It can be seen that **unrated orders make up a significant portion of the total orders**\n",
        "- **Rated orders have ratings ranging from 3 to 5**, with 5-rated orders being significantly larger in amount than 3-rated orders"
      ],
      "metadata": {
        "id": "IU1Q9TvjkRMM"
      }
    },
    {
      "cell_type": "markdown",
      "metadata": {
        "id": "AfIc2jPaJY_V"
      },
      "source": [
        "### M**ultivariate Analysis**\n",
        "\n",
        "Excluding Customer ID and Order ID, the current data we have consists of **categorical variables**:\n",
        "- `restaurant_name`\n",
        "- `cuisine_type`\n",
        "- `day_of_the_week`\n",
        "- `rating`\n",
        "\n",
        "and **numerical variables**\n",
        "- `cost_of_the_order`\n",
        "- `food_preparation_time`\n",
        "- `delivery_time`\n",
        "\n",
        "We can **explore relations between** numerical and categorical variables as well as correlations between numerical **variables that may be of importance**"
      ]
    },
    {
      "cell_type": "markdown",
      "source": [
        "#### **Preparation time vs cuisine**"
      ],
      "metadata": {
        "id": "Bq_IebaMJDLI"
      }
    },
    {
      "cell_type": "code",
      "source": [
        "# Plotting boxplots for preparation time of various cuisines\n",
        "\n",
        "plt.figure(figsize=(15,7))\n",
        "sns.boxplot(data = df, x = \"cuisine_type\", y = \"food_preparation_time\",\n",
        "            palette = \"deep\", hue = \"cuisine_type\" )\n",
        "plt.xticks(rotation = 90)\n",
        "plt.show()"
      ],
      "metadata": {
        "colab": {
          "base_uri": "https://localhost:8080/",
          "height": 427
        },
        "id": "XdvIKxLAJJVr",
        "outputId": "3dc4af35-6283-49c8-91ad-13fd709b10c3"
      },
      "execution_count": null,
      "outputs": [
        {
          "output_type": "display_data",
          "data": {
            "text/plain": [
              "<Figure size 1500x700 with 1 Axes>"
            ],
            "image/png": "[encoded data removed]"
          },
          "metadata": {}
        }
      ]
    },
    {
      "cell_type": "markdown",
      "source": [
        "- among the cuisines, **Korean food takes the least amount of time** to prepare\n",
        "- In terms of median values, **Japanese, Italian, Thai, and Spanish**, are somewhat higher than the rest"
      ],
      "metadata": {
        "id": "mKU2bhAgTypt"
      }
    },
    {
      "cell_type": "markdown",
      "source": [
        "#### **Cuisine and Cost of Order**"
      ],
      "metadata": {
        "id": "dv6u6yiAC1rg"
      }
    },
    {
      "cell_type": "code",
      "source": [
        "# Plotting boxplots for order costs of various cuisines\n",
        "\n",
        "plt.figure(figsize=(15,7))\n",
        "sns.boxplot(data = df, x = \"cuisine_type\", y = \"cost_of_the_order\",\n",
        "            palette = \"deep\", hue = \"cuisine_type\" )\n",
        "plt.xticks(rotation = 90)\n",
        "plt.show()"
      ],
      "metadata": {
        "colab": {
          "base_uri": "https://localhost:8080/",
          "height": 427
        },
        "id": "I6BkOnVlDI-I",
        "outputId": "d9503df0-e302-45f7-c808-cce1ba297311"
      },
      "execution_count": null,
      "outputs": [
        {
          "output_type": "display_data",
          "data": {
            "text/plain": [
              "<Figure size 1500x700 with 1 Axes>"
            ],
            "image/png": "[encoded data removed]"
          },
          "metadata": {}
        }
      ]
    },
    {
      "cell_type": "markdown",
      "source": [
        "- **Korean, Mediterranean and Vietnamese cuisines** have **narrowest cost range** and are located at the relatively the **cheaper end of the price spectrum**\n",
        "- Looking at the median costs, French and Thai cuisines have the highest costs\n",
        "- **In terms of maximum cost of orders**, with the exception of the 3 cuisines above, m**ost cuisines are relatively the same**\n",
        "\n"
      ],
      "metadata": {
        "id": "Hww7BdWzEPpc"
      }
    },
    {
      "cell_type": "markdown",
      "metadata": {
        "id": "gWPMqGq0JY_U"
      },
      "source": [
        "#### **Cuisine and Day of the Week**"
      ]
    },
    {
      "cell_type": "code",
      "execution_count": null,
      "metadata": {
        "id": "c-Xnus3VJY_U",
        "colab": {
          "base_uri": "https://localhost:8080/",
          "height": 434
        },
        "outputId": "48dd1a11-b911-4150-c9e6-4d3002fe2182"
      },
      "outputs": [
        {
          "output_type": "execute_result",
          "data": {
            "text/plain": [
              "<Axes: xlabel='cuisine_type', ylabel='count'>"
            ]
          },
          "metadata": {},
          "execution_count": 45
        },
        {
          "output_type": "display_data",
          "data": {
            "text/plain": [
              "<Figure size 1500x800 with 1 Axes>"
            ],
            "image/png": "[encoded data removed]"
          },
          "metadata": {}
        }
      ],
      "source": [
        "# Generating the countplot for cuisine while differentiating orders made during weekend and weekdays\n",
        "\n",
        "plt.figure(figsize = (15,8))\n",
        "sns.countplot(data = df, x = 'cuisine_type', hue = 'day_of_the_week')"
      ]
    },
    {
      "cell_type": "markdown",
      "metadata": {
        "id": "bpQ270TUJY_U"
      },
      "source": [
        "* From the graph above, it can be seen that **American cuisine is still the most popular during Weekends**\n",
        "* This is followed by Japanese, Italian, and Chinese"
      ]
    },
    {
      "cell_type": "markdown",
      "source": [
        "#### **Delivery time vs Day of the Week**"
      ],
      "metadata": {
        "id": "Yrm9wDSWJhdD"
      }
    },
    {
      "cell_type": "code",
      "source": [
        "# Plotting boxplots for order made during weekdays and weekend\n",
        "\n",
        "plt.figure(figsize=(5,8))\n",
        "sns.boxplot(data = df, y = \"delivery_time\", x = \"day_of_the_week\", palette = 'deep', hue = 'day_of_the_week')\n",
        "plt.show()"
      ],
      "metadata": {
        "colab": {
          "base_uri": "https://localhost:8080/",
          "height": 696
        },
        "id": "yva8EBosJwj5",
        "outputId": "9b79e338-99c6-43c6-ad86-a01dc554dd94"
      },
      "execution_count": null,
      "outputs": [
        {
          "output_type": "display_data",
          "data": {
            "text/plain": [
              "<Figure size 500x800 with 1 Axes>"
            ],
            "image/png": "[encoded data removed]"
          },
          "metadata": {}
        }
      ]
    },
    {
      "cell_type": "markdown",
      "source": [
        "- It can be seen that **delivery time during weekdays are generally longer compared** to that of weekends."
      ],
      "metadata": {
        "id": "C2z6ceOlUfOo"
      }
    },
    {
      "cell_type": "code",
      "execution_count": null,
      "metadata": {
        "id": "pIU5xZZ6JY_W",
        "colab": {
          "base_uri": "https://localhost:8080/"
        },
        "outputId": "3b9987f0-f1f0-41fc-a330-477547fe0ad6"
      },
      "outputs": [
        {
          "output_type": "stream",
          "name": "stdout",
          "text": [
            "The mean delivery time on weekdays is around 28 mins\n",
            "The mean delivery time on weekends is around 22 mins\n"
          ]
        }
      ],
      "source": [
        "# grouping data based on day of the week\n",
        "week = df.groupby(['day_of_the_week'])\n",
        "\n",
        "#getting mean delivery time for weekdays\n",
        "weekday_mean = week.get_group('Weekday')['delivery_time'].mean()\n",
        "\n",
        "#getting mean delivery time for weekend\n",
        "weekend_mean = week.get_group('Weekend')['delivery_time'].mean()\n",
        "\n",
        "print('The mean delivery time on weekdays is around', round(weekday_mean), 'mins')\n",
        "print('The mean delivery time on weekends is around', round(weekend_mean), 'mins')"
      ]
    },
    {
      "cell_type": "markdown",
      "source": [
        " * From the results, it is seen that the average time for deliveries is around 6 mins longer during weekdays compared to weekends"
      ],
      "metadata": {
        "id": "SEccvYWuWXHV"
      }
    },
    {
      "cell_type": "markdown",
      "metadata": {
        "id": "YLkMf09YJY_V"
      },
      "source": [
        "#### **Rating and Restaurant**\n",
        "\n"
      ]
    },
    {
      "cell_type": "markdown",
      "source": [
        "**Looking for the top performing restaurants**\n",
        "> Those with many and high ratings"
      ],
      "metadata": {
        "id": "sdy5DjLeauwD"
      }
    },
    {
      "cell_type": "code",
      "execution_count": null,
      "metadata": {
        "id": "0M_QDvbYJY_V",
        "colab": {
          "base_uri": "https://localhost:8080/",
          "height": 175
        },
        "outputId": "7646bfe7-7c73-4e14-cd10-438dd2a8ff12"
      },
      "outputs": [
        {
          "output_type": "execute_result",
          "data": {
            "text/plain": [
              "             restaurant_name  rating_count  rating_mean\n",
              "0          The Meatball Shop            84     4.511905\n",
              "1  Blue Ribbon Fried Chicken            64     4.328125\n",
              "2                Shake Shack           133     4.278195\n",
              "3          Blue Ribbon Sushi            73     4.219178"
            ],
            "text/html": [
              "\n",
              "\n",
              "  <div id=\"df-ad71e6cc-21a8-4b33-926c-6a481063ace4\">\n",
              "    <div class=\"colab-df-container\">\n",
              "      <div>\n",
              "<style scoped>\n",
              "    .dataframe tbody tr th:only-of-type {\n",
              "        vertical-align: middle;\n",
              "    }\n",
              "\n",
              "    .dataframe tbody tr th {\n",
              "        vertical-align: top;\n",
              "    }\n",
              "\n",
              "    .dataframe thead th {\n",
              "        text-align: right;\n",
              "    }\n",
              "</style>\n",
              "<table border=\"1\" class=\"dataframe\">\n",
              "  <thead>\n",
              "    <tr style=\"text-align: right;\">\n",
              "      <th></th>\n",
              "      <th>restaurant_name</th>\n",
              "      <th>rating_count</th>\n",
              "      <th>rating_mean</th>\n",
              "    </tr>\n",
              "  </thead>\n",
              "  <tbody>\n",
              "    <tr>\n",
              "      <th>0</th>\n",
              "      <td>The Meatball Shop</td>\n",
              "      <td>84</td>\n",
              "      <td>4.511905</td>\n",
              "    </tr>\n",
              "    <tr>\n",
              "      <th>1</th>\n",
              "      <td>Blue Ribbon Fried Chicken</td>\n",
              "      <td>64</td>\n",
              "      <td>4.328125</td>\n",
              "    </tr>\n",
              "    <tr>\n",
              "      <th>2</th>\n",
              "      <td>Shake Shack</td>\n",
              "      <td>133</td>\n",
              "      <td>4.278195</td>\n",
              "    </tr>\n",
              "    <tr>\n",
              "      <th>3</th>\n",
              "      <td>Blue Ribbon Sushi</td>\n",
              "      <td>73</td>\n",
              "      <td>4.219178</td>\n",
              "    </tr>\n",
              "  </tbody>\n",
              "</table>\n",
              "</div>\n",
              "      <button class=\"colab-df-convert\" onclick=\"convertToInteractive('df-ad71e6cc-21a8-4b33-926c-6a481063ace4')\"\n",
              "              title=\"Convert this dataframe to an interactive table.\"\n",
              "              style=\"display:none;\">\n",
              "\n",
              "  <svg xmlns=\"http://www.w3.org/2000/svg\" height=\"24px\"viewBox=\"0 0 24 24\"\n",
              "       width=\"24px\">\n",
              "    <path d=\"M0 0h24v24H0V0z\" fill=\"none\"/>\n",
              "    <path d=\"M18.56 5.44l.94 2.06.94-2.06 2.06-.94-2.06-.94-.94-2.06-.94 2.06-2.06.94zm-11 1L8.5 8.5l.94-2.06 2.06-.94-2.06-.94L8.5 2.5l-.94 2.06-2.06.94zm10 10l.94 2.06.94-2.06 2.06-.94-2.06-.94-.94-2.06-.94 2.06-2.06.94z\"/><path d=\"M17.41 7.96l-1.37-1.37c-.4-.4-.92-.59-1.43-.59-.52 0-1.04.2-1.43.59L10.3 9.45l-7.72 7.72c-.78.78-.78 2.05 0 2.83L4 21.41c.39.39.9.59 1.41.59.51 0 1.02-.2 1.41-.59l7.78-7.78 2.81-2.81c.8-.78.8-2.07 0-2.86zM5.41 20L4 18.59l7.72-7.72 1.47 1.35L5.41 20z\"/>\n",
              "  </svg>\n",
              "      </button>\n",
              "\n",
              "\n",
              "\n",
              "    <div id=\"df-418164a8-abd3-48ac-9293-634ce8f2a444\">\n",
              "      <button class=\"colab-df-quickchart\" onclick=\"quickchart('df-418164a8-abd3-48ac-9293-634ce8f2a444')\"\n",
              "              title=\"Suggest charts.\"\n",
              "              style=\"display:none;\">\n",
              "\n",
              "<svg xmlns=\"http://www.w3.org/2000/svg\" height=\"24px\"viewBox=\"0 0 24 24\"\n",
              "     width=\"24px\">\n",
              "    <g>\n",
              "        <path d=\"M19 3H5c-1.1 0-2 .9-2 2v14c0 1.1.9 2 2 2h14c1.1 0 2-.9 2-2V5c0-1.1-.9-2-2-2zM9 17H7v-7h2v7zm4 0h-2V7h2v10zm4 0h-2v-4h2v4z\"/>\n",
              "    </g>\n",
              "</svg>\n",
              "      </button>\n",
              "    </div>\n",
              "\n",
              "<style>\n",
              "  .colab-df-quickchart {\n",
              "    background-color: #E8F0FE;\n",
              "    border: none;\n",
              "    border-radius: 50%;\n",
              "    cursor: pointer;\n",
              "    display: none;\n",
              "    fill: #1967D2;\n",
              "    height: 32px;\n",
              "    padding: 0 0 0 0;\n",
              "    width: 32px;\n",
              "  }\n",
              "\n",
              "  .colab-df-quickchart:hover {\n",
              "    background-color: #E2EBFA;\n",
              "    box-shadow: 0px 1px 2px rgba(60, 64, 67, 0.3), 0px 1px 3px 1px rgba(60, 64, 67, 0.15);\n",
              "    fill: #174EA6;\n",
              "  }\n",
              "\n",
              "  [theme=dark] .colab-df-quickchart {\n",
              "    background-color: #3B4455;\n",
              "    fill: #D2E3FC;\n",
              "  }\n",
              "\n",
              "  [theme=dark] .colab-df-quickchart:hover {\n",
              "    background-color: #434B5C;\n",
              "    box-shadow: 0px 1px 3px 1px rgba(0, 0, 0, 0.15);\n",
              "    filter: drop-shadow(0px 1px 2px rgba(0, 0, 0, 0.3));\n",
              "    fill: #FFFFFF;\n",
              "  }\n",
              "</style>\n",
              "\n",
              "    <script>\n",
              "      async function quickchart(key) {\n",
              "        const containerElement = document.querySelector('#' + key);\n",
              "        const charts = await google.colab.kernel.invokeFunction(\n",
              "            'suggestCharts', [key], {});\n",
              "      }\n",
              "    </script>\n",
              "\n",
              "      <script>\n",
              "\n",
              "function displayQuickchartButton(domScope) {\n",
              "  let quickchartButtonEl =\n",
              "    domScope.querySelector('#df-418164a8-abd3-48ac-9293-634ce8f2a444 button.colab-df-quickchart');\n",
              "  quickchartButtonEl.style.display =\n",
              "    google.colab.kernel.accessAllowed ? 'block' : 'none';\n",
              "}\n",
              "\n",
              "        displayQuickchartButton(document);\n",
              "      </script>\n",
              "      <style>\n",
              "    .colab-df-container {\n",
              "      display:flex;\n",
              "      flex-wrap:wrap;\n",
              "      gap: 12px;\n",
              "    }\n",
              "\n",
              "    .colab-df-convert {\n",
              "      background-color: #E8F0FE;\n",
              "      border: none;\n",
              "      border-radius: 50%;\n",
              "      cursor: pointer;\n",
              "      display: none;\n",
              "      fill: #1967D2;\n",
              "      height: 32px;\n",
              "      padding: 0 0 0 0;\n",
              "      width: 32px;\n",
              "    }\n",
              "\n",
              "    .colab-df-convert:hover {\n",
              "      background-color: #E2EBFA;\n",
              "      box-shadow: 0px 1px 2px rgba(60, 64, 67, 0.3), 0px 1px 3px 1px rgba(60, 64, 67, 0.15);\n",
              "      fill: #174EA6;\n",
              "    }\n",
              "\n",
              "    [theme=dark] .colab-df-convert {\n",
              "      background-color: #3B4455;\n",
              "      fill: #D2E3FC;\n",
              "    }\n",
              "\n",
              "    [theme=dark] .colab-df-convert:hover {\n",
              "      background-color: #434B5C;\n",
              "      box-shadow: 0px 1px 3px 1px rgba(0, 0, 0, 0.15);\n",
              "      filter: drop-shadow(0px 1px 2px rgba(0, 0, 0, 0.3));\n",
              "      fill: #FFFFFF;\n",
              "    }\n",
              "  </style>\n",
              "\n",
              "      <script>\n",
              "        const buttonEl =\n",
              "          document.querySelector('#df-ad71e6cc-21a8-4b33-926c-6a481063ace4 button.colab-df-convert');\n",
              "        buttonEl.style.display =\n",
              "          google.colab.kernel.accessAllowed ? 'block' : 'none';\n",
              "\n",
              "        async function convertToInteractive(key) {\n",
              "          const element = document.querySelector('#df-ad71e6cc-21a8-4b33-926c-6a481063ace4');\n",
              "          const dataTable =\n",
              "            await google.colab.kernel.invokeFunction('convertToInteractive',\n",
              "                                                     [key], {});\n",
              "          if (!dataTable) return;\n",
              "\n",
              "          const docLinkHtml = 'Like what you see? Visit the ' +\n",
              "            '<a target=\"_blank\" href=https://colab.research.google.com/notebooks/data_table.ipynb>data table notebook</a>'\n",
              "            + ' to learn more about interactive tables.';\n",
              "          element.innerHTML = '';\n",
              "          dataTable['output_type'] = 'display_data';\n",
              "          await google.colab.output.renderOutput(dataTable, element);\n",
              "          const docLink = document.createElement('div');\n",
              "          docLink.innerHTML = docLinkHtml;\n",
              "          element.appendChild(docLink);\n",
              "        }\n",
              "      </script>\n",
              "    </div>\n",
              "  </div>\n"
            ]
          },
          "metadata": {},
          "execution_count": 43
        }
      ],
      "source": [
        "# Getting the part of the dataset that is rated\n",
        "df_rated = df.loc[df['rating'] != 'Not given'].copy()\n",
        "\n",
        "# rating data still stored as str, we need to convert them into int data type\n",
        "df_rated['rating'] = df_rated['rating'].astype('int')\n",
        "\n",
        "# Grouping data by restaurant name and getting the number of rated orders\n",
        "df_rated_counted = df_rated.groupby(['restaurant_name'])['rating'].count().reset_index()\n",
        "\n",
        "# Grouping data by restaurant name and getting the mean rating of the rated orders\n",
        "df_rated_mean = df_rated.groupby(['restaurant_name'])['rating'].mean()\n",
        "\n",
        "# Combining Data frames\n",
        "df_rated_counted_with_mean = df_rated_counted.join(df_rated_mean, how ='inner', on = 'restaurant_name', lsuffix ='_count', rsuffix='_mean')\n",
        "\n",
        "# Extracting parts of the data with rating counts > 50\n",
        "fulfilling_criteria1 = df_rated_counted_with_mean.loc[df_rated_counted_with_mean['rating_count'] > 50]\n",
        "\n",
        "# Extracting parts of the data (with rating counts > 50) that have mean ratings > 4\n",
        "fulfilling_criteria2 = fulfilling_criteria1.loc[fulfilling_criteria1['rating_mean'] > 4]\n",
        "\n",
        "# Sorting and dropping old index\n",
        "fulfilling_criteria2.sort_values(by = 'rating_mean', ascending = False).reset_index(drop = True)"
      ]
    },
    {
      "cell_type": "markdown",
      "metadata": {
        "id": "10uryUMhJY_V"
      },
      "source": [
        "- From the data above, the top performing restaurants are:\n",
        "  1. **The meatball shop** with **84 rating counts** and an **average of 4.512** rating\n",
        "  2. **Blue Ribbon Fried Chicken** with **64 rating counts** and an **average of 4.328 rating**\n",
        "  3. **The Shake Shack** with **133 rating counts** and an **average of 4.278 rating**\n",
        "  4. **Blue Ribbon Sushi** with **73 rating counts** and an **average of 4.219 rating**"
      ]
    },
    {
      "cell_type": "markdown",
      "source": [
        "#### **Rating and cuisine**\n"
      ],
      "metadata": {
        "id": "u2x7n79VES4O"
      }
    },
    {
      "cell_type": "code",
      "execution_count": null,
      "metadata": {
        "id": "3qt4MCNTJY_V",
        "colab": {
          "base_uri": "https://localhost:8080/",
          "height": 474
        },
        "outputId": "5a98712a-6c40-45fa-b2c5-74f7d57a9a54"
      },
      "outputs": [
        {
          "output_type": "display_data",
          "data": {
            "text/plain": [
              "<Figure size 1800x1000 with 1 Axes>"
            ],
            "image/png": "[encoded data removed]"
          },
          "metadata": {}
        }
      ],
      "source": [
        "# Plotting the ratings given to orders, segregated according to Cuisine Type\n",
        "\n",
        "plt.figure(figsize=(18,10))\n",
        "sns.countplot(data = df, x = \"cuisine_type\", hue = \"rating\")\n",
        "plt.xticks(rotation = 90)\n",
        "plt.show()"
      ]
    },
    {
      "cell_type": "markdown",
      "source": [
        "- For **most types of cuisine**, the number of **3-rated orders are the least**\n",
        "- This means that excluding those unrated orders, most of the **customers who do provide rating are giving ratings of either 4 or 5**\n",
        "- Thia can be considered positive customer feedback"
      ],
      "metadata": {
        "id": "4NGavue9IzOL"
      }
    },
    {
      "cell_type": "markdown",
      "source": [
        "#### **Rating and cost**"
      ],
      "metadata": {
        "id": "rAjk4mNXKMm8"
      }
    },
    {
      "cell_type": "code",
      "source": [
        "# Generating distribution plots of Order Costs, across ratings given\n",
        "\n",
        "plot = sns.FacetGrid(df, col=\"rating\")\n",
        "plot.map(sns.histplot, \"cost_of_the_order\");"
      ],
      "metadata": {
        "colab": {
          "base_uri": "https://localhost:8080/",
          "height": 195
        },
        "id": "11BG1PhdVPUb",
        "outputId": "a0a0ac44-be41-44e2-b843-72b9f1bdbfee"
      },
      "execution_count": null,
      "outputs": [
        {
          "output_type": "display_data",
          "data": {
            "text/plain": [
              "<Figure size 1200x300 with 4 Axes>"
            ],
            "image/png": "[encoded data removed]"
          },
          "metadata": {}
        }
      ]
    },
    {
      "cell_type": "code",
      "source": [
        "plt.figure(figsize=(6, 3))\n",
        "sns.pointplot(x = 'rating', y = 'cost_of_the_order', data = df)\n",
        "plt.show()"
      ],
      "metadata": {
        "colab": {
          "base_uri": "https://localhost:8080/",
          "height": 311
        },
        "id": "6QZbgeD4O9CA",
        "outputId": "8e8834ce-566c-43b6-a0c8-11e398c88c18"
      },
      "execution_count": null,
      "outputs": [
        {
          "output_type": "display_data",
          "data": {
            "text/plain": [
              "<Figure size 600x300 with 1 Axes>"
            ],
            "image/png": "[encoded data removed]"
          },
          "metadata": {}
        }
      ]
    },
    {
      "cell_type": "markdown",
      "source": [
        "- it can be seen that a **majority of orders given a rating of 5 were at the lower end of the cost spectrum**\n",
        "- **Similar trends were observed for orders with 3 and 4 ratings** which means that **low-cost orders are still being given less than perfect ratings**\n",
        "- This **may suggest that cost of orders do not exhibit strong influence on customer ratings**"
      ],
      "metadata": {
        "id": "x4BubgtSUroB"
      }
    },
    {
      "cell_type": "markdown",
      "source": [
        "#### **Rating and delivery time**"
      ],
      "metadata": {
        "id": "7Yw190C2KNC7"
      }
    },
    {
      "cell_type": "code",
      "source": [
        "# Generating distribution plots of Delivery Time, across ratings given\n",
        "\n",
        "plot = sns.FacetGrid(df, col=\"rating\")\n",
        "plot.map(sns.histplot, \"delivery_time\");"
      ],
      "metadata": {
        "colab": {
          "base_uri": "https://localhost:8080/",
          "height": 194
        },
        "id": "azYfRBHeXbFI",
        "outputId": "91b4bc05-878a-4f0a-a40b-9e6b5dba343c"
      },
      "execution_count": null,
      "outputs": [
        {
          "output_type": "display_data",
          "data": {
            "text/plain": [
              "<Figure size 1200x300 with 4 Axes>"
            ],
            "image/png": "[encoded data removed]"
          },
          "metadata": {}
        }
      ]
    },
    {
      "cell_type": "code",
      "source": [
        "plt.figure(figsize=(6, 3))\n",
        "sns.pointplot(data = df, x = 'rating', y = 'delivery_time')\n",
        "plt.show()"
      ],
      "metadata": {
        "colab": {
          "base_uri": "https://localhost:8080/",
          "height": 313
        },
        "id": "yWoc7uvbQG_q",
        "outputId": "f80584bb-0a5a-4f22-a6f5-a21318599134"
      },
      "execution_count": null,
      "outputs": [
        {
          "output_type": "display_data",
          "data": {
            "text/plain": [
              "<Figure size 600x300 with 1 Axes>"
            ],
            "image/png": "[encoded data removed]"
          },
          "metadata": {}
        }
      ]
    },
    {
      "cell_type": "markdown",
      "source": [
        "- From the point plot, it can be seen that a **rating of 3 are likely to be given to orders that took longer time** to deliver"
      ],
      "metadata": {
        "id": "Uclqj4w3XFzU"
      }
    },
    {
      "cell_type": "markdown",
      "source": [
        "#### **Correlation among numerical variables**"
      ],
      "metadata": {
        "id": "U_aCD9xGL61T"
      }
    },
    {
      "cell_type": "code",
      "source": [
        "# Plotting the heatmap showing correlations between numerical columns\n",
        "\n",
        "num_var = ['cost_of_the_order', 'food_preparation_time', 'delivery_time']\n",
        "plt.figure(figsize=(10, 5))\n",
        "sns.heatmap(df[num_var].corr(), annot=True, vmin=-1, vmax=1, fmt=\".3f\")\n",
        "plt.show()"
      ],
      "metadata": {
        "colab": {
          "base_uri": "https://localhost:8080/",
          "height": 451
        },
        "id": "NbOuZREvMPxN",
        "outputId": "f7318d30-e1f9-4758-d953-67328c6b0e17"
      },
      "execution_count": null,
      "outputs": [
        {
          "output_type": "display_data",
          "data": {
            "text/plain": [
              "<Figure size 1000x500 with 2 Axes>"
            ],
            "image/png": "[encoded data removed]"
          },
          "metadata": {}
        }
      ]
    },
    {
      "cell_type": "markdown",
      "source": [
        "- from the heatmap above, the correlation values are very close to 0\n",
        "- This means that the three numerical variables exhibit weak correlation with one another"
      ],
      "metadata": {
        "id": "2ibsGKb3X89k"
      }
    },
    {
      "cell_type": "markdown",
      "metadata": {
        "id": "VTugVsL4Ddz-"
      },
      "source": [
        "## **Summary and Recommendations**:\n",
        "\n",
        "---\n",
        "### **Insights from the Analysis**\n",
        "---\n",
        "\n",
        "**From Univariate Analysis**\n",
        "- A considerable number of customers have used the app to make orders more than ones indicating\n",
        "- While there are a lot of restaurants catering to customer orders, there are 'popular' restaurants that receive significantly larger orders compared to others like:\n",
        "  1. Shake shack\n",
        "  2. Meatball shop\n",
        "  3. Blue ribbon sushi\n",
        "  4. Blue ribbon Fried chicken\n",
        "- there are also 14 cuisine types that are being ordered but like the restaurants, some cuisines are far ahead of others in terms of order counts:\n",
        "  1. American\n",
        "  2. Japanese\n",
        "  3. Italian\n",
        "  4. chinese\n",
        "- order costs range from 5-35 USD but most occurring orders are priced at 11-12.5 USD which may give insight to the customers' particular spending preference\n",
        "- More orders are being made during weekends\n",
        "- Significant portion of the orders are not being rated. Meanwhile those who were, are rated between 3 to 5 with 5-rated orders being the majority. This may indicate good market reception\n",
        "- Food preparation time ranges from 20-35 mins with the number of orders being equally distributed within this range\n",
        "- Food delivery time is 15-33 mins while majority of orders are delivered within 25-30 mins\n",
        "\n",
        "**From Multivariate Analysis**\n",
        "- Korean, Mediterranean and Vietnamese cuisines are the cheapest yet majority of orders made are from other cuisines (Top 4)\n",
        "- This means that cuisine preference holds a higher place in customer's decision making process, compared to the price\n",
        "- Order ratings were found to not be heavily dependent on cuisine nor cost\n",
        "- On the other hand, orders with longer delivery time have been shown to be more likely rated with a 3\n",
        "\n",
        "---\n",
        "### **Recommendations**\n",
        "---\n",
        "From the initial analysis of the data, the company can consider the following steps moving forward:\n",
        "- Ensure faster delivery time to shorten customer waiting period\n",
        "- Focus on bringing in more restaurants offering the more popular cuisines like american and Japanese. For a particular fixed area of opeartion, customer food preferences are not likely to change abruptly and this can be leveraged to ensure continued success.\n",
        "- Majority of customers can be said to prefer low cost orders. This information may be leveraged by expanding base of food providers (aka restaurants) to those who sell food within the price range of 11-12.5 USD\n",
        "- Since almost 2/3 of the total orders are made during weekends, optimum performance should be ensured during these periods\n",
        "- Encourage customers to submit ratings on their orders for better quality data analysis. This can be done probably by giving out incentives  "
      ]
    }
  ],
  "metadata": {
    "colab": {
      "provenance": []
    },
    "hide_input": false,
    "kernelspec": {
      "display_name": "Python 3 (ipykernel)",
      "language": "python",
      "name": "python3"
    },
    "language_info": {
      "codemirror_mode": {
        "name": "ipython",
        "version": 3
      },
      "file_extension": ".py",
      "mimetype": "text/x-python",
      "name": "python",
      "nbconvert_exporter": "python",
      "pygments_lexer": "ipython3",
      "version": "3.9.13"
    },
    "toc": {
      "base_numbering": 1,
      "nav_menu": {},
      "number_sections": true,
      "sideBar": true,
      "skip_h1_title": false,
      "title_cell": "Table of Contents",
      "title_sidebar": "Contents",
      "toc_cell": false,
      "toc_position": {},
      "toc_section_display": true,
      "toc_window_display": false
    },
    "varInspector": {
      "cols": {
        "lenName": 16,
        "lenType": 16,
        "lenVar": 40
      },
      "kernels_config": {
        "python": {
          "delete_cmd_postfix": "",
          "delete_cmd_prefix": "del ",
          "library": "var_list.py",
          "varRefreshCmd": "print(var_dic_list())"
        },
        "r": {
          "delete_cmd_postfix": ") ",
          "delete_cmd_prefix": "rm(",
          "library": "var_list.r",
          "varRefreshCmd": "cat(var_dic_list()) "
        }
      },
      "types_to_exclude": [
        "module",
        "function",
        "builtin_function_or_method",
        "instance",
        "_Feature"
      ],
      "window_display": false
    }
  },
  "nbformat": 4,
  "nbformat_minor": 0
}