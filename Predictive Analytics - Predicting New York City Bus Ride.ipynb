{
  "cells": [
    {
      "cell_type": "markdown",
      "source": [
        "<font size =\"8\"> <div align=\"center\">**Predictive Analytics: New York City Bus Ride Duration Prediction**</div></font>\n",
        "<font size =\"5\"> <div align=\"center\">By **Jon Nyner Gavan**</div></font>\n"
      ],
      "metadata": {
        "id": "aQVa8aLgjtt7"
      }
    },
    {
      "cell_type": "markdown",
      "metadata": {
        "id": "fOe2N74aF4az"
      },
      "source": [
        "--------------------\n",
        "# **Context of the Project (New York City Bus)**\n",
        "--------------------\n",
        "\n",
        "<p align = \"justify\">\n",
        "In this project, the data on New York City Bus network is comprehensively explored and looked into. Moreover, the machine learning concepts learned thus far, is applied to this particular\n",
        "dataset and used to train a predictive model than can accurately predict the duration for a particular bus ride.\n",
        "\n",
        "-----------------\n",
        "## **Dataset Description**\n",
        "-----------------\n",
        "\n",
        "The ``trips`` table has the following fields\n",
        "* ``id`` which uniquely identifies the trip\n",
        "* ``Transport_Service`` is the transport company - in our case study we have data from 4 different transport companies\n",
        "* ``pickup_datetime`` the time stamp for pickup\n",
        "* ``dropoff_datetime`` the time stamp for drop-off\n",
        "* ``passenger_count`` the number of passengers for the trip\n",
        "* ``trip_distance`` total distance of the trip in miles\n",
        "* ``pickup_longitude`` the longitude for pickup\n",
        "* ``pickup_latitude`` the latitude for pickup\n",
        "* ``dropoff_longitude``the longitude of dropoff\n",
        "* ``dropoff_latitude`` the latitude of dropoff\n",
        "* ``payment_type`` a numeric code signifying how the passenger paid for the trip. 1= Credit card 2= Cash 3= Unknown\n",
        "* ``trip_duration`` this is the duration we would like to predict using other fields\n",
        "* ``pickup_neighborhood`` a one or two letter id of the neighborhod where the trip started\n",
        "* ``dropoff_neighborhood`` a one or two letter id of the neighborhod where the trip ended\n",
        "\n",
        "-----------------\n",
        "## **Objective of the Study**\n",
        "-----------------\n",
        "\n",
        "- To Build a predictive model, for predicting the duration for the bus ride.\n",
        "- Use Automated feature engineering to create new features\n",
        "\n"
      ]
    },
    {
      "cell_type": "markdown",
      "metadata": {
        "id": "4HxZxr_cF4a4"
      },
      "source": [
        "### **Importing the necessary libraries and overview of the dataset**"
      ]
    },
    {
      "cell_type": "markdown",
      "source": [
        "**Importing the necessary libraries**"
      ],
      "metadata": {
        "id": "5-fzs7EDlB3k"
      }
    },
    {
      "cell_type": "code",
      "execution_count": null,
      "metadata": {
        "colab": {
          "base_uri": "https://localhost:8080/"
        },
        "id": "o7_IbLPwF4a2",
        "outputId": "9a13de2f-1883-41f0-f315-37812b26d4e5"
      },
      "outputs": [
        {
          "name": "stdout",
          "output_type": "stream",
          "text": [
            "Collecting featuretools==0.27.0\n",
            "  Downloading featuretools-0.27.0-py3-none-any.whl (327 kB)\n",
            "\u001b[?25l     \u001b[90m━━━━━━━━━━━━━━━━━━━━━━━━━━━━━━━━━━━━━━━━\u001b[0m \u001b[32m0.0/327.3 kB\u001b[0m \u001b[31m?\u001b[0m eta \u001b[36m-:--:--\u001b[0m\r",
            "\u001b[2K     \u001b[91m━━━━━━━━━━━━━━━━━━━━━━━━━━━━━━━━━━━━\u001b[0m\u001b[91m╸\u001b[0m\u001b[90m━\u001b[0m \u001b[32m317.4/327.3 kB\u001b[0m \u001b[31m14.7 MB/s\u001b[0m eta \u001b[36m0:00:01\u001b[0m\r",
            "\u001b[2K     \u001b[90m━━━━━━━━━━━━━━━━━━━━━━━━━━━━━━━━━━━━━━━\u001b[0m \u001b[32m327.3/327.3 kB\u001b[0m \u001b[31m6.9 MB/s\u001b[0m eta \u001b[36m0:00:00\u001b[0m\n",
            "\u001b[?25hRequirement already satisfied: scipy>=1.3.2 in /usr/local/lib/python3.10/dist-packages (from featuretools==0.27.0) (1.10.1)\n",
            "Requirement already satisfied: numpy>=1.16.6 in /usr/local/lib/python3.10/dist-packages (from featuretools==0.27.0) (1.22.4)\n",
            "Requirement already satisfied: pandas<2.0.0,>=1.2.0 in /usr/local/lib/python3.10/dist-packages (from featuretools==0.27.0) (1.5.3)\n",
            "Requirement already satisfied: tqdm>=4.32.0 in /usr/local/lib/python3.10/dist-packages (from featuretools==0.27.0) (4.65.0)\n",
            "Requirement already satisfied: pyyaml>=5.4 in /usr/local/lib/python3.10/dist-packages (from featuretools==0.27.0) (6.0)\n",
            "Requirement already satisfied: cloudpickle>=0.4.0 in /usr/local/lib/python3.10/dist-packages (from featuretools==0.27.0) (2.2.1)\n",
            "Requirement already satisfied: distributed>=2.12.0 in /usr/local/lib/python3.10/dist-packages (from featuretools==0.27.0) (2022.12.1)\n",
            "Requirement already satisfied: dask[dataframe]>=2.12.0 in /usr/local/lib/python3.10/dist-packages (from featuretools==0.27.0) (2022.12.1)\n",
            "Requirement already satisfied: psutil>=5.6.6 in /usr/local/lib/python3.10/dist-packages (from featuretools==0.27.0) (5.9.5)\n",
            "Requirement already satisfied: click>=7.0.0 in /usr/local/lib/python3.10/dist-packages (from featuretools==0.27.0) (8.1.3)\n",
            "Requirement already satisfied: fsspec>=0.6.0 in /usr/local/lib/python3.10/dist-packages (from dask[dataframe]>=2.12.0->featuretools==0.27.0) (2023.6.0)\n",
            "Requirement already satisfied: packaging>=20.0 in /usr/local/lib/python3.10/dist-packages (from dask[dataframe]>=2.12.0->featuretools==0.27.0) (23.1)\n",
            "Requirement already satisfied: partd>=0.3.10 in /usr/local/lib/python3.10/dist-packages (from dask[dataframe]>=2.12.0->featuretools==0.27.0) (1.4.0)\n",
            "Requirement already satisfied: toolz>=0.8.2 in /usr/local/lib/python3.10/dist-packages (from dask[dataframe]>=2.12.0->featuretools==0.27.0) (0.12.0)\n",
            "Requirement already satisfied: jinja2 in /usr/local/lib/python3.10/dist-packages (from distributed>=2.12.0->featuretools==0.27.0) (3.1.2)\n",
            "Requirement already satisfied: locket>=1.0.0 in /usr/local/lib/python3.10/dist-packages (from distributed>=2.12.0->featuretools==0.27.0) (1.0.0)\n",
            "Requirement already satisfied: msgpack>=0.6.0 in /usr/local/lib/python3.10/dist-packages (from distributed>=2.12.0->featuretools==0.27.0) (1.0.5)\n",
            "Requirement already satisfied: sortedcontainers!=2.0.0,!=2.0.1 in /usr/local/lib/python3.10/dist-packages (from distributed>=2.12.0->featuretools==0.27.0) (2.4.0)\n",
            "Requirement already satisfied: tblib>=1.6.0 in /usr/local/lib/python3.10/dist-packages (from distributed>=2.12.0->featuretools==0.27.0) (2.0.0)\n",
            "Requirement already satisfied: tornado>=6.0.3 in /usr/local/lib/python3.10/dist-packages (from distributed>=2.12.0->featuretools==0.27.0) (6.3.1)\n",
            "Requirement already satisfied: urllib3 in /usr/local/lib/python3.10/dist-packages (from distributed>=2.12.0->featuretools==0.27.0) (1.26.16)\n",
            "Requirement already satisfied: zict>=0.1.3 in /usr/local/lib/python3.10/dist-packages (from distributed>=2.12.0->featuretools==0.27.0) (3.0.0)\n",
            "Requirement already satisfied: python-dateutil>=2.8.1 in /usr/local/lib/python3.10/dist-packages (from pandas<2.0.0,>=1.2.0->featuretools==0.27.0) (2.8.2)\n",
            "Requirement already satisfied: pytz>=2020.1 in /usr/local/lib/python3.10/dist-packages (from pandas<2.0.0,>=1.2.0->featuretools==0.27.0) (2022.7.1)\n",
            "Requirement already satisfied: six>=1.5 in /usr/local/lib/python3.10/dist-packages (from python-dateutil>=2.8.1->pandas<2.0.0,>=1.2.0->featuretools==0.27.0) (1.16.0)\n",
            "Requirement already satisfied: MarkupSafe>=2.0 in /usr/local/lib/python3.10/dist-packages (from jinja2->distributed>=2.12.0->featuretools==0.27.0) (2.1.3)\n",
            "Installing collected packages: featuretools\n",
            "Successfully installed featuretools-0.27.0\n"
          ]
        }
      ],
      "source": [
        "# Installing featuretools library\n",
        "\n",
        "!pip install featuretools==0.27.0"
      ]
    },
    {
      "cell_type": "code",
      "execution_count": null,
      "metadata": {
        "ExecuteTime": {
          "end_time": "2021-08-13T12:37:02.352935Z",
          "start_time": "2021-08-13T12:37:02.261186Z"
        },
        "colab": {
          "base_uri": "https://localhost:8080/"
        },
        "id": "rj9grLolCakF",
        "outputId": "d02e1d42-1418-452e-be89-c3494fa5f601"
      },
      "outputs": [
        {
          "name": "stdout",
          "output_type": "stream",
          "text": [
            "0.27.0\n"
          ]
        }
      ],
      "source": [
        "# Basic libraries of python for numeric and dataframe computations\n",
        "import numpy as np\n",
        "import pandas as pd\n",
        "\n",
        "# Basic library for data visualization\n",
        "import matplotlib.pyplot as plt\n",
        "\n",
        "# Slightly advanced library for data visualization\n",
        "import seaborn as sns\n",
        "\n",
        "# Featauretools for feature engineering\n",
        "import featuretools as ft\n",
        "\n",
        "from sklearn.model_selection import train_test_split\n",
        "from sklearn.impute import SimpleImputer\n",
        "\n",
        "# Importing gradient boosting regressor, to make prediction\n",
        "from sklearn.metrics import r2_score\n",
        "from sklearn.linear_model import LinearRegression\n",
        "from sklearn.ensemble import RandomForestRegressor\n",
        "from sklearn.tree import DecisionTreeRegressor\n",
        "\n",
        "# Importing primitives\n",
        "from featuretools.primitives import (Minute, Hour, Day, Month,\n",
        "                                     Weekday, IsWeekend, Count, Sum, Mean, Median, Std, Min, Max)\n",
        "\n",
        "# Used to ignore the warning given as output of the code\n",
        "import warnings\n",
        "warnings.filterwarnings(\"ignore\")\n",
        "\n",
        "print(ft.__version__)\n",
        "%load_ext autoreload\n",
        "%autoreload 2"
      ]
    },
    {
      "cell_type": "markdown",
      "source": [
        "**Pre-defining some useful functions for Data Manipulation**"
      ],
      "metadata": {
        "id": "sw8Q3bDxlD-V"
      }
    },
    {
      "cell_type": "code",
      "execution_count": null,
      "metadata": {
        "id": "qfSleNSWF4a5"
      },
      "outputs": [],
      "source": [
        "# Defining some useful functions\n",
        "\n",
        "# To preview first five rows.\n",
        "def preview(df, n=5):\n",
        "    \"\"\"return n rows that have fewest number of nulls\"\"\"\n",
        "    order = df.isnull().sum(axis=1).sort_values().head(n).index\n",
        "    return df.loc[order]\n",
        "\n",
        "# To see the feature importance of variables in the final model\n",
        "def feature_importances(model, feature_names, n=10):\n",
        "    importances = model.feature_importances_\n",
        "    zipped = sorted(zip(feature_names, importances), key=lambda x: -x[1])\n",
        "    for i, f in enumerate(zipped[:n]):\n",
        "        print(\"%d: Feature: %s, %.3f\" % (i+1, f[0], f[1]))\n",
        "\n",
        "# To generate train and test dataset\n",
        "def get_train_test_fm(feature_matrix, percentage):\n",
        "    nrows = feature_matrix.shape[0]\n",
        "    head = int(nrows * percentage)\n",
        "    tail = nrows-head\n",
        "    X_train = feature_matrix.head(head)\n",
        "    y_train = X_train['trip_duration']\n",
        "    X_train = X_train.drop(['trip_duration'], axis=1)\n",
        "    imp = SimpleImputer()\n",
        "    X_train = imp.fit_transform(X_train)\n",
        "    X_test = feature_matrix.tail(tail)\n",
        "    y_test = X_test['trip_duration']\n",
        "    X_test = X_test.drop(['trip_duration'], axis=1)\n",
        "    X_test = imp.transform(X_test)\n",
        "\n",
        "    return (X_train, y_train, X_test,y_test)\n",
        "\n",
        "def column_string(n):\n",
        "    string = \"\"\n",
        "    while n > 0:\n",
        "        n, remainder = divmod(n - 1, 26)\n",
        "        string = chr(65 + remainder) + string\n",
        "    return string\n",
        "\n",
        "# To compute features using automated feature engineering.\n",
        "def compute_features(features, cutoff_time):\n",
        "    # Shuffle so we don't see encoded features in the front or backs\n",
        "\n",
        "    np.random.shuffle(features)\n",
        "    feature_matrix = ft.calculate_feature_matrix(features,\n",
        "                                                 cutoff_time=cutoff_time,\n",
        "                                                 approximate='36d',\n",
        "                                                 verbose=True)\n",
        "    print(\"Finishing computing...\")\n",
        "    feature_matrix, features = ft.encode_features(feature_matrix, features,\n",
        "                                                  to_encode=[\"pickup_neighborhood\", \"dropoff_neighborhood\"],\n",
        "                                                  include_unknown=False)\n",
        "    return feature_matrix"
      ]
    },
    {
      "cell_type": "markdown",
      "metadata": {
        "id": "4a4QTScIvnMy"
      },
      "source": [
        "**Loading the datasets**"
      ]
    },
    {
      "cell_type": "code",
      "source": [
        "# Mounting the drive\n",
        "from google.colab import drive\n",
        "drive.mount('/content/drive')"
      ],
      "metadata": {
        "id": "-mjGMRo2lcrm"
      },
      "execution_count": null,
      "outputs": []
    },
    {
      "cell_type": "code",
      "execution_count": null,
      "metadata": {
        "id": "3uFREyYDvnMz"
      },
      "outputs": [],
      "source": [
        "# Importing the datasets\n",
        "trips = pd.read_csv('BUS_SERVICE.csv',\n",
        "                        parse_dates=[\"pickup_datetime\",\"dropoff_datetime\"],\n",
        "                        dtype={'vendor_id':\"category\",'passenger_count':'int64'},\n",
        "                        encoding='utf-8')\n",
        "trips[\"payment_type\"] = trips[\"payment_type\"].apply(str)\n",
        "trips = trips.dropna(axis=0, how='any', subset=['trip_duration'])\n",
        "\n",
        "pickup_neighborhoods = pd.read_csv(\"pickup_neighborhoods.csv\", encoding='utf-8')\n",
        "dropoff_neighborhoods = pd.read_csv(\"dropoff_neighborhoods.csv\", encoding='utf-8')\n"
      ]
    },
    {
      "cell_type": "markdown",
      "metadata": {
        "id": "mrf5HKhBF4a5"
      },
      "source": [
        "**Viewing the Dataset**"
      ]
    },
    {
      "cell_type": "code",
      "execution_count": null,
      "metadata": {
        "ExecuteTime": {
          "end_time": "2021-07-15T12:40:47.210990Z",
          "start_time": "2021-07-15T12:40:41.965643Z"
        },
        "colab": {
          "base_uri": "https://localhost:8080/",
          "height": 601
        },
        "id": "UjG7KOXvF4a6",
        "outputId": "80e6898b-4790-4fd5-d959-16ed02aca030",
        "scrolled": false
      },
      "outputs": [
        {
          "data": {
            "text/html": [
              "\n",
              "  <div id=\"df-cf7f9764-29ab-4ef8-9180-43710cda0f54\">\n",
              "    <div class=\"colab-df-container\">\n",
              "      <div>\n",
              "<style scoped>\n",
              "    .dataframe tbody tr th:only-of-type {\n",
              "        vertical-align: middle;\n",
              "    }\n",
              "\n",
              "    .dataframe tbody tr th {\n",
              "        vertical-align: top;\n",
              "    }\n",
              "\n",
              "    .dataframe thead th {\n",
              "        text-align: right;\n",
              "    }\n",
              "</style>\n",
              "<table border=\"1\" class=\"dataframe\">\n",
              "  <thead>\n",
              "    <tr style=\"text-align: right;\">\n",
              "      <th></th>\n",
              "      <th>id</th>\n",
              "      <th>Transport_service</th>\n",
              "      <th>pickup_datetime</th>\n",
              "      <th>dropoff_datetime</th>\n",
              "      <th>passenger_count</th>\n",
              "      <th>trip_distance</th>\n",
              "      <th>pickup_longitude</th>\n",
              "      <th>pickup_latitude</th>\n",
              "      <th>dropoff_longitude</th>\n",
              "      <th>dropoff_latitude</th>\n",
              "      <th>payment_type</th>\n",
              "      <th>trip_duration</th>\n",
              "      <th>pickup_neighborhood</th>\n",
              "      <th>dropoff_neighborhood</th>\n",
              "    </tr>\n",
              "  </thead>\n",
              "  <tbody>\n",
              "    <tr>\n",
              "      <th>0</th>\n",
              "      <td>0</td>\n",
              "      <td>3</td>\n",
              "      <td>2019-01-01 00:00:00</td>\n",
              "      <td>2019-01-01 00:06:00</td>\n",
              "      <td>1</td>\n",
              "      <td>1.32</td>\n",
              "      <td>-73.961258</td>\n",
              "      <td>40.796200</td>\n",
              "      <td>-73.950050</td>\n",
              "      <td>40.787312</td>\n",
              "      <td>3</td>\n",
              "      <td>387</td>\n",
              "      <td>AH</td>\n",
              "      <td>C</td>\n",
              "    </tr>\n",
              "    <tr>\n",
              "      <th>997</th>\n",
              "      <td>997</td>\n",
              "      <td>4</td>\n",
              "      <td>2019-01-01 02:38:00</td>\n",
              "      <td>2019-01-01 02:52:00</td>\n",
              "      <td>3</td>\n",
              "      <td>5.57</td>\n",
              "      <td>-73.952347</td>\n",
              "      <td>40.824081</td>\n",
              "      <td>-73.996429</td>\n",
              "      <td>40.759918</td>\n",
              "      <td>1</td>\n",
              "      <td>828</td>\n",
              "      <td>AL</td>\n",
              "      <td>P</td>\n",
              "    </tr>\n",
              "    <tr>\n",
              "      <th>996</th>\n",
              "      <td>996</td>\n",
              "      <td>4</td>\n",
              "      <td>2019-01-01 02:38:00</td>\n",
              "      <td>2019-01-01 02:41:00</td>\n",
              "      <td>2</td>\n",
              "      <td>0.20</td>\n",
              "      <td>-73.980171</td>\n",
              "      <td>40.745308</td>\n",
              "      <td>-73.984192</td>\n",
              "      <td>40.745892</td>\n",
              "      <td>2</td>\n",
              "      <td>184</td>\n",
              "      <td>Y</td>\n",
              "      <td>AO</td>\n",
              "    </tr>\n",
              "    <tr>\n",
              "      <th>995</th>\n",
              "      <td>995</td>\n",
              "      <td>3</td>\n",
              "      <td>2019-01-01 02:38:00</td>\n",
              "      <td>2019-01-01 02:52:00</td>\n",
              "      <td>1</td>\n",
              "      <td>2.83</td>\n",
              "      <td>-73.991966</td>\n",
              "      <td>40.759331</td>\n",
              "      <td>-74.004707</td>\n",
              "      <td>40.724442</td>\n",
              "      <td>2</td>\n",
              "      <td>815</td>\n",
              "      <td>P</td>\n",
              "      <td>AB</td>\n",
              "    </tr>\n",
              "    <tr>\n",
              "      <th>994</th>\n",
              "      <td>994</td>\n",
              "      <td>2</td>\n",
              "      <td>2019-01-01 02:38:00</td>\n",
              "      <td>2019-01-01 02:49:00</td>\n",
              "      <td>2</td>\n",
              "      <td>2.48</td>\n",
              "      <td>-73.961441</td>\n",
              "      <td>40.694302</td>\n",
              "      <td>-73.959938</td>\n",
              "      <td>40.662540</td>\n",
              "      <td>1</td>\n",
              "      <td>655</td>\n",
              "      <td>V</td>\n",
              "      <td>AF</td>\n",
              "    </tr>\n",
              "    <tr>\n",
              "      <th>993</th>\n",
              "      <td>993</td>\n",
              "      <td>3</td>\n",
              "      <td>2019-01-01 02:38:00</td>\n",
              "      <td>2019-01-01 02:40:00</td>\n",
              "      <td>4</td>\n",
              "      <td>0.72</td>\n",
              "      <td>-73.974014</td>\n",
              "      <td>40.782967</td>\n",
              "      <td>-73.969894</td>\n",
              "      <td>40.788155</td>\n",
              "      <td>2</td>\n",
              "      <td>162</td>\n",
              "      <td>I</td>\n",
              "      <td>U</td>\n",
              "    </tr>\n",
              "    <tr>\n",
              "      <th>992</th>\n",
              "      <td>992</td>\n",
              "      <td>2</td>\n",
              "      <td>2019-01-01 02:38:00</td>\n",
              "      <td>2019-01-01 03:13:00</td>\n",
              "      <td>3</td>\n",
              "      <td>10.50</td>\n",
              "      <td>-73.956985</td>\n",
              "      <td>40.766346</td>\n",
              "      <td>-73.966179</td>\n",
              "      <td>40.674366</td>\n",
              "      <td>3</td>\n",
              "      <td>2131</td>\n",
              "      <td>K</td>\n",
              "      <td>V</td>\n",
              "    </tr>\n",
              "    <tr>\n",
              "      <th>991</th>\n",
              "      <td>991</td>\n",
              "      <td>4</td>\n",
              "      <td>2019-01-01 02:38:00</td>\n",
              "      <td>2019-01-01 02:52:00</td>\n",
              "      <td>3</td>\n",
              "      <td>6.80</td>\n",
              "      <td>-73.911682</td>\n",
              "      <td>40.775295</td>\n",
              "      <td>-73.903908</td>\n",
              "      <td>40.817696</td>\n",
              "      <td>2</td>\n",
              "      <td>898</td>\n",
              "      <td>W</td>\n",
              "      <td>S</td>\n",
              "    </tr>\n",
              "    <tr>\n",
              "      <th>990</th>\n",
              "      <td>990</td>\n",
              "      <td>1</td>\n",
              "      <td>2019-01-01 02:38:00</td>\n",
              "      <td>2019-01-01 03:22:00</td>\n",
              "      <td>1</td>\n",
              "      <td>13.80</td>\n",
              "      <td>-73.976143</td>\n",
              "      <td>40.775990</td>\n",
              "      <td>-73.940956</td>\n",
              "      <td>40.676426</td>\n",
              "      <td>2</td>\n",
              "      <td>2693</td>\n",
              "      <td>AV</td>\n",
              "      <td>AW</td>\n",
              "    </tr>\n",
              "    <tr>\n",
              "      <th>989</th>\n",
              "      <td>989</td>\n",
              "      <td>2</td>\n",
              "      <td>2019-01-01 02:38:00</td>\n",
              "      <td>2019-01-01 03:08:00</td>\n",
              "      <td>1</td>\n",
              "      <td>9.00</td>\n",
              "      <td>-73.981331</td>\n",
              "      <td>40.780663</td>\n",
              "      <td>-73.848824</td>\n",
              "      <td>40.722755</td>\n",
              "      <td>3</td>\n",
              "      <td>1841</td>\n",
              "      <td>AV</td>\n",
              "      <td>B</td>\n",
              "    </tr>\n",
              "  </tbody>\n",
              "</table>\n",
              "</div>\n",
              "      <button class=\"colab-df-convert\" onclick=\"convertToInteractive('df-cf7f9764-29ab-4ef8-9180-43710cda0f54')\"\n",
              "              title=\"Convert this dataframe to an interactive table.\"\n",
              "              style=\"display:none;\">\n",
              "        \n",
              "  <svg xmlns=\"http://www.w3.org/2000/svg\" height=\"24px\"viewBox=\"0 0 24 24\"\n",
              "       width=\"24px\">\n",
              "    <path d=\"M0 0h24v24H0V0z\" fill=\"none\"/>\n",
              "    <path d=\"M18.56 5.44l.94 2.06.94-2.06 2.06-.94-2.06-.94-.94-2.06-.94 2.06-2.06.94zm-11 1L8.5 8.5l.94-2.06 2.06-.94-2.06-.94L8.5 2.5l-.94 2.06-2.06.94zm10 10l.94 2.06.94-2.06 2.06-.94-2.06-.94-.94-2.06-.94 2.06-2.06.94z\"/><path d=\"M17.41 7.96l-1.37-1.37c-.4-.4-.92-.59-1.43-.59-.52 0-1.04.2-1.43.59L10.3 9.45l-7.72 7.72c-.78.78-.78 2.05 0 2.83L4 21.41c.39.39.9.59 1.41.59.51 0 1.02-.2 1.41-.59l7.78-7.78 2.81-2.81c.8-.78.8-2.07 0-2.86zM5.41 20L4 18.59l7.72-7.72 1.47 1.35L5.41 20z\"/>\n",
              "  </svg>\n",
              "      </button>\n",
              "      \n",
              "  <style>\n",
              "    .colab-df-container {\n",
              "      display:flex;\n",
              "      flex-wrap:wrap;\n",
              "      gap: 12px;\n",
              "    }\n",
              "\n",
              "    .colab-df-convert {\n",
              "      background-color: #E8F0FE;\n",
              "      border: none;\n",
              "      border-radius: 50%;\n",
              "      cursor: pointer;\n",
              "      display: none;\n",
              "      fill: #1967D2;\n",
              "      height: 32px;\n",
              "      padding: 0 0 0 0;\n",
              "      width: 32px;\n",
              "    }\n",
              "\n",
              "    .colab-df-convert:hover {\n",
              "      background-color: #E2EBFA;\n",
              "      box-shadow: 0px 1px 2px rgba(60, 64, 67, 0.3), 0px 1px 3px 1px rgba(60, 64, 67, 0.15);\n",
              "      fill: #174EA6;\n",
              "    }\n",
              "\n",
              "    [theme=dark] .colab-df-convert {\n",
              "      background-color: #3B4455;\n",
              "      fill: #D2E3FC;\n",
              "    }\n",
              "\n",
              "    [theme=dark] .colab-df-convert:hover {\n",
              "      background-color: #434B5C;\n",
              "      box-shadow: 0px 1px 3px 1px rgba(0, 0, 0, 0.15);\n",
              "      filter: drop-shadow(0px 1px 2px rgba(0, 0, 0, 0.3));\n",
              "      fill: #FFFFFF;\n",
              "    }\n",
              "  </style>\n",
              "\n",
              "      <script>\n",
              "        const buttonEl =\n",
              "          document.querySelector('#df-cf7f9764-29ab-4ef8-9180-43710cda0f54 button.colab-df-convert');\n",
              "        buttonEl.style.display =\n",
              "          google.colab.kernel.accessAllowed ? 'block' : 'none';\n",
              "\n",
              "        async function convertToInteractive(key) {\n",
              "          const element = document.querySelector('#df-cf7f9764-29ab-4ef8-9180-43710cda0f54');\n",
              "          const dataTable =\n",
              "            await google.colab.kernel.invokeFunction('convertToInteractive',\n",
              "                                                     [key], {});\n",
              "          if (!dataTable) return;\n",
              "\n",
              "          const docLinkHtml = 'Like what you see? Visit the ' +\n",
              "            '<a target=\"_blank\" href=https://colab.research.google.com/notebooks/data_table.ipynb>data table notebook</a>'\n",
              "            + ' to learn more about interactive tables.';\n",
              "          element.innerHTML = '';\n",
              "          dataTable['output_type'] = 'display_data';\n",
              "          await google.colab.output.renderOutput(dataTable, element);\n",
              "          const docLink = document.createElement('div');\n",
              "          docLink.innerHTML = docLinkHtml;\n",
              "          element.appendChild(docLink);\n",
              "        }\n",
              "      </script>\n",
              "    </div>\n",
              "  </div>\n",
              "  "
            ],
            "text/plain": [
              "      id  Transport_service     pickup_datetime    dropoff_datetime  \\\n",
              "0      0                  3 2019-01-01 00:00:00 2019-01-01 00:06:00   \n",
              "997  997                  4 2019-01-01 02:38:00 2019-01-01 02:52:00   \n",
              "996  996                  4 2019-01-01 02:38:00 2019-01-01 02:41:00   \n",
              "995  995                  3 2019-01-01 02:38:00 2019-01-01 02:52:00   \n",
              "994  994                  2 2019-01-01 02:38:00 2019-01-01 02:49:00   \n",
              "993  993                  3 2019-01-01 02:38:00 2019-01-01 02:40:00   \n",
              "992  992                  2 2019-01-01 02:38:00 2019-01-01 03:13:00   \n",
              "991  991                  4 2019-01-01 02:38:00 2019-01-01 02:52:00   \n",
              "990  990                  1 2019-01-01 02:38:00 2019-01-01 03:22:00   \n",
              "989  989                  2 2019-01-01 02:38:00 2019-01-01 03:08:00   \n",
              "\n",
              "     passenger_count  trip_distance  pickup_longitude  pickup_latitude  \\\n",
              "0                  1           1.32        -73.961258        40.796200   \n",
              "997                3           5.57        -73.952347        40.824081   \n",
              "996                2           0.20        -73.980171        40.745308   \n",
              "995                1           2.83        -73.991966        40.759331   \n",
              "994                2           2.48        -73.961441        40.694302   \n",
              "993                4           0.72        -73.974014        40.782967   \n",
              "992                3          10.50        -73.956985        40.766346   \n",
              "991                3           6.80        -73.911682        40.775295   \n",
              "990                1          13.80        -73.976143        40.775990   \n",
              "989                1           9.00        -73.981331        40.780663   \n",
              "\n",
              "     dropoff_longitude  dropoff_latitude payment_type  trip_duration  \\\n",
              "0           -73.950050         40.787312            3            387   \n",
              "997         -73.996429         40.759918            1            828   \n",
              "996         -73.984192         40.745892            2            184   \n",
              "995         -74.004707         40.724442            2            815   \n",
              "994         -73.959938         40.662540            1            655   \n",
              "993         -73.969894         40.788155            2            162   \n",
              "992         -73.966179         40.674366            3           2131   \n",
              "991         -73.903908         40.817696            2            898   \n",
              "990         -73.940956         40.676426            2           2693   \n",
              "989         -73.848824         40.722755            3           1841   \n",
              "\n",
              "    pickup_neighborhood dropoff_neighborhood  \n",
              "0                    AH                    C  \n",
              "997                  AL                    P  \n",
              "996                   Y                   AO  \n",
              "995                   P                   AB  \n",
              "994                   V                   AF  \n",
              "993                   I                    U  \n",
              "992                   K                    V  \n",
              "991                   W                    S  \n",
              "990                  AV                   AW  \n",
              "989                  AV                    B  "
            ]
          },
          "execution_count": 8,
          "metadata": {},
          "output_type": "execute_result"
        }
      ],
      "source": [
        "# Taking a quick look at the first 10 rows of data having the fewest number of nulls\n",
        "preview(trips, 10)"
      ]
    },
    {
      "cell_type": "code",
      "execution_count": null,
      "metadata": {
        "id": "rHQyRSkVF4a7"
      },
      "outputs": [],
      "source": [
        "# Drop the rows where at least one element is missing.\n",
        "trips=trips.dropna()"
      ]
    },
    {
      "cell_type": "markdown",
      "metadata": {
        "id": "SPOTqu0_vnM1"
      },
      "source": [
        "For the features used in the model the \"**dropoff_datetime**\" needs to be removed as this value would not be known for real-time prediction and you can basically take the difference between the pickup and dropoff time to find the duration.So, this will restrict our model to be **robust** and **reliable**. So, dropping this feature will help us to avoid **data leakage**.\n",
        "\n",
        "Data leakage in machine learning occurs when the data used to train a machine learning algorithm contains information that the model is attempting to predict, resulting in unreliable and poor prediction outcomes after model deployment."
      ]
    },
    {
      "cell_type": "code",
      "execution_count": null,
      "metadata": {
        "id": "-BA1K0nTvnM1"
      },
      "outputs": [],
      "source": [
        "# Dropping the dropoff_datetime column\n",
        "trips. drop(\"dropoff_datetime\", axis=1, inplace=True)"
      ]
    },
    {
      "cell_type": "code",
      "execution_count": null,
      "metadata": {
        "colab": {
          "base_uri": "https://localhost:8080/",
          "height": 357
        },
        "id": "i_-4FhrGF4a7",
        "outputId": "02cc1919-7bfe-4ea1-8638-6c0e71cdb17f",
        "scrolled": true
      },
      "outputs": [
        {
          "data": {
            "text/html": [
              "\n",
              "  <div id=\"df-18517dd7-0168-4b5f-b7e4-add3773afdc3\">\n",
              "    <div class=\"colab-df-container\">\n",
              "      <div>\n",
              "<style scoped>\n",
              "    .dataframe tbody tr th:only-of-type {\n",
              "        vertical-align: middle;\n",
              "    }\n",
              "\n",
              "    .dataframe tbody tr th {\n",
              "        vertical-align: top;\n",
              "    }\n",
              "\n",
              "    .dataframe thead th {\n",
              "        text-align: right;\n",
              "    }\n",
              "</style>\n",
              "<table border=\"1\" class=\"dataframe\">\n",
              "  <thead>\n",
              "    <tr style=\"text-align: right;\">\n",
              "      <th></th>\n",
              "      <th>id</th>\n",
              "      <th>Transport_service</th>\n",
              "      <th>pickup_datetime</th>\n",
              "      <th>passenger_count</th>\n",
              "      <th>trip_distance</th>\n",
              "      <th>pickup_longitude</th>\n",
              "      <th>pickup_latitude</th>\n",
              "      <th>dropoff_longitude</th>\n",
              "      <th>dropoff_latitude</th>\n",
              "      <th>payment_type</th>\n",
              "      <th>trip_duration</th>\n",
              "      <th>pickup_neighborhood</th>\n",
              "      <th>dropoff_neighborhood</th>\n",
              "    </tr>\n",
              "  </thead>\n",
              "  <tbody>\n",
              "    <tr>\n",
              "      <th>0</th>\n",
              "      <td>0</td>\n",
              "      <td>3</td>\n",
              "      <td>2019-01-01 00:00:00</td>\n",
              "      <td>1</td>\n",
              "      <td>1.32</td>\n",
              "      <td>-73.961258</td>\n",
              "      <td>40.796200</td>\n",
              "      <td>-73.950050</td>\n",
              "      <td>40.787312</td>\n",
              "      <td>3</td>\n",
              "      <td>387</td>\n",
              "      <td>AH</td>\n",
              "      <td>C</td>\n",
              "    </tr>\n",
              "    <tr>\n",
              "      <th>1</th>\n",
              "      <td>1</td>\n",
              "      <td>1</td>\n",
              "      <td>2019-01-01 00:01:00</td>\n",
              "      <td>3</td>\n",
              "      <td>13.70</td>\n",
              "      <td>-73.956169</td>\n",
              "      <td>40.707756</td>\n",
              "      <td>-73.939949</td>\n",
              "      <td>40.839558</td>\n",
              "      <td>3</td>\n",
              "      <td>1568</td>\n",
              "      <td>Z</td>\n",
              "      <td>S</td>\n",
              "    </tr>\n",
              "    <tr>\n",
              "      <th>2</th>\n",
              "      <td>2</td>\n",
              "      <td>4</td>\n",
              "      <td>2019-01-01 00:01:00</td>\n",
              "      <td>1</td>\n",
              "      <td>5.30</td>\n",
              "      <td>-73.993103</td>\n",
              "      <td>40.752632</td>\n",
              "      <td>-73.953903</td>\n",
              "      <td>40.816540</td>\n",
              "      <td>1</td>\n",
              "      <td>1219</td>\n",
              "      <td>D</td>\n",
              "      <td>AL</td>\n",
              "    </tr>\n",
              "    <tr>\n",
              "      <th>3</th>\n",
              "      <td>3</td>\n",
              "      <td>2</td>\n",
              "      <td>2019-01-01 00:01:00</td>\n",
              "      <td>2</td>\n",
              "      <td>7.19</td>\n",
              "      <td>-73.983009</td>\n",
              "      <td>40.731419</td>\n",
              "      <td>-73.930969</td>\n",
              "      <td>40.808460</td>\n",
              "      <td>2</td>\n",
              "      <td>873</td>\n",
              "      <td>AT</td>\n",
              "      <td>J</td>\n",
              "    </tr>\n",
              "    <tr>\n",
              "      <th>4</th>\n",
              "      <td>4</td>\n",
              "      <td>1</td>\n",
              "      <td>2019-01-01 00:02:00</td>\n",
              "      <td>2</td>\n",
              "      <td>2.90</td>\n",
              "      <td>-74.004631</td>\n",
              "      <td>40.747234</td>\n",
              "      <td>-73.976395</td>\n",
              "      <td>40.777237</td>\n",
              "      <td>1</td>\n",
              "      <td>1091</td>\n",
              "      <td>AG</td>\n",
              "      <td>AV</td>\n",
              "    </tr>\n",
              "  </tbody>\n",
              "</table>\n",
              "</div>\n",
              "      <button class=\"colab-df-convert\" onclick=\"convertToInteractive('df-18517dd7-0168-4b5f-b7e4-add3773afdc3')\"\n",
              "              title=\"Convert this dataframe to an interactive table.\"\n",
              "              style=\"display:none;\">\n",
              "        \n",
              "  <svg xmlns=\"http://www.w3.org/2000/svg\" height=\"24px\"viewBox=\"0 0 24 24\"\n",
              "       width=\"24px\">\n",
              "    <path d=\"M0 0h24v24H0V0z\" fill=\"none\"/>\n",
              "    <path d=\"M18.56 5.44l.94 2.06.94-2.06 2.06-.94-2.06-.94-.94-2.06-.94 2.06-2.06.94zm-11 1L8.5 8.5l.94-2.06 2.06-.94-2.06-.94L8.5 2.5l-.94 2.06-2.06.94zm10 10l.94 2.06.94-2.06 2.06-.94-2.06-.94-.94-2.06-.94 2.06-2.06.94z\"/><path d=\"M17.41 7.96l-1.37-1.37c-.4-.4-.92-.59-1.43-.59-.52 0-1.04.2-1.43.59L10.3 9.45l-7.72 7.72c-.78.78-.78 2.05 0 2.83L4 21.41c.39.39.9.59 1.41.59.51 0 1.02-.2 1.41-.59l7.78-7.78 2.81-2.81c.8-.78.8-2.07 0-2.86zM5.41 20L4 18.59l7.72-7.72 1.47 1.35L5.41 20z\"/>\n",
              "  </svg>\n",
              "      </button>\n",
              "      \n",
              "  <style>\n",
              "    .colab-df-container {\n",
              "      display:flex;\n",
              "      flex-wrap:wrap;\n",
              "      gap: 12px;\n",
              "    }\n",
              "\n",
              "    .colab-df-convert {\n",
              "      background-color: #E8F0FE;\n",
              "      border: none;\n",
              "      border-radius: 50%;\n",
              "      cursor: pointer;\n",
              "      display: none;\n",
              "      fill: #1967D2;\n",
              "      height: 32px;\n",
              "      padding: 0 0 0 0;\n",
              "      width: 32px;\n",
              "    }\n",
              "\n",
              "    .colab-df-convert:hover {\n",
              "      background-color: #E2EBFA;\n",
              "      box-shadow: 0px 1px 2px rgba(60, 64, 67, 0.3), 0px 1px 3px 1px rgba(60, 64, 67, 0.15);\n",
              "      fill: #174EA6;\n",
              "    }\n",
              "\n",
              "    [theme=dark] .colab-df-convert {\n",
              "      background-color: #3B4455;\n",
              "      fill: #D2E3FC;\n",
              "    }\n",
              "\n",
              "    [theme=dark] .colab-df-convert:hover {\n",
              "      background-color: #434B5C;\n",
              "      box-shadow: 0px 1px 3px 1px rgba(0, 0, 0, 0.15);\n",
              "      filter: drop-shadow(0px 1px 2px rgba(0, 0, 0, 0.3));\n",
              "      fill: #FFFFFF;\n",
              "    }\n",
              "  </style>\n",
              "\n",
              "      <script>\n",
              "        const buttonEl =\n",
              "          document.querySelector('#df-18517dd7-0168-4b5f-b7e4-add3773afdc3 button.colab-df-convert');\n",
              "        buttonEl.style.display =\n",
              "          google.colab.kernel.accessAllowed ? 'block' : 'none';\n",
              "\n",
              "        async function convertToInteractive(key) {\n",
              "          const element = document.querySelector('#df-18517dd7-0168-4b5f-b7e4-add3773afdc3');\n",
              "          const dataTable =\n",
              "            await google.colab.kernel.invokeFunction('convertToInteractive',\n",
              "                                                     [key], {});\n",
              "          if (!dataTable) return;\n",
              "\n",
              "          const docLinkHtml = 'Like what you see? Visit the ' +\n",
              "            '<a target=\"_blank\" href=https://colab.research.google.com/notebooks/data_table.ipynb>data table notebook</a>'\n",
              "            + ' to learn more about interactive tables.';\n",
              "          element.innerHTML = '';\n",
              "          dataTable['output_type'] = 'display_data';\n",
              "          await google.colab.output.renderOutput(dataTable, element);\n",
              "          const docLink = document.createElement('div');\n",
              "          docLink.innerHTML = docLinkHtml;\n",
              "          element.appendChild(docLink);\n",
              "        }\n",
              "      </script>\n",
              "    </div>\n",
              "  </div>\n",
              "  "
            ],
            "text/plain": [
              "   id  Transport_service     pickup_datetime  passenger_count  trip_distance  \\\n",
              "0   0                  3 2019-01-01 00:00:00                1           1.32   \n",
              "1   1                  1 2019-01-01 00:01:00                3          13.70   \n",
              "2   2                  4 2019-01-01 00:01:00                1           5.30   \n",
              "3   3                  2 2019-01-01 00:01:00                2           7.19   \n",
              "4   4                  1 2019-01-01 00:02:00                2           2.90   \n",
              "\n",
              "   pickup_longitude  pickup_latitude  dropoff_longitude  dropoff_latitude  \\\n",
              "0        -73.961258        40.796200         -73.950050         40.787312   \n",
              "1        -73.956169        40.707756         -73.939949         40.839558   \n",
              "2        -73.993103        40.752632         -73.953903         40.816540   \n",
              "3        -73.983009        40.731419         -73.930969         40.808460   \n",
              "4        -74.004631        40.747234         -73.976395         40.777237   \n",
              "\n",
              "  payment_type  trip_duration pickup_neighborhood dropoff_neighborhood  \n",
              "0            3            387                  AH                    C  \n",
              "1            3           1568                   Z                    S  \n",
              "2            1           1219                   D                   AL  \n",
              "3            2            873                  AT                    J  \n",
              "4            1           1091                  AG                   AV  "
            ]
          },
          "execution_count": 11,
          "metadata": {},
          "output_type": "execute_result"
        }
      ],
      "source": [
        "# Check the first five rows of the data\n",
        "trips.head()"
      ]
    },
    {
      "cell_type": "markdown",
      "source": [
        "### **Exploratory Data Analysis**"
      ],
      "metadata": {
        "id": "K7pphXaNmU2c"
      }
    },
    {
      "cell_type": "markdown",
      "metadata": {
        "id": "PQDlRecmF4a7"
      },
      "source": [
        "**Data types and number of unique values**"
      ]
    },
    {
      "cell_type": "code",
      "execution_count": null,
      "metadata": {
        "colab": {
          "base_uri": "https://localhost:8080/"
        },
        "id": "gZH_IuLOF4a7",
        "outputId": "2c1200c3-49eb-49b5-bca8-96e672b908ad"
      },
      "outputs": [
        {
          "name": "stdout",
          "output_type": "stream",
          "text": [
            "<class 'pandas.core.frame.DataFrame'>\n",
            "Int64Index: 1452 entries, 0 to 1499\n",
            "Data columns (total 13 columns):\n",
            " #   Column                Non-Null Count  Dtype         \n",
            "---  ------                --------------  -----         \n",
            " 0   id                    1452 non-null   int64         \n",
            " 1   Transport_service     1452 non-null   int64         \n",
            " 2   pickup_datetime       1452 non-null   datetime64[ns]\n",
            " 3   passenger_count       1452 non-null   int64         \n",
            " 4   trip_distance         1452 non-null   float64       \n",
            " 5   pickup_longitude      1452 non-null   float64       \n",
            " 6   pickup_latitude       1452 non-null   float64       \n",
            " 7   dropoff_longitude     1452 non-null   float64       \n",
            " 8   dropoff_latitude      1452 non-null   float64       \n",
            " 9   payment_type          1452 non-null   object        \n",
            " 10  trip_duration         1452 non-null   int64         \n",
            " 11  pickup_neighborhood   1452 non-null   object        \n",
            " 12  dropoff_neighborhood  1452 non-null   object        \n",
            "dtypes: datetime64[ns](1), float64(5), int64(4), object(3)\n",
            "memory usage: 158.8+ KB\n"
          ]
        }
      ],
      "source": [
        "# Checking the info of the dataset\n",
        "trips.info()"
      ]
    },
    {
      "cell_type": "markdown",
      "metadata": {
        "id": "dZWZNdJ8F4a8"
      },
      "source": [
        "- There are 1452 non null values in the dataset."
      ]
    },
    {
      "cell_type": "code",
      "execution_count": null,
      "metadata": {
        "colab": {
          "base_uri": "https://localhost:8080/"
        },
        "id": "wdR6mlThF4a8",
        "outputId": "9767596b-4826-4258-cacd-55f9ea3225e4"
      },
      "outputs": [
        {
          "data": {
            "text/plain": [
              "id                      1452\n",
              "Transport_service          4\n",
              "pickup_datetime          259\n",
              "passenger_count            4\n",
              "trip_distance            531\n",
              "pickup_longitude        1338\n",
              "pickup_latitude         1418\n",
              "dropoff_longitude       1331\n",
              "dropoff_latitude        1416\n",
              "payment_type               3\n",
              "trip_duration            969\n",
              "pickup_neighborhood       47\n",
              "dropoff_neighborhood      49\n",
              "dtype: int64"
            ]
          },
          "execution_count": 13,
          "metadata": {},
          "output_type": "execute_result"
        }
      ],
      "source": [
        "# Check the uniques values in each columns\n",
        "trips.nunique()"
      ]
    },
    {
      "cell_type": "markdown",
      "metadata": {
        "id": "VvJbhVJgF4a8"
      },
      "source": [
        "- Transport_service has only 4 unique values, implies there are only 4 transport service companies.\n",
        "- Passenger count has 4 unique values and payment type have 3.\n",
        "- The dataset contains 49 distinct dropoff neighbourhoods and 47 distinct pickup neighbourhoods."
      ]
    },
    {
      "cell_type": "markdown",
      "metadata": {
        "id": "3zePEWGMF4a8"
      },
      "source": [
        "**Checking summary statistics of the dataset**"
      ]
    },
    {
      "cell_type": "code",
      "execution_count": null,
      "metadata": {
        "colab": {
          "base_uri": "https://localhost:8080/",
          "height": 332
        },
        "id": "oKlJMKhhF4a9",
        "outputId": "aa27f69e-66bd-4241-b601-4d16f9f9d668"
      },
      "outputs": [
        {
          "data": {
            "text/html": [
              "\n",
              "  <div id=\"df-2c2fe8d0-cbcb-4ebc-8600-fa3b228ee8bb\">\n",
              "    <div class=\"colab-df-container\">\n",
              "      <div>\n",
              "<style scoped>\n",
              "    .dataframe tbody tr th:only-of-type {\n",
              "        vertical-align: middle;\n",
              "    }\n",
              "\n",
              "    .dataframe tbody tr th {\n",
              "        vertical-align: top;\n",
              "    }\n",
              "\n",
              "    .dataframe thead th {\n",
              "        text-align: right;\n",
              "    }\n",
              "</style>\n",
              "<table border=\"1\" class=\"dataframe\">\n",
              "  <thead>\n",
              "    <tr style=\"text-align: right;\">\n",
              "      <th></th>\n",
              "      <th>count</th>\n",
              "      <th>mean</th>\n",
              "      <th>std</th>\n",
              "      <th>min</th>\n",
              "      <th>25%</th>\n",
              "      <th>50%</th>\n",
              "      <th>75%</th>\n",
              "      <th>max</th>\n",
              "    </tr>\n",
              "  </thead>\n",
              "  <tbody>\n",
              "    <tr>\n",
              "      <th>id</th>\n",
              "      <td>1452.0</td>\n",
              "      <td>749.218320</td>\n",
              "      <td>434.555493</td>\n",
              "      <td>0.000000</td>\n",
              "      <td>369.750000</td>\n",
              "      <td>749.500000</td>\n",
              "      <td>1125.250000</td>\n",
              "      <td>1499.000000</td>\n",
              "    </tr>\n",
              "    <tr>\n",
              "      <th>Transport_service</th>\n",
              "      <td>1452.0</td>\n",
              "      <td>2.488292</td>\n",
              "      <td>1.123890</td>\n",
              "      <td>1.000000</td>\n",
              "      <td>1.000000</td>\n",
              "      <td>2.000000</td>\n",
              "      <td>4.000000</td>\n",
              "      <td>4.000000</td>\n",
              "    </tr>\n",
              "    <tr>\n",
              "      <th>passenger_count</th>\n",
              "      <td>1452.0</td>\n",
              "      <td>2.506198</td>\n",
              "      <td>1.111603</td>\n",
              "      <td>1.000000</td>\n",
              "      <td>2.000000</td>\n",
              "      <td>2.000000</td>\n",
              "      <td>4.000000</td>\n",
              "      <td>4.000000</td>\n",
              "    </tr>\n",
              "    <tr>\n",
              "      <th>trip_distance</th>\n",
              "      <td>1452.0</td>\n",
              "      <td>3.173320</td>\n",
              "      <td>2.798477</td>\n",
              "      <td>0.000000</td>\n",
              "      <td>1.300000</td>\n",
              "      <td>2.250000</td>\n",
              "      <td>4.260000</td>\n",
              "      <td>17.990000</td>\n",
              "    </tr>\n",
              "    <tr>\n",
              "      <th>pickup_longitude</th>\n",
              "      <td>1452.0</td>\n",
              "      <td>-73.973295</td>\n",
              "      <td>0.025778</td>\n",
              "      <td>-74.017311</td>\n",
              "      <td>-73.989311</td>\n",
              "      <td>-73.979614</td>\n",
              "      <td>-73.961092</td>\n",
              "      <td>-73.781807</td>\n",
              "    </tr>\n",
              "    <tr>\n",
              "      <th>pickup_latitude</th>\n",
              "      <td>1452.0</td>\n",
              "      <td>40.750311</td>\n",
              "      <td>0.029513</td>\n",
              "      <td>40.638889</td>\n",
              "      <td>40.733079</td>\n",
              "      <td>40.751900</td>\n",
              "      <td>40.768478</td>\n",
              "      <td>40.847500</td>\n",
              "    </tr>\n",
              "    <tr>\n",
              "      <th>dropoff_longitude</th>\n",
              "      <td>1452.0</td>\n",
              "      <td>-73.965157</td>\n",
              "      <td>0.034889</td>\n",
              "      <td>-74.024834</td>\n",
              "      <td>-73.988117</td>\n",
              "      <td>-73.974369</td>\n",
              "      <td>-73.950407</td>\n",
              "      <td>-73.770943</td>\n",
              "    </tr>\n",
              "    <tr>\n",
              "      <th>dropoff_latitude</th>\n",
              "      <td>1452.0</td>\n",
              "      <td>40.750691</td>\n",
              "      <td>0.038322</td>\n",
              "      <td>40.633560</td>\n",
              "      <td>40.729924</td>\n",
              "      <td>40.751728</td>\n",
              "      <td>40.774967</td>\n",
              "      <td>40.848629</td>\n",
              "    </tr>\n",
              "    <tr>\n",
              "      <th>trip_duration</th>\n",
              "      <td>1452.0</td>\n",
              "      <td>828.261019</td>\n",
              "      <td>528.279643</td>\n",
              "      <td>18.000000</td>\n",
              "      <td>428.000000</td>\n",
              "      <td>708.000000</td>\n",
              "      <td>1116.500000</td>\n",
              "      <td>3201.000000</td>\n",
              "    </tr>\n",
              "  </tbody>\n",
              "</table>\n",
              "</div>\n",
              "      <button class=\"colab-df-convert\" onclick=\"convertToInteractive('df-2c2fe8d0-cbcb-4ebc-8600-fa3b228ee8bb')\"\n",
              "              title=\"Convert this dataframe to an interactive table.\"\n",
              "              style=\"display:none;\">\n",
              "        \n",
              "  <svg xmlns=\"http://www.w3.org/2000/svg\" height=\"24px\"viewBox=\"0 0 24 24\"\n",
              "       width=\"24px\">\n",
              "    <path d=\"M0 0h24v24H0V0z\" fill=\"none\"/>\n",
              "    <path d=\"M18.56 5.44l.94 2.06.94-2.06 2.06-.94-2.06-.94-.94-2.06-.94 2.06-2.06.94zm-11 1L8.5 8.5l.94-2.06 2.06-.94-2.06-.94L8.5 2.5l-.94 2.06-2.06.94zm10 10l.94 2.06.94-2.06 2.06-.94-2.06-.94-.94-2.06-.94 2.06-2.06.94z\"/><path d=\"M17.41 7.96l-1.37-1.37c-.4-.4-.92-.59-1.43-.59-.52 0-1.04.2-1.43.59L10.3 9.45l-7.72 7.72c-.78.78-.78 2.05 0 2.83L4 21.41c.39.39.9.59 1.41.59.51 0 1.02-.2 1.41-.59l7.78-7.78 2.81-2.81c.8-.78.8-2.07 0-2.86zM5.41 20L4 18.59l7.72-7.72 1.47 1.35L5.41 20z\"/>\n",
              "  </svg>\n",
              "      </button>\n",
              "      \n",
              "  <style>\n",
              "    .colab-df-container {\n",
              "      display:flex;\n",
              "      flex-wrap:wrap;\n",
              "      gap: 12px;\n",
              "    }\n",
              "\n",
              "    .colab-df-convert {\n",
              "      background-color: #E8F0FE;\n",
              "      border: none;\n",
              "      border-radius: 50%;\n",
              "      cursor: pointer;\n",
              "      display: none;\n",
              "      fill: #1967D2;\n",
              "      height: 32px;\n",
              "      padding: 0 0 0 0;\n",
              "      width: 32px;\n",
              "    }\n",
              "\n",
              "    .colab-df-convert:hover {\n",
              "      background-color: #E2EBFA;\n",
              "      box-shadow: 0px 1px 2px rgba(60, 64, 67, 0.3), 0px 1px 3px 1px rgba(60, 64, 67, 0.15);\n",
              "      fill: #174EA6;\n",
              "    }\n",
              "\n",
              "    [theme=dark] .colab-df-convert {\n",
              "      background-color: #3B4455;\n",
              "      fill: #D2E3FC;\n",
              "    }\n",
              "\n",
              "    [theme=dark] .colab-df-convert:hover {\n",
              "      background-color: #434B5C;\n",
              "      box-shadow: 0px 1px 3px 1px rgba(0, 0, 0, 0.15);\n",
              "      filter: drop-shadow(0px 1px 2px rgba(0, 0, 0, 0.3));\n",
              "      fill: #FFFFFF;\n",
              "    }\n",
              "  </style>\n",
              "\n",
              "      <script>\n",
              "        const buttonEl =\n",
              "          document.querySelector('#df-2c2fe8d0-cbcb-4ebc-8600-fa3b228ee8bb button.colab-df-convert');\n",
              "        buttonEl.style.display =\n",
              "          google.colab.kernel.accessAllowed ? 'block' : 'none';\n",
              "\n",
              "        async function convertToInteractive(key) {\n",
              "          const element = document.querySelector('#df-2c2fe8d0-cbcb-4ebc-8600-fa3b228ee8bb');\n",
              "          const dataTable =\n",
              "            await google.colab.kernel.invokeFunction('convertToInteractive',\n",
              "                                                     [key], {});\n",
              "          if (!dataTable) return;\n",
              "\n",
              "          const docLinkHtml = 'Like what you see? Visit the ' +\n",
              "            '<a target=\"_blank\" href=https://colab.research.google.com/notebooks/data_table.ipynb>data table notebook</a>'\n",
              "            + ' to learn more about interactive tables.';\n",
              "          element.innerHTML = '';\n",
              "          dataTable['output_type'] = 'display_data';\n",
              "          await google.colab.output.renderOutput(dataTable, element);\n",
              "          const docLink = document.createElement('div');\n",
              "          docLink.innerHTML = docLinkHtml;\n",
              "          element.appendChild(docLink);\n",
              "        }\n",
              "      </script>\n",
              "    </div>\n",
              "  </div>\n",
              "  "
            ],
            "text/plain": [
              "                    count        mean         std        min         25%  \\\n",
              "id                 1452.0  749.218320  434.555493   0.000000  369.750000   \n",
              "Transport_service  1452.0    2.488292    1.123890   1.000000    1.000000   \n",
              "passenger_count    1452.0    2.506198    1.111603   1.000000    2.000000   \n",
              "trip_distance      1452.0    3.173320    2.798477   0.000000    1.300000   \n",
              "pickup_longitude   1452.0  -73.973295    0.025778 -74.017311  -73.989311   \n",
              "pickup_latitude    1452.0   40.750311    0.029513  40.638889   40.733079   \n",
              "dropoff_longitude  1452.0  -73.965157    0.034889 -74.024834  -73.988117   \n",
              "dropoff_latitude   1452.0   40.750691    0.038322  40.633560   40.729924   \n",
              "trip_duration      1452.0  828.261019  528.279643  18.000000  428.000000   \n",
              "\n",
              "                          50%          75%          max  \n",
              "id                 749.500000  1125.250000  1499.000000  \n",
              "Transport_service    2.000000     4.000000     4.000000  \n",
              "passenger_count      2.000000     4.000000     4.000000  \n",
              "trip_distance        2.250000     4.260000    17.990000  \n",
              "pickup_longitude   -73.979614   -73.961092   -73.781807  \n",
              "pickup_latitude     40.751900    40.768478    40.847500  \n",
              "dropoff_longitude  -73.974369   -73.950407   -73.770943  \n",
              "dropoff_latitude    40.751728    40.774967    40.848629  \n",
              "trip_duration      708.000000  1116.500000  3201.000000  "
            ]
          },
          "execution_count": 14,
          "metadata": {},
          "output_type": "execute_result"
        }
      ],
      "source": [
        "# Checking the descriptive stats of the data\n",
        "trips.describe().T"
      ]
    },
    {
      "cell_type": "markdown",
      "metadata": {
        "id": "VSPfXp6SF4a9"
      },
      "source": [
        "- The median and 75th percentile of the passenger count is 2 and  4 respectively.\n",
        "- Average trip distance is 3.17km, with a maximum value of 18km and Minimum for trip distance is 0.\n",
        "- Average trip duration is 828 sec."
      ]
    },
    {
      "cell_type": "markdown",
      "metadata": {
        "id": "wFohKubJF4a9"
      },
      "source": [
        "**Checking for the rows for which trip_distance is 0**"
      ]
    },
    {
      "cell_type": "code",
      "execution_count": null,
      "metadata": {
        "colab": {
          "base_uri": "https://localhost:8080/",
          "height": 308
        },
        "id": "NKBmknLmF4a9",
        "outputId": "a0d55f14-dfab-4adf-ec6d-5b5b1f334576"
      },
      "outputs": [
        {
          "data": {
            "text/html": [
              "\n",
              "  <div id=\"df-6fd77824-bb42-4351-bf1b-61e7b8e14f47\">\n",
              "    <div class=\"colab-df-container\">\n",
              "      <div>\n",
              "<style scoped>\n",
              "    .dataframe tbody tr th:only-of-type {\n",
              "        vertical-align: middle;\n",
              "    }\n",
              "\n",
              "    .dataframe tbody tr th {\n",
              "        vertical-align: top;\n",
              "    }\n",
              "\n",
              "    .dataframe thead th {\n",
              "        text-align: right;\n",
              "    }\n",
              "</style>\n",
              "<table border=\"1\" class=\"dataframe\">\n",
              "  <thead>\n",
              "    <tr style=\"text-align: right;\">\n",
              "      <th></th>\n",
              "      <th>id</th>\n",
              "      <th>Transport_service</th>\n",
              "      <th>pickup_datetime</th>\n",
              "      <th>passenger_count</th>\n",
              "      <th>trip_distance</th>\n",
              "      <th>pickup_longitude</th>\n",
              "      <th>pickup_latitude</th>\n",
              "      <th>dropoff_longitude</th>\n",
              "      <th>dropoff_latitude</th>\n",
              "      <th>payment_type</th>\n",
              "      <th>trip_duration</th>\n",
              "      <th>pickup_neighborhood</th>\n",
              "      <th>dropoff_neighborhood</th>\n",
              "    </tr>\n",
              "  </thead>\n",
              "  <tbody>\n",
              "    <tr>\n",
              "      <th>880</th>\n",
              "      <td>880</td>\n",
              "      <td>2</td>\n",
              "      <td>2019-01-01 02:15:00</td>\n",
              "      <td>4</td>\n",
              "      <td>0.0</td>\n",
              "      <td>-74.002586</td>\n",
              "      <td>40.750298</td>\n",
              "      <td>-74.002861</td>\n",
              "      <td>40.750446</td>\n",
              "      <td>2</td>\n",
              "      <td>36</td>\n",
              "      <td>AG</td>\n",
              "      <td>AG</td>\n",
              "    </tr>\n",
              "    <tr>\n",
              "      <th>1116</th>\n",
              "      <td>1116</td>\n",
              "      <td>1</td>\n",
              "      <td>2019-01-01 03:01:00</td>\n",
              "      <td>1</td>\n",
              "      <td>0.0</td>\n",
              "      <td>-73.987831</td>\n",
              "      <td>40.728558</td>\n",
              "      <td>-73.988747</td>\n",
              "      <td>40.727280</td>\n",
              "      <td>3</td>\n",
              "      <td>151</td>\n",
              "      <td>H</td>\n",
              "      <td>H</td>\n",
              "    </tr>\n",
              "    <tr>\n",
              "      <th>1455</th>\n",
              "      <td>1455</td>\n",
              "      <td>1</td>\n",
              "      <td>2019-01-01 04:09:00</td>\n",
              "      <td>1</td>\n",
              "      <td>0.0</td>\n",
              "      <td>-73.985893</td>\n",
              "      <td>40.763649</td>\n",
              "      <td>-73.985741</td>\n",
              "      <td>40.763672</td>\n",
              "      <td>2</td>\n",
              "      <td>80</td>\n",
              "      <td>AR</td>\n",
              "      <td>AR</td>\n",
              "    </tr>\n",
              "    <tr>\n",
              "      <th>1488</th>\n",
              "      <td>1488</td>\n",
              "      <td>2</td>\n",
              "      <td>2019-01-01 04:16:00</td>\n",
              "      <td>3</td>\n",
              "      <td>0.0</td>\n",
              "      <td>-74.014198</td>\n",
              "      <td>40.709988</td>\n",
              "      <td>-74.014198</td>\n",
              "      <td>40.709988</td>\n",
              "      <td>2</td>\n",
              "      <td>18</td>\n",
              "      <td>AU</td>\n",
              "      <td>AU</td>\n",
              "    </tr>\n",
              "  </tbody>\n",
              "</table>\n",
              "</div>\n",
              "      <button class=\"colab-df-convert\" onclick=\"convertToInteractive('df-6fd77824-bb42-4351-bf1b-61e7b8e14f47')\"\n",
              "              title=\"Convert this dataframe to an interactive table.\"\n",
              "              style=\"display:none;\">\n",
              "        \n",
              "  <svg xmlns=\"http://www.w3.org/2000/svg\" height=\"24px\"viewBox=\"0 0 24 24\"\n",
              "       width=\"24px\">\n",
              "    <path d=\"M0 0h24v24H0V0z\" fill=\"none\"/>\n",
              "    <path d=\"M18.56 5.44l.94 2.06.94-2.06 2.06-.94-2.06-.94-.94-2.06-.94 2.06-2.06.94zm-11 1L8.5 8.5l.94-2.06 2.06-.94-2.06-.94L8.5 2.5l-.94 2.06-2.06.94zm10 10l.94 2.06.94-2.06 2.06-.94-2.06-.94-.94-2.06-.94 2.06-2.06.94z\"/><path d=\"M17.41 7.96l-1.37-1.37c-.4-.4-.92-.59-1.43-.59-.52 0-1.04.2-1.43.59L10.3 9.45l-7.72 7.72c-.78.78-.78 2.05 0 2.83L4 21.41c.39.39.9.59 1.41.59.51 0 1.02-.2 1.41-.59l7.78-7.78 2.81-2.81c.8-.78.8-2.07 0-2.86zM5.41 20L4 18.59l7.72-7.72 1.47 1.35L5.41 20z\"/>\n",
              "  </svg>\n",
              "      </button>\n",
              "      \n",
              "  <style>\n",
              "    .colab-df-container {\n",
              "      display:flex;\n",
              "      flex-wrap:wrap;\n",
              "      gap: 12px;\n",
              "    }\n",
              "\n",
              "    .colab-df-convert {\n",
              "      background-color: #E8F0FE;\n",
              "      border: none;\n",
              "      border-radius: 50%;\n",
              "      cursor: pointer;\n",
              "      display: none;\n",
              "      fill: #1967D2;\n",
              "      height: 32px;\n",
              "      padding: 0 0 0 0;\n",
              "      width: 32px;\n",
              "    }\n",
              "\n",
              "    .colab-df-convert:hover {\n",
              "      background-color: #E2EBFA;\n",
              "      box-shadow: 0px 1px 2px rgba(60, 64, 67, 0.3), 0px 1px 3px 1px rgba(60, 64, 67, 0.15);\n",
              "      fill: #174EA6;\n",
              "    }\n",
              "\n",
              "    [theme=dark] .colab-df-convert {\n",
              "      background-color: #3B4455;\n",
              "      fill: #D2E3FC;\n",
              "    }\n",
              "\n",
              "    [theme=dark] .colab-df-convert:hover {\n",
              "      background-color: #434B5C;\n",
              "      box-shadow: 0px 1px 3px 1px rgba(0, 0, 0, 0.15);\n",
              "      filter: drop-shadow(0px 1px 2px rgba(0, 0, 0, 0.3));\n",
              "      fill: #FFFFFF;\n",
              "    }\n",
              "  </style>\n",
              "\n",
              "      <script>\n",
              "        const buttonEl =\n",
              "          document.querySelector('#df-6fd77824-bb42-4351-bf1b-61e7b8e14f47 button.colab-df-convert');\n",
              "        buttonEl.style.display =\n",
              "          google.colab.kernel.accessAllowed ? 'block' : 'none';\n",
              "\n",
              "        async function convertToInteractive(key) {\n",
              "          const element = document.querySelector('#df-6fd77824-bb42-4351-bf1b-61e7b8e14f47');\n",
              "          const dataTable =\n",
              "            await google.colab.kernel.invokeFunction('convertToInteractive',\n",
              "                                                     [key], {});\n",
              "          if (!dataTable) return;\n",
              "\n",
              "          const docLinkHtml = 'Like what you see? Visit the ' +\n",
              "            '<a target=\"_blank\" href=https://colab.research.google.com/notebooks/data_table.ipynb>data table notebook</a>'\n",
              "            + ' to learn more about interactive tables.';\n",
              "          element.innerHTML = '';\n",
              "          dataTable['output_type'] = 'display_data';\n",
              "          await google.colab.output.renderOutput(dataTable, element);\n",
              "          const docLink = document.createElement('div');\n",
              "          docLink.innerHTML = docLinkHtml;\n",
              "          element.appendChild(docLink);\n",
              "        }\n",
              "      </script>\n",
              "    </div>\n",
              "  </div>\n",
              "  "
            ],
            "text/plain": [
              "        id  Transport_service     pickup_datetime  passenger_count  \\\n",
              "880    880                  2 2019-01-01 02:15:00                4   \n",
              "1116  1116                  1 2019-01-01 03:01:00                1   \n",
              "1455  1455                  1 2019-01-01 04:09:00                1   \n",
              "1488  1488                  2 2019-01-01 04:16:00                3   \n",
              "\n",
              "      trip_distance  pickup_longitude  pickup_latitude  dropoff_longitude  \\\n",
              "880             0.0        -74.002586        40.750298         -74.002861   \n",
              "1116            0.0        -73.987831        40.728558         -73.988747   \n",
              "1455            0.0        -73.985893        40.763649         -73.985741   \n",
              "1488            0.0        -74.014198        40.709988         -74.014198   \n",
              "\n",
              "      dropoff_latitude payment_type  trip_duration pickup_neighborhood  \\\n",
              "880          40.750446            2             36                  AG   \n",
              "1116         40.727280            3            151                   H   \n",
              "1455         40.763672            2             80                  AR   \n",
              "1488         40.709988            2             18                  AU   \n",
              "\n",
              "     dropoff_neighborhood  \n",
              "880                    AG  \n",
              "1116                    H  \n",
              "1455                   AR  \n",
              "1488                   AU  "
            ]
          },
          "execution_count": 15,
          "metadata": {},
          "output_type": "execute_result"
        }
      ],
      "source": [
        "# Chekcing the rows where trip distance is 0\n",
        "trips[trips['trip_distance']==0]"
      ]
    },
    {
      "cell_type": "markdown",
      "metadata": {
        "id": "04iy3xxmF4a9"
      },
      "source": [
        "- We can observe that, where trip distance is 0 trip duration is not 0, hence we can replace those values.\n",
        "- There are 4 such rows"
      ]
    },
    {
      "cell_type": "markdown",
      "metadata": {
        "id": "7Zcaj-LQF4a-"
      },
      "source": [
        "**Trip distance missing value imputation with column median**"
      ]
    },
    {
      "cell_type": "code",
      "execution_count": null,
      "metadata": {
        "colab": {
          "base_uri": "https://localhost:8080/"
        },
        "id": "N_gftweevnM5",
        "outputId": "d6e115d8-87bf-4110-ee76-a9bdd628fbc0"
      },
      "outputs": [
        {
          "data": {
            "text/plain": [
              "id                      0\n",
              "Transport_service       0\n",
              "pickup_datetime         0\n",
              "passenger_count         0\n",
              "trip_distance           0\n",
              "pickup_longitude        0\n",
              "pickup_latitude         0\n",
              "dropoff_longitude       0\n",
              "dropoff_latitude        0\n",
              "payment_type            0\n",
              "trip_duration           0\n",
              "pickup_neighborhood     0\n",
              "dropoff_neighborhood    0\n",
              "dtype: int64"
            ]
          },
          "execution_count": 17,
          "metadata": {},
          "output_type": "execute_result"
        }
      ],
      "source": [
        "# Imputing the trip distance column with its meadian value\n",
        "trips['trip_distance']=trips['trip_distance'].replace(0,trips['trip_distance'].median())\n",
        "trips[trips['trip_distance']==0].count()"
      ]
    },
    {
      "cell_type": "code",
      "execution_count": null,
      "metadata": {
        "colab": {
          "base_uri": "https://localhost:8080/",
          "height": 113
        },
        "id": "PwG4Q7VgF4a-",
        "outputId": "796958a4-65fe-48cf-ead2-4ce7ca89a9d0"
      },
      "outputs": [
        {
          "data": {
            "text/html": [
              "\n",
              "  <div id=\"df-4a131e13-901a-493d-8346-a639dc244f60\">\n",
              "    <div class=\"colab-df-container\">\n",
              "      <div>\n",
              "<style scoped>\n",
              "    .dataframe tbody tr th:only-of-type {\n",
              "        vertical-align: middle;\n",
              "    }\n",
              "\n",
              "    .dataframe tbody tr th {\n",
              "        vertical-align: top;\n",
              "    }\n",
              "\n",
              "    .dataframe thead th {\n",
              "        text-align: right;\n",
              "    }\n",
              "</style>\n",
              "<table border=\"1\" class=\"dataframe\">\n",
              "  <thead>\n",
              "    <tr style=\"text-align: right;\">\n",
              "      <th></th>\n",
              "      <th>id</th>\n",
              "      <th>Transport_service</th>\n",
              "      <th>pickup_datetime</th>\n",
              "      <th>passenger_count</th>\n",
              "      <th>trip_distance</th>\n",
              "      <th>pickup_longitude</th>\n",
              "      <th>pickup_latitude</th>\n",
              "      <th>dropoff_longitude</th>\n",
              "      <th>dropoff_latitude</th>\n",
              "      <th>payment_type</th>\n",
              "      <th>trip_duration</th>\n",
              "      <th>pickup_neighborhood</th>\n",
              "      <th>dropoff_neighborhood</th>\n",
              "    </tr>\n",
              "  </thead>\n",
              "  <tbody>\n",
              "  </tbody>\n",
              "</table>\n",
              "</div>\n",
              "      <button class=\"colab-df-convert\" onclick=\"convertToInteractive('df-4a131e13-901a-493d-8346-a639dc244f60')\"\n",
              "              title=\"Convert this dataframe to an interactive table.\"\n",
              "              style=\"display:none;\">\n",
              "        \n",
              "  <svg xmlns=\"http://www.w3.org/2000/svg\" height=\"24px\"viewBox=\"0 0 24 24\"\n",
              "       width=\"24px\">\n",
              "    <path d=\"M0 0h24v24H0V0z\" fill=\"none\"/>\n",
              "    <path d=\"M18.56 5.44l.94 2.06.94-2.06 2.06-.94-2.06-.94-.94-2.06-.94 2.06-2.06.94zm-11 1L8.5 8.5l.94-2.06 2.06-.94-2.06-.94L8.5 2.5l-.94 2.06-2.06.94zm10 10l.94 2.06.94-2.06 2.06-.94-2.06-.94-.94-2.06-.94 2.06-2.06.94z\"/><path d=\"M17.41 7.96l-1.37-1.37c-.4-.4-.92-.59-1.43-.59-.52 0-1.04.2-1.43.59L10.3 9.45l-7.72 7.72c-.78.78-.78 2.05 0 2.83L4 21.41c.39.39.9.59 1.41.59.51 0 1.02-.2 1.41-.59l7.78-7.78 2.81-2.81c.8-.78.8-2.07 0-2.86zM5.41 20L4 18.59l7.72-7.72 1.47 1.35L5.41 20z\"/>\n",
              "  </svg>\n",
              "      </button>\n",
              "      \n",
              "  <style>\n",
              "    .colab-df-container {\n",
              "      display:flex;\n",
              "      flex-wrap:wrap;\n",
              "      gap: 12px;\n",
              "    }\n",
              "\n",
              "    .colab-df-convert {\n",
              "      background-color: #E8F0FE;\n",
              "      border: none;\n",
              "      border-radius: 50%;\n",
              "      cursor: pointer;\n",
              "      display: none;\n",
              "      fill: #1967D2;\n",
              "      height: 32px;\n",
              "      padding: 0 0 0 0;\n",
              "      width: 32px;\n",
              "    }\n",
              "\n",
              "    .colab-df-convert:hover {\n",
              "      background-color: #E2EBFA;\n",
              "      box-shadow: 0px 1px 2px rgba(60, 64, 67, 0.3), 0px 1px 3px 1px rgba(60, 64, 67, 0.15);\n",
              "      fill: #174EA6;\n",
              "    }\n",
              "\n",
              "    [theme=dark] .colab-df-convert {\n",
              "      background-color: #3B4455;\n",
              "      fill: #D2E3FC;\n",
              "    }\n",
              "\n",
              "    [theme=dark] .colab-df-convert:hover {\n",
              "      background-color: #434B5C;\n",
              "      box-shadow: 0px 1px 3px 1px rgba(0, 0, 0, 0.15);\n",
              "      filter: drop-shadow(0px 1px 2px rgba(0, 0, 0, 0.3));\n",
              "      fill: #FFFFFF;\n",
              "    }\n",
              "  </style>\n",
              "\n",
              "      <script>\n",
              "        const buttonEl =\n",
              "          document.querySelector('#df-4a131e13-901a-493d-8346-a639dc244f60 button.colab-df-convert');\n",
              "        buttonEl.style.display =\n",
              "          google.colab.kernel.accessAllowed ? 'block' : 'none';\n",
              "\n",
              "        async function convertToInteractive(key) {\n",
              "          const element = document.querySelector('#df-4a131e13-901a-493d-8346-a639dc244f60');\n",
              "          const dataTable =\n",
              "            await google.colab.kernel.invokeFunction('convertToInteractive',\n",
              "                                                     [key], {});\n",
              "          if (!dataTable) return;\n",
              "\n",
              "          const docLinkHtml = 'Like what you see? Visit the ' +\n",
              "            '<a target=\"_blank\" href=https://colab.research.google.com/notebooks/data_table.ipynb>data table notebook</a>'\n",
              "            + ' to learn more about interactive tables.';\n",
              "          element.innerHTML = '';\n",
              "          dataTable['output_type'] = 'display_data';\n",
              "          await google.colab.output.renderOutput(dataTable, element);\n",
              "          const docLink = document.createElement('div');\n",
              "          docLink.innerHTML = docLinkHtml;\n",
              "          element.appendChild(docLink);\n",
              "        }\n",
              "      </script>\n",
              "    </div>\n",
              "  </div>\n",
              "  "
            ],
            "text/plain": [
              "Empty DataFrame\n",
              "Columns: [id, Transport_service, pickup_datetime, passenger_count, trip_distance, pickup_longitude, pickup_latitude, dropoff_longitude, dropoff_latitude, payment_type, trip_duration, pickup_neighborhood, dropoff_neighborhood]\n",
              "Index: []"
            ]
          },
          "execution_count": 18,
          "metadata": {},
          "output_type": "execute_result"
        }
      ],
      "source": [
        "# Checking rows with 0 trip duration\n",
        "trips[trips['trip_duration']==0]"
      ]
    },
    {
      "cell_type": "markdown",
      "metadata": {
        "id": "qgSkqrNpvnM5"
      },
      "source": [
        "- There are no such rows with trip_duration=0"
      ]
    },
    {
      "cell_type": "markdown",
      "metadata": {
        "id": "Mf3yzxb1F4a_"
      },
      "source": [
        "#### **Univariate Analysis**"
      ]
    },
    {
      "cell_type": "markdown",
      "metadata": {
        "id": "OBv_CnrOF4a_"
      },
      "source": [
        "**Checking Distributions of numerical columns**"
      ]
    },
    {
      "cell_type": "code",
      "execution_count": null,
      "metadata": {
        "colab": {
          "base_uri": "https://localhost:8080/",
          "height": 937
        },
        "id": "vrQdvZCOF4a_",
        "outputId": "1861196b-e5fe-4cd1-c87b-fae165551246"
      },
      "outputs": [
        {
          "data": {
            "image/png": "[encoded data removed]",
            "text/plain": [
              "<Figure size 1200x1200 with 12 Axes>"
            ]
          },
          "metadata": {},
          "output_type": "display_data"
        }
      ],
      "source": [
        "# Plotting the histograms of numerical columns\n",
        "trips.hist(figsize=(12,12))\n",
        "plt.show()"
      ]
    },
    {
      "cell_type": "markdown",
      "metadata": {
        "id": "_rEJwQ_oF4a_"
      },
      "source": [
        "- Pickup latitude,  dropoff latitude are nearly normal distribution, while  pickup longitude,dropoff longitude  are a bit right skewed.\n",
        "- Trip distance seem to have some outlier, which we can investigate through boxplot.\n",
        "- trip duration is also rightly skewed."
      ]
    },
    {
      "cell_type": "code",
      "execution_count": null,
      "metadata": {
        "colab": {
          "base_uri": "https://localhost:8080/",
          "height": 450
        },
        "id": "gPB6nlfSF4a_",
        "outputId": "7393a228-9bf5-4bee-8885-8c675f427de4"
      },
      "outputs": [
        {
          "data": {
            "image/png": "[encoded data removed]",
            "text/plain": [
              "<Figure size 640x480 with 1 Axes>"
            ]
          },
          "metadata": {},
          "output_type": "display_data"
        }
      ],
      "source": [
        "# Looking at outliers in the trip_distance column using a boxplot\n",
        "sns.boxplot(x = trips['trip_distance'])\n",
        "plt.show()"
      ]
    },
    {
      "cell_type": "markdown",
      "metadata": {
        "id": "_TzLivciF4a_"
      },
      "source": [
        "- We can see there is an extreme outlier in the dataset."
      ]
    },
    {
      "cell_type": "markdown",
      "metadata": {
        "id": "3f11ckdWF4bA"
      },
      "source": [
        "**Checking Distributions of Categorical columns**"
      ]
    },
    {
      "cell_type": "code",
      "execution_count": null,
      "metadata": {
        "colab": {
          "base_uri": "https://localhost:8080/",
          "height": 469
        },
        "id": "Xba4Zoh6F4bA",
        "outputId": "43c7951a-9597-421e-c59f-62574b45fccd"
      },
      "outputs": [
        {
          "data": {
            "image/png": "[encoded data removed]",
            "text/plain": [
              "<Figure size 1000x500 with 1 Axes>"
            ]
          },
          "metadata": {},
          "output_type": "display_data"
        }
      ],
      "source": [
        "# Looking at distribution of passenger_count\n",
        "plt.figure(figsize=(10,5))\n",
        "sns.countplot(x = trips.passenger_count)\n",
        "plt.show()"
      ]
    },
    {
      "cell_type": "code",
      "execution_count": null,
      "metadata": {
        "colab": {
          "base_uri": "https://localhost:8080/"
        },
        "id": "oqaHdmlPF4bA",
        "outputId": "a6488e5f-1a4c-4985-bfb9-1a0718ca6a3e"
      },
      "outputs": [
        {
          "data": {
            "text/plain": [
              "2    0.263085\n",
              "4    0.251377\n",
              "3    0.244490\n",
              "1    0.241047\n",
              "Name: passenger_count, dtype: float64"
            ]
          },
          "execution_count": 24,
          "metadata": {},
          "output_type": "execute_result"
        }
      ],
      "source": [
        "# Looking at the percentage values of each passenger_count\n",
        "trips.passenger_count.value_counts(normalize=True)"
      ]
    },
    {
      "cell_type": "markdown",
      "metadata": {
        "id": "E7JQYcBhF4bA"
      },
      "source": [
        "- The distribution of the passenger count is nearly same."
      ]
    },
    {
      "cell_type": "code",
      "execution_count": null,
      "metadata": {
        "colab": {
          "base_uri": "https://localhost:8080/",
          "height": 429
        },
        "id": "vmWX-x9iF4bA",
        "outputId": "c19efb4f-2a99-4a68-fb15-13834525373a"
      },
      "outputs": [
        {
          "data": {
            "text/plain": [
              "<Axes: >"
            ]
          },
          "execution_count": 25,
          "metadata": {},
          "output_type": "execute_result"
        },
        {
          "data": {
            "image/png": "[encoded data removed]",
            "text/plain": [
              "<Figure size 2000x800 with 1 Axes>"
            ]
          },
          "metadata": {},
          "output_type": "display_data"
        }
      ],
      "source": [
        "# Looking at distribution of pickup_neighborhood\n",
        "trips.pickup_neighborhood.value_counts().sort_values(ascending=False).plot(kind='bar' ,figsize=(20,8))"
      ]
    },
    {
      "cell_type": "code",
      "execution_count": null,
      "metadata": {
        "colab": {
          "base_uri": "https://localhost:8080/",
          "height": 429
        },
        "id": "psyg8gmEF4bA",
        "outputId": "685eff26-01dd-49ac-abc3-fbc7709fde14"
      },
      "outputs": [
        {
          "data": {
            "text/plain": [
              "<Axes: >"
            ]
          },
          "execution_count": 26,
          "metadata": {},
          "output_type": "execute_result"
        },
        {
          "data": {
            "image/png": "[encoded data removed]",
            "text/plain": [
              "<Figure size 2000x800 with 1 Axes>"
            ]
          },
          "metadata": {},
          "output_type": "display_data"
        }
      ],
      "source": [
        "# Looking at distribution of dropoff_neighborhood\n",
        "trips.dropoff_neighborhood.value_counts().sort_values(ascending=False).plot(kind='bar' ,figsize=(20,8))"
      ]
    },
    {
      "cell_type": "markdown",
      "metadata": {
        "id": "PQzSPDFZF4bA"
      },
      "source": [
        "- Most of the pickup and dropoff are from area AT,AD,AM implies these are are the most busy in the city.\n",
        "- Areas like T,G are some areas from where very less number of pickups and dropoff are happening."
      ]
    },
    {
      "cell_type": "markdown",
      "metadata": {
        "id": "NqzWhCDGF4bB"
      },
      "source": [
        "#### **Bivariate analysis**"
      ]
    },
    {
      "cell_type": "markdown",
      "metadata": {
        "id": "FmPCc2UAF4bB"
      },
      "source": [
        "**Checking the relationship between `trip_distance` and `trip_duration`**"
      ]
    },
    {
      "cell_type": "code",
      "execution_count": null,
      "metadata": {
        "colab": {
          "base_uri": "https://localhost:8080/",
          "height": 467
        },
        "id": "nMUcIKoMF4bB",
        "outputId": "eab9901e-60a1-4a8e-d0fc-c60baa1011fc"
      },
      "outputs": [
        {
          "data": {
            "text/plain": [
              "<Axes: xlabel='trip_distance', ylabel='trip_duration'>"
            ]
          },
          "execution_count": 28,
          "metadata": {},
          "output_type": "execute_result"
        },
        {
          "data": {
            "image/png": "[encoded data removed]",
            "text/plain": [
              "<Figure size 640x480 with 1 Axes>"
            ]
          },
          "metadata": {},
          "output_type": "display_data"
        }
      ],
      "source": [
        "# Generating a scatter plot of trip_duration vs trip_distance\n",
        "sns.scatterplot(x = trips['trip_distance'], y = trips['trip_duration'])"
      ]
    },
    {
      "cell_type": "markdown",
      "metadata": {
        "id": "mIeqSFS4F4bC"
      },
      "source": [
        "- There is strong positive correlation between trip_distance and trip_duration."
      ]
    },
    {
      "cell_type": "markdown",
      "source": [
        "**Checking the relationship between `payment_type` and `passenger_count`**"
      ],
      "metadata": {
        "id": "lIw1Il5JoC9u"
      }
    },
    {
      "cell_type": "code",
      "execution_count": null,
      "metadata": {
        "colab": {
          "base_uri": "https://localhost:8080/",
          "height": 466
        },
        "id": "O0DpjxyTF4bC",
        "outputId": "17240316-d143-446d-a05b-fbd450f93fab"
      },
      "outputs": [
        {
          "data": {
            "text/plain": [
              "<Axes: xlabel='passenger_count', ylabel='count'>"
            ]
          },
          "execution_count": 29,
          "metadata": {},
          "output_type": "execute_result"
        },
        {
          "data": {
            "image/png": "[encoded data removed]",
            "text/plain": [
              "<Figure size 640x480 with 1 Axes>"
            ]
          },
          "metadata": {},
          "output_type": "display_data"
        }
      ],
      "source": [
        "# Looking at how passeger count affects payment_type\n",
        "sns.countplot(x = trips['passenger_count'],hue=trips['payment_type'])"
      ]
    },
    {
      "cell_type": "markdown",
      "metadata": {
        "id": "0TZUeb85F4bC"
      },
      "source": [
        "- There is no such specific pattern can be observed."
      ]
    },
    {
      "cell_type": "markdown",
      "metadata": {
        "id": "Kqmr1wF5F4bD"
      },
      "source": [
        "### **Data Preparation**\n"
      ]
    },
    {
      "cell_type": "markdown",
      "source": [
        "**Creating entities and relationships:**\n",
        "\n",
        "* The three entities in this data are\n",
        "  * `trips`\n",
        "  * `pickup_neighborhoods`\n",
        "  * `dropoff_neighborhoods`\n",
        "\n",
        "* This data has the following relationships\n",
        "  * `pickup_neighborhoods` --> trips (one neighborhood can have multiple trips that start in it. This means pickup_neighborhoods is the ``parent_entity`` and trips is the child entity)\n",
        "  * `dropoff_neighborhoods` --> trips (one neighborhood can have multiple trips that end in it. This means dropoff_neighborhoods is the ``parent_entity`` and trips is the child entity)\n",
        "\n",
        "In [featuretools](https://featuretools.alteryx.com/en/v0.27.0/getting_started/getting_started_index.html) (automated feature engineering software package), we specify the list of entities and relationships as follows:"
      ],
      "metadata": {
        "id": "lOrvSKaBonA1"
      }
    },
    {
      "cell_type": "code",
      "execution_count": null,
      "metadata": {
        "ExecuteTime": {
          "end_time": "2021-07-15T12:41:08.351728Z",
          "start_time": "2021-07-15T12:41:08.253155Z"
        },
        "id": "5dVgPuBmF4bD"
      },
      "outputs": [],
      "source": [
        "# Define entities and relationships for the Deep Feature Synthesis\n",
        "entities = {\n",
        "        \"trips\": (trips, \"id\", 'pickup_datetime' ),\n",
        "        \"pickup_neighborhoods\": (pickup_neighborhoods, \"neighborhood_id\"),\n",
        "        \"dropoff_neighborhoods\": (dropoff_neighborhoods, \"neighborhood_id\"),\n",
        "        }\n",
        "\n",
        "relationships = [(\"pickup_neighborhoods\", \"neighborhood_id\", \"trips\", \"pickup_neighborhood\"),\n",
        "                 (\"dropoff_neighborhoods\", \"neighborhood_id\", \"trips\", \"dropoff_neighborhood\")]"
      ]
    },
    {
      "cell_type": "code",
      "execution_count": null,
      "metadata": {
        "ExecuteTime": {
          "end_time": "2021-07-15T12:41:53.295477Z",
          "start_time": "2021-07-15T12:41:53.056658Z"
        },
        "colab": {
          "base_uri": "https://localhost:8080/",
          "height": 363
        },
        "id": "Wj4gxc5cF4bD",
        "outputId": "f4adc90e-f3c4-44ae-d866-33519adcf4c3"
      },
      "outputs": [
        {
          "data": {
            "text/html": [
              "\n",
              "  <div id=\"df-c3662b2f-d95b-4b38-8c43-e6be1371902e\">\n",
              "    <div class=\"colab-df-container\">\n",
              "      <div>\n",
              "<style scoped>\n",
              "    .dataframe tbody tr th:only-of-type {\n",
              "        vertical-align: middle;\n",
              "    }\n",
              "\n",
              "    .dataframe tbody tr th {\n",
              "        vertical-align: top;\n",
              "    }\n",
              "\n",
              "    .dataframe thead th {\n",
              "        text-align: right;\n",
              "    }\n",
              "</style>\n",
              "<table border=\"1\" class=\"dataframe\">\n",
              "  <thead>\n",
              "    <tr style=\"text-align: right;\">\n",
              "      <th></th>\n",
              "      <th>id</th>\n",
              "      <th>pickup_datetime</th>\n",
              "    </tr>\n",
              "  </thead>\n",
              "  <tbody>\n",
              "    <tr>\n",
              "      <th>0</th>\n",
              "      <td>0</td>\n",
              "      <td>2019-01-01 00:00:00</td>\n",
              "    </tr>\n",
              "    <tr>\n",
              "      <th>1004</th>\n",
              "      <td>1004</td>\n",
              "      <td>2019-01-01 02:39:00</td>\n",
              "    </tr>\n",
              "    <tr>\n",
              "      <th>1003</th>\n",
              "      <td>1003</td>\n",
              "      <td>2019-01-01 02:39:00</td>\n",
              "    </tr>\n",
              "    <tr>\n",
              "      <th>1002</th>\n",
              "      <td>1002</td>\n",
              "      <td>2019-01-01 02:39:00</td>\n",
              "    </tr>\n",
              "    <tr>\n",
              "      <th>1001</th>\n",
              "      <td>1001</td>\n",
              "      <td>2019-01-01 02:39:00</td>\n",
              "    </tr>\n",
              "    <tr>\n",
              "      <th>1000</th>\n",
              "      <td>1000</td>\n",
              "      <td>2019-01-01 02:39:00</td>\n",
              "    </tr>\n",
              "    <tr>\n",
              "      <th>999</th>\n",
              "      <td>999</td>\n",
              "      <td>2019-01-01 02:39:00</td>\n",
              "    </tr>\n",
              "    <tr>\n",
              "      <th>998</th>\n",
              "      <td>998</td>\n",
              "      <td>2019-01-01 02:39:00</td>\n",
              "    </tr>\n",
              "    <tr>\n",
              "      <th>997</th>\n",
              "      <td>997</td>\n",
              "      <td>2019-01-01 02:38:00</td>\n",
              "    </tr>\n",
              "    <tr>\n",
              "      <th>1005</th>\n",
              "      <td>1005</td>\n",
              "      <td>2019-01-01 02:39:00</td>\n",
              "    </tr>\n",
              "  </tbody>\n",
              "</table>\n",
              "</div>\n",
              "      <button class=\"colab-df-convert\" onclick=\"convertToInteractive('df-c3662b2f-d95b-4b38-8c43-e6be1371902e')\"\n",
              "              title=\"Convert this dataframe to an interactive table.\"\n",
              "              style=\"display:none;\">\n",
              "        \n",
              "  <svg xmlns=\"http://www.w3.org/2000/svg\" height=\"24px\"viewBox=\"0 0 24 24\"\n",
              "       width=\"24px\">\n",
              "    <path d=\"M0 0h24v24H0V0z\" fill=\"none\"/>\n",
              "    <path d=\"M18.56 5.44l.94 2.06.94-2.06 2.06-.94-2.06-.94-.94-2.06-.94 2.06-2.06.94zm-11 1L8.5 8.5l.94-2.06 2.06-.94-2.06-.94L8.5 2.5l-.94 2.06-2.06.94zm10 10l.94 2.06.94-2.06 2.06-.94-2.06-.94-.94-2.06-.94 2.06-2.06.94z\"/><path d=\"M17.41 7.96l-1.37-1.37c-.4-.4-.92-.59-1.43-.59-.52 0-1.04.2-1.43.59L10.3 9.45l-7.72 7.72c-.78.78-.78 2.05 0 2.83L4 21.41c.39.39.9.59 1.41.59.51 0 1.02-.2 1.41-.59l7.78-7.78 2.81-2.81c.8-.78.8-2.07 0-2.86zM5.41 20L4 18.59l7.72-7.72 1.47 1.35L5.41 20z\"/>\n",
              "  </svg>\n",
              "      </button>\n",
              "      \n",
              "  <style>\n",
              "    .colab-df-container {\n",
              "      display:flex;\n",
              "      flex-wrap:wrap;\n",
              "      gap: 12px;\n",
              "    }\n",
              "\n",
              "    .colab-df-convert {\n",
              "      background-color: #E8F0FE;\n",
              "      border: none;\n",
              "      border-radius: 50%;\n",
              "      cursor: pointer;\n",
              "      display: none;\n",
              "      fill: #1967D2;\n",
              "      height: 32px;\n",
              "      padding: 0 0 0 0;\n",
              "      width: 32px;\n",
              "    }\n",
              "\n",
              "    .colab-df-convert:hover {\n",
              "      background-color: #E2EBFA;\n",
              "      box-shadow: 0px 1px 2px rgba(60, 64, 67, 0.3), 0px 1px 3px 1px rgba(60, 64, 67, 0.15);\n",
              "      fill: #174EA6;\n",
              "    }\n",
              "\n",
              "    [theme=dark] .colab-df-convert {\n",
              "      background-color: #3B4455;\n",
              "      fill: #D2E3FC;\n",
              "    }\n",
              "\n",
              "    [theme=dark] .colab-df-convert:hover {\n",
              "      background-color: #434B5C;\n",
              "      box-shadow: 0px 1px 3px 1px rgba(0, 0, 0, 0.15);\n",
              "      filter: drop-shadow(0px 1px 2px rgba(0, 0, 0, 0.3));\n",
              "      fill: #FFFFFF;\n",
              "    }\n",
              "  </style>\n",
              "\n",
              "      <script>\n",
              "        const buttonEl =\n",
              "          document.querySelector('#df-c3662b2f-d95b-4b38-8c43-e6be1371902e button.colab-df-convert');\n",
              "        buttonEl.style.display =\n",
              "          google.colab.kernel.accessAllowed ? 'block' : 'none';\n",
              "\n",
              "        async function convertToInteractive(key) {\n",
              "          const element = document.querySelector('#df-c3662b2f-d95b-4b38-8c43-e6be1371902e');\n",
              "          const dataTable =\n",
              "            await google.colab.kernel.invokeFunction('convertToInteractive',\n",
              "                                                     [key], {});\n",
              "          if (!dataTable) return;\n",
              "\n",
              "          const docLinkHtml = 'Like what you see? Visit the ' +\n",
              "            '<a target=\"_blank\" href=https://colab.research.google.com/notebooks/data_table.ipynb>data table notebook</a>'\n",
              "            + ' to learn more about interactive tables.';\n",
              "          element.innerHTML = '';\n",
              "          dataTable['output_type'] = 'display_data';\n",
              "          await google.colab.output.renderOutput(dataTable, element);\n",
              "          const docLink = document.createElement('div');\n",
              "          docLink.innerHTML = docLinkHtml;\n",
              "          element.appendChild(docLink);\n",
              "        }\n",
              "      </script>\n",
              "    </div>\n",
              "  </div>\n",
              "  "
            ],
            "text/plain": [
              "        id     pickup_datetime\n",
              "0        0 2019-01-01 00:00:00\n",
              "1004  1004 2019-01-01 02:39:00\n",
              "1003  1003 2019-01-01 02:39:00\n",
              "1002  1002 2019-01-01 02:39:00\n",
              "1001  1001 2019-01-01 02:39:00\n",
              "1000  1000 2019-01-01 02:39:00\n",
              "999    999 2019-01-01 02:39:00\n",
              "998    998 2019-01-01 02:39:00\n",
              "997    997 2019-01-01 02:38:00\n",
              "1005  1005 2019-01-01 02:39:00"
            ]
          },
          "execution_count": 31,
          "metadata": {},
          "output_type": "execute_result"
        }
      ],
      "source": [
        "# Specifying the cutoff time\n",
        "cutoff_time = trips[['id', 'pickup_datetime']]\n",
        "preview(cutoff_time, 10)"
      ]
    },
    {
      "cell_type": "markdown",
      "metadata": {
        "id": "3yOIEIF2F4bD"
      },
      "source": [
        "**Steps for Feature Engineering**\n",
        "\n",
        "1. **Creating baseline features using Deep Feature Synthesis**\n",
        "\n",
        "  Instead of manually creating features, such as \"month of pickup datetime\", we can let DFS come up with them automatically. It does this by\n",
        "  * interpreting the variable types of the columns e.g categorical, numeric and others\n",
        "  * matching the columns to the primitives that can be applied to their variable types\n",
        "  * creating features based on these matches\n",
        "\n",
        "2. **Create transform features using transform primitives**\n",
        "\n",
        "  As we described in the video, features fall into two major categories, ``transform`` and ``aggregate``. In featureools, we can create transform features by specifying ``transform`` primitives. Below we specify a ``transform`` primitive called ``weekend`` and here is what it does:\n",
        "\n",
        "  * It can be applied to any ``datetime`` column in the data.\n",
        "  * For each entry in the column, it assess if it is a ``weekend`` and returns a boolean.\n",
        "\n",
        "  In this specific data, there are one ``datetime`` column ``pickup_datetime``. The tool automatically creates features using the primitive and these two columns as shown below."
      ]
    },
    {
      "cell_type": "markdown",
      "metadata": {
        "id": "xzI_0jdUF4bD"
      },
      "source": [
        "### **Creating a baseline model with only 1 transform primitive**\n",
        "  "
      ]
    },
    {
      "cell_type": "markdown",
      "source": [
        "#### **Feature Engineering using DFS**"
      ],
      "metadata": {
        "id": "EVMM2Iuhw9Zm"
      }
    },
    {
      "cell_type": "markdown",
      "source": [
        "**Defining transform primitive for weekend and defining features using DFS**"
      ],
      "metadata": {
        "id": "PBVL2x60vJme"
      }
    },
    {
      "cell_type": "code",
      "execution_count": null,
      "metadata": {
        "ExecuteTime": {
          "end_time": "2021-07-15T12:46:18.552030Z",
          "start_time": "2021-07-15T12:46:16.349739Z"
        },
        "id": "vd_u0r3DF4bD"
      },
      "outputs": [],
      "source": [
        "# Initiang transform primitive for weekend\n",
        "trans_primitives = [IsWeekend]\n",
        "\n",
        "# Utilizing DFS\n",
        "features = ft.dfs(entities=entities,\n",
        "                  relationships=relationships,\n",
        "                  target_entity=\"trips\",\n",
        "                  trans_primitives=trans_primitives,\n",
        "                  agg_primitives=[],\n",
        "                  ignore_variables={\"trips\": [\"pickup_latitude\", \"pickup_longitude\",\n",
        "                                              \"dropoff_latitude\", \"dropoff_longitude\"]},\n",
        "                  features_only=True)"
      ]
    },
    {
      "cell_type": "code",
      "execution_count": null,
      "metadata": {
        "ExecuteTime": {
          "end_time": "2021-07-15T12:46:24.799450Z",
          "start_time": "2021-07-15T12:46:24.699552Z"
        },
        "colab": {
          "base_uri": "https://localhost:8080/"
        },
        "id": "r4h-NfkdF4bE",
        "outputId": "b0ea3c85-59f8-45ea-b9aa-7c9f1b9ffa02"
      },
      "outputs": [
        {
          "name": "stdout",
          "output_type": "stream",
          "text": [
            "Number of features: 12\n"
          ]
        },
        {
          "data": {
            "text/plain": [
              "[<Feature: Transport_service>,\n",
              " <Feature: passenger_count>,\n",
              " <Feature: trip_distance>,\n",
              " <Feature: payment_type>,\n",
              " <Feature: trip_duration>,\n",
              " <Feature: pickup_neighborhood>,\n",
              " <Feature: dropoff_neighborhood>,\n",
              " <Feature: IS_WEEKEND(pickup_datetime)>,\n",
              " <Feature: pickup_neighborhoods.latitude>,\n",
              " <Feature: pickup_neighborhoods.longitude>,\n",
              " <Feature: dropoff_neighborhoods.latitude>,\n",
              " <Feature: dropoff_neighborhoods.longitude>]"
            ]
          },
          "execution_count": 33,
          "metadata": {},
          "output_type": "execute_result"
        }
      ],
      "source": [
        "# Checking the features created using DFS\n",
        "print (\"Number of features: %d\" % len(features))\n",
        "features"
      ]
    },
    {
      "cell_type": "markdown",
      "metadata": {
        "id": "14cHn-RXF4bE"
      },
      "source": [
        "**Computing features and defining feature matrix**"
      ]
    },
    {
      "cell_type": "code",
      "execution_count": null,
      "metadata": {
        "ExecuteTime": {
          "end_time": "2021-07-15T12:46:56.132642Z",
          "start_time": "2021-07-15T12:46:56.030342Z"
        },
        "id": "8B6uIY5DF4bE"
      },
      "outputs": [],
      "source": [
        "# Defining a function that generates features from data according to set cutoff_time\n",
        "def compute_features(features, cutoff_time):\n",
        "    # shuffle so we don't see encoded features in the front or backs\n",
        "\n",
        "    np.random.shuffle(features)\n",
        "    feature_matrix = ft.calculate_feature_matrix(features,\n",
        "                                                 cutoff_time=cutoff_time,\n",
        "                                                 approximate='36d',\n",
        "                                                 verbose=True,entities=entities, relationships=relationships)\n",
        "    print(\"Finishing computing...\")\n",
        "    feature_matrix, features = ft.encode_features(feature_matrix, features,\n",
        "                                                  to_encode=[\"pickup_neighborhood\", \"dropoff_neighborhood\"],\n",
        "                                                  include_unknown=False)\n",
        "    return feature_matrix"
      ]
    },
    {
      "cell_type": "code",
      "execution_count": null,
      "metadata": {
        "colab": {
          "base_uri": "https://localhost:8080/"
        },
        "id": "npf-uWQkF4bE",
        "outputId": "64745a06-b015-4a0a-c473-6d9883a4dac6"
      },
      "outputs": [
        {
          "name": "stdout",
          "output_type": "stream",
          "text": [
            "Elapsed: 00:00 | Progress: 100%|██████████\n",
            "Finishing computing...\n"
          ]
        }
      ],
      "source": [
        "# Initiating the compute_features function\n",
        "feature_matrix1 = compute_features(features, cutoff_time)"
      ]
    },
    {
      "cell_type": "code",
      "execution_count": null,
      "metadata": {
        "ExecuteTime": {
          "end_time": "2021-07-15T12:47:21.290315Z",
          "start_time": "2021-07-15T12:47:20.995105Z"
        },
        "colab": {
          "base_uri": "https://localhost:8080/",
          "height": 348
        },
        "id": "vVu5cgnsF4bE",
        "outputId": "d27beac3-d61c-47dc-94ce-9933f36122cd"
      },
      "outputs": [
        {
          "data": {
            "text/html": [
              "\n",
              "  <div id=\"df-408ad065-260d-4ea0-8697-67ee7b47f3c5\">\n",
              "    <div class=\"colab-df-container\">\n",
              "      <div>\n",
              "<style scoped>\n",
              "    .dataframe tbody tr th:only-of-type {\n",
              "        vertical-align: middle;\n",
              "    }\n",
              "\n",
              "    .dataframe tbody tr th {\n",
              "        vertical-align: top;\n",
              "    }\n",
              "\n",
              "    .dataframe thead th {\n",
              "        text-align: right;\n",
              "    }\n",
              "</style>\n",
              "<table border=\"1\" class=\"dataframe\">\n",
              "  <thead>\n",
              "    <tr style=\"text-align: right;\">\n",
              "      <th></th>\n",
              "      <th>payment_type</th>\n",
              "      <th>pickup_neighborhoods.longitude</th>\n",
              "      <th>dropoff_neighborhood = AM</th>\n",
              "      <th>dropoff_neighborhood = Y</th>\n",
              "      <th>dropoff_neighborhood = AT</th>\n",
              "      <th>dropoff_neighborhood = C</th>\n",
              "      <th>dropoff_neighborhood = W</th>\n",
              "      <th>dropoff_neighborhood = AD</th>\n",
              "      <th>dropoff_neighborhood = Z</th>\n",
              "      <th>dropoff_neighborhood = P</th>\n",
              "      <th>...</th>\n",
              "      <th>pickup_neighborhood = I</th>\n",
              "      <th>pickup_neighborhood = R</th>\n",
              "      <th>dropoff_neighborhoods.latitude</th>\n",
              "      <th>Transport_service</th>\n",
              "      <th>trip_duration</th>\n",
              "      <th>trip_distance</th>\n",
              "      <th>dropoff_neighborhoods.longitude</th>\n",
              "      <th>pickup_neighborhoods.latitude</th>\n",
              "      <th>passenger_count</th>\n",
              "      <th>IS_WEEKEND(pickup_datetime)</th>\n",
              "    </tr>\n",
              "    <tr>\n",
              "      <th>id</th>\n",
              "      <th></th>\n",
              "      <th></th>\n",
              "      <th></th>\n",
              "      <th></th>\n",
              "      <th></th>\n",
              "      <th></th>\n",
              "      <th></th>\n",
              "      <th></th>\n",
              "      <th></th>\n",
              "      <th></th>\n",
              "      <th></th>\n",
              "      <th></th>\n",
              "      <th></th>\n",
              "      <th></th>\n",
              "      <th></th>\n",
              "      <th></th>\n",
              "      <th></th>\n",
              "      <th></th>\n",
              "      <th></th>\n",
              "      <th></th>\n",
              "      <th></th>\n",
              "    </tr>\n",
              "  </thead>\n",
              "  <tbody>\n",
              "    <tr>\n",
              "      <th>0</th>\n",
              "      <td>3</td>\n",
              "      <td>-73.961716</td>\n",
              "      <td>False</td>\n",
              "      <td>False</td>\n",
              "      <td>False</td>\n",
              "      <td>True</td>\n",
              "      <td>False</td>\n",
              "      <td>False</td>\n",
              "      <td>False</td>\n",
              "      <td>False</td>\n",
              "      <td>...</td>\n",
              "      <td>False</td>\n",
              "      <td>False</td>\n",
              "      <td>40.783780</td>\n",
              "      <td>3</td>\n",
              "      <td>387</td>\n",
              "      <td>1.32</td>\n",
              "      <td>-73.953145</td>\n",
              "      <td>40.804349</td>\n",
              "      <td>1</td>\n",
              "      <td>False</td>\n",
              "    </tr>\n",
              "    <tr>\n",
              "      <th>1004</th>\n",
              "      <td>1</td>\n",
              "      <td>-73.919159</td>\n",
              "      <td>False</td>\n",
              "      <td>False</td>\n",
              "      <td>False</td>\n",
              "      <td>False</td>\n",
              "      <td>True</td>\n",
              "      <td>False</td>\n",
              "      <td>False</td>\n",
              "      <td>False</td>\n",
              "      <td>...</td>\n",
              "      <td>False</td>\n",
              "      <td>False</td>\n",
              "      <td>40.766575</td>\n",
              "      <td>4</td>\n",
              "      <td>1215</td>\n",
              "      <td>4.00</td>\n",
              "      <td>-73.919853</td>\n",
              "      <td>40.744928</td>\n",
              "      <td>1</td>\n",
              "      <td>False</td>\n",
              "    </tr>\n",
              "    <tr>\n",
              "      <th>1003</th>\n",
              "      <td>1</td>\n",
              "      <td>-73.954298</td>\n",
              "      <td>False</td>\n",
              "      <td>False</td>\n",
              "      <td>False</td>\n",
              "      <td>False</td>\n",
              "      <td>False</td>\n",
              "      <td>False</td>\n",
              "      <td>True</td>\n",
              "      <td>False</td>\n",
              "      <td>...</td>\n",
              "      <td>False</td>\n",
              "      <td>False</td>\n",
              "      <td>40.715828</td>\n",
              "      <td>3</td>\n",
              "      <td>215</td>\n",
              "      <td>0.63</td>\n",
              "      <td>-73.954298</td>\n",
              "      <td>40.715828</td>\n",
              "      <td>4</td>\n",
              "      <td>False</td>\n",
              "    </tr>\n",
              "    <tr>\n",
              "      <th>1002</th>\n",
              "      <td>2</td>\n",
              "      <td>-73.981693</td>\n",
              "      <td>True</td>\n",
              "      <td>False</td>\n",
              "      <td>False</td>\n",
              "      <td>False</td>\n",
              "      <td>False</td>\n",
              "      <td>False</td>\n",
              "      <td>False</td>\n",
              "      <td>False</td>\n",
              "      <td>...</td>\n",
              "      <td>False</td>\n",
              "      <td>False</td>\n",
              "      <td>40.775357</td>\n",
              "      <td>2</td>\n",
              "      <td>561</td>\n",
              "      <td>3.20</td>\n",
              "      <td>-73.949840</td>\n",
              "      <td>40.729670</td>\n",
              "      <td>3</td>\n",
              "      <td>False</td>\n",
              "    </tr>\n",
              "    <tr>\n",
              "      <th>1001</th>\n",
              "      <td>2</td>\n",
              "      <td>-73.998366</td>\n",
              "      <td>False</td>\n",
              "      <td>False</td>\n",
              "      <td>False</td>\n",
              "      <td>False</td>\n",
              "      <td>False</td>\n",
              "      <td>False</td>\n",
              "      <td>False</td>\n",
              "      <td>False</td>\n",
              "      <td>...</td>\n",
              "      <td>False</td>\n",
              "      <td>False</td>\n",
              "      <td>40.793597</td>\n",
              "      <td>1</td>\n",
              "      <td>1576</td>\n",
              "      <td>8.28</td>\n",
              "      <td>-73.969822</td>\n",
              "      <td>40.721435</td>\n",
              "      <td>3</td>\n",
              "      <td>False</td>\n",
              "    </tr>\n",
              "  </tbody>\n",
              "</table>\n",
              "<p>5 rows × 30 columns</p>\n",
              "</div>\n",
              "      <button class=\"colab-df-convert\" onclick=\"convertToInteractive('df-408ad065-260d-4ea0-8697-67ee7b47f3c5')\"\n",
              "              title=\"Convert this dataframe to an interactive table.\"\n",
              "              style=\"display:none;\">\n",
              "        \n",
              "  <svg xmlns=\"http://www.w3.org/2000/svg\" height=\"24px\"viewBox=\"0 0 24 24\"\n",
              "       width=\"24px\">\n",
              "    <path d=\"M0 0h24v24H0V0z\" fill=\"none\"/>\n",
              "    <path d=\"M18.56 5.44l.94 2.06.94-2.06 2.06-.94-2.06-.94-.94-2.06-.94 2.06-2.06.94zm-11 1L8.5 8.5l.94-2.06 2.06-.94-2.06-.94L8.5 2.5l-.94 2.06-2.06.94zm10 10l.94 2.06.94-2.06 2.06-.94-2.06-.94-.94-2.06-.94 2.06-2.06.94z\"/><path d=\"M17.41 7.96l-1.37-1.37c-.4-.4-.92-.59-1.43-.59-.52 0-1.04.2-1.43.59L10.3 9.45l-7.72 7.72c-.78.78-.78 2.05 0 2.83L4 21.41c.39.39.9.59 1.41.59.51 0 1.02-.2 1.41-.59l7.78-7.78 2.81-2.81c.8-.78.8-2.07 0-2.86zM5.41 20L4 18.59l7.72-7.72 1.47 1.35L5.41 20z\"/>\n",
              "  </svg>\n",
              "      </button>\n",
              "      \n",
              "  <style>\n",
              "    .colab-df-container {\n",
              "      display:flex;\n",
              "      flex-wrap:wrap;\n",
              "      gap: 12px;\n",
              "    }\n",
              "\n",
              "    .colab-df-convert {\n",
              "      background-color: #E8F0FE;\n",
              "      border: none;\n",
              "      border-radius: 50%;\n",
              "      cursor: pointer;\n",
              "      display: none;\n",
              "      fill: #1967D2;\n",
              "      height: 32px;\n",
              "      padding: 0 0 0 0;\n",
              "      width: 32px;\n",
              "    }\n",
              "\n",
              "    .colab-df-convert:hover {\n",
              "      background-color: #E2EBFA;\n",
              "      box-shadow: 0px 1px 2px rgba(60, 64, 67, 0.3), 0px 1px 3px 1px rgba(60, 64, 67, 0.15);\n",
              "      fill: #174EA6;\n",
              "    }\n",
              "\n",
              "    [theme=dark] .colab-df-convert {\n",
              "      background-color: #3B4455;\n",
              "      fill: #D2E3FC;\n",
              "    }\n",
              "\n",
              "    [theme=dark] .colab-df-convert:hover {\n",
              "      background-color: #434B5C;\n",
              "      box-shadow: 0px 1px 3px 1px rgba(0, 0, 0, 0.15);\n",
              "      filter: drop-shadow(0px 1px 2px rgba(0, 0, 0, 0.3));\n",
              "      fill: #FFFFFF;\n",
              "    }\n",
              "  </style>\n",
              "\n",
              "      <script>\n",
              "        const buttonEl =\n",
              "          document.querySelector('#df-408ad065-260d-4ea0-8697-67ee7b47f3c5 button.colab-df-convert');\n",
              "        buttonEl.style.display =\n",
              "          google.colab.kernel.accessAllowed ? 'block' : 'none';\n",
              "\n",
              "        async function convertToInteractive(key) {\n",
              "          const element = document.querySelector('#df-408ad065-260d-4ea0-8697-67ee7b47f3c5');\n",
              "          const dataTable =\n",
              "            await google.colab.kernel.invokeFunction('convertToInteractive',\n",
              "                                                     [key], {});\n",
              "          if (!dataTable) return;\n",
              "\n",
              "          const docLinkHtml = 'Like what you see? Visit the ' +\n",
              "            '<a target=\"_blank\" href=https://colab.research.google.com/notebooks/data_table.ipynb>data table notebook</a>'\n",
              "            + ' to learn more about interactive tables.';\n",
              "          element.innerHTML = '';\n",
              "          dataTable['output_type'] = 'display_data';\n",
              "          await google.colab.output.renderOutput(dataTable, element);\n",
              "          const docLink = document.createElement('div');\n",
              "          docLink.innerHTML = docLinkHtml;\n",
              "          element.appendChild(docLink);\n",
              "        }\n",
              "      </script>\n",
              "    </div>\n",
              "  </div>\n",
              "  "
            ],
            "text/plain": [
              "     payment_type  pickup_neighborhoods.longitude  dropoff_neighborhood = AM  \\\n",
              "id                                                                             \n",
              "0               3                      -73.961716                      False   \n",
              "1004            1                      -73.919159                      False   \n",
              "1003            1                      -73.954298                      False   \n",
              "1002            2                      -73.981693                       True   \n",
              "1001            2                      -73.998366                      False   \n",
              "\n",
              "      dropoff_neighborhood = Y  dropoff_neighborhood = AT  \\\n",
              "id                                                          \n",
              "0                        False                      False   \n",
              "1004                     False                      False   \n",
              "1003                     False                      False   \n",
              "1002                     False                      False   \n",
              "1001                     False                      False   \n",
              "\n",
              "      dropoff_neighborhood = C  dropoff_neighborhood = W  \\\n",
              "id                                                         \n",
              "0                         True                     False   \n",
              "1004                     False                      True   \n",
              "1003                     False                     False   \n",
              "1002                     False                     False   \n",
              "1001                     False                     False   \n",
              "\n",
              "      dropoff_neighborhood = AD  dropoff_neighborhood = Z  \\\n",
              "id                                                          \n",
              "0                         False                     False   \n",
              "1004                      False                     False   \n",
              "1003                      False                      True   \n",
              "1002                      False                     False   \n",
              "1001                      False                     False   \n",
              "\n",
              "      dropoff_neighborhood = P  ...  pickup_neighborhood = I  \\\n",
              "id                              ...                            \n",
              "0                        False  ...                    False   \n",
              "1004                     False  ...                    False   \n",
              "1003                     False  ...                    False   \n",
              "1002                     False  ...                    False   \n",
              "1001                     False  ...                    False   \n",
              "\n",
              "      pickup_neighborhood = R  dropoff_neighborhoods.latitude  \\\n",
              "id                                                              \n",
              "0                       False                       40.783780   \n",
              "1004                    False                       40.766575   \n",
              "1003                    False                       40.715828   \n",
              "1002                    False                       40.775357   \n",
              "1001                    False                       40.793597   \n",
              "\n",
              "      Transport_service  trip_duration  trip_distance  \\\n",
              "id                                                      \n",
              "0                     3            387           1.32   \n",
              "1004                  4           1215           4.00   \n",
              "1003                  3            215           0.63   \n",
              "1002                  2            561           3.20   \n",
              "1001                  1           1576           8.28   \n",
              "\n",
              "      dropoff_neighborhoods.longitude  pickup_neighborhoods.latitude  \\\n",
              "id                                                                     \n",
              "0                          -73.953145                      40.804349   \n",
              "1004                       -73.919853                      40.744928   \n",
              "1003                       -73.954298                      40.715828   \n",
              "1002                       -73.949840                      40.729670   \n",
              "1001                       -73.969822                      40.721435   \n",
              "\n",
              "      passenger_count  IS_WEEKEND(pickup_datetime)  \n",
              "id                                                  \n",
              "0                   1                        False  \n",
              "1004                1                        False  \n",
              "1003                4                        False  \n",
              "1002                3                        False  \n",
              "1001                3                        False  \n",
              "\n",
              "[5 rows x 30 columns]"
            ]
          },
          "execution_count": 36,
          "metadata": {},
          "output_type": "execute_result"
        }
      ],
      "source": [
        "# Looking at the generated feature matrix\n",
        "preview(feature_matrix1, 5)"
      ]
    },
    {
      "cell_type": "code",
      "execution_count": null,
      "metadata": {
        "colab": {
          "base_uri": "https://localhost:8080/"
        },
        "id": "qio54yMXF4bE",
        "outputId": "605a3c2c-1781-46b6-fa83-d0ce1bcfe381"
      },
      "outputs": [
        {
          "data": {
            "text/plain": [
              "(1452, 30)"
            ]
          },
          "execution_count": 37,
          "metadata": {},
          "output_type": "execute_result"
        }
      ],
      "source": [
        "# Checking the shape of the matrix\n",
        "feature_matrix1.shape"
      ]
    },
    {
      "cell_type": "markdown",
      "source": [
        "* Here it is seen that 30 features are generated\n",
        "* It is also noticed that the number of data points, after applying the cutoff_time filter is 1452 entries"
      ],
      "metadata": {
        "id": "xtbNuC9Gwhkj"
      }
    },
    {
      "cell_type": "markdown",
      "metadata": {
        "id": "NUlLIx5QF4bE"
      },
      "source": [
        "#### **Model Building**\n"
      ]
    },
    {
      "cell_type": "markdown",
      "metadata": {
        "id": "7F3rlIZwF4bE"
      },
      "source": [
        "> **Transforming the duration variable using sqrt and log**"
      ]
    },
    {
      "cell_type": "code",
      "execution_count": null,
      "metadata": {
        "colab": {
          "base_uri": "https://localhost:8080/",
          "height": 430
        },
        "id": "7H-xfzjDF4bE",
        "outputId": "4487612f-68d0-4e5d-9b64-b8c59783952d"
      },
      "outputs": [
        {
          "data": {
            "image/png": "[encoded data removed]",
            "text/plain": [
              "<Figure size 640x480 with 1 Axes>"
            ]
          },
          "metadata": {},
          "output_type": "display_data"
        }
      ],
      "source": [
        "# Checking distribution of sqrt-transformed trips\n",
        "plt.hist(np.sqrt(trips['trip_duration']))\n",
        "plt.show()"
      ]
    },
    {
      "cell_type": "code",
      "execution_count": null,
      "metadata": {
        "colab": {
          "base_uri": "https://localhost:8080/",
          "height": 430
        },
        "id": "Rxj4czFbF4bF",
        "outputId": "9d4bafff-d278-49e8-9a41-5639fd5ef8d5"
      },
      "outputs": [
        {
          "data": {
            "image/png": "[encoded data removed]",
            "text/plain": [
              "<Figure size 640x480 with 1 Axes>"
            ]
          },
          "metadata": {},
          "output_type": "display_data"
        }
      ],
      "source": [
        "# Checking distribution of log-transformed trips\n",
        "plt.hist(np.log(trips['trip_duration']))\n",
        "plt.show()"
      ]
    },
    {
      "cell_type": "markdown",
      "metadata": {
        "id": "1FaMTnXvF4bF"
      },
      "source": [
        "- We can clearly see that the sqrt transformation is giving nearly normal distribution, there for we can choose the sqrt transformation on the dependent(trip_duration) variable."
      ]
    },
    {
      "cell_type": "markdown",
      "metadata": {
        "id": "QmECM5u_F4bF"
      },
      "source": [
        "> **Splitting the data into train and test**"
      ]
    },
    {
      "cell_type": "code",
      "execution_count": null,
      "metadata": {
        "ExecuteTime": {
          "end_time": "2021-07-15T12:47:30.919229Z",
          "start_time": "2021-07-15T12:47:24.754592Z"
        },
        "id": "bfuPVjn9F4bF"
      },
      "outputs": [],
      "source": [
        "# Separates the whole feature matrix into train data feature matrix,train data labels, and test data feature matrix\n",
        "X_train, y_train, X_test, y_test = get_train_test_fm(feature_matrix1,.75)\n",
        "y_train = np.sqrt(y_train)\n",
        "y_test = np.sqrt(y_test)"
      ]
    },
    {
      "cell_type": "markdown",
      "metadata": {
        "id": "J3FtMSR2F4bF"
      },
      "source": [
        "> **Defining function for to check the performance of the model.**"
      ]
    },
    {
      "cell_type": "code",
      "execution_count": null,
      "metadata": {
        "id": "kf5R0U2AF4bF"
      },
      "outputs": [],
      "source": [
        "# RMSE\n",
        "def rmse(predictions, targets):\n",
        "    return np.sqrt(((targets - predictions) ** 2).mean())\n",
        "\n",
        "# MAE\n",
        "def mae(predictions, targets):\n",
        "    return np.mean(np.abs((targets - predictions)))\n",
        "\n",
        "\n",
        "# Model Performance on test and train data\n",
        "def model_pref(model, x_train, x_test, y_train,y_test):\n",
        "\n",
        "    # Insample Prediction\n",
        "    y_pred_train = model.predict(x_train)\n",
        "    y_observed_train = y_train\n",
        "\n",
        "    # Prediction on test data\n",
        "    y_pred_test = model.predict(x_test)\n",
        "    y_observed_test = y_test\n",
        "\n",
        "    print(\n",
        "        pd.DataFrame(\n",
        "            {\n",
        "                \"Data\": [\"Train\", \"Test\"],\n",
        "                'RSquared':\n",
        "                    [r2_score(y_observed_train,y_pred_train),\n",
        "                    r2_score(y_observed_test,y_pred_test )\n",
        "                    ],\n",
        "                \"RMSE\": [\n",
        "                    rmse(y_pred_train, y_observed_train),\n",
        "                    rmse(y_pred_test, y_observed_test),\n",
        "                ],\n",
        "                \"MAE\": [\n",
        "                    mae(y_pred_train, y_observed_train),\n",
        "                    mae(y_pred_test, y_observed_test),\n",
        "                ],\n",
        "            }\n",
        "        )\n",
        "    )"
      ]
    },
    {
      "cell_type": "markdown",
      "metadata": {
        "id": "HOLVEQ6vF4bF"
      },
      "source": [
        "> **Building Linear regression using only weekend transform primitive**"
      ]
    },
    {
      "cell_type": "code",
      "execution_count": null,
      "metadata": {
        "colab": {
          "base_uri": "https://localhost:8080/",
          "height": 75
        },
        "id": "Per9TXPXF4bF",
        "outputId": "1d86fc12-2a3d-46df-c435-7ab082e26791"
      },
      "outputs": [
        {
          "data": {
            "text/html": [
              "<style>#sk-container-id-1 {color: black;background-color: white;}#sk-container-id-1 pre{padding: 0;}#sk-container-id-1 div.sk-toggleable {background-color: white;}#sk-container-id-1 label.sk-toggleable__label {cursor: pointer;display: block;width: 100%;margin-bottom: 0;padding: 0.3em;box-sizing: border-box;text-align: center;}#sk-container-id-1 label.sk-toggleable__label-arrow:before {content: \"▸\";float: left;margin-right: 0.25em;color: #696969;}#sk-container-id-1 label.sk-toggleable__label-arrow:hover:before {color: black;}#sk-container-id-1 div.sk-estimator:hover label.sk-toggleable__label-arrow:before {color: black;}#sk-container-id-1 div.sk-toggleable__content {max-height: 0;max-width: 0;overflow: hidden;text-align: left;background-color: #f0f8ff;}#sk-container-id-1 div.sk-toggleable__content pre {margin: 0.2em;color: black;border-radius: 0.25em;background-color: #f0f8ff;}#sk-container-id-1 input.sk-toggleable__control:checked~div.sk-toggleable__content {max-height: 200px;max-width: 100%;overflow: auto;}#sk-container-id-1 input.sk-toggleable__control:checked~label.sk-toggleable__label-arrow:before {content: \"▾\";}#sk-container-id-1 div.sk-estimator input.sk-toggleable__control:checked~label.sk-toggleable__label {background-color: #d4ebff;}#sk-container-id-1 div.sk-label input.sk-toggleable__control:checked~label.sk-toggleable__label {background-color: #d4ebff;}#sk-container-id-1 input.sk-hidden--visually {border: 0;clip: rect(1px 1px 1px 1px);clip: rect(1px, 1px, 1px, 1px);height: 1px;margin: -1px;overflow: hidden;padding: 0;position: absolute;width: 1px;}#sk-container-id-1 div.sk-estimator {font-family: monospace;background-color: #f0f8ff;border: 1px dotted black;border-radius: 0.25em;box-sizing: border-box;margin-bottom: 0.5em;}#sk-container-id-1 div.sk-estimator:hover {background-color: #d4ebff;}#sk-container-id-1 div.sk-parallel-item::after {content: \"\";width: 100%;border-bottom: 1px solid gray;flex-grow: 1;}#sk-container-id-1 div.sk-label:hover label.sk-toggleable__label {background-color: #d4ebff;}#sk-container-id-1 div.sk-serial::before {content: \"\";position: absolute;border-left: 1px solid gray;box-sizing: border-box;top: 0;bottom: 0;left: 50%;z-index: 0;}#sk-container-id-1 div.sk-serial {display: flex;flex-direction: column;align-items: center;background-color: white;padding-right: 0.2em;padding-left: 0.2em;position: relative;}#sk-container-id-1 div.sk-item {position: relative;z-index: 1;}#sk-container-id-1 div.sk-parallel {display: flex;align-items: stretch;justify-content: center;background-color: white;position: relative;}#sk-container-id-1 div.sk-item::before, #sk-container-id-1 div.sk-parallel-item::before {content: \"\";position: absolute;border-left: 1px solid gray;box-sizing: border-box;top: 0;bottom: 0;left: 50%;z-index: -1;}#sk-container-id-1 div.sk-parallel-item {display: flex;flex-direction: column;z-index: 1;position: relative;background-color: white;}#sk-container-id-1 div.sk-parallel-item:first-child::after {align-self: flex-end;width: 50%;}#sk-container-id-1 div.sk-parallel-item:last-child::after {align-self: flex-start;width: 50%;}#sk-container-id-1 div.sk-parallel-item:only-child::after {width: 0;}#sk-container-id-1 div.sk-dashed-wrapped {border: 1px dashed gray;margin: 0 0.4em 0.5em 0.4em;box-sizing: border-box;padding-bottom: 0.4em;background-color: white;}#sk-container-id-1 div.sk-label label {font-family: monospace;font-weight: bold;display: inline-block;line-height: 1.2em;}#sk-container-id-1 div.sk-label-container {text-align: center;}#sk-container-id-1 div.sk-container {/* jupyter's `normalize.less` sets `[hidden] { display: none; }` but bootstrap.min.css set `[hidden] { display: none !important; }` so we also need the `!important` here to be able to override the default hidden behavior on the sphinx rendered scikit-learn.org. See: https://github.com/scikit-learn/scikit-learn/issues/21755 */display: inline-block !important;position: relative;}#sk-container-id-1 div.sk-text-repr-fallback {display: none;}</style><div id=\"sk-container-id-1\" class=\"sk-top-container\"><div class=\"sk-text-repr-fallback\"><pre>LinearRegression()</pre><b>In a Jupyter environment, please rerun this cell to show the HTML representation or trust the notebook. <br />On GitHub, the HTML representation is unable to render, please try loading this page with nbviewer.org.</b></div><div class=\"sk-container\" hidden><div class=\"sk-item\"><div class=\"sk-estimator sk-toggleable\"><input class=\"sk-toggleable__control sk-hidden--visually\" id=\"sk-estimator-id-1\" type=\"checkbox\" checked><label for=\"sk-estimator-id-1\" class=\"sk-toggleable__label sk-toggleable__label-arrow\">LinearRegression</label><div class=\"sk-toggleable__content\"><pre>LinearRegression()</pre></div></div></div></div></div>"
            ],
            "text/plain": [
              "LinearRegression()"
            ]
          },
          "execution_count": 42,
          "metadata": {},
          "output_type": "execute_result"
        }
      ],
      "source": [
        "# Defining the model\n",
        "lr1=LinearRegression()\n",
        "\n",
        "# Fitting the model\n",
        "lr1.fit(X_train,y_train)"
      ]
    },
    {
      "cell_type": "code",
      "execution_count": null,
      "metadata": {
        "colab": {
          "base_uri": "https://localhost:8080/"
        },
        "id": "Af_D1AhTF4bF",
        "outputId": "fe8a1eff-5fa0-463e-8333-48379c864327"
      },
      "outputs": [
        {
          "name": "stdout",
          "output_type": "stream",
          "text": [
            "    Data  RSquared      RMSE       MAE\n",
            "0  Train  0.662819  5.246785  4.052007\n",
            "1   Test  0.583352  5.583601  4.172844\n"
          ]
        }
      ],
      "source": [
        "# Check the performance of the model\n",
        "model_pref(lr1, X_train, X_test,y_train,y_test)"
      ]
    },
    {
      "cell_type": "markdown",
      "metadata": {
        "id": "WrsPKZo0F4bG"
      },
      "source": [
        "- Model is giving only 0.58 Rsquared, with RSME of 5.58 and MAE of ~4.17.\n",
        "- Model is slightly overfitting."
      ]
    },
    {
      "cell_type": "markdown",
      "metadata": {
        "id": "pVzSEpJzF4bG"
      },
      "source": [
        "> **Building a decision tree using only weekend transform primitive**"
      ]
    },
    {
      "cell_type": "code",
      "execution_count": null,
      "metadata": {
        "colab": {
          "base_uri": "https://localhost:8080/",
          "height": 75
        },
        "id": "QyuRFuabF4bG",
        "outputId": "7ffcfbc7-42a2-4fc8-9663-71b316b07a24"
      },
      "outputs": [
        {
          "data": {
            "text/html": [
              "<style>#sk-container-id-2 {color: black;background-color: white;}#sk-container-id-2 pre{padding: 0;}#sk-container-id-2 div.sk-toggleable {background-color: white;}#sk-container-id-2 label.sk-toggleable__label {cursor: pointer;display: block;width: 100%;margin-bottom: 0;padding: 0.3em;box-sizing: border-box;text-align: center;}#sk-container-id-2 label.sk-toggleable__label-arrow:before {content: \"▸\";float: left;margin-right: 0.25em;color: #696969;}#sk-container-id-2 label.sk-toggleable__label-arrow:hover:before {color: black;}#sk-container-id-2 div.sk-estimator:hover label.sk-toggleable__label-arrow:before {color: black;}#sk-container-id-2 div.sk-toggleable__content {max-height: 0;max-width: 0;overflow: hidden;text-align: left;background-color: #f0f8ff;}#sk-container-id-2 div.sk-toggleable__content pre {margin: 0.2em;color: black;border-radius: 0.25em;background-color: #f0f8ff;}#sk-container-id-2 input.sk-toggleable__control:checked~div.sk-toggleable__content {max-height: 200px;max-width: 100%;overflow: auto;}#sk-container-id-2 input.sk-toggleable__control:checked~label.sk-toggleable__label-arrow:before {content: \"▾\";}#sk-container-id-2 div.sk-estimator input.sk-toggleable__control:checked~label.sk-toggleable__label {background-color: #d4ebff;}#sk-container-id-2 div.sk-label input.sk-toggleable__control:checked~label.sk-toggleable__label {background-color: #d4ebff;}#sk-container-id-2 input.sk-hidden--visually {border: 0;clip: rect(1px 1px 1px 1px);clip: rect(1px, 1px, 1px, 1px);height: 1px;margin: -1px;overflow: hidden;padding: 0;position: absolute;width: 1px;}#sk-container-id-2 div.sk-estimator {font-family: monospace;background-color: #f0f8ff;border: 1px dotted black;border-radius: 0.25em;box-sizing: border-box;margin-bottom: 0.5em;}#sk-container-id-2 div.sk-estimator:hover {background-color: #d4ebff;}#sk-container-id-2 div.sk-parallel-item::after {content: \"\";width: 100%;border-bottom: 1px solid gray;flex-grow: 1;}#sk-container-id-2 div.sk-label:hover label.sk-toggleable__label {background-color: #d4ebff;}#sk-container-id-2 div.sk-serial::before {content: \"\";position: absolute;border-left: 1px solid gray;box-sizing: border-box;top: 0;bottom: 0;left: 50%;z-index: 0;}#sk-container-id-2 div.sk-serial {display: flex;flex-direction: column;align-items: center;background-color: white;padding-right: 0.2em;padding-left: 0.2em;position: relative;}#sk-container-id-2 div.sk-item {position: relative;z-index: 1;}#sk-container-id-2 div.sk-parallel {display: flex;align-items: stretch;justify-content: center;background-color: white;position: relative;}#sk-container-id-2 div.sk-item::before, #sk-container-id-2 div.sk-parallel-item::before {content: \"\";position: absolute;border-left: 1px solid gray;box-sizing: border-box;top: 0;bottom: 0;left: 50%;z-index: -1;}#sk-container-id-2 div.sk-parallel-item {display: flex;flex-direction: column;z-index: 1;position: relative;background-color: white;}#sk-container-id-2 div.sk-parallel-item:first-child::after {align-self: flex-end;width: 50%;}#sk-container-id-2 div.sk-parallel-item:last-child::after {align-self: flex-start;width: 50%;}#sk-container-id-2 div.sk-parallel-item:only-child::after {width: 0;}#sk-container-id-2 div.sk-dashed-wrapped {border: 1px dashed gray;margin: 0 0.4em 0.5em 0.4em;box-sizing: border-box;padding-bottom: 0.4em;background-color: white;}#sk-container-id-2 div.sk-label label {font-family: monospace;font-weight: bold;display: inline-block;line-height: 1.2em;}#sk-container-id-2 div.sk-label-container {text-align: center;}#sk-container-id-2 div.sk-container {/* jupyter's `normalize.less` sets `[hidden] { display: none; }` but bootstrap.min.css set `[hidden] { display: none !important; }` so we also need the `!important` here to be able to override the default hidden behavior on the sphinx rendered scikit-learn.org. See: https://github.com/scikit-learn/scikit-learn/issues/21755 */display: inline-block !important;position: relative;}#sk-container-id-2 div.sk-text-repr-fallback {display: none;}</style><div id=\"sk-container-id-2\" class=\"sk-top-container\"><div class=\"sk-text-repr-fallback\"><pre>DecisionTreeRegressor()</pre><b>In a Jupyter environment, please rerun this cell to show the HTML representation or trust the notebook. <br />On GitHub, the HTML representation is unable to render, please try loading this page with nbviewer.org.</b></div><div class=\"sk-container\" hidden><div class=\"sk-item\"><div class=\"sk-estimator sk-toggleable\"><input class=\"sk-toggleable__control sk-hidden--visually\" id=\"sk-estimator-id-2\" type=\"checkbox\" checked><label for=\"sk-estimator-id-2\" class=\"sk-toggleable__label sk-toggleable__label-arrow\">DecisionTreeRegressor</label><div class=\"sk-toggleable__content\"><pre>DecisionTreeRegressor()</pre></div></div></div></div></div>"
            ],
            "text/plain": [
              "DecisionTreeRegressor()"
            ]
          },
          "execution_count": 44,
          "metadata": {},
          "output_type": "execute_result"
        }
      ],
      "source": [
        "# Defining the model\n",
        "dt = DecisionTreeRegressor()\n",
        "\n",
        "# Fitting the model\n",
        "dt.fit(X_train,y_train)"
      ]
    },
    {
      "cell_type": "code",
      "execution_count": null,
      "metadata": {
        "colab": {
          "base_uri": "https://localhost:8080/"
        },
        "id": "wT-WmaLCF4bG",
        "outputId": "8b760233-3622-4498-9cd7-f5be6939e6b7"
      },
      "outputs": [
        {
          "name": "stdout",
          "output_type": "stream",
          "text": [
            "    Data  RSquared      RMSE       MAE\n",
            "0  Train  1.000000  0.000000  0.000000\n",
            "1   Test  0.510486  6.052185  4.618472\n"
          ]
        }
      ],
      "source": [
        "# Check the performance of the model\n",
        "model_pref(dt, X_train, X_test,y_train,y_test)"
      ]
    },
    {
      "cell_type": "markdown",
      "metadata": {
        "id": "QFg3ehIFF4bG"
      },
      "source": [
        "- The model is overfitting a lot, with train R2 as 1 while test R2 as 0.46\n",
        "- This generally happens in decision tree, one solution for this is to Prune the decision tree, let's try pruning and see if the performance improves."
      ]
    },
    {
      "cell_type": "markdown",
      "metadata": {
        "id": "yJw8amFqF4bG"
      },
      "source": [
        "> **Building Pruned decision tree using only weekend transform primitive**"
      ]
    },
    {
      "cell_type": "code",
      "execution_count": null,
      "metadata": {
        "colab": {
          "base_uri": "https://localhost:8080/",
          "height": 75
        },
        "id": "pB4hibI_F4bG",
        "outputId": "3315a273-12f4-47fb-cd11-085f3097c493"
      },
      "outputs": [
        {
          "data": {
            "text/html": [
              "<style>#sk-container-id-3 {color: black;background-color: white;}#sk-container-id-3 pre{padding: 0;}#sk-container-id-3 div.sk-toggleable {background-color: white;}#sk-container-id-3 label.sk-toggleable__label {cursor: pointer;display: block;width: 100%;margin-bottom: 0;padding: 0.3em;box-sizing: border-box;text-align: center;}#sk-container-id-3 label.sk-toggleable__label-arrow:before {content: \"▸\";float: left;margin-right: 0.25em;color: #696969;}#sk-container-id-3 label.sk-toggleable__label-arrow:hover:before {color: black;}#sk-container-id-3 div.sk-estimator:hover label.sk-toggleable__label-arrow:before {color: black;}#sk-container-id-3 div.sk-toggleable__content {max-height: 0;max-width: 0;overflow: hidden;text-align: left;background-color: #f0f8ff;}#sk-container-id-3 div.sk-toggleable__content pre {margin: 0.2em;color: black;border-radius: 0.25em;background-color: #f0f8ff;}#sk-container-id-3 input.sk-toggleable__control:checked~div.sk-toggleable__content {max-height: 200px;max-width: 100%;overflow: auto;}#sk-container-id-3 input.sk-toggleable__control:checked~label.sk-toggleable__label-arrow:before {content: \"▾\";}#sk-container-id-3 div.sk-estimator input.sk-toggleable__control:checked~label.sk-toggleable__label {background-color: #d4ebff;}#sk-container-id-3 div.sk-label input.sk-toggleable__control:checked~label.sk-toggleable__label {background-color: #d4ebff;}#sk-container-id-3 input.sk-hidden--visually {border: 0;clip: rect(1px 1px 1px 1px);clip: rect(1px, 1px, 1px, 1px);height: 1px;margin: -1px;overflow: hidden;padding: 0;position: absolute;width: 1px;}#sk-container-id-3 div.sk-estimator {font-family: monospace;background-color: #f0f8ff;border: 1px dotted black;border-radius: 0.25em;box-sizing: border-box;margin-bottom: 0.5em;}#sk-container-id-3 div.sk-estimator:hover {background-color: #d4ebff;}#sk-container-id-3 div.sk-parallel-item::after {content: \"\";width: 100%;border-bottom: 1px solid gray;flex-grow: 1;}#sk-container-id-3 div.sk-label:hover label.sk-toggleable__label {background-color: #d4ebff;}#sk-container-id-3 div.sk-serial::before {content: \"\";position: absolute;border-left: 1px solid gray;box-sizing: border-box;top: 0;bottom: 0;left: 50%;z-index: 0;}#sk-container-id-3 div.sk-serial {display: flex;flex-direction: column;align-items: center;background-color: white;padding-right: 0.2em;padding-left: 0.2em;position: relative;}#sk-container-id-3 div.sk-item {position: relative;z-index: 1;}#sk-container-id-3 div.sk-parallel {display: flex;align-items: stretch;justify-content: center;background-color: white;position: relative;}#sk-container-id-3 div.sk-item::before, #sk-container-id-3 div.sk-parallel-item::before {content: \"\";position: absolute;border-left: 1px solid gray;box-sizing: border-box;top: 0;bottom: 0;left: 50%;z-index: -1;}#sk-container-id-3 div.sk-parallel-item {display: flex;flex-direction: column;z-index: 1;position: relative;background-color: white;}#sk-container-id-3 div.sk-parallel-item:first-child::after {align-self: flex-end;width: 50%;}#sk-container-id-3 div.sk-parallel-item:last-child::after {align-self: flex-start;width: 50%;}#sk-container-id-3 div.sk-parallel-item:only-child::after {width: 0;}#sk-container-id-3 div.sk-dashed-wrapped {border: 1px dashed gray;margin: 0 0.4em 0.5em 0.4em;box-sizing: border-box;padding-bottom: 0.4em;background-color: white;}#sk-container-id-3 div.sk-label label {font-family: monospace;font-weight: bold;display: inline-block;line-height: 1.2em;}#sk-container-id-3 div.sk-label-container {text-align: center;}#sk-container-id-3 div.sk-container {/* jupyter's `normalize.less` sets `[hidden] { display: none; }` but bootstrap.min.css set `[hidden] { display: none !important; }` so we also need the `!important` here to be able to override the default hidden behavior on the sphinx rendered scikit-learn.org. See: https://github.com/scikit-learn/scikit-learn/issues/21755 */display: inline-block !important;position: relative;}#sk-container-id-3 div.sk-text-repr-fallback {display: none;}</style><div id=\"sk-container-id-3\" class=\"sk-top-container\"><div class=\"sk-text-repr-fallback\"><pre>DecisionTreeRegressor(max_depth=3)</pre><b>In a Jupyter environment, please rerun this cell to show the HTML representation or trust the notebook. <br />On GitHub, the HTML representation is unable to render, please try loading this page with nbviewer.org.</b></div><div class=\"sk-container\" hidden><div class=\"sk-item\"><div class=\"sk-estimator sk-toggleable\"><input class=\"sk-toggleable__control sk-hidden--visually\" id=\"sk-estimator-id-3\" type=\"checkbox\" checked><label for=\"sk-estimator-id-3\" class=\"sk-toggleable__label sk-toggleable__label-arrow\">DecisionTreeRegressor</label><div class=\"sk-toggleable__content\"><pre>DecisionTreeRegressor(max_depth=3)</pre></div></div></div></div></div>"
            ],
            "text/plain": [
              "DecisionTreeRegressor(max_depth=3)"
            ]
          },
          "execution_count": 46,
          "metadata": {},
          "output_type": "execute_result"
        }
      ],
      "source": [
        "# Defining the model\n",
        "dt_pruned = DecisionTreeRegressor(max_depth = 3)\n",
        "\n",
        "# Fitting the model\n",
        "dt_pruned.fit(X_train, y_train)"
      ]
    },
    {
      "cell_type": "code",
      "execution_count": null,
      "metadata": {
        "colab": {
          "base_uri": "https://localhost:8080/"
        },
        "id": "IQ6QCbMsF4bG",
        "outputId": "32cb386e-fb47-4c9e-d5a3-0e204cb1cc0a"
      },
      "outputs": [
        {
          "name": "stdout",
          "output_type": "stream",
          "text": [
            "    Data  RSquared      RMSE       MAE\n",
            "0  Train  0.748675  4.529805  3.404459\n",
            "1   Test  0.681276  4.883566  3.780489\n"
          ]
        }
      ],
      "source": [
        "# Check the performance of the model\n",
        "model_pref(dt_pruned, X_train, X_test,y_train,y_test)"
      ]
    },
    {
      "cell_type": "markdown",
      "metadata": {
        "id": "RryiUfhWF4bG"
      },
      "source": [
        "- The pruned model is performing better that both baseline decision tree and linear regression, with R2 as ~.68."
      ]
    },
    {
      "cell_type": "markdown",
      "metadata": {
        "id": "TvO7fVGjF4bH"
      },
      "source": [
        "> **Building Random Forest using only weekend transform primitive**"
      ]
    },
    {
      "cell_type": "code",
      "execution_count": null,
      "metadata": {
        "id": "lX7llB3DF4bH"
      },
      "outputs": [],
      "source": [
        "# Defining the model\n",
        "rf = RandomForestRegressor(n_estimators = 60, max_depth = 4)"
      ]
    },
    {
      "cell_type": "code",
      "execution_count": null,
      "metadata": {
        "colab": {
          "base_uri": "https://localhost:8080/",
          "height": 75
        },
        "id": "-wKKqYyYF4bH",
        "outputId": "8bc28ef7-aed2-4ce5-90b1-54d426858582"
      },
      "outputs": [
        {
          "data": {
            "text/html": [
              "<style>#sk-container-id-4 {color: black;background-color: white;}#sk-container-id-4 pre{padding: 0;}#sk-container-id-4 div.sk-toggleable {background-color: white;}#sk-container-id-4 label.sk-toggleable__label {cursor: pointer;display: block;width: 100%;margin-bottom: 0;padding: 0.3em;box-sizing: border-box;text-align: center;}#sk-container-id-4 label.sk-toggleable__label-arrow:before {content: \"▸\";float: left;margin-right: 0.25em;color: #696969;}#sk-container-id-4 label.sk-toggleable__label-arrow:hover:before {color: black;}#sk-container-id-4 div.sk-estimator:hover label.sk-toggleable__label-arrow:before {color: black;}#sk-container-id-4 div.sk-toggleable__content {max-height: 0;max-width: 0;overflow: hidden;text-align: left;background-color: #f0f8ff;}#sk-container-id-4 div.sk-toggleable__content pre {margin: 0.2em;color: black;border-radius: 0.25em;background-color: #f0f8ff;}#sk-container-id-4 input.sk-toggleable__control:checked~div.sk-toggleable__content {max-height: 200px;max-width: 100%;overflow: auto;}#sk-container-id-4 input.sk-toggleable__control:checked~label.sk-toggleable__label-arrow:before {content: \"▾\";}#sk-container-id-4 div.sk-estimator input.sk-toggleable__control:checked~label.sk-toggleable__label {background-color: #d4ebff;}#sk-container-id-4 div.sk-label input.sk-toggleable__control:checked~label.sk-toggleable__label {background-color: #d4ebff;}#sk-container-id-4 input.sk-hidden--visually {border: 0;clip: rect(1px 1px 1px 1px);clip: rect(1px, 1px, 1px, 1px);height: 1px;margin: -1px;overflow: hidden;padding: 0;position: absolute;width: 1px;}#sk-container-id-4 div.sk-estimator {font-family: monospace;background-color: #f0f8ff;border: 1px dotted black;border-radius: 0.25em;box-sizing: border-box;margin-bottom: 0.5em;}#sk-container-id-4 div.sk-estimator:hover {background-color: #d4ebff;}#sk-container-id-4 div.sk-parallel-item::after {content: \"\";width: 100%;border-bottom: 1px solid gray;flex-grow: 1;}#sk-container-id-4 div.sk-label:hover label.sk-toggleable__label {background-color: #d4ebff;}#sk-container-id-4 div.sk-serial::before {content: \"\";position: absolute;border-left: 1px solid gray;box-sizing: border-box;top: 0;bottom: 0;left: 50%;z-index: 0;}#sk-container-id-4 div.sk-serial {display: flex;flex-direction: column;align-items: center;background-color: white;padding-right: 0.2em;padding-left: 0.2em;position: relative;}#sk-container-id-4 div.sk-item {position: relative;z-index: 1;}#sk-container-id-4 div.sk-parallel {display: flex;align-items: stretch;justify-content: center;background-color: white;position: relative;}#sk-container-id-4 div.sk-item::before, #sk-container-id-4 div.sk-parallel-item::before {content: \"\";position: absolute;border-left: 1px solid gray;box-sizing: border-box;top: 0;bottom: 0;left: 50%;z-index: -1;}#sk-container-id-4 div.sk-parallel-item {display: flex;flex-direction: column;z-index: 1;position: relative;background-color: white;}#sk-container-id-4 div.sk-parallel-item:first-child::after {align-self: flex-end;width: 50%;}#sk-container-id-4 div.sk-parallel-item:last-child::after {align-self: flex-start;width: 50%;}#sk-container-id-4 div.sk-parallel-item:only-child::after {width: 0;}#sk-container-id-4 div.sk-dashed-wrapped {border: 1px dashed gray;margin: 0 0.4em 0.5em 0.4em;box-sizing: border-box;padding-bottom: 0.4em;background-color: white;}#sk-container-id-4 div.sk-label label {font-family: monospace;font-weight: bold;display: inline-block;line-height: 1.2em;}#sk-container-id-4 div.sk-label-container {text-align: center;}#sk-container-id-4 div.sk-container {/* jupyter's `normalize.less` sets `[hidden] { display: none; }` but bootstrap.min.css set `[hidden] { display: none !important; }` so we also need the `!important` here to be able to override the default hidden behavior on the sphinx rendered scikit-learn.org. See: https://github.com/scikit-learn/scikit-learn/issues/21755 */display: inline-block !important;position: relative;}#sk-container-id-4 div.sk-text-repr-fallback {display: none;}</style><div id=\"sk-container-id-4\" class=\"sk-top-container\"><div class=\"sk-text-repr-fallback\"><pre>RandomForestRegressor(max_depth=4, n_estimators=60)</pre><b>In a Jupyter environment, please rerun this cell to show the HTML representation or trust the notebook. <br />On GitHub, the HTML representation is unable to render, please try loading this page with nbviewer.org.</b></div><div class=\"sk-container\" hidden><div class=\"sk-item\"><div class=\"sk-estimator sk-toggleable\"><input class=\"sk-toggleable__control sk-hidden--visually\" id=\"sk-estimator-id-4\" type=\"checkbox\" checked><label for=\"sk-estimator-id-4\" class=\"sk-toggleable__label sk-toggleable__label-arrow\">RandomForestRegressor</label><div class=\"sk-toggleable__content\"><pre>RandomForestRegressor(max_depth=4, n_estimators=60)</pre></div></div></div></div></div>"
            ],
            "text/plain": [
              "RandomForestRegressor(max_depth=4, n_estimators=60)"
            ]
          },
          "execution_count": 49,
          "metadata": {},
          "output_type": "execute_result"
        }
      ],
      "source": [
        "# Fitting the model\n",
        "rf.fit(X_train, y_train)"
      ]
    },
    {
      "cell_type": "code",
      "execution_count": null,
      "metadata": {
        "colab": {
          "base_uri": "https://localhost:8080/"
        },
        "id": "7hxhJVJlF4bH",
        "outputId": "10609cae-8a1b-4e4d-bff4-ac00fa5e2829",
        "scrolled": true
      },
      "outputs": [
        {
          "name": "stdout",
          "output_type": "stream",
          "text": [
            "    Data  RSquared      RMSE       MAE\n",
            "0  Train  0.811964  3.918168  2.896523\n",
            "1   Test  0.736992  4.436234  3.508571\n"
          ]
        }
      ],
      "source": [
        "# Check the performance of the model\n",
        "model_pref(rf, X_train, X_test, y_train, y_test)"
      ]
    },
    {
      "cell_type": "markdown",
      "metadata": {
        "id": "640IwF6VF4bH"
      },
      "source": [
        "- The score for the model with only 1 transform primitive is ~73%.\n",
        "- This model is performing little better than pruned decision tree model.\n",
        "- Model is slightly overfitting."
      ]
    },
    {
      "cell_type": "markdown",
      "metadata": {
        "id": "thfsyR-RF4bH"
      },
      "source": [
        "### **Creating models with more transform primitives**"
      ]
    },
    {
      "cell_type": "markdown",
      "source": [
        "**Adding more Transform Primitives and creating new model**\n",
        "\n",
        "* Add ``Minute``, ``Hour``, ``Month``, ``Weekday`` , etc primitives\n",
        "* All these transform primitives apply to ``datetime`` columns"
      ],
      "metadata": {
        "id": "Jkj18vLKyAxO"
      }
    },
    {
      "cell_type": "markdown",
      "source": [
        "#### **Feature Engineering using DFS**"
      ],
      "metadata": {
        "id": "T1hCs2IiyPh5"
      }
    },
    {
      "cell_type": "markdown",
      "source": [
        "**Defining transform primitive for weekend and defining features using DFS**"
      ],
      "metadata": {
        "id": "_diISyf9yH8s"
      }
    },
    {
      "cell_type": "code",
      "execution_count": null,
      "metadata": {
        "ExecuteTime": {
          "end_time": "2021-07-15T12:51:54.063760Z",
          "start_time": "2021-07-15T12:51:51.694558Z"
        },
        "id": "FiUB0gDkF4bH"
      },
      "outputs": [],
      "source": [
        "# Initiang transform primitive\n",
        "trans_primitives = [Minute, Hour, Day, Month, Weekday, IsWeekend]\n",
        "\n",
        "# Utilizing DFS\n",
        "features = ft.dfs(entities=entities,\n",
        "                  relationships=relationships,\n",
        "                  target_entity=\"trips\",\n",
        "                  trans_primitives=trans_primitives,\n",
        "                  agg_primitives=[],\n",
        "                  ignore_variables={\"trips\": [\"pickup_latitude\", \"pickup_longitude\",\n",
        "                                              \"dropoff_latitude\", \"dropoff_longitude\"]},\n",
        "                  features_only=True)"
      ]
    },
    {
      "cell_type": "code",
      "execution_count": null,
      "metadata": {
        "ExecuteTime": {
          "end_time": "2021-07-15T12:52:31.456696Z",
          "start_time": "2021-07-15T12:52:31.362945Z"
        },
        "colab": {
          "base_uri": "https://localhost:8080/"
        },
        "id": "9WZXcjCUF4bH",
        "outputId": "87ad23fb-c215-4ed6-abf9-b0ac6977c859"
      },
      "outputs": [
        {
          "name": "stdout",
          "output_type": "stream",
          "text": [
            "Number of features: 17\n"
          ]
        },
        {
          "data": {
            "text/plain": [
              "[<Feature: Transport_service>,\n",
              " <Feature: passenger_count>,\n",
              " <Feature: trip_distance>,\n",
              " <Feature: payment_type>,\n",
              " <Feature: trip_duration>,\n",
              " <Feature: pickup_neighborhood>,\n",
              " <Feature: dropoff_neighborhood>,\n",
              " <Feature: DAY(pickup_datetime)>,\n",
              " <Feature: HOUR(pickup_datetime)>,\n",
              " <Feature: IS_WEEKEND(pickup_datetime)>,\n",
              " <Feature: MINUTE(pickup_datetime)>,\n",
              " <Feature: MONTH(pickup_datetime)>,\n",
              " <Feature: WEEKDAY(pickup_datetime)>,\n",
              " <Feature: pickup_neighborhoods.latitude>,\n",
              " <Feature: pickup_neighborhoods.longitude>,\n",
              " <Feature: dropoff_neighborhoods.latitude>,\n",
              " <Feature: dropoff_neighborhoods.longitude>]"
            ]
          },
          "execution_count": 52,
          "metadata": {},
          "output_type": "execute_result"
        }
      ],
      "source": [
        "# Checking the features created using DFS\n",
        "print (\"Number of features: %d\" % len(features))\n",
        "features"
      ]
    },
    {
      "cell_type": "markdown",
      "metadata": {
        "id": "NNk_smdZF4bI"
      },
      "source": [
        "**Computing features and defining feature matrix**"
      ]
    },
    {
      "cell_type": "code",
      "execution_count": null,
      "metadata": {
        "ExecuteTime": {
          "end_time": "2021-07-15T12:52:48.471903Z",
          "start_time": "2021-07-15T12:52:34.218475Z"
        },
        "colab": {
          "base_uri": "https://localhost:8080/"
        },
        "id": "9CGs9CrMF4bI",
        "outputId": "fc12c166-6cc1-41e4-b2cb-0e5ba3311d1b"
      },
      "outputs": [
        {
          "name": "stdout",
          "output_type": "stream",
          "text": [
            "Elapsed: 00:00 | Progress: 100%|██████████\n",
            "Finishing computing...\n"
          ]
        }
      ],
      "source": [
        "# Initiating the compute_features function\n",
        "feature_matrix2 = compute_features(features, cutoff_time)"
      ]
    },
    {
      "cell_type": "code",
      "execution_count": null,
      "metadata": {
        "colab": {
          "base_uri": "https://localhost:8080/",
          "height": 348
        },
        "id": "m_ZhWmOCF4bI",
        "outputId": "c58f7bee-547e-4c6e-fb95-e6c2753f4afd"
      },
      "outputs": [
        {
          "data": {
            "text/html": [
              "\n",
              "  <div id=\"df-0ec828c6-b464-4416-9fd0-bbe17ee55ec7\">\n",
              "    <div class=\"colab-df-container\">\n",
              "      <div>\n",
              "<style scoped>\n",
              "    .dataframe tbody tr th:only-of-type {\n",
              "        vertical-align: middle;\n",
              "    }\n",
              "\n",
              "    .dataframe tbody tr th {\n",
              "        vertical-align: top;\n",
              "    }\n",
              "\n",
              "    .dataframe thead th {\n",
              "        text-align: right;\n",
              "    }\n",
              "</style>\n",
              "<table border=\"1\" class=\"dataframe\">\n",
              "  <thead>\n",
              "    <tr style=\"text-align: right;\">\n",
              "      <th></th>\n",
              "      <th>dropoff_neighborhoods.longitude</th>\n",
              "      <th>HOUR(pickup_datetime)</th>\n",
              "      <th>dropoff_neighborhoods.latitude</th>\n",
              "      <th>MONTH(pickup_datetime)</th>\n",
              "      <th>trip_duration</th>\n",
              "      <th>pickup_neighborhoods.latitude</th>\n",
              "      <th>DAY(pickup_datetime)</th>\n",
              "      <th>Transport_service</th>\n",
              "      <th>trip_distance</th>\n",
              "      <th>IS_WEEKEND(pickup_datetime)</th>\n",
              "      <th>...</th>\n",
              "      <th>pickup_neighborhood = AC</th>\n",
              "      <th>pickup_neighborhood = P</th>\n",
              "      <th>pickup_neighborhood = AO</th>\n",
              "      <th>pickup_neighborhood = N</th>\n",
              "      <th>pickup_neighborhood = I</th>\n",
              "      <th>pickup_neighborhood = R</th>\n",
              "      <th>payment_type</th>\n",
              "      <th>passenger_count</th>\n",
              "      <th>MINUTE(pickup_datetime)</th>\n",
              "      <th>WEEKDAY(pickup_datetime)</th>\n",
              "    </tr>\n",
              "    <tr>\n",
              "      <th>id</th>\n",
              "      <th></th>\n",
              "      <th></th>\n",
              "      <th></th>\n",
              "      <th></th>\n",
              "      <th></th>\n",
              "      <th></th>\n",
              "      <th></th>\n",
              "      <th></th>\n",
              "      <th></th>\n",
              "      <th></th>\n",
              "      <th></th>\n",
              "      <th></th>\n",
              "      <th></th>\n",
              "      <th></th>\n",
              "      <th></th>\n",
              "      <th></th>\n",
              "      <th></th>\n",
              "      <th></th>\n",
              "      <th></th>\n",
              "      <th></th>\n",
              "      <th></th>\n",
              "    </tr>\n",
              "  </thead>\n",
              "  <tbody>\n",
              "    <tr>\n",
              "      <th>0</th>\n",
              "      <td>-73.953145</td>\n",
              "      <td>0</td>\n",
              "      <td>40.783780</td>\n",
              "      <td>1</td>\n",
              "      <td>387</td>\n",
              "      <td>40.804349</td>\n",
              "      <td>1</td>\n",
              "      <td>3</td>\n",
              "      <td>1.32</td>\n",
              "      <td>False</td>\n",
              "      <td>...</td>\n",
              "      <td>False</td>\n",
              "      <td>False</td>\n",
              "      <td>False</td>\n",
              "      <td>False</td>\n",
              "      <td>False</td>\n",
              "      <td>False</td>\n",
              "      <td>3</td>\n",
              "      <td>1</td>\n",
              "      <td>0</td>\n",
              "      <td>1</td>\n",
              "    </tr>\n",
              "    <tr>\n",
              "      <th>1</th>\n",
              "      <td>-73.934381</td>\n",
              "      <td>0</td>\n",
              "      <td>40.836792</td>\n",
              "      <td>1</td>\n",
              "      <td>1568</td>\n",
              "      <td>40.715828</td>\n",
              "      <td>1</td>\n",
              "      <td>1</td>\n",
              "      <td>13.70</td>\n",
              "      <td>False</td>\n",
              "      <td>...</td>\n",
              "      <td>False</td>\n",
              "      <td>False</td>\n",
              "      <td>False</td>\n",
              "      <td>False</td>\n",
              "      <td>False</td>\n",
              "      <td>False</td>\n",
              "      <td>3</td>\n",
              "      <td>3</td>\n",
              "      <td>1</td>\n",
              "      <td>1</td>\n",
              "    </tr>\n",
              "    <tr>\n",
              "      <th>2</th>\n",
              "      <td>-73.948046</td>\n",
              "      <td>0</td>\n",
              "      <td>40.818445</td>\n",
              "      <td>1</td>\n",
              "      <td>1219</td>\n",
              "      <td>40.750179</td>\n",
              "      <td>1</td>\n",
              "      <td>4</td>\n",
              "      <td>5.30</td>\n",
              "      <td>False</td>\n",
              "      <td>...</td>\n",
              "      <td>False</td>\n",
              "      <td>False</td>\n",
              "      <td>False</td>\n",
              "      <td>False</td>\n",
              "      <td>False</td>\n",
              "      <td>False</td>\n",
              "      <td>1</td>\n",
              "      <td>1</td>\n",
              "      <td>1</td>\n",
              "      <td>1</td>\n",
              "    </tr>\n",
              "    <tr>\n",
              "      <th>3</th>\n",
              "      <td>-73.940427</td>\n",
              "      <td>0</td>\n",
              "      <td>40.799573</td>\n",
              "      <td>1</td>\n",
              "      <td>873</td>\n",
              "      <td>40.729670</td>\n",
              "      <td>1</td>\n",
              "      <td>2</td>\n",
              "      <td>7.19</td>\n",
              "      <td>False</td>\n",
              "      <td>...</td>\n",
              "      <td>False</td>\n",
              "      <td>False</td>\n",
              "      <td>False</td>\n",
              "      <td>False</td>\n",
              "      <td>False</td>\n",
              "      <td>False</td>\n",
              "      <td>2</td>\n",
              "      <td>2</td>\n",
              "      <td>1</td>\n",
              "      <td>1</td>\n",
              "    </tr>\n",
              "    <tr>\n",
              "      <th>4</th>\n",
              "      <td>-73.982322</td>\n",
              "      <td>0</td>\n",
              "      <td>40.776270</td>\n",
              "      <td>1</td>\n",
              "      <td>1091</td>\n",
              "      <td>40.749843</td>\n",
              "      <td>1</td>\n",
              "      <td>1</td>\n",
              "      <td>2.90</td>\n",
              "      <td>False</td>\n",
              "      <td>...</td>\n",
              "      <td>False</td>\n",
              "      <td>False</td>\n",
              "      <td>False</td>\n",
              "      <td>False</td>\n",
              "      <td>False</td>\n",
              "      <td>False</td>\n",
              "      <td>1</td>\n",
              "      <td>2</td>\n",
              "      <td>2</td>\n",
              "      <td>1</td>\n",
              "    </tr>\n",
              "  </tbody>\n",
              "</table>\n",
              "<p>5 rows × 35 columns</p>\n",
              "</div>\n",
              "      <button class=\"colab-df-convert\" onclick=\"convertToInteractive('df-0ec828c6-b464-4416-9fd0-bbe17ee55ec7')\"\n",
              "              title=\"Convert this dataframe to an interactive table.\"\n",
              "              style=\"display:none;\">\n",
              "        \n",
              "  <svg xmlns=\"http://www.w3.org/2000/svg\" height=\"24px\"viewBox=\"0 0 24 24\"\n",
              "       width=\"24px\">\n",
              "    <path d=\"M0 0h24v24H0V0z\" fill=\"none\"/>\n",
              "    <path d=\"M18.56 5.44l.94 2.06.94-2.06 2.06-.94-2.06-.94-.94-2.06-.94 2.06-2.06.94zm-11 1L8.5 8.5l.94-2.06 2.06-.94-2.06-.94L8.5 2.5l-.94 2.06-2.06.94zm10 10l.94 2.06.94-2.06 2.06-.94-2.06-.94-.94-2.06-.94 2.06-2.06.94z\"/><path d=\"M17.41 7.96l-1.37-1.37c-.4-.4-.92-.59-1.43-.59-.52 0-1.04.2-1.43.59L10.3 9.45l-7.72 7.72c-.78.78-.78 2.05 0 2.83L4 21.41c.39.39.9.59 1.41.59.51 0 1.02-.2 1.41-.59l7.78-7.78 2.81-2.81c.8-.78.8-2.07 0-2.86zM5.41 20L4 18.59l7.72-7.72 1.47 1.35L5.41 20z\"/>\n",
              "  </svg>\n",
              "      </button>\n",
              "      \n",
              "  <style>\n",
              "    .colab-df-container {\n",
              "      display:flex;\n",
              "      flex-wrap:wrap;\n",
              "      gap: 12px;\n",
              "    }\n",
              "\n",
              "    .colab-df-convert {\n",
              "      background-color: #E8F0FE;\n",
              "      border: none;\n",
              "      border-radius: 50%;\n",
              "      cursor: pointer;\n",
              "      display: none;\n",
              "      fill: #1967D2;\n",
              "      height: 32px;\n",
              "      padding: 0 0 0 0;\n",
              "      width: 32px;\n",
              "    }\n",
              "\n",
              "    .colab-df-convert:hover {\n",
              "      background-color: #E2EBFA;\n",
              "      box-shadow: 0px 1px 2px rgba(60, 64, 67, 0.3), 0px 1px 3px 1px rgba(60, 64, 67, 0.15);\n",
              "      fill: #174EA6;\n",
              "    }\n",
              "\n",
              "    [theme=dark] .colab-df-convert {\n",
              "      background-color: #3B4455;\n",
              "      fill: #D2E3FC;\n",
              "    }\n",
              "\n",
              "    [theme=dark] .colab-df-convert:hover {\n",
              "      background-color: #434B5C;\n",
              "      box-shadow: 0px 1px 3px 1px rgba(0, 0, 0, 0.15);\n",
              "      filter: drop-shadow(0px 1px 2px rgba(0, 0, 0, 0.3));\n",
              "      fill: #FFFFFF;\n",
              "    }\n",
              "  </style>\n",
              "\n",
              "      <script>\n",
              "        const buttonEl =\n",
              "          document.querySelector('#df-0ec828c6-b464-4416-9fd0-bbe17ee55ec7 button.colab-df-convert');\n",
              "        buttonEl.style.display =\n",
              "          google.colab.kernel.accessAllowed ? 'block' : 'none';\n",
              "\n",
              "        async function convertToInteractive(key) {\n",
              "          const element = document.querySelector('#df-0ec828c6-b464-4416-9fd0-bbe17ee55ec7');\n",
              "          const dataTable =\n",
              "            await google.colab.kernel.invokeFunction('convertToInteractive',\n",
              "                                                     [key], {});\n",
              "          if (!dataTable) return;\n",
              "\n",
              "          const docLinkHtml = 'Like what you see? Visit the ' +\n",
              "            '<a target=\"_blank\" href=https://colab.research.google.com/notebooks/data_table.ipynb>data table notebook</a>'\n",
              "            + ' to learn more about interactive tables.';\n",
              "          element.innerHTML = '';\n",
              "          dataTable['output_type'] = 'display_data';\n",
              "          await google.colab.output.renderOutput(dataTable, element);\n",
              "          const docLink = document.createElement('div');\n",
              "          docLink.innerHTML = docLinkHtml;\n",
              "          element.appendChild(docLink);\n",
              "        }\n",
              "      </script>\n",
              "    </div>\n",
              "  </div>\n",
              "  "
            ],
            "text/plain": [
              "    dropoff_neighborhoods.longitude  HOUR(pickup_datetime)  \\\n",
              "id                                                           \n",
              "0                        -73.953145                      0   \n",
              "1                        -73.934381                      0   \n",
              "2                        -73.948046                      0   \n",
              "3                        -73.940427                      0   \n",
              "4                        -73.982322                      0   \n",
              "\n",
              "    dropoff_neighborhoods.latitude  MONTH(pickup_datetime)  trip_duration  \\\n",
              "id                                                                          \n",
              "0                        40.783780                       1            387   \n",
              "1                        40.836792                       1           1568   \n",
              "2                        40.818445                       1           1219   \n",
              "3                        40.799573                       1            873   \n",
              "4                        40.776270                       1           1091   \n",
              "\n",
              "    pickup_neighborhoods.latitude  DAY(pickup_datetime)  Transport_service  \\\n",
              "id                                                                           \n",
              "0                       40.804349                     1                  3   \n",
              "1                       40.715828                     1                  1   \n",
              "2                       40.750179                     1                  4   \n",
              "3                       40.729670                     1                  2   \n",
              "4                       40.749843                     1                  1   \n",
              "\n",
              "    trip_distance  IS_WEEKEND(pickup_datetime)  ...  pickup_neighborhood = AC  \\\n",
              "id                                              ...                             \n",
              "0            1.32                        False  ...                     False   \n",
              "1           13.70                        False  ...                     False   \n",
              "2            5.30                        False  ...                     False   \n",
              "3            7.19                        False  ...                     False   \n",
              "4            2.90                        False  ...                     False   \n",
              "\n",
              "    pickup_neighborhood = P  pickup_neighborhood = AO  \\\n",
              "id                                                      \n",
              "0                     False                     False   \n",
              "1                     False                     False   \n",
              "2                     False                     False   \n",
              "3                     False                     False   \n",
              "4                     False                     False   \n",
              "\n",
              "    pickup_neighborhood = N  pickup_neighborhood = I  pickup_neighborhood = R  \\\n",
              "id                                                                              \n",
              "0                     False                    False                    False   \n",
              "1                     False                    False                    False   \n",
              "2                     False                    False                    False   \n",
              "3                     False                    False                    False   \n",
              "4                     False                    False                    False   \n",
              "\n",
              "    payment_type  passenger_count  MINUTE(pickup_datetime)  \\\n",
              "id                                                           \n",
              "0              3                1                        0   \n",
              "1              3                3                        1   \n",
              "2              1                1                        1   \n",
              "3              2                2                        1   \n",
              "4              1                2                        2   \n",
              "\n",
              "    WEEKDAY(pickup_datetime)  \n",
              "id                            \n",
              "0                          1  \n",
              "1                          1  \n",
              "2                          1  \n",
              "3                          1  \n",
              "4                          1  \n",
              "\n",
              "[5 rows x 35 columns]"
            ]
          },
          "execution_count": 55,
          "metadata": {},
          "output_type": "execute_result"
        }
      ],
      "source": [
        "# Looking at the generated feature matrix\n",
        "feature_matrix2.head()"
      ]
    },
    {
      "cell_type": "code",
      "execution_count": null,
      "metadata": {
        "ExecuteTime": {
          "end_time": "2021-07-15T12:52:50.630760Z",
          "start_time": "2021-07-15T12:52:50.137051Z"
        },
        "colab": {
          "base_uri": "https://localhost:8080/"
        },
        "id": "-T5W3Xq6F4bI",
        "outputId": "a0045591-e8a8-488b-a453-c365a5f84266"
      },
      "outputs": [
        {
          "data": {
            "text/plain": [
              "(1452, 35)"
            ]
          },
          "execution_count": 54,
          "metadata": {},
          "output_type": "execute_result"
        }
      ],
      "source": [
        "# Checking the shape of the matrix\n",
        "feature_matrix2.shape"
      ]
    },
    {
      "cell_type": "markdown",
      "source": [
        "* Here it is seen that 35 features are generated\n",
        "* It is also noticed that the number of data points, after applying the cutoff_time filter is 1452 entries"
      ],
      "metadata": {
        "id": "HW7UcvWOyo8D"
      }
    },
    {
      "cell_type": "markdown",
      "metadata": {
        "id": "kkUspPrdF4bI"
      },
      "source": [
        "**Splitting the Data**"
      ]
    },
    {
      "cell_type": "code",
      "execution_count": null,
      "metadata": {
        "ExecuteTime": {
          "end_time": "2021-07-15T12:55:38.459145Z",
          "start_time": "2021-07-15T12:55:32.592515Z"
        },
        "id": "v8BufyQRF4bI"
      },
      "outputs": [],
      "source": [
        "# Separates the whole feature matrix into train data feature matrix,train data labels, and test data feature matrix\n",
        "X_train2, y_train2, X_test2, y_test2 = get_train_test_fm(feature_matrix2,.75)\n",
        "y_train2 = np.sqrt(y_train2)\n",
        "y_test2 = np.sqrt(y_test2)"
      ]
    },
    {
      "cell_type": "markdown",
      "metadata": {
        "id": "cAGjrv6TF4bI"
      },
      "source": [
        "#### **Model Building**\n"
      ]
    },
    {
      "cell_type": "markdown",
      "source": [
        "> **Building Linear regression using only weekend transform primitive**"
      ],
      "metadata": {
        "id": "Rt8zfUg1y9QD"
      }
    },
    {
      "cell_type": "code",
      "execution_count": null,
      "metadata": {
        "colab": {
          "base_uri": "https://localhost:8080/",
          "height": 75
        },
        "id": "p4_ULMzmF4bI",
        "outputId": "fd7d3409-bdc7-490f-e1a2-1d869c3e3f12"
      },
      "outputs": [
        {
          "data": {
            "text/html": [
              "<style>#sk-container-id-5 {color: black;background-color: white;}#sk-container-id-5 pre{padding: 0;}#sk-container-id-5 div.sk-toggleable {background-color: white;}#sk-container-id-5 label.sk-toggleable__label {cursor: pointer;display: block;width: 100%;margin-bottom: 0;padding: 0.3em;box-sizing: border-box;text-align: center;}#sk-container-id-5 label.sk-toggleable__label-arrow:before {content: \"▸\";float: left;margin-right: 0.25em;color: #696969;}#sk-container-id-5 label.sk-toggleable__label-arrow:hover:before {color: black;}#sk-container-id-5 div.sk-estimator:hover label.sk-toggleable__label-arrow:before {color: black;}#sk-container-id-5 div.sk-toggleable__content {max-height: 0;max-width: 0;overflow: hidden;text-align: left;background-color: #f0f8ff;}#sk-container-id-5 div.sk-toggleable__content pre {margin: 0.2em;color: black;border-radius: 0.25em;background-color: #f0f8ff;}#sk-container-id-5 input.sk-toggleable__control:checked~div.sk-toggleable__content {max-height: 200px;max-width: 100%;overflow: auto;}#sk-container-id-5 input.sk-toggleable__control:checked~label.sk-toggleable__label-arrow:before {content: \"▾\";}#sk-container-id-5 div.sk-estimator input.sk-toggleable__control:checked~label.sk-toggleable__label {background-color: #d4ebff;}#sk-container-id-5 div.sk-label input.sk-toggleable__control:checked~label.sk-toggleable__label {background-color: #d4ebff;}#sk-container-id-5 input.sk-hidden--visually {border: 0;clip: rect(1px 1px 1px 1px);clip: rect(1px, 1px, 1px, 1px);height: 1px;margin: -1px;overflow: hidden;padding: 0;position: absolute;width: 1px;}#sk-container-id-5 div.sk-estimator {font-family: monospace;background-color: #f0f8ff;border: 1px dotted black;border-radius: 0.25em;box-sizing: border-box;margin-bottom: 0.5em;}#sk-container-id-5 div.sk-estimator:hover {background-color: #d4ebff;}#sk-container-id-5 div.sk-parallel-item::after {content: \"\";width: 100%;border-bottom: 1px solid gray;flex-grow: 1;}#sk-container-id-5 div.sk-label:hover label.sk-toggleable__label {background-color: #d4ebff;}#sk-container-id-5 div.sk-serial::before {content: \"\";position: absolute;border-left: 1px solid gray;box-sizing: border-box;top: 0;bottom: 0;left: 50%;z-index: 0;}#sk-container-id-5 div.sk-serial {display: flex;flex-direction: column;align-items: center;background-color: white;padding-right: 0.2em;padding-left: 0.2em;position: relative;}#sk-container-id-5 div.sk-item {position: relative;z-index: 1;}#sk-container-id-5 div.sk-parallel {display: flex;align-items: stretch;justify-content: center;background-color: white;position: relative;}#sk-container-id-5 div.sk-item::before, #sk-container-id-5 div.sk-parallel-item::before {content: \"\";position: absolute;border-left: 1px solid gray;box-sizing: border-box;top: 0;bottom: 0;left: 50%;z-index: -1;}#sk-container-id-5 div.sk-parallel-item {display: flex;flex-direction: column;z-index: 1;position: relative;background-color: white;}#sk-container-id-5 div.sk-parallel-item:first-child::after {align-self: flex-end;width: 50%;}#sk-container-id-5 div.sk-parallel-item:last-child::after {align-self: flex-start;width: 50%;}#sk-container-id-5 div.sk-parallel-item:only-child::after {width: 0;}#sk-container-id-5 div.sk-dashed-wrapped {border: 1px dashed gray;margin: 0 0.4em 0.5em 0.4em;box-sizing: border-box;padding-bottom: 0.4em;background-color: white;}#sk-container-id-5 div.sk-label label {font-family: monospace;font-weight: bold;display: inline-block;line-height: 1.2em;}#sk-container-id-5 div.sk-label-container {text-align: center;}#sk-container-id-5 div.sk-container {/* jupyter's `normalize.less` sets `[hidden] { display: none; }` but bootstrap.min.css set `[hidden] { display: none !important; }` so we also need the `!important` here to be able to override the default hidden behavior on the sphinx rendered scikit-learn.org. See: https://github.com/scikit-learn/scikit-learn/issues/21755 */display: inline-block !important;position: relative;}#sk-container-id-5 div.sk-text-repr-fallback {display: none;}</style><div id=\"sk-container-id-5\" class=\"sk-top-container\"><div class=\"sk-text-repr-fallback\"><pre>LinearRegression()</pre><b>In a Jupyter environment, please rerun this cell to show the HTML representation or trust the notebook. <br />On GitHub, the HTML representation is unable to render, please try loading this page with nbviewer.org.</b></div><div class=\"sk-container\" hidden><div class=\"sk-item\"><div class=\"sk-estimator sk-toggleable\"><input class=\"sk-toggleable__control sk-hidden--visually\" id=\"sk-estimator-id-5\" type=\"checkbox\" checked><label for=\"sk-estimator-id-5\" class=\"sk-toggleable__label sk-toggleable__label-arrow\">LinearRegression</label><div class=\"sk-toggleable__content\"><pre>LinearRegression()</pre></div></div></div></div></div>"
            ],
            "text/plain": [
              "LinearRegression()"
            ]
          },
          "execution_count": 57,
          "metadata": {},
          "output_type": "execute_result"
        }
      ],
      "source": [
        "# Defining the model\n",
        "lr2=LinearRegression()\n",
        "\n",
        "# Fitting the data\n",
        "lr2.fit(X_train2,y_train2)"
      ]
    },
    {
      "cell_type": "code",
      "execution_count": null,
      "metadata": {
        "colab": {
          "base_uri": "https://localhost:8080/"
        },
        "id": "1PE44F6KF4bJ",
        "outputId": "3b4dd806-7997-4c74-9f64-2809675a64b4"
      },
      "outputs": [
        {
          "name": "stdout",
          "output_type": "stream",
          "text": [
            "    Data  RSquared      RMSE       MAE\n",
            "0  Train  0.663515  5.241371  4.060878\n",
            "1   Test  0.602172  5.456041  4.065442\n"
          ]
        }
      ],
      "source": [
        "# Check the performance of the model\n",
        "model_pref(lr2, X_train2, X_test2,y_train2,y_test2)"
      ]
    },
    {
      "cell_type": "markdown",
      "metadata": {
        "id": "YZ-1_fhNF4bJ"
      },
      "source": [
        "- Model is giving 0.60 Rsquared, with RSME of 5.45 and MAE of ~4.06.\n",
        "- Model performance has not improved much from the last model by adding more transform primitives\n",
        "- Model is not overfitting, and giving generalized results."
      ]
    },
    {
      "cell_type": "markdown",
      "metadata": {
        "id": "wsNloBrNF4bJ"
      },
      "source": [
        "> **Building Decision tree using more transform primitive**"
      ]
    },
    {
      "cell_type": "code",
      "execution_count": null,
      "metadata": {
        "colab": {
          "base_uri": "https://localhost:8080/",
          "height": 75
        },
        "id": "V2FbO3jNF4bJ",
        "outputId": "74ab0adc-b0c3-4006-9953-dc7dd18ea6b4"
      },
      "outputs": [
        {
          "data": {
            "text/html": [
              "<style>#sk-container-id-6 {color: black;background-color: white;}#sk-container-id-6 pre{padding: 0;}#sk-container-id-6 div.sk-toggleable {background-color: white;}#sk-container-id-6 label.sk-toggleable__label {cursor: pointer;display: block;width: 100%;margin-bottom: 0;padding: 0.3em;box-sizing: border-box;text-align: center;}#sk-container-id-6 label.sk-toggleable__label-arrow:before {content: \"▸\";float: left;margin-right: 0.25em;color: #696969;}#sk-container-id-6 label.sk-toggleable__label-arrow:hover:before {color: black;}#sk-container-id-6 div.sk-estimator:hover label.sk-toggleable__label-arrow:before {color: black;}#sk-container-id-6 div.sk-toggleable__content {max-height: 0;max-width: 0;overflow: hidden;text-align: left;background-color: #f0f8ff;}#sk-container-id-6 div.sk-toggleable__content pre {margin: 0.2em;color: black;border-radius: 0.25em;background-color: #f0f8ff;}#sk-container-id-6 input.sk-toggleable__control:checked~div.sk-toggleable__content {max-height: 200px;max-width: 100%;overflow: auto;}#sk-container-id-6 input.sk-toggleable__control:checked~label.sk-toggleable__label-arrow:before {content: \"▾\";}#sk-container-id-6 div.sk-estimator input.sk-toggleable__control:checked~label.sk-toggleable__label {background-color: #d4ebff;}#sk-container-id-6 div.sk-label input.sk-toggleable__control:checked~label.sk-toggleable__label {background-color: #d4ebff;}#sk-container-id-6 input.sk-hidden--visually {border: 0;clip: rect(1px 1px 1px 1px);clip: rect(1px, 1px, 1px, 1px);height: 1px;margin: -1px;overflow: hidden;padding: 0;position: absolute;width: 1px;}#sk-container-id-6 div.sk-estimator {font-family: monospace;background-color: #f0f8ff;border: 1px dotted black;border-radius: 0.25em;box-sizing: border-box;margin-bottom: 0.5em;}#sk-container-id-6 div.sk-estimator:hover {background-color: #d4ebff;}#sk-container-id-6 div.sk-parallel-item::after {content: \"\";width: 100%;border-bottom: 1px solid gray;flex-grow: 1;}#sk-container-id-6 div.sk-label:hover label.sk-toggleable__label {background-color: #d4ebff;}#sk-container-id-6 div.sk-serial::before {content: \"\";position: absolute;border-left: 1px solid gray;box-sizing: border-box;top: 0;bottom: 0;left: 50%;z-index: 0;}#sk-container-id-6 div.sk-serial {display: flex;flex-direction: column;align-items: center;background-color: white;padding-right: 0.2em;padding-left: 0.2em;position: relative;}#sk-container-id-6 div.sk-item {position: relative;z-index: 1;}#sk-container-id-6 div.sk-parallel {display: flex;align-items: stretch;justify-content: center;background-color: white;position: relative;}#sk-container-id-6 div.sk-item::before, #sk-container-id-6 div.sk-parallel-item::before {content: \"\";position: absolute;border-left: 1px solid gray;box-sizing: border-box;top: 0;bottom: 0;left: 50%;z-index: -1;}#sk-container-id-6 div.sk-parallel-item {display: flex;flex-direction: column;z-index: 1;position: relative;background-color: white;}#sk-container-id-6 div.sk-parallel-item:first-child::after {align-self: flex-end;width: 50%;}#sk-container-id-6 div.sk-parallel-item:last-child::after {align-self: flex-start;width: 50%;}#sk-container-id-6 div.sk-parallel-item:only-child::after {width: 0;}#sk-container-id-6 div.sk-dashed-wrapped {border: 1px dashed gray;margin: 0 0.4em 0.5em 0.4em;box-sizing: border-box;padding-bottom: 0.4em;background-color: white;}#sk-container-id-6 div.sk-label label {font-family: monospace;font-weight: bold;display: inline-block;line-height: 1.2em;}#sk-container-id-6 div.sk-label-container {text-align: center;}#sk-container-id-6 div.sk-container {/* jupyter's `normalize.less` sets `[hidden] { display: none; }` but bootstrap.min.css set `[hidden] { display: none !important; }` so we also need the `!important` here to be able to override the default hidden behavior on the sphinx rendered scikit-learn.org. See: https://github.com/scikit-learn/scikit-learn/issues/21755 */display: inline-block !important;position: relative;}#sk-container-id-6 div.sk-text-repr-fallback {display: none;}</style><div id=\"sk-container-id-6\" class=\"sk-top-container\"><div class=\"sk-text-repr-fallback\"><pre>DecisionTreeRegressor()</pre><b>In a Jupyter environment, please rerun this cell to show the HTML representation or trust the notebook. <br />On GitHub, the HTML representation is unable to render, please try loading this page with nbviewer.org.</b></div><div class=\"sk-container\" hidden><div class=\"sk-item\"><div class=\"sk-estimator sk-toggleable\"><input class=\"sk-toggleable__control sk-hidden--visually\" id=\"sk-estimator-id-6\" type=\"checkbox\" checked><label for=\"sk-estimator-id-6\" class=\"sk-toggleable__label sk-toggleable__label-arrow\">DecisionTreeRegressor</label><div class=\"sk-toggleable__content\"><pre>DecisionTreeRegressor()</pre></div></div></div></div></div>"
            ],
            "text/plain": [
              "DecisionTreeRegressor()"
            ]
          },
          "execution_count": 59,
          "metadata": {},
          "output_type": "execute_result"
        }
      ],
      "source": [
        "# Defining the model\n",
        "dt2=DecisionTreeRegressor()\n",
        "\n",
        "# Fitting the data\n",
        "dt2.fit(X_train2,y_train2)"
      ]
    },
    {
      "cell_type": "code",
      "execution_count": null,
      "metadata": {
        "colab": {
          "base_uri": "https://localhost:8080/"
        },
        "id": "1f2En2gvF4bJ",
        "outputId": "6c128d59-5e3f-49b2-9839-83b8e4d19853"
      },
      "outputs": [
        {
          "name": "stdout",
          "output_type": "stream",
          "text": [
            "    Data  RSquared      RMSE       MAE\n",
            "0  Train  1.000000  0.000000  0.000000\n",
            "1   Test  0.494018  6.153146  4.552329\n"
          ]
        }
      ],
      "source": [
        "# Check the performance of the model\n",
        "model_pref(dt2, X_train2, X_test2,y_train2,y_test2)"
      ]
    },
    {
      "cell_type": "markdown",
      "metadata": {
        "id": "9YbiZy3hF4bJ"
      },
      "source": [
        "- The model is overfitting a lot, with train R2 as 1 while test R2 as 0.46.\n",
        "- This generally happens in decision tree, one solution for this is to Prune the decision tree, let's try pruning and see if the performance improves."
      ]
    },
    {
      "cell_type": "markdown",
      "metadata": {
        "id": "VTp50c8CF4bJ"
      },
      "source": [
        "> **Building Pruned Decision tree using more transform primitive**"
      ]
    },
    {
      "cell_type": "code",
      "execution_count": null,
      "metadata": {
        "colab": {
          "base_uri": "https://localhost:8080/",
          "height": 75
        },
        "id": "U7ipsj4TF4bJ",
        "outputId": "c1bffb16-a75f-4fdf-d3da-218b7dec5d64"
      },
      "outputs": [
        {
          "data": {
            "text/html": [
              "<style>#sk-container-id-7 {color: black;background-color: white;}#sk-container-id-7 pre{padding: 0;}#sk-container-id-7 div.sk-toggleable {background-color: white;}#sk-container-id-7 label.sk-toggleable__label {cursor: pointer;display: block;width: 100%;margin-bottom: 0;padding: 0.3em;box-sizing: border-box;text-align: center;}#sk-container-id-7 label.sk-toggleable__label-arrow:before {content: \"▸\";float: left;margin-right: 0.25em;color: #696969;}#sk-container-id-7 label.sk-toggleable__label-arrow:hover:before {color: black;}#sk-container-id-7 div.sk-estimator:hover label.sk-toggleable__label-arrow:before {color: black;}#sk-container-id-7 div.sk-toggleable__content {max-height: 0;max-width: 0;overflow: hidden;text-align: left;background-color: #f0f8ff;}#sk-container-id-7 div.sk-toggleable__content pre {margin: 0.2em;color: black;border-radius: 0.25em;background-color: #f0f8ff;}#sk-container-id-7 input.sk-toggleable__control:checked~div.sk-toggleable__content {max-height: 200px;max-width: 100%;overflow: auto;}#sk-container-id-7 input.sk-toggleable__control:checked~label.sk-toggleable__label-arrow:before {content: \"▾\";}#sk-container-id-7 div.sk-estimator input.sk-toggleable__control:checked~label.sk-toggleable__label {background-color: #d4ebff;}#sk-container-id-7 div.sk-label input.sk-toggleable__control:checked~label.sk-toggleable__label {background-color: #d4ebff;}#sk-container-id-7 input.sk-hidden--visually {border: 0;clip: rect(1px 1px 1px 1px);clip: rect(1px, 1px, 1px, 1px);height: 1px;margin: -1px;overflow: hidden;padding: 0;position: absolute;width: 1px;}#sk-container-id-7 div.sk-estimator {font-family: monospace;background-color: #f0f8ff;border: 1px dotted black;border-radius: 0.25em;box-sizing: border-box;margin-bottom: 0.5em;}#sk-container-id-7 div.sk-estimator:hover {background-color: #d4ebff;}#sk-container-id-7 div.sk-parallel-item::after {content: \"\";width: 100%;border-bottom: 1px solid gray;flex-grow: 1;}#sk-container-id-7 div.sk-label:hover label.sk-toggleable__label {background-color: #d4ebff;}#sk-container-id-7 div.sk-serial::before {content: \"\";position: absolute;border-left: 1px solid gray;box-sizing: border-box;top: 0;bottom: 0;left: 50%;z-index: 0;}#sk-container-id-7 div.sk-serial {display: flex;flex-direction: column;align-items: center;background-color: white;padding-right: 0.2em;padding-left: 0.2em;position: relative;}#sk-container-id-7 div.sk-item {position: relative;z-index: 1;}#sk-container-id-7 div.sk-parallel {display: flex;align-items: stretch;justify-content: center;background-color: white;position: relative;}#sk-container-id-7 div.sk-item::before, #sk-container-id-7 div.sk-parallel-item::before {content: \"\";position: absolute;border-left: 1px solid gray;box-sizing: border-box;top: 0;bottom: 0;left: 50%;z-index: -1;}#sk-container-id-7 div.sk-parallel-item {display: flex;flex-direction: column;z-index: 1;position: relative;background-color: white;}#sk-container-id-7 div.sk-parallel-item:first-child::after {align-self: flex-end;width: 50%;}#sk-container-id-7 div.sk-parallel-item:last-child::after {align-self: flex-start;width: 50%;}#sk-container-id-7 div.sk-parallel-item:only-child::after {width: 0;}#sk-container-id-7 div.sk-dashed-wrapped {border: 1px dashed gray;margin: 0 0.4em 0.5em 0.4em;box-sizing: border-box;padding-bottom: 0.4em;background-color: white;}#sk-container-id-7 div.sk-label label {font-family: monospace;font-weight: bold;display: inline-block;line-height: 1.2em;}#sk-container-id-7 div.sk-label-container {text-align: center;}#sk-container-id-7 div.sk-container {/* jupyter's `normalize.less` sets `[hidden] { display: none; }` but bootstrap.min.css set `[hidden] { display: none !important; }` so we also need the `!important` here to be able to override the default hidden behavior on the sphinx rendered scikit-learn.org. See: https://github.com/scikit-learn/scikit-learn/issues/21755 */display: inline-block !important;position: relative;}#sk-container-id-7 div.sk-text-repr-fallback {display: none;}</style><div id=\"sk-container-id-7\" class=\"sk-top-container\"><div class=\"sk-text-repr-fallback\"><pre>DecisionTreeRegressor(max_depth=4)</pre><b>In a Jupyter environment, please rerun this cell to show the HTML representation or trust the notebook. <br />On GitHub, the HTML representation is unable to render, please try loading this page with nbviewer.org.</b></div><div class=\"sk-container\" hidden><div class=\"sk-item\"><div class=\"sk-estimator sk-toggleable\"><input class=\"sk-toggleable__control sk-hidden--visually\" id=\"sk-estimator-id-7\" type=\"checkbox\" checked><label for=\"sk-estimator-id-7\" class=\"sk-toggleable__label sk-toggleable__label-arrow\">DecisionTreeRegressor</label><div class=\"sk-toggleable__content\"><pre>DecisionTreeRegressor(max_depth=4)</pre></div></div></div></div></div>"
            ],
            "text/plain": [
              "DecisionTreeRegressor(max_depth=4)"
            ]
          },
          "execution_count": 61,
          "metadata": {},
          "output_type": "execute_result"
        }
      ],
      "source": [
        "# Defining the model\n",
        "dt_pruned2=DecisionTreeRegressor(max_depth=4)\n",
        "\n",
        "# Fitting the data\n",
        "dt_pruned2.fit(X_train2,y_train2)"
      ]
    },
    {
      "cell_type": "code",
      "execution_count": null,
      "metadata": {
        "colab": {
          "base_uri": "https://localhost:8080/"
        },
        "id": "ae6ZOjoCF4bK",
        "outputId": "eb466e14-36a8-4fac-a520-92edb463f4e1"
      },
      "outputs": [
        {
          "name": "stdout",
          "output_type": "stream",
          "text": [
            "    Data  RSquared      RMSE       MAE\n",
            "0  Train  0.782259  4.216308  3.142310\n",
            "1   Test  0.707492  4.678412  3.642763\n"
          ]
        }
      ],
      "source": [
        "# Check the performance of the model\n",
        "model_pref(dt_pruned2, X_train2, X_test2,y_train2,y_test2)"
      ]
    },
    {
      "cell_type": "markdown",
      "metadata": {
        "id": "qayieq4GF4bK"
      },
      "source": [
        "- Model is giving ~0.70 Rsquared, with RSME of 4.67 and MAE of ~3.64.\n",
        "- Model performance has improved by adding more transform features.\n",
        "- Model is slightly overfitting."
      ]
    },
    {
      "cell_type": "markdown",
      "metadata": {
        "id": "8SwDixUkF4bK"
      },
      "source": [
        "> **Building Random Forest using more transform primitive**"
      ]
    },
    {
      "cell_type": "code",
      "execution_count": null,
      "metadata": {
        "colab": {
          "base_uri": "https://localhost:8080/",
          "height": 75
        },
        "id": "Nhppean-F4bK",
        "outputId": "adc05a8a-71f7-46b6-faba-4488506c91bf"
      },
      "outputs": [
        {
          "data": {
            "text/html": [
              "<style>#sk-container-id-8 {color: black;background-color: white;}#sk-container-id-8 pre{padding: 0;}#sk-container-id-8 div.sk-toggleable {background-color: white;}#sk-container-id-8 label.sk-toggleable__label {cursor: pointer;display: block;width: 100%;margin-bottom: 0;padding: 0.3em;box-sizing: border-box;text-align: center;}#sk-container-id-8 label.sk-toggleable__label-arrow:before {content: \"▸\";float: left;margin-right: 0.25em;color: #696969;}#sk-container-id-8 label.sk-toggleable__label-arrow:hover:before {color: black;}#sk-container-id-8 div.sk-estimator:hover label.sk-toggleable__label-arrow:before {color: black;}#sk-container-id-8 div.sk-toggleable__content {max-height: 0;max-width: 0;overflow: hidden;text-align: left;background-color: #f0f8ff;}#sk-container-id-8 div.sk-toggleable__content pre {margin: 0.2em;color: black;border-radius: 0.25em;background-color: #f0f8ff;}#sk-container-id-8 input.sk-toggleable__control:checked~div.sk-toggleable__content {max-height: 200px;max-width: 100%;overflow: auto;}#sk-container-id-8 input.sk-toggleable__control:checked~label.sk-toggleable__label-arrow:before {content: \"▾\";}#sk-container-id-8 div.sk-estimator input.sk-toggleable__control:checked~label.sk-toggleable__label {background-color: #d4ebff;}#sk-container-id-8 div.sk-label input.sk-toggleable__control:checked~label.sk-toggleable__label {background-color: #d4ebff;}#sk-container-id-8 input.sk-hidden--visually {border: 0;clip: rect(1px 1px 1px 1px);clip: rect(1px, 1px, 1px, 1px);height: 1px;margin: -1px;overflow: hidden;padding: 0;position: absolute;width: 1px;}#sk-container-id-8 div.sk-estimator {font-family: monospace;background-color: #f0f8ff;border: 1px dotted black;border-radius: 0.25em;box-sizing: border-box;margin-bottom: 0.5em;}#sk-container-id-8 div.sk-estimator:hover {background-color: #d4ebff;}#sk-container-id-8 div.sk-parallel-item::after {content: \"\";width: 100%;border-bottom: 1px solid gray;flex-grow: 1;}#sk-container-id-8 div.sk-label:hover label.sk-toggleable__label {background-color: #d4ebff;}#sk-container-id-8 div.sk-serial::before {content: \"\";position: absolute;border-left: 1px solid gray;box-sizing: border-box;top: 0;bottom: 0;left: 50%;z-index: 0;}#sk-container-id-8 div.sk-serial {display: flex;flex-direction: column;align-items: center;background-color: white;padding-right: 0.2em;padding-left: 0.2em;position: relative;}#sk-container-id-8 div.sk-item {position: relative;z-index: 1;}#sk-container-id-8 div.sk-parallel {display: flex;align-items: stretch;justify-content: center;background-color: white;position: relative;}#sk-container-id-8 div.sk-item::before, #sk-container-id-8 div.sk-parallel-item::before {content: \"\";position: absolute;border-left: 1px solid gray;box-sizing: border-box;top: 0;bottom: 0;left: 50%;z-index: -1;}#sk-container-id-8 div.sk-parallel-item {display: flex;flex-direction: column;z-index: 1;position: relative;background-color: white;}#sk-container-id-8 div.sk-parallel-item:first-child::after {align-self: flex-end;width: 50%;}#sk-container-id-8 div.sk-parallel-item:last-child::after {align-self: flex-start;width: 50%;}#sk-container-id-8 div.sk-parallel-item:only-child::after {width: 0;}#sk-container-id-8 div.sk-dashed-wrapped {border: 1px dashed gray;margin: 0 0.4em 0.5em 0.4em;box-sizing: border-box;padding-bottom: 0.4em;background-color: white;}#sk-container-id-8 div.sk-label label {font-family: monospace;font-weight: bold;display: inline-block;line-height: 1.2em;}#sk-container-id-8 div.sk-label-container {text-align: center;}#sk-container-id-8 div.sk-container {/* jupyter's `normalize.less` sets `[hidden] { display: none; }` but bootstrap.min.css set `[hidden] { display: none !important; }` so we also need the `!important` here to be able to override the default hidden behavior on the sphinx rendered scikit-learn.org. See: https://github.com/scikit-learn/scikit-learn/issues/21755 */display: inline-block !important;position: relative;}#sk-container-id-8 div.sk-text-repr-fallback {display: none;}</style><div id=\"sk-container-id-8\" class=\"sk-top-container\"><div class=\"sk-text-repr-fallback\"><pre>RandomForestRegressor(max_depth=4, n_estimators=60)</pre><b>In a Jupyter environment, please rerun this cell to show the HTML representation or trust the notebook. <br />On GitHub, the HTML representation is unable to render, please try loading this page with nbviewer.org.</b></div><div class=\"sk-container\" hidden><div class=\"sk-item\"><div class=\"sk-estimator sk-toggleable\"><input class=\"sk-toggleable__control sk-hidden--visually\" id=\"sk-estimator-id-8\" type=\"checkbox\" checked><label for=\"sk-estimator-id-8\" class=\"sk-toggleable__label sk-toggleable__label-arrow\">RandomForestRegressor</label><div class=\"sk-toggleable__content\"><pre>RandomForestRegressor(max_depth=4, n_estimators=60)</pre></div></div></div></div></div>"
            ],
            "text/plain": [
              "RandomForestRegressor(max_depth=4, n_estimators=60)"
            ]
          },
          "execution_count": 63,
          "metadata": {},
          "output_type": "execute_result"
        }
      ],
      "source": [
        "# Defining the model\n",
        "rf2=RandomForestRegressor(n_estimators=60,max_depth=4)\n",
        "\n",
        "# Fitting the data\n",
        "rf2.fit(X_train2,y_train2)"
      ]
    },
    {
      "cell_type": "code",
      "execution_count": null,
      "metadata": {
        "colab": {
          "base_uri": "https://localhost:8080/"
        },
        "id": "CDNXph_jF4bK",
        "outputId": "f42a0112-6e35-456b-b96f-cb51419953a9"
      },
      "outputs": [
        {
          "name": "stdout",
          "output_type": "stream",
          "text": [
            "    Data  RSquared      RMSE       MAE\n",
            "0  Train  0.813562  3.901481  2.889116\n",
            "1   Test  0.738852  4.420513  3.502202\n"
          ]
        }
      ],
      "source": [
        "# Check the performance of the model\n",
        "model_pref(rf2, X_train2, X_test2,y_train2,y_test2)"
      ]
    },
    {
      "cell_type": "markdown",
      "metadata": {
        "id": "O_E33djQF4bL"
      },
      "source": [
        "- The score for the model with more transform primitive is ~74%.\n",
        "- As compared to previous model, the score has improved significantly."
      ]
    },
    {
      "cell_type": "markdown",
      "metadata": {
        "id": "czwCtnRXF4bM"
      },
      "source": [
        "### **Creating Models with Transform and Aggregate primitives**\n"
      ]
    },
    {
      "cell_type": "markdown",
      "metadata": {
        "id": "aeZQoF5SF4bM"
      },
      "source": [
        "**Adding Aggregation Primitives**\n",
        "\n",
        "* These primitives will generate features for the parent entities ``pickup_neighborhoods``, and ``dropoff_neighborhood`` and then add them to the trips entity, which is the entity for which we are trying to make prediction."
      ]
    },
    {
      "cell_type": "markdown",
      "metadata": {
        "id": "Dojgg8ge7J6u"
      },
      "source": [
        "#### **Feature Engineering using DFS**"
      ]
    },
    {
      "cell_type": "markdown",
      "source": [
        "**Defining transform and aggregation primitive and defining features using DFS**"
      ],
      "metadata": {
        "id": "Ijh7GkZ7ugfX"
      }
    },
    {
      "cell_type": "code",
      "execution_count": null,
      "metadata": {
        "ExecuteTime": {
          "end_time": "2021-07-15T12:59:43.977607Z",
          "start_time": "2021-07-15T12:59:41.353328Z"
        },
        "id": "59RYFnGLF4bM"
      },
      "outputs": [],
      "source": [
        "# Initiang transform and aggregation primitives\n",
        "trans_primitives = [Minute, Hour, Day, Month, Weekday, IsWeekend]\n",
        "aggregation_primitives = [Count, Sum, Mean, Median, Std, Max, Min]\n",
        "\n",
        "# Utilizing DFS\n",
        "features = ft.dfs(entities=entities,\n",
        "                  relationships=relationships,\n",
        "                  target_entity=\"trips\",\n",
        "                  trans_primitives=trans_primitives,\n",
        "                  agg_primitives=aggregation_primitives,\n",
        "                  ignore_variables={\"trips\": [\"pickup_latitude\", \"pickup_longitude\",\n",
        "                                              \"dropoff_latitude\", \"dropoff_longitude\"]},\n",
        "                  features_only=True)"
      ]
    },
    {
      "cell_type": "code",
      "execution_count": null,
      "metadata": {
        "ExecuteTime": {
          "end_time": "2021-07-15T12:59:45.888070Z",
          "start_time": "2021-07-15T12:59:45.782499Z"
        },
        "colab": {
          "base_uri": "https://localhost:8080/"
        },
        "id": "CPx--wMSF4bM",
        "outputId": "1a0d04f5-8e28-4318-9a07-1ebfdb77d5fd",
        "scrolled": false
      },
      "outputs": [
        {
          "name": "stdout",
          "output_type": "stream",
          "text": [
            "Number of features: 67\n"
          ]
        },
        {
          "data": {
            "text/plain": [
              "[<Feature: Transport_service>,\n",
              " <Feature: passenger_count>,\n",
              " <Feature: trip_distance>,\n",
              " <Feature: payment_type>,\n",
              " <Feature: trip_duration>,\n",
              " <Feature: pickup_neighborhood>,\n",
              " <Feature: dropoff_neighborhood>,\n",
              " <Feature: DAY(pickup_datetime)>,\n",
              " <Feature: HOUR(pickup_datetime)>,\n",
              " <Feature: IS_WEEKEND(pickup_datetime)>,\n",
              " <Feature: MINUTE(pickup_datetime)>,\n",
              " <Feature: MONTH(pickup_datetime)>,\n",
              " <Feature: WEEKDAY(pickup_datetime)>,\n",
              " <Feature: pickup_neighborhoods.latitude>,\n",
              " <Feature: pickup_neighborhoods.longitude>,\n",
              " <Feature: dropoff_neighborhoods.latitude>,\n",
              " <Feature: dropoff_neighborhoods.longitude>,\n",
              " <Feature: pickup_neighborhoods.COUNT(trips)>,\n",
              " <Feature: pickup_neighborhoods.MAX(trips.Transport_service)>,\n",
              " <Feature: pickup_neighborhoods.MAX(trips.passenger_count)>,\n",
              " <Feature: pickup_neighborhoods.MAX(trips.trip_distance)>,\n",
              " <Feature: pickup_neighborhoods.MAX(trips.trip_duration)>,\n",
              " <Feature: pickup_neighborhoods.MEAN(trips.Transport_service)>,\n",
              " <Feature: pickup_neighborhoods.MEAN(trips.passenger_count)>,\n",
              " <Feature: pickup_neighborhoods.MEAN(trips.trip_distance)>,\n",
              " <Feature: pickup_neighborhoods.MEAN(trips.trip_duration)>,\n",
              " <Feature: pickup_neighborhoods.MEDIAN(trips.Transport_service)>,\n",
              " <Feature: pickup_neighborhoods.MEDIAN(trips.passenger_count)>,\n",
              " <Feature: pickup_neighborhoods.MEDIAN(trips.trip_distance)>,\n",
              " <Feature: pickup_neighborhoods.MEDIAN(trips.trip_duration)>,\n",
              " <Feature: pickup_neighborhoods.MIN(trips.Transport_service)>,\n",
              " <Feature: pickup_neighborhoods.MIN(trips.passenger_count)>,\n",
              " <Feature: pickup_neighborhoods.MIN(trips.trip_distance)>,\n",
              " <Feature: pickup_neighborhoods.MIN(trips.trip_duration)>,\n",
              " <Feature: pickup_neighborhoods.STD(trips.Transport_service)>,\n",
              " <Feature: pickup_neighborhoods.STD(trips.passenger_count)>,\n",
              " <Feature: pickup_neighborhoods.STD(trips.trip_distance)>,\n",
              " <Feature: pickup_neighborhoods.STD(trips.trip_duration)>,\n",
              " <Feature: pickup_neighborhoods.SUM(trips.Transport_service)>,\n",
              " <Feature: pickup_neighborhoods.SUM(trips.passenger_count)>,\n",
              " <Feature: pickup_neighborhoods.SUM(trips.trip_distance)>,\n",
              " <Feature: pickup_neighborhoods.SUM(trips.trip_duration)>,\n",
              " <Feature: dropoff_neighborhoods.COUNT(trips)>,\n",
              " <Feature: dropoff_neighborhoods.MAX(trips.Transport_service)>,\n",
              " <Feature: dropoff_neighborhoods.MAX(trips.passenger_count)>,\n",
              " <Feature: dropoff_neighborhoods.MAX(trips.trip_distance)>,\n",
              " <Feature: dropoff_neighborhoods.MAX(trips.trip_duration)>,\n",
              " <Feature: dropoff_neighborhoods.MEAN(trips.Transport_service)>,\n",
              " <Feature: dropoff_neighborhoods.MEAN(trips.passenger_count)>,\n",
              " <Feature: dropoff_neighborhoods.MEAN(trips.trip_distance)>,\n",
              " <Feature: dropoff_neighborhoods.MEAN(trips.trip_duration)>,\n",
              " <Feature: dropoff_neighborhoods.MEDIAN(trips.Transport_service)>,\n",
              " <Feature: dropoff_neighborhoods.MEDIAN(trips.passenger_count)>,\n",
              " <Feature: dropoff_neighborhoods.MEDIAN(trips.trip_distance)>,\n",
              " <Feature: dropoff_neighborhoods.MEDIAN(trips.trip_duration)>,\n",
              " <Feature: dropoff_neighborhoods.MIN(trips.Transport_service)>,\n",
              " <Feature: dropoff_neighborhoods.MIN(trips.passenger_count)>,\n",
              " <Feature: dropoff_neighborhoods.MIN(trips.trip_distance)>,\n",
              " <Feature: dropoff_neighborhoods.MIN(trips.trip_duration)>,\n",
              " <Feature: dropoff_neighborhoods.STD(trips.Transport_service)>,\n",
              " <Feature: dropoff_neighborhoods.STD(trips.passenger_count)>,\n",
              " <Feature: dropoff_neighborhoods.STD(trips.trip_distance)>,\n",
              " <Feature: dropoff_neighborhoods.STD(trips.trip_duration)>,\n",
              " <Feature: dropoff_neighborhoods.SUM(trips.Transport_service)>,\n",
              " <Feature: dropoff_neighborhoods.SUM(trips.passenger_count)>,\n",
              " <Feature: dropoff_neighborhoods.SUM(trips.trip_distance)>,\n",
              " <Feature: dropoff_neighborhoods.SUM(trips.trip_duration)>]"
            ]
          },
          "execution_count": 66,
          "metadata": {},
          "output_type": "execute_result"
        }
      ],
      "source": [
        "# Checking the features created using DFS\n",
        "print (\"Number of features: %d\" % len(features))\n",
        "features"
      ]
    },
    {
      "cell_type": "markdown",
      "metadata": {
        "id": "Soh7EPPFF4bM"
      },
      "source": [
        "**Computing features and defining feature matrix**"
      ]
    },
    {
      "cell_type": "code",
      "execution_count": null,
      "metadata": {
        "ExecuteTime": {
          "end_time": "2021-07-09T11:13:54.617340Z",
          "start_time": "2021-07-09T11:13:28.226824Z"
        },
        "colab": {
          "base_uri": "https://localhost:8080/"
        },
        "id": "kcYsMKlAF4bM",
        "outputId": "6fd65524-797c-4d5d-9d5e-5c7112702926"
      },
      "outputs": [
        {
          "name": "stdout",
          "output_type": "stream",
          "text": [
            "Elapsed: 00:00 | Progress: 100%|██████████\n",
            "Finishing computing...\n"
          ]
        }
      ],
      "source": [
        "# Initiating the compute_features function\n",
        "feature_matrix3 = compute_features(features, cutoff_time)"
      ]
    },
    {
      "cell_type": "code",
      "execution_count": null,
      "metadata": {
        "ExecuteTime": {
          "end_time": "2021-07-09T11:14:02.858716Z",
          "start_time": "2021-07-09T11:14:02.439924Z"
        },
        "colab": {
          "base_uri": "https://localhost:8080/",
          "height": 348
        },
        "id": "ZzqwPwy1F4bN",
        "outputId": "d4550855-ef82-46bf-eee9-18a0c52f7f04"
      },
      "outputs": [
        {
          "data": {
            "text/html": [
              "\n",
              "  <div id=\"df-20654690-fa31-409a-ac4f-18c288c44033\">\n",
              "    <div class=\"colab-df-container\">\n",
              "      <div>\n",
              "<style scoped>\n",
              "    .dataframe tbody tr th:only-of-type {\n",
              "        vertical-align: middle;\n",
              "    }\n",
              "\n",
              "    .dataframe tbody tr th {\n",
              "        vertical-align: top;\n",
              "    }\n",
              "\n",
              "    .dataframe thead th {\n",
              "        text-align: right;\n",
              "    }\n",
              "</style>\n",
              "<table border=\"1\" class=\"dataframe\">\n",
              "  <thead>\n",
              "    <tr style=\"text-align: right;\">\n",
              "      <th></th>\n",
              "      <th>dropoff_neighborhoods.STD(trips.Transport_service)</th>\n",
              "      <th>pickup_neighborhoods.MEDIAN(trips.Transport_service)</th>\n",
              "      <th>dropoff_neighborhood = AM</th>\n",
              "      <th>dropoff_neighborhood = Y</th>\n",
              "      <th>dropoff_neighborhood = AT</th>\n",
              "      <th>dropoff_neighborhood = C</th>\n",
              "      <th>dropoff_neighborhood = W</th>\n",
              "      <th>dropoff_neighborhood = AD</th>\n",
              "      <th>dropoff_neighborhood = Z</th>\n",
              "      <th>dropoff_neighborhood = P</th>\n",
              "      <th>...</th>\n",
              "      <th>pickup_neighborhood = AO</th>\n",
              "      <th>pickup_neighborhood = N</th>\n",
              "      <th>pickup_neighborhood = I</th>\n",
              "      <th>pickup_neighborhood = R</th>\n",
              "      <th>pickup_neighborhoods.COUNT(trips)</th>\n",
              "      <th>pickup_neighborhoods.MEDIAN(trips.passenger_count)</th>\n",
              "      <th>dropoff_neighborhoods.SUM(trips.passenger_count)</th>\n",
              "      <th>pickup_neighborhoods.MAX(trips.trip_distance)</th>\n",
              "      <th>dropoff_neighborhoods.STD(trips.passenger_count)</th>\n",
              "      <th>payment_type</th>\n",
              "    </tr>\n",
              "    <tr>\n",
              "      <th>id</th>\n",
              "      <th></th>\n",
              "      <th></th>\n",
              "      <th></th>\n",
              "      <th></th>\n",
              "      <th></th>\n",
              "      <th></th>\n",
              "      <th></th>\n",
              "      <th></th>\n",
              "      <th></th>\n",
              "      <th></th>\n",
              "      <th></th>\n",
              "      <th></th>\n",
              "      <th></th>\n",
              "      <th></th>\n",
              "      <th></th>\n",
              "      <th></th>\n",
              "      <th></th>\n",
              "      <th></th>\n",
              "      <th></th>\n",
              "      <th></th>\n",
              "      <th></th>\n",
              "    </tr>\n",
              "  </thead>\n",
              "  <tbody>\n",
              "    <tr>\n",
              "      <th>0</th>\n",
              "      <td>NaN</td>\n",
              "      <td>NaN</td>\n",
              "      <td>False</td>\n",
              "      <td>False</td>\n",
              "      <td>False</td>\n",
              "      <td>True</td>\n",
              "      <td>False</td>\n",
              "      <td>False</td>\n",
              "      <td>False</td>\n",
              "      <td>False</td>\n",
              "      <td>...</td>\n",
              "      <td>False</td>\n",
              "      <td>False</td>\n",
              "      <td>False</td>\n",
              "      <td>False</td>\n",
              "      <td>0.0</td>\n",
              "      <td>NaN</td>\n",
              "      <td>0.0</td>\n",
              "      <td>NaN</td>\n",
              "      <td>NaN</td>\n",
              "      <td>3</td>\n",
              "    </tr>\n",
              "    <tr>\n",
              "      <th>1</th>\n",
              "      <td>NaN</td>\n",
              "      <td>NaN</td>\n",
              "      <td>False</td>\n",
              "      <td>False</td>\n",
              "      <td>False</td>\n",
              "      <td>False</td>\n",
              "      <td>False</td>\n",
              "      <td>False</td>\n",
              "      <td>False</td>\n",
              "      <td>False</td>\n",
              "      <td>...</td>\n",
              "      <td>False</td>\n",
              "      <td>False</td>\n",
              "      <td>False</td>\n",
              "      <td>False</td>\n",
              "      <td>0.0</td>\n",
              "      <td>NaN</td>\n",
              "      <td>0.0</td>\n",
              "      <td>NaN</td>\n",
              "      <td>NaN</td>\n",
              "      <td>3</td>\n",
              "    </tr>\n",
              "    <tr>\n",
              "      <th>2</th>\n",
              "      <td>NaN</td>\n",
              "      <td>NaN</td>\n",
              "      <td>False</td>\n",
              "      <td>False</td>\n",
              "      <td>False</td>\n",
              "      <td>False</td>\n",
              "      <td>False</td>\n",
              "      <td>False</td>\n",
              "      <td>False</td>\n",
              "      <td>False</td>\n",
              "      <td>...</td>\n",
              "      <td>False</td>\n",
              "      <td>False</td>\n",
              "      <td>False</td>\n",
              "      <td>False</td>\n",
              "      <td>0.0</td>\n",
              "      <td>NaN</td>\n",
              "      <td>0.0</td>\n",
              "      <td>NaN</td>\n",
              "      <td>NaN</td>\n",
              "      <td>1</td>\n",
              "    </tr>\n",
              "    <tr>\n",
              "      <th>3</th>\n",
              "      <td>NaN</td>\n",
              "      <td>NaN</td>\n",
              "      <td>False</td>\n",
              "      <td>False</td>\n",
              "      <td>False</td>\n",
              "      <td>False</td>\n",
              "      <td>False</td>\n",
              "      <td>False</td>\n",
              "      <td>False</td>\n",
              "      <td>False</td>\n",
              "      <td>...</td>\n",
              "      <td>False</td>\n",
              "      <td>False</td>\n",
              "      <td>False</td>\n",
              "      <td>False</td>\n",
              "      <td>0.0</td>\n",
              "      <td>NaN</td>\n",
              "      <td>0.0</td>\n",
              "      <td>NaN</td>\n",
              "      <td>NaN</td>\n",
              "      <td>2</td>\n",
              "    </tr>\n",
              "    <tr>\n",
              "      <th>4</th>\n",
              "      <td>NaN</td>\n",
              "      <td>NaN</td>\n",
              "      <td>False</td>\n",
              "      <td>False</td>\n",
              "      <td>False</td>\n",
              "      <td>False</td>\n",
              "      <td>False</td>\n",
              "      <td>False</td>\n",
              "      <td>False</td>\n",
              "      <td>False</td>\n",
              "      <td>...</td>\n",
              "      <td>False</td>\n",
              "      <td>False</td>\n",
              "      <td>False</td>\n",
              "      <td>False</td>\n",
              "      <td>0.0</td>\n",
              "      <td>NaN</td>\n",
              "      <td>0.0</td>\n",
              "      <td>NaN</td>\n",
              "      <td>NaN</td>\n",
              "      <td>1</td>\n",
              "    </tr>\n",
              "  </tbody>\n",
              "</table>\n",
              "<p>5 rows × 85 columns</p>\n",
              "</div>\n",
              "      <button class=\"colab-df-convert\" onclick=\"convertToInteractive('df-20654690-fa31-409a-ac4f-18c288c44033')\"\n",
              "              title=\"Convert this dataframe to an interactive table.\"\n",
              "              style=\"display:none;\">\n",
              "        \n",
              "  <svg xmlns=\"http://www.w3.org/2000/svg\" height=\"24px\"viewBox=\"0 0 24 24\"\n",
              "       width=\"24px\">\n",
              "    <path d=\"M0 0h24v24H0V0z\" fill=\"none\"/>\n",
              "    <path d=\"M18.56 5.44l.94 2.06.94-2.06 2.06-.94-2.06-.94-.94-2.06-.94 2.06-2.06.94zm-11 1L8.5 8.5l.94-2.06 2.06-.94-2.06-.94L8.5 2.5l-.94 2.06-2.06.94zm10 10l.94 2.06.94-2.06 2.06-.94-2.06-.94-.94-2.06-.94 2.06-2.06.94z\"/><path d=\"M17.41 7.96l-1.37-1.37c-.4-.4-.92-.59-1.43-.59-.52 0-1.04.2-1.43.59L10.3 9.45l-7.72 7.72c-.78.78-.78 2.05 0 2.83L4 21.41c.39.39.9.59 1.41.59.51 0 1.02-.2 1.41-.59l7.78-7.78 2.81-2.81c.8-.78.8-2.07 0-2.86zM5.41 20L4 18.59l7.72-7.72 1.47 1.35L5.41 20z\"/>\n",
              "  </svg>\n",
              "      </button>\n",
              "      \n",
              "  <style>\n",
              "    .colab-df-container {\n",
              "      display:flex;\n",
              "      flex-wrap:wrap;\n",
              "      gap: 12px;\n",
              "    }\n",
              "\n",
              "    .colab-df-convert {\n",
              "      background-color: #E8F0FE;\n",
              "      border: none;\n",
              "      border-radius: 50%;\n",
              "      cursor: pointer;\n",
              "      display: none;\n",
              "      fill: #1967D2;\n",
              "      height: 32px;\n",
              "      padding: 0 0 0 0;\n",
              "      width: 32px;\n",
              "    }\n",
              "\n",
              "    .colab-df-convert:hover {\n",
              "      background-color: #E2EBFA;\n",
              "      box-shadow: 0px 1px 2px rgba(60, 64, 67, 0.3), 0px 1px 3px 1px rgba(60, 64, 67, 0.15);\n",
              "      fill: #174EA6;\n",
              "    }\n",
              "\n",
              "    [theme=dark] .colab-df-convert {\n",
              "      background-color: #3B4455;\n",
              "      fill: #D2E3FC;\n",
              "    }\n",
              "\n",
              "    [theme=dark] .colab-df-convert:hover {\n",
              "      background-color: #434B5C;\n",
              "      box-shadow: 0px 1px 3px 1px rgba(0, 0, 0, 0.15);\n",
              "      filter: drop-shadow(0px 1px 2px rgba(0, 0, 0, 0.3));\n",
              "      fill: #FFFFFF;\n",
              "    }\n",
              "  </style>\n",
              "\n",
              "      <script>\n",
              "        const buttonEl =\n",
              "          document.querySelector('#df-20654690-fa31-409a-ac4f-18c288c44033 button.colab-df-convert');\n",
              "        buttonEl.style.display =\n",
              "          google.colab.kernel.accessAllowed ? 'block' : 'none';\n",
              "\n",
              "        async function convertToInteractive(key) {\n",
              "          const element = document.querySelector('#df-20654690-fa31-409a-ac4f-18c288c44033');\n",
              "          const dataTable =\n",
              "            await google.colab.kernel.invokeFunction('convertToInteractive',\n",
              "                                                     [key], {});\n",
              "          if (!dataTable) return;\n",
              "\n",
              "          const docLinkHtml = 'Like what you see? Visit the ' +\n",
              "            '<a target=\"_blank\" href=https://colab.research.google.com/notebooks/data_table.ipynb>data table notebook</a>'\n",
              "            + ' to learn more about interactive tables.';\n",
              "          element.innerHTML = '';\n",
              "          dataTable['output_type'] = 'display_data';\n",
              "          await google.colab.output.renderOutput(dataTable, element);\n",
              "          const docLink = document.createElement('div');\n",
              "          docLink.innerHTML = docLinkHtml;\n",
              "          element.appendChild(docLink);\n",
              "        }\n",
              "      </script>\n",
              "    </div>\n",
              "  </div>\n",
              "  "
            ],
            "text/plain": [
              "    dropoff_neighborhoods.STD(trips.Transport_service)  \\\n",
              "id                                                       \n",
              "0                                                 NaN    \n",
              "1                                                 NaN    \n",
              "2                                                 NaN    \n",
              "3                                                 NaN    \n",
              "4                                                 NaN    \n",
              "\n",
              "    pickup_neighborhoods.MEDIAN(trips.Transport_service)  \\\n",
              "id                                                         \n",
              "0                                                 NaN      \n",
              "1                                                 NaN      \n",
              "2                                                 NaN      \n",
              "3                                                 NaN      \n",
              "4                                                 NaN      \n",
              "\n",
              "    dropoff_neighborhood = AM  dropoff_neighborhood = Y  \\\n",
              "id                                                        \n",
              "0                       False                     False   \n",
              "1                       False                     False   \n",
              "2                       False                     False   \n",
              "3                       False                     False   \n",
              "4                       False                     False   \n",
              "\n",
              "    dropoff_neighborhood = AT  dropoff_neighborhood = C  \\\n",
              "id                                                        \n",
              "0                       False                      True   \n",
              "1                       False                     False   \n",
              "2                       False                     False   \n",
              "3                       False                     False   \n",
              "4                       False                     False   \n",
              "\n",
              "    dropoff_neighborhood = W  dropoff_neighborhood = AD  \\\n",
              "id                                                        \n",
              "0                      False                      False   \n",
              "1                      False                      False   \n",
              "2                      False                      False   \n",
              "3                      False                      False   \n",
              "4                      False                      False   \n",
              "\n",
              "    dropoff_neighborhood = Z  dropoff_neighborhood = P  ...  \\\n",
              "id                                                      ...   \n",
              "0                      False                     False  ...   \n",
              "1                      False                     False  ...   \n",
              "2                      False                     False  ...   \n",
              "3                      False                     False  ...   \n",
              "4                      False                     False  ...   \n",
              "\n",
              "    pickup_neighborhood = AO  pickup_neighborhood = N  \\\n",
              "id                                                      \n",
              "0                      False                    False   \n",
              "1                      False                    False   \n",
              "2                      False                    False   \n",
              "3                      False                    False   \n",
              "4                      False                    False   \n",
              "\n",
              "    pickup_neighborhood = I  pickup_neighborhood = R  \\\n",
              "id                                                     \n",
              "0                     False                    False   \n",
              "1                     False                    False   \n",
              "2                     False                    False   \n",
              "3                     False                    False   \n",
              "4                     False                    False   \n",
              "\n",
              "    pickup_neighborhoods.COUNT(trips)  \\\n",
              "id                                      \n",
              "0                                 0.0   \n",
              "1                                 0.0   \n",
              "2                                 0.0   \n",
              "3                                 0.0   \n",
              "4                                 0.0   \n",
              "\n",
              "    pickup_neighborhoods.MEDIAN(trips.passenger_count)  \\\n",
              "id                                                       \n",
              "0                                                 NaN    \n",
              "1                                                 NaN    \n",
              "2                                                 NaN    \n",
              "3                                                 NaN    \n",
              "4                                                 NaN    \n",
              "\n",
              "    dropoff_neighborhoods.SUM(trips.passenger_count)  \\\n",
              "id                                                     \n",
              "0                                                0.0   \n",
              "1                                                0.0   \n",
              "2                                                0.0   \n",
              "3                                                0.0   \n",
              "4                                                0.0   \n",
              "\n",
              "    pickup_neighborhoods.MAX(trips.trip_distance)  \\\n",
              "id                                                  \n",
              "0                                             NaN   \n",
              "1                                             NaN   \n",
              "2                                             NaN   \n",
              "3                                             NaN   \n",
              "4                                             NaN   \n",
              "\n",
              "    dropoff_neighborhoods.STD(trips.passenger_count)  payment_type  \n",
              "id                                                                  \n",
              "0                                                NaN             3  \n",
              "1                                                NaN             3  \n",
              "2                                                NaN             1  \n",
              "3                                                NaN             2  \n",
              "4                                                NaN             1  \n",
              "\n",
              "[5 rows x 85 columns]"
            ]
          },
          "execution_count": 68,
          "metadata": {},
          "output_type": "execute_result"
        }
      ],
      "source": [
        "# Looking at the generated feature matrix\n",
        "feature_matrix3.head()"
      ]
    },
    {
      "cell_type": "markdown",
      "metadata": {
        "id": "7jxkWJcfF4bN"
      },
      "source": [
        "#### **Model Building**\n"
      ]
    },
    {
      "cell_type": "markdown",
      "source": [
        "**Data Splitting**"
      ],
      "metadata": {
        "id": "2Ss2VSiku6lp"
      }
    },
    {
      "cell_type": "code",
      "execution_count": null,
      "metadata": {
        "ExecuteTime": {
          "end_time": "2021-07-09T11:14:41.627956Z",
          "start_time": "2021-07-09T11:14:07.052570Z"
        },
        "id": "fSR8CN_EF4bN"
      },
      "outputs": [],
      "source": [
        "# Separates the whole feature matrix into train data feature matrix,train data labels, and test data feature matrix\n",
        "X_train3, y_train3, X_test3, y_test3 = get_train_test_fm(feature_matrix3,.75)\n",
        "y_train3 = np.sqrt(y_train3)\n",
        "y_test3 = np.sqrt(y_test3)"
      ]
    },
    {
      "cell_type": "markdown",
      "metadata": {
        "id": "P3vx4_sLF4bN"
      },
      "source": [
        "> **Building  Linear regression model with transform and aggregate primitive.**"
      ]
    },
    {
      "cell_type": "code",
      "execution_count": null,
      "metadata": {
        "colab": {
          "base_uri": "https://localhost:8080/",
          "height": 75
        },
        "id": "WdJFrJzSF4bN",
        "outputId": "bf76c5b9-359b-4db6-edbe-c656f0877162"
      },
      "outputs": [
        {
          "data": {
            "text/html": [
              "<style>#sk-container-id-9 {color: black;background-color: white;}#sk-container-id-9 pre{padding: 0;}#sk-container-id-9 div.sk-toggleable {background-color: white;}#sk-container-id-9 label.sk-toggleable__label {cursor: pointer;display: block;width: 100%;margin-bottom: 0;padding: 0.3em;box-sizing: border-box;text-align: center;}#sk-container-id-9 label.sk-toggleable__label-arrow:before {content: \"▸\";float: left;margin-right: 0.25em;color: #696969;}#sk-container-id-9 label.sk-toggleable__label-arrow:hover:before {color: black;}#sk-container-id-9 div.sk-estimator:hover label.sk-toggleable__label-arrow:before {color: black;}#sk-container-id-9 div.sk-toggleable__content {max-height: 0;max-width: 0;overflow: hidden;text-align: left;background-color: #f0f8ff;}#sk-container-id-9 div.sk-toggleable__content pre {margin: 0.2em;color: black;border-radius: 0.25em;background-color: #f0f8ff;}#sk-container-id-9 input.sk-toggleable__control:checked~div.sk-toggleable__content {max-height: 200px;max-width: 100%;overflow: auto;}#sk-container-id-9 input.sk-toggleable__control:checked~label.sk-toggleable__label-arrow:before {content: \"▾\";}#sk-container-id-9 div.sk-estimator input.sk-toggleable__control:checked~label.sk-toggleable__label {background-color: #d4ebff;}#sk-container-id-9 div.sk-label input.sk-toggleable__control:checked~label.sk-toggleable__label {background-color: #d4ebff;}#sk-container-id-9 input.sk-hidden--visually {border: 0;clip: rect(1px 1px 1px 1px);clip: rect(1px, 1px, 1px, 1px);height: 1px;margin: -1px;overflow: hidden;padding: 0;position: absolute;width: 1px;}#sk-container-id-9 div.sk-estimator {font-family: monospace;background-color: #f0f8ff;border: 1px dotted black;border-radius: 0.25em;box-sizing: border-box;margin-bottom: 0.5em;}#sk-container-id-9 div.sk-estimator:hover {background-color: #d4ebff;}#sk-container-id-9 div.sk-parallel-item::after {content: \"\";width: 100%;border-bottom: 1px solid gray;flex-grow: 1;}#sk-container-id-9 div.sk-label:hover label.sk-toggleable__label {background-color: #d4ebff;}#sk-container-id-9 div.sk-serial::before {content: \"\";position: absolute;border-left: 1px solid gray;box-sizing: border-box;top: 0;bottom: 0;left: 50%;z-index: 0;}#sk-container-id-9 div.sk-serial {display: flex;flex-direction: column;align-items: center;background-color: white;padding-right: 0.2em;padding-left: 0.2em;position: relative;}#sk-container-id-9 div.sk-item {position: relative;z-index: 1;}#sk-container-id-9 div.sk-parallel {display: flex;align-items: stretch;justify-content: center;background-color: white;position: relative;}#sk-container-id-9 div.sk-item::before, #sk-container-id-9 div.sk-parallel-item::before {content: \"\";position: absolute;border-left: 1px solid gray;box-sizing: border-box;top: 0;bottom: 0;left: 50%;z-index: -1;}#sk-container-id-9 div.sk-parallel-item {display: flex;flex-direction: column;z-index: 1;position: relative;background-color: white;}#sk-container-id-9 div.sk-parallel-item:first-child::after {align-self: flex-end;width: 50%;}#sk-container-id-9 div.sk-parallel-item:last-child::after {align-self: flex-start;width: 50%;}#sk-container-id-9 div.sk-parallel-item:only-child::after {width: 0;}#sk-container-id-9 div.sk-dashed-wrapped {border: 1px dashed gray;margin: 0 0.4em 0.5em 0.4em;box-sizing: border-box;padding-bottom: 0.4em;background-color: white;}#sk-container-id-9 div.sk-label label {font-family: monospace;font-weight: bold;display: inline-block;line-height: 1.2em;}#sk-container-id-9 div.sk-label-container {text-align: center;}#sk-container-id-9 div.sk-container {/* jupyter's `normalize.less` sets `[hidden] { display: none; }` but bootstrap.min.css set `[hidden] { display: none !important; }` so we also need the `!important` here to be able to override the default hidden behavior on the sphinx rendered scikit-learn.org. See: https://github.com/scikit-learn/scikit-learn/issues/21755 */display: inline-block !important;position: relative;}#sk-container-id-9 div.sk-text-repr-fallback {display: none;}</style><div id=\"sk-container-id-9\" class=\"sk-top-container\"><div class=\"sk-text-repr-fallback\"><pre>LinearRegression()</pre><b>In a Jupyter environment, please rerun this cell to show the HTML representation or trust the notebook. <br />On GitHub, the HTML representation is unable to render, please try loading this page with nbviewer.org.</b></div><div class=\"sk-container\" hidden><div class=\"sk-item\"><div class=\"sk-estimator sk-toggleable\"><input class=\"sk-toggleable__control sk-hidden--visually\" id=\"sk-estimator-id-9\" type=\"checkbox\" checked><label for=\"sk-estimator-id-9\" class=\"sk-toggleable__label sk-toggleable__label-arrow\">LinearRegression</label><div class=\"sk-toggleable__content\"><pre>LinearRegression()</pre></div></div></div></div></div>"
            ],
            "text/plain": [
              "LinearRegression()"
            ]
          },
          "execution_count": 70,
          "metadata": {},
          "output_type": "execute_result"
        }
      ],
      "source": [
        "# Defining the model\n",
        "lr3=LinearRegression()\n",
        "\n",
        "# Fitting the data\n",
        "lr3.fit(X_train3,y_train3)"
      ]
    },
    {
      "cell_type": "code",
      "execution_count": null,
      "metadata": {
        "colab": {
          "base_uri": "https://localhost:8080/"
        },
        "id": "Y_aXMqvOF4bN",
        "outputId": "9173167b-055b-4e0a-ea8b-9398c486a7b1"
      },
      "outputs": [
        {
          "name": "stdout",
          "output_type": "stream",
          "text": [
            "    Data  RSquared      RMSE       MAE\n",
            "0  Train  0.663515  5.241371  4.060878\n",
            "1   Test  0.602172  5.456041  4.065442\n"
          ]
        }
      ],
      "source": [
        "# Check the performance of the model\n",
        "model_pref(lr3, X_train3, X_test3,y_train3,y_test3)"
      ]
    },
    {
      "cell_type": "markdown",
      "metadata": {
        "id": "aBydfQZiF4bN"
      },
      "source": [
        "- Model is giving only 0.60 Rsquared, with RSME of 5.45 and MAE of ~4.\n",
        "- Model is not overfitting, and giving generalized results.\n"
      ]
    },
    {
      "cell_type": "markdown",
      "metadata": {
        "id": "s14I67meF4bN"
      },
      "source": [
        "> **Building  Decision tree with transform and aggregate primitive.**"
      ]
    },
    {
      "cell_type": "code",
      "execution_count": null,
      "metadata": {
        "colab": {
          "base_uri": "https://localhost:8080/",
          "height": 75
        },
        "id": "7bW4PO2rF4bN",
        "outputId": "8122cb66-8ade-48b8-e1d6-b14cd7a5f4b9"
      },
      "outputs": [
        {
          "data": {
            "text/html": [
              "<style>#sk-container-id-10 {color: black;background-color: white;}#sk-container-id-10 pre{padding: 0;}#sk-container-id-10 div.sk-toggleable {background-color: white;}#sk-container-id-10 label.sk-toggleable__label {cursor: pointer;display: block;width: 100%;margin-bottom: 0;padding: 0.3em;box-sizing: border-box;text-align: center;}#sk-container-id-10 label.sk-toggleable__label-arrow:before {content: \"▸\";float: left;margin-right: 0.25em;color: #696969;}#sk-container-id-10 label.sk-toggleable__label-arrow:hover:before {color: black;}#sk-container-id-10 div.sk-estimator:hover label.sk-toggleable__label-arrow:before {color: black;}#sk-container-id-10 div.sk-toggleable__content {max-height: 0;max-width: 0;overflow: hidden;text-align: left;background-color: #f0f8ff;}#sk-container-id-10 div.sk-toggleable__content pre {margin: 0.2em;color: black;border-radius: 0.25em;background-color: #f0f8ff;}#sk-container-id-10 input.sk-toggleable__control:checked~div.sk-toggleable__content {max-height: 200px;max-width: 100%;overflow: auto;}#sk-container-id-10 input.sk-toggleable__control:checked~label.sk-toggleable__label-arrow:before {content: \"▾\";}#sk-container-id-10 div.sk-estimator input.sk-toggleable__control:checked~label.sk-toggleable__label {background-color: #d4ebff;}#sk-container-id-10 div.sk-label input.sk-toggleable__control:checked~label.sk-toggleable__label {background-color: #d4ebff;}#sk-container-id-10 input.sk-hidden--visually {border: 0;clip: rect(1px 1px 1px 1px);clip: rect(1px, 1px, 1px, 1px);height: 1px;margin: -1px;overflow: hidden;padding: 0;position: absolute;width: 1px;}#sk-container-id-10 div.sk-estimator {font-family: monospace;background-color: #f0f8ff;border: 1px dotted black;border-radius: 0.25em;box-sizing: border-box;margin-bottom: 0.5em;}#sk-container-id-10 div.sk-estimator:hover {background-color: #d4ebff;}#sk-container-id-10 div.sk-parallel-item::after {content: \"\";width: 100%;border-bottom: 1px solid gray;flex-grow: 1;}#sk-container-id-10 div.sk-label:hover label.sk-toggleable__label {background-color: #d4ebff;}#sk-container-id-10 div.sk-serial::before {content: \"\";position: absolute;border-left: 1px solid gray;box-sizing: border-box;top: 0;bottom: 0;left: 50%;z-index: 0;}#sk-container-id-10 div.sk-serial {display: flex;flex-direction: column;align-items: center;background-color: white;padding-right: 0.2em;padding-left: 0.2em;position: relative;}#sk-container-id-10 div.sk-item {position: relative;z-index: 1;}#sk-container-id-10 div.sk-parallel {display: flex;align-items: stretch;justify-content: center;background-color: white;position: relative;}#sk-container-id-10 div.sk-item::before, #sk-container-id-10 div.sk-parallel-item::before {content: \"\";position: absolute;border-left: 1px solid gray;box-sizing: border-box;top: 0;bottom: 0;left: 50%;z-index: -1;}#sk-container-id-10 div.sk-parallel-item {display: flex;flex-direction: column;z-index: 1;position: relative;background-color: white;}#sk-container-id-10 div.sk-parallel-item:first-child::after {align-self: flex-end;width: 50%;}#sk-container-id-10 div.sk-parallel-item:last-child::after {align-self: flex-start;width: 50%;}#sk-container-id-10 div.sk-parallel-item:only-child::after {width: 0;}#sk-container-id-10 div.sk-dashed-wrapped {border: 1px dashed gray;margin: 0 0.4em 0.5em 0.4em;box-sizing: border-box;padding-bottom: 0.4em;background-color: white;}#sk-container-id-10 div.sk-label label {font-family: monospace;font-weight: bold;display: inline-block;line-height: 1.2em;}#sk-container-id-10 div.sk-label-container {text-align: center;}#sk-container-id-10 div.sk-container {/* jupyter's `normalize.less` sets `[hidden] { display: none; }` but bootstrap.min.css set `[hidden] { display: none !important; }` so we also need the `!important` here to be able to override the default hidden behavior on the sphinx rendered scikit-learn.org. See: https://github.com/scikit-learn/scikit-learn/issues/21755 */display: inline-block !important;position: relative;}#sk-container-id-10 div.sk-text-repr-fallback {display: none;}</style><div id=\"sk-container-id-10\" class=\"sk-top-container\"><div class=\"sk-text-repr-fallback\"><pre>DecisionTreeRegressor()</pre><b>In a Jupyter environment, please rerun this cell to show the HTML representation or trust the notebook. <br />On GitHub, the HTML representation is unable to render, please try loading this page with nbviewer.org.</b></div><div class=\"sk-container\" hidden><div class=\"sk-item\"><div class=\"sk-estimator sk-toggleable\"><input class=\"sk-toggleable__control sk-hidden--visually\" id=\"sk-estimator-id-10\" type=\"checkbox\" checked><label for=\"sk-estimator-id-10\" class=\"sk-toggleable__label sk-toggleable__label-arrow\">DecisionTreeRegressor</label><div class=\"sk-toggleable__content\"><pre>DecisionTreeRegressor()</pre></div></div></div></div></div>"
            ],
            "text/plain": [
              "DecisionTreeRegressor()"
            ]
          },
          "execution_count": 72,
          "metadata": {},
          "output_type": "execute_result"
        }
      ],
      "source": [
        "# Defining the model\n",
        "dt3=DecisionTreeRegressor()\n",
        "\n",
        "# Fitting the data\n",
        "dt3.fit(X_train3,y_train3)"
      ]
    },
    {
      "cell_type": "code",
      "execution_count": null,
      "metadata": {
        "colab": {
          "base_uri": "https://localhost:8080/"
        },
        "id": "LhH0-LHdF4bN",
        "outputId": "33ee0cae-f011-4caf-8240-6c8c30f97a49"
      },
      "outputs": [
        {
          "name": "stdout",
          "output_type": "stream",
          "text": [
            "    Data  RSquared     RMSE       MAE\n",
            "0  Train    1.0000  0.00000  0.000000\n",
            "1   Test    0.4392  6.47789  4.732509\n"
          ]
        }
      ],
      "source": [
        "# Check the performance of the model\n",
        "model_pref(dt3, X_train3, X_test3,y_train3,y_test3)"
      ]
    },
    {
      "cell_type": "markdown",
      "metadata": {
        "id": "PvQ-IKlAF4bN"
      },
      "source": [
        "- The model is overfitting a lot, with train R2 as 1 while test R2 as 0.44\n",
        "- This generally happens in decision tree, one solution for this is to Prune the decision tree, let's try pruning and see if the performance improves."
      ]
    },
    {
      "cell_type": "markdown",
      "metadata": {
        "id": "voQwIsOLF4bN"
      },
      "source": [
        "> **Building Pruned Decision tree with transform and aggregate primitive.**"
      ]
    },
    {
      "cell_type": "code",
      "execution_count": null,
      "metadata": {
        "colab": {
          "base_uri": "https://localhost:8080/",
          "height": 75
        },
        "id": "DxrIaFrMF4bO",
        "outputId": "cad71845-4eeb-4107-f778-51e85b4654ee"
      },
      "outputs": [
        {
          "data": {
            "text/html": [
              "<style>#sk-container-id-11 {color: black;background-color: white;}#sk-container-id-11 pre{padding: 0;}#sk-container-id-11 div.sk-toggleable {background-color: white;}#sk-container-id-11 label.sk-toggleable__label {cursor: pointer;display: block;width: 100%;margin-bottom: 0;padding: 0.3em;box-sizing: border-box;text-align: center;}#sk-container-id-11 label.sk-toggleable__label-arrow:before {content: \"▸\";float: left;margin-right: 0.25em;color: #696969;}#sk-container-id-11 label.sk-toggleable__label-arrow:hover:before {color: black;}#sk-container-id-11 div.sk-estimator:hover label.sk-toggleable__label-arrow:before {color: black;}#sk-container-id-11 div.sk-toggleable__content {max-height: 0;max-width: 0;overflow: hidden;text-align: left;background-color: #f0f8ff;}#sk-container-id-11 div.sk-toggleable__content pre {margin: 0.2em;color: black;border-radius: 0.25em;background-color: #f0f8ff;}#sk-container-id-11 input.sk-toggleable__control:checked~div.sk-toggleable__content {max-height: 200px;max-width: 100%;overflow: auto;}#sk-container-id-11 input.sk-toggleable__control:checked~label.sk-toggleable__label-arrow:before {content: \"▾\";}#sk-container-id-11 div.sk-estimator input.sk-toggleable__control:checked~label.sk-toggleable__label {background-color: #d4ebff;}#sk-container-id-11 div.sk-label input.sk-toggleable__control:checked~label.sk-toggleable__label {background-color: #d4ebff;}#sk-container-id-11 input.sk-hidden--visually {border: 0;clip: rect(1px 1px 1px 1px);clip: rect(1px, 1px, 1px, 1px);height: 1px;margin: -1px;overflow: hidden;padding: 0;position: absolute;width: 1px;}#sk-container-id-11 div.sk-estimator {font-family: monospace;background-color: #f0f8ff;border: 1px dotted black;border-radius: 0.25em;box-sizing: border-box;margin-bottom: 0.5em;}#sk-container-id-11 div.sk-estimator:hover {background-color: #d4ebff;}#sk-container-id-11 div.sk-parallel-item::after {content: \"\";width: 100%;border-bottom: 1px solid gray;flex-grow: 1;}#sk-container-id-11 div.sk-label:hover label.sk-toggleable__label {background-color: #d4ebff;}#sk-container-id-11 div.sk-serial::before {content: \"\";position: absolute;border-left: 1px solid gray;box-sizing: border-box;top: 0;bottom: 0;left: 50%;z-index: 0;}#sk-container-id-11 div.sk-serial {display: flex;flex-direction: column;align-items: center;background-color: white;padding-right: 0.2em;padding-left: 0.2em;position: relative;}#sk-container-id-11 div.sk-item {position: relative;z-index: 1;}#sk-container-id-11 div.sk-parallel {display: flex;align-items: stretch;justify-content: center;background-color: white;position: relative;}#sk-container-id-11 div.sk-item::before, #sk-container-id-11 div.sk-parallel-item::before {content: \"\";position: absolute;border-left: 1px solid gray;box-sizing: border-box;top: 0;bottom: 0;left: 50%;z-index: -1;}#sk-container-id-11 div.sk-parallel-item {display: flex;flex-direction: column;z-index: 1;position: relative;background-color: white;}#sk-container-id-11 div.sk-parallel-item:first-child::after {align-self: flex-end;width: 50%;}#sk-container-id-11 div.sk-parallel-item:last-child::after {align-self: flex-start;width: 50%;}#sk-container-id-11 div.sk-parallel-item:only-child::after {width: 0;}#sk-container-id-11 div.sk-dashed-wrapped {border: 1px dashed gray;margin: 0 0.4em 0.5em 0.4em;box-sizing: border-box;padding-bottom: 0.4em;background-color: white;}#sk-container-id-11 div.sk-label label {font-family: monospace;font-weight: bold;display: inline-block;line-height: 1.2em;}#sk-container-id-11 div.sk-label-container {text-align: center;}#sk-container-id-11 div.sk-container {/* jupyter's `normalize.less` sets `[hidden] { display: none; }` but bootstrap.min.css set `[hidden] { display: none !important; }` so we also need the `!important` here to be able to override the default hidden behavior on the sphinx rendered scikit-learn.org. See: https://github.com/scikit-learn/scikit-learn/issues/21755 */display: inline-block !important;position: relative;}#sk-container-id-11 div.sk-text-repr-fallback {display: none;}</style><div id=\"sk-container-id-11\" class=\"sk-top-container\"><div class=\"sk-text-repr-fallback\"><pre>DecisionTreeRegressor(max_depth=4)</pre><b>In a Jupyter environment, please rerun this cell to show the HTML representation or trust the notebook. <br />On GitHub, the HTML representation is unable to render, please try loading this page with nbviewer.org.</b></div><div class=\"sk-container\" hidden><div class=\"sk-item\"><div class=\"sk-estimator sk-toggleable\"><input class=\"sk-toggleable__control sk-hidden--visually\" id=\"sk-estimator-id-11\" type=\"checkbox\" checked><label for=\"sk-estimator-id-11\" class=\"sk-toggleable__label sk-toggleable__label-arrow\">DecisionTreeRegressor</label><div class=\"sk-toggleable__content\"><pre>DecisionTreeRegressor(max_depth=4)</pre></div></div></div></div></div>"
            ],
            "text/plain": [
              "DecisionTreeRegressor(max_depth=4)"
            ]
          },
          "execution_count": 74,
          "metadata": {},
          "output_type": "execute_result"
        }
      ],
      "source": [
        "# Defining the model\n",
        "dt_pruned3=DecisionTreeRegressor(max_depth=4)\n",
        "\n",
        "# Fitting the data\n",
        "dt_pruned3.fit(X_train3,y_train3)"
      ]
    },
    {
      "cell_type": "code",
      "execution_count": null,
      "metadata": {
        "colab": {
          "base_uri": "https://localhost:8080/"
        },
        "id": "vDmSAKYbF4bO",
        "outputId": "de13d158-a18e-4741-d69a-7f0f961438e2"
      },
      "outputs": [
        {
          "name": "stdout",
          "output_type": "stream",
          "text": [
            "    Data  RSquared      RMSE       MAE\n",
            "0  Train  0.782259  4.216308  3.142310\n",
            "1   Test  0.707492  4.678412  3.642763\n"
          ]
        }
      ],
      "source": [
        "# Check the performance of the model\n",
        "model_pref(dt_pruned3, X_train3, X_test3,y_train3,y_test3)"
      ]
    },
    {
      "cell_type": "markdown",
      "metadata": {
        "id": "GrYySD2dF4bO"
      },
      "source": [
        "- Model is giving ~0.70 Rsquared, with RSME of 4.6 and MAE of ~3.6.\n",
        "- The model performance has not improved by adding aggregate primitives.\n",
        "- Model is overfitting, and is not giving generalized results."
      ]
    },
    {
      "cell_type": "markdown",
      "metadata": {
        "id": "BZPR8p3_F4bO"
      },
      "source": [
        "> **Building  Random Forest with transform and aggregate primitive.**"
      ]
    },
    {
      "cell_type": "code",
      "execution_count": null,
      "metadata": {
        "colab": {
          "base_uri": "https://localhost:8080/",
          "height": 75
        },
        "id": "5kRkDwShF4bO",
        "outputId": "bab02a5f-ef18-4f98-f30e-5b383a5a2438"
      },
      "outputs": [
        {
          "data": {
            "text/html": [
              "<style>#sk-container-id-12 {color: black;background-color: white;}#sk-container-id-12 pre{padding: 0;}#sk-container-id-12 div.sk-toggleable {background-color: white;}#sk-container-id-12 label.sk-toggleable__label {cursor: pointer;display: block;width: 100%;margin-bottom: 0;padding: 0.3em;box-sizing: border-box;text-align: center;}#sk-container-id-12 label.sk-toggleable__label-arrow:before {content: \"▸\";float: left;margin-right: 0.25em;color: #696969;}#sk-container-id-12 label.sk-toggleable__label-arrow:hover:before {color: black;}#sk-container-id-12 div.sk-estimator:hover label.sk-toggleable__label-arrow:before {color: black;}#sk-container-id-12 div.sk-toggleable__content {max-height: 0;max-width: 0;overflow: hidden;text-align: left;background-color: #f0f8ff;}#sk-container-id-12 div.sk-toggleable__content pre {margin: 0.2em;color: black;border-radius: 0.25em;background-color: #f0f8ff;}#sk-container-id-12 input.sk-toggleable__control:checked~div.sk-toggleable__content {max-height: 200px;max-width: 100%;overflow: auto;}#sk-container-id-12 input.sk-toggleable__control:checked~label.sk-toggleable__label-arrow:before {content: \"▾\";}#sk-container-id-12 div.sk-estimator input.sk-toggleable__control:checked~label.sk-toggleable__label {background-color: #d4ebff;}#sk-container-id-12 div.sk-label input.sk-toggleable__control:checked~label.sk-toggleable__label {background-color: #d4ebff;}#sk-container-id-12 input.sk-hidden--visually {border: 0;clip: rect(1px 1px 1px 1px);clip: rect(1px, 1px, 1px, 1px);height: 1px;margin: -1px;overflow: hidden;padding: 0;position: absolute;width: 1px;}#sk-container-id-12 div.sk-estimator {font-family: monospace;background-color: #f0f8ff;border: 1px dotted black;border-radius: 0.25em;box-sizing: border-box;margin-bottom: 0.5em;}#sk-container-id-12 div.sk-estimator:hover {background-color: #d4ebff;}#sk-container-id-12 div.sk-parallel-item::after {content: \"\";width: 100%;border-bottom: 1px solid gray;flex-grow: 1;}#sk-container-id-12 div.sk-label:hover label.sk-toggleable__label {background-color: #d4ebff;}#sk-container-id-12 div.sk-serial::before {content: \"\";position: absolute;border-left: 1px solid gray;box-sizing: border-box;top: 0;bottom: 0;left: 50%;z-index: 0;}#sk-container-id-12 div.sk-serial {display: flex;flex-direction: column;align-items: center;background-color: white;padding-right: 0.2em;padding-left: 0.2em;position: relative;}#sk-container-id-12 div.sk-item {position: relative;z-index: 1;}#sk-container-id-12 div.sk-parallel {display: flex;align-items: stretch;justify-content: center;background-color: white;position: relative;}#sk-container-id-12 div.sk-item::before, #sk-container-id-12 div.sk-parallel-item::before {content: \"\";position: absolute;border-left: 1px solid gray;box-sizing: border-box;top: 0;bottom: 0;left: 50%;z-index: -1;}#sk-container-id-12 div.sk-parallel-item {display: flex;flex-direction: column;z-index: 1;position: relative;background-color: white;}#sk-container-id-12 div.sk-parallel-item:first-child::after {align-self: flex-end;width: 50%;}#sk-container-id-12 div.sk-parallel-item:last-child::after {align-self: flex-start;width: 50%;}#sk-container-id-12 div.sk-parallel-item:only-child::after {width: 0;}#sk-container-id-12 div.sk-dashed-wrapped {border: 1px dashed gray;margin: 0 0.4em 0.5em 0.4em;box-sizing: border-box;padding-bottom: 0.4em;background-color: white;}#sk-container-id-12 div.sk-label label {font-family: monospace;font-weight: bold;display: inline-block;line-height: 1.2em;}#sk-container-id-12 div.sk-label-container {text-align: center;}#sk-container-id-12 div.sk-container {/* jupyter's `normalize.less` sets `[hidden] { display: none; }` but bootstrap.min.css set `[hidden] { display: none !important; }` so we also need the `!important` here to be able to override the default hidden behavior on the sphinx rendered scikit-learn.org. See: https://github.com/scikit-learn/scikit-learn/issues/21755 */display: inline-block !important;position: relative;}#sk-container-id-12 div.sk-text-repr-fallback {display: none;}</style><div id=\"sk-container-id-12\" class=\"sk-top-container\"><div class=\"sk-text-repr-fallback\"><pre>RandomForestRegressor(max_depth=4, n_estimators=60)</pre><b>In a Jupyter environment, please rerun this cell to show the HTML representation or trust the notebook. <br />On GitHub, the HTML representation is unable to render, please try loading this page with nbviewer.org.</b></div><div class=\"sk-container\" hidden><div class=\"sk-item\"><div class=\"sk-estimator sk-toggleable\"><input class=\"sk-toggleable__control sk-hidden--visually\" id=\"sk-estimator-id-12\" type=\"checkbox\" checked><label for=\"sk-estimator-id-12\" class=\"sk-toggleable__label sk-toggleable__label-arrow\">RandomForestRegressor</label><div class=\"sk-toggleable__content\"><pre>RandomForestRegressor(max_depth=4, n_estimators=60)</pre></div></div></div></div></div>"
            ],
            "text/plain": [
              "RandomForestRegressor(max_depth=4, n_estimators=60)"
            ]
          },
          "execution_count": 76,
          "metadata": {},
          "output_type": "execute_result"
        }
      ],
      "source": [
        "# Defining the model\n",
        "rf3=RandomForestRegressor(n_estimators=60,max_depth=4)\n",
        "\n",
        "# Fitting the data\n",
        "rf3.fit(X_train3,y_train3)"
      ]
    },
    {
      "cell_type": "code",
      "execution_count": null,
      "metadata": {
        "colab": {
          "base_uri": "https://localhost:8080/"
        },
        "id": "lq93r0k6F4bO",
        "outputId": "1a4f47bb-8b8e-4764-a4fd-820a35801e84"
      },
      "outputs": [
        {
          "name": "stdout",
          "output_type": "stream",
          "text": [
            "    Data  RSquared      RMSE       MAE\n",
            "0  Train  0.813266  3.904571  2.906086\n",
            "1   Test  0.746608  4.354381  3.457472\n"
          ]
        }
      ],
      "source": [
        "# Check the performance of the model\n",
        "model_pref(rf3, X_train3, X_test3,y_train3,y_test3)"
      ]
    },
    {
      "cell_type": "markdown",
      "metadata": {
        "id": "6LkhJtVkF4bO"
      },
      "source": [
        "- The model Performance has improved from ~0.73 by the addition of transform and aggregation features."
      ]
    },
    {
      "cell_type": "markdown",
      "metadata": {
        "id": "RrjyZH_4IvcD"
      },
      "source": [
        "- The modeling score has not improved much after adding aggregate transforms, and also the training time was also increased by a significant amount, implies that adding more features is always not very effective."
      ]
    },
    {
      "cell_type": "markdown",
      "source": [
        "### **Model Selection**"
      ],
      "metadata": {
        "id": "wFPFHZZWvmUd"
      }
    },
    {
      "cell_type": "markdown",
      "metadata": {
        "id": "quPu55bgF4bP"
      },
      "source": [
        "**Based on the above 3 models, we can make predictions using our model2, as it is giving almost same accuracy as model3 and also the training time is not that large as compared to model3**"
      ]
    },
    {
      "cell_type": "code",
      "execution_count": null,
      "metadata": {
        "ExecuteTime": {
          "end_time": "2021-07-09T11:23:07.091360Z",
          "start_time": "2021-07-09T11:23:06.179570Z"
        },
        "colab": {
          "base_uri": "https://localhost:8080/"
        },
        "id": "usvAXKwVF4bP",
        "outputId": "c9e61497-a813-498d-b0f3-c85d5bf22762",
        "scrolled": true
      },
      "outputs": [
        {
          "data": {
            "text/plain": [
              "array([1335.20203101,  482.67812667, 1172.85692861,  238.82524987,\n",
              "       1382.84891484,  545.0083657 ,  674.60307763,  499.38394793,\n",
              "       1562.61025505,  456.65608071, 1411.26372528,  249.99608835,\n",
              "       1349.88267282,  428.62196148, 1807.65539475,  229.59015947,\n",
              "       1078.15516894,  953.51343204, 1338.50488367, 1856.79492433,\n",
              "        619.62728507,  608.24336352, 1340.86367619,  835.70201067,\n",
              "        494.4730085 ,  732.45153482,  383.8538443 ,  485.34810139,\n",
              "        490.13576364, 1347.90825309,  267.51782144, 1399.76520848,\n",
              "        489.9470725 ,  658.96837199, 1016.94610604,  917.25324373,\n",
              "       1395.46266731,  658.96837199, 1826.30837487,  625.32467255,\n",
              "        299.39887048,  321.3486856 ,  689.9825231 ,  373.8254807 ,\n",
              "        498.56227082,  669.62595248,  321.3486856 ,  653.62910147,\n",
              "        518.26795727,  484.53805852, 1766.1725767 ,  491.04019217,\n",
              "        899.82140672, 1552.70263118,  181.20463061,  230.34496027,\n",
              "       1465.05109022, 1099.44466303, 1170.91074293,  669.6725916 ,\n",
              "        704.09646199,  501.07366396,  985.26297146, 1413.5515911 ,\n",
              "        391.98110236,  626.44982584,  661.45351266, 1328.45972916,\n",
              "        613.24353417,  370.16176708,  842.26446645, 1125.39774396,\n",
              "        665.37710503,  870.78849138,  753.37154899,  375.9858029 ,\n",
              "       1870.89892026,  547.76725341,  691.44964427, 1248.14841777,\n",
              "       1411.98916203, 1007.33485054,  452.5752279 , 1170.91074293,\n",
              "        892.96106025,  258.34989403,  426.12117743, 1501.15626201,\n",
              "        480.14997771, 1468.10900325,  257.67521452, 1451.78292929,\n",
              "        830.9237578 ,  517.68415103, 1296.17323629,  181.94608796,\n",
              "        683.39410756,  691.33518053, 1800.75706529,  680.09684099,\n",
              "       1463.87154656, 1115.97846991,  671.38054086,  249.99608835,\n",
              "        661.21060603,  737.11935915,  486.09965547, 1408.65270279,\n",
              "        523.8525345 ,  679.74812963,  179.02765125,  454.11995139,\n",
              "       1015.181971  , 1276.82331896,  836.99600281, 1005.59696544,\n",
              "        898.47409592,  326.10229058,  828.86581686,  422.72835599,\n",
              "        619.75628314,  499.16643643,  613.24353417, 1399.30219506,\n",
              "       1340.98831818,  680.20074025, 1086.90899155,  612.57567013,\n",
              "        609.22074392,  713.91187066, 1415.98332909,  251.83805701,\n",
              "       1487.42849572,  657.05629416,  787.06209019,  485.52692636,\n",
              "       1609.46926442, 1798.13306886,  356.91960499,  723.77702442,\n",
              "        692.78153341,  631.40697819,  651.19041173, 1484.07822061,\n",
              "       1374.88496023,  657.88412115,  452.72764115, 1386.53867007,\n",
              "        361.31505349,  639.45332881, 1511.96301417, 1468.38156961,\n",
              "        321.3486856 , 1112.64318336, 1256.49085537,  362.37448428,\n",
              "       1373.198316  , 1422.70467514, 1469.29110334,  665.2244321 ,\n",
              "        388.5919394 , 1609.56939424, 1184.40098748, 1040.08705344,\n",
              "       1430.63300238,  299.39887048,  656.99917043, 1885.01248103,\n",
              "        693.29219123,  457.12702953, 1469.74457384,  625.56696925,\n",
              "        251.83805701, 1348.04573351, 1003.47044598, 1743.03126598,\n",
              "        517.921467  ,  577.62132979,  923.75406719, 1707.0078806 ,\n",
              "        260.91252755,  321.3486856 , 1260.1991225 , 1284.4837055 ,\n",
              "       1052.15606171, 1036.48844224,  498.56227082,  680.10624062,\n",
              "        517.921467  ,  571.20790846, 1366.41312854,  763.87068868,\n",
              "       1021.80418186, 1004.74645358,  662.8997697 , 1560.29436067,\n",
              "        691.70200648, 1358.81193822, 1081.70508111, 2003.42348453,\n",
              "       1318.48621269,  530.35665649, 1273.29148045,  851.99672047,\n",
              "        246.11087257, 1604.08554847,  473.67576007, 1372.02334897,\n",
              "       1179.59644417,  961.40429995, 1155.68757039, 1191.48388091,\n",
              "       1267.83654465, 1930.43266869,  656.94446828,  589.65240646,\n",
              "       1220.98511505,  745.10792532, 1856.22135514, 1002.89461164,\n",
              "       1129.02453406,  552.42669367,  298.19464452,  684.02650802,\n",
              "       1923.8934807 , 1388.45030103,  933.28824011,  992.88361568,\n",
              "       1365.11429299, 1160.46498587,  756.85633801, 1292.79887149,\n",
              "        751.02733753,  299.79910208, 1566.5143094 , 1132.77960222,\n",
              "       1971.88837091,  778.35755309,  438.41464597,  967.35718658,\n",
              "        373.8254807 , 1343.77930619,  632.32509941, 1261.21536383,\n",
              "       1501.52342426, 1249.41848441, 1176.3597097 , 1283.39083775,\n",
              "       1421.23051974,  614.53217273, 1168.61760826,  373.8254807 ,\n",
              "       1113.31131504,  995.06585093, 1023.97119652,  661.15260188,\n",
              "        849.8230429 , 1411.06246404,  354.03296462, 1112.88164921,\n",
              "        604.91335484, 1781.98347329,  234.42342179,  249.99608835,\n",
              "        465.21523342, 1472.50542564,  490.11618682,  832.93751709,\n",
              "        552.69590214,  570.51132729, 1789.75290908,  618.57243227,\n",
              "       1113.61797499, 2155.08977268, 1319.44630734, 1261.21536383,\n",
              "        230.30262645,  664.53243186,  214.78565223, 1172.92454947,\n",
              "       2007.55759279,  900.18651936,  721.61685674, 1504.70431068,\n",
              "        208.11699902,  984.70827258,  681.6914144 , 1758.03330061,\n",
              "        910.99652461, 1035.00860856, 1008.43826983,  785.84114487,\n",
              "        674.58811068, 1352.36242901, 1487.94445175,  476.40125602,\n",
              "        317.44529899,  350.96097048,  763.87068868,  721.18103214,\n",
              "       1351.2018984 ,  606.59585118,  499.38394793,  264.30125904,\n",
              "       1477.15868683,  595.57577051,  679.49544798, 1069.32028359,\n",
              "        401.08408191,  547.44583904,  488.99299639,  362.37448428,\n",
              "        735.52829941, 1459.1410457 ,  651.89118871,  754.66425283,\n",
              "       1797.47059904, 1003.90750826, 1906.72186313,  456.0678024 ,\n",
              "       1059.39801215,  917.38972336, 1269.84975236, 1544.73059729,\n",
              "        786.31959464,  663.8264394 , 1620.50978076, 1328.01806343,\n",
              "        509.120888  ,  982.0133671 ,  342.67571412,  769.17789749,\n",
              "        676.77053214, 1794.14114413,  606.68860868, 1218.29449815,\n",
              "       1645.28990254,  181.20463061,  618.62251083,  237.70595054,\n",
              "        664.8814838 , 1086.00466191,  498.56227082, 1110.34611327,\n",
              "       1058.90816138, 1283.96924918,  613.00467446,  680.90349384,\n",
              "       1010.04628428, 1083.35054359,  411.81724125, 1707.0078806 ,\n",
              "        742.45418989,  827.9522655 ,  180.37566431,  530.35665649,\n",
              "        547.05520754,  465.12637278])"
            ]
          },
          "execution_count": 78,
          "metadata": {},
          "output_type": "execute_result"
        }
      ],
      "source": [
        "# Using the second Random Forest model to predict the target variable\n",
        "y_pred = rf2.predict(X_test2)\n",
        "y_pred = y_pred**2 # Undo the sqrt we took earlier\n",
        "y_pred[5:]"
      ]
    },
    {
      "cell_type": "markdown",
      "metadata": {
        "id": "vyoxbL0QF4bP"
      },
      "source": [
        "- Trip_Distance is the most important feature, which implies that the longer the trip is the longer duration of the trip is.\n",
        "- Features like dropoff_neighborhoods.longitude, pickup_neighborhoods.longitude, dropoff_neighborhoods.latitude,pickup_neighborhoods.latitude signifies that trip duration is impacted by pickup and dropoff locations."
      ]
    },
    {
      "cell_type": "markdown",
      "metadata": {
        "id": "aXb6XooAF4bP"
      },
      "source": [
        "**Looking at the important features based on `model2` and how can they affect the duration of the rides**"
      ]
    },
    {
      "cell_type": "code",
      "execution_count": null,
      "metadata": {
        "ExecuteTime": {
          "end_time": "2021-07-09T11:23:15.953274Z",
          "start_time": "2021-07-09T11:23:15.813531Z"
        },
        "colab": {
          "base_uri": "https://localhost:8080/"
        },
        "id": "sw-NyM6GF4bP",
        "outputId": "8e8e476a-e1bd-45e3-cf01-aae8038d31ea",
        "scrolled": true
      },
      "outputs": [
        {
          "name": "stdout",
          "output_type": "stream",
          "text": [
            "1: Feature: trip_distance, 0.941\n",
            "2: Feature: dropoff_neighborhoods.longitude, 0.018\n",
            "3: Feature: dropoff_neighborhoods.latitude, 0.015\n",
            "4: Feature: pickup_neighborhoods.longitude, 0.015\n",
            "5: Feature: pickup_neighborhoods.latitude, 0.005\n",
            "6: Feature: dropoff_neighborhood = P, 0.001\n",
            "7: Feature: payment_type, 0.001\n",
            "8: Feature: MINUTE(pickup_datetime), 0.001\n",
            "9: Feature: pickup_neighborhood = AD, 0.001\n",
            "10: Feature: dropoff_neighborhood = AT, 0.001\n"
          ]
        }
      ],
      "source": [
        "# Looking at the important features based on the chosen predictive model\n",
        "feature_importances(rf2, feature_matrix2.drop(['trip_duration'],axis=1).columns, n=10)"
      ]
    },
    {
      "cell_type": "markdown",
      "source": [
        "### **Conclusions and Summary**\n",
        "\n",
        "- In this work, a various predictive models were trained on the New York Bus Ride datasets given\n",
        "- For the objectives, the following model building strategies were adopted:\n",
        "  1. Baseline Model\n",
        "  2. Model with Transform Primitives\n",
        "  3. Model with Transform and Aggregate Primitives\n",
        "- For each strategy, feature engineering was carried out using the DFS method to generate feature columns from the given data. Afterwards, the folllowing different Machine Learning Regression Models were implemented:\n",
        "  1. Linear Model\n",
        "  2. Decision Tree\n",
        "  3. Pruned Decision Tree\n",
        "  4. Random Forest\n",
        "- Each model was fitted against the training data and their respective performances were determined.\n",
        "- Comparing said performance, the second random forest model (Random Forest Baseline model with transform primitives) scored the highest and was used to create the final predictive model to predict on the test dataset\n"
      ],
      "metadata": {
        "id": "W_weGPAywF6j"
      }
    }
  ],
  "metadata": {
    "colab": {
      "provenance": []
    },
    "kernelspec": {
      "display_name": "Python 3 (ipykernel)",
      "language": "python",
      "name": "python3"
    },
    "language_info": {
      "codemirror_mode": {
        "name": "ipython",
        "version": 3
      },
      "file_extension": ".py",
      "mimetype": "text/x-python",
      "name": "python",
      "nbconvert_exporter": "python",
      "pygments_lexer": "ipython3",
      "version": "3.9.13"
    },
    "toc": {
      "base_numbering": 1,
      "nav_menu": {},
      "number_sections": true,
      "sideBar": true,
      "skip_h1_title": false,
      "title_cell": "Table of Contents",
      "title_sidebar": "Contents",
      "toc_cell": false,
      "toc_position": {},
      "toc_section_display": true,
      "toc_window_display": false
    },
    "varInspector": {
      "cols": {
        "lenName": 16,
        "lenType": 16,
        "lenVar": 40
      },
      "kernels_config": {
        "python": {
          "delete_cmd_postfix": "",
          "delete_cmd_prefix": "del ",
          "library": "var_list.py",
          "varRefreshCmd": "print(var_dic_list())"
        },
        "r": {
          "delete_cmd_postfix": ") ",
          "delete_cmd_prefix": "rm(",
          "library": "var_list.r",
          "varRefreshCmd": "cat(var_dic_list()) "
        }
      },
      "types_to_exclude": [
        "module",
        "function",
        "builtin_function_or_method",
        "instance",
        "_Feature"
      ],
      "window_display": false
    }
  },
  "nbformat": 4,
  "nbformat_minor": 0
}