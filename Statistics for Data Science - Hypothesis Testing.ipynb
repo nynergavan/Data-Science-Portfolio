{
  "cells": [
    {
      "cell_type": "markdown",
      "source": [
        "<font size =\"8\"> <div align=\"center\">**Inferential Statistics - Hypothesis Testing**</div></font>\n",
        "<font size =\"5\"> <div align=\"center\">By **Jon Nyner Gavan**</div></font>"
      ],
      "metadata": {
        "id": "ECcSyA6ojEEm"
      }
    },
    {
      "cell_type": "markdown",
      "source": [
        "-----\n",
        "# **Context of the Exercise (Hypothesis Testing)**\n",
        "-----\n",
        "\n",
        "<p align = \"justify\">This notebook illustrates different Hypothesis Testing problems using different Statistical Testing methods, and how they are carried out using Python.\n",
        "\n",
        "Specifically, the following topics will be tackled:\n",
        "\n",
        "> ***One Sample T-test for Population Mean $\\mu$***\n",
        "\n",
        "> ***Two Independent Sample Z-test for Equality of Means***\n",
        "\n",
        "> ***Two Independent Sample T-test for Equality of Means - Equal Std Dev***\n",
        "\n",
        "> ***Two Independent Sample T-test for Equality of Means - Unequal Std Dev***\n",
        "\n",
        "> ***One Proportion Z-test***\n",
        "\n",
        "> ***Two Proportion Z-test***\n",
        "\n",
        "> ***Chi-Square Test for Variance***\n",
        "\n",
        "> ***F-test for Equality of Variances***\n",
        "\n",
        "> ***Chi-Square Test for Independence***\n",
        "\n",
        "> ***One-way Anova Test***\n",
        "\n",
        "\n",
        " For each topic, one problem will be presented and solved using python and its pertinent libraries</p>\n",
        "\n",
        "-----\n",
        "## **Objectives of the Exercise**\n",
        "-----\n",
        "<p align = \"justify\"> The main objective of this exercise is to reinforce  understanding on Hypothesis Testing and the different Statistical Tests used in the former, by applying them in various simulated situations.</p>"
      ],
      "metadata": {
        "id": "nxWgQNAIjnQV"
      }
    },
    {
      "cell_type": "markdown",
      "metadata": {
        "id": "Mev65aUY93J9"
      },
      "source": [
        "### **Import the required packages**"
      ]
    },
    {
      "cell_type": "code",
      "execution_count": null,
      "metadata": {
        "id": "n1269wHJF96t"
      },
      "outputs": [],
      "source": [
        "# import the important packages\n",
        "import pandas as pd                 # library used for data manipulation and analysis\n",
        "import numpy as np                  # library used for working with arrays\n",
        "import matplotlib.pyplot as plt     # library for plots and visualizations\n",
        "import seaborn as sns               # library for visualizations\n",
        "%matplotlib inline\n",
        "\n",
        "import scipy.stats as stats  # this library contains a large number of probability distributions as well as a growing library of statistical functions"
      ]
    },
    {
      "cell_type": "code",
      "source": [
        "# Mounting Google Drive to read Datasets\n",
        "from google.colab import drive\n",
        "drive.mount('/content/drive')"
      ],
      "metadata": {
        "colab": {
          "base_uri": "https://localhost:8080/"
        },
        "id": "CjNtA4vMlyEx",
        "outputId": "49ffc55d-3313-4693-d3ac-bf0e44f507fc"
      },
      "execution_count": null,
      "outputs": [
        {
          "output_type": "stream",
          "name": "stdout",
          "text": [
            "Mounted at /content/drive\n"
          ]
        }
      ]
    },
    {
      "cell_type": "markdown",
      "metadata": {
        "id": "54uwRjj0wK0t"
      },
      "source": [
        "### **One Sample T-test for Population Mean**"
      ]
    },
    {
      "cell_type": "markdown",
      "metadata": {
        "id": "9lpoQOzkw9cb"
      },
      "source": [
        "**Problem Statement**\n",
        "<p align = \"justify\">\n",
        "A certain food aggregator ZYX is facing stiff competition from its main rival SWG during the Corona period. To retain business, ZYX is advertising that, within a radius of 5 km from the restaurant where the order is placed, it can still deliver in 40 minutes or less (and the changed condition has not made any impact on them).\n",
        "\n",
        "The delivery times in minutes of 25 randomly selected deliveries are given in a CSV file.\n",
        "\n",
        "Assuming the delivery distribution is approximately normal, *is there enough evidence that ZYX’s claim is false?*</p>"
      ]
    },
    {
      "cell_type": "markdown",
      "metadata": {
        "id": "daSTqeX01t1b"
      },
      "source": [
        "**Writing the null and alternative hypothesis**\n",
        "\n",
        "Let $\\mu$ be the mean delivery time of the ZYX food aggregator.\n",
        "\n",
        "We will test the null hypothesis:\n",
        "\n",
        "> *ZYX can still deliver in 40 mins or less*\n",
        "\n",
        ">$H_0:\\mu = 40$\n",
        "\n",
        "against the alternate hypothesis\n",
        "\n",
        "> *Under the changed conditions, ZYX will take longer than 40 mins to deliver food*\n",
        "\n",
        ">$H_a:\\mu > 40$\n",
        "\n"
      ]
    },
    {
      "cell_type": "markdown",
      "metadata": {
        "id": "JhRo1Ebg2_1H"
      },
      "source": [
        "**Quick look at the sample data**"
      ]
    },
    {
      "cell_type": "code",
      "execution_count": null,
      "metadata": {
        "colab": {
          "base_uri": "https://localhost:8080/",
          "height": 243
        },
        "id": "jbZ2TScA3NNC",
        "outputId": "a67cb889-1018-4e7d-8017-86853ae10a12"
      },
      "outputs": [
        {
          "output_type": "execute_result",
          "data": {
            "text/plain": [
              "   Delivery  Time\n",
              "0         1  39.4\n",
              "1         2  39.5\n",
              "2         3  39.7\n",
              "3         4  40.7\n",
              "4         5  40.4"
            ],
            "text/html": [
              "\n",
              "  <div id=\"df-b9a55891-b098-4efa-a3bc-3e5413b77018\" class=\"colab-df-container\">\n",
              "    <div>\n",
              "<style scoped>\n",
              "    .dataframe tbody tr th:only-of-type {\n",
              "        vertical-align: middle;\n",
              "    }\n",
              "\n",
              "    .dataframe tbody tr th {\n",
              "        vertical-align: top;\n",
              "    }\n",
              "\n",
              "    .dataframe thead th {\n",
              "        text-align: right;\n",
              "    }\n",
              "</style>\n",
              "<table border=\"1\" class=\"dataframe\">\n",
              "  <thead>\n",
              "    <tr style=\"text-align: right;\">\n",
              "      <th></th>\n",
              "      <th>Delivery</th>\n",
              "      <th>Time</th>\n",
              "    </tr>\n",
              "  </thead>\n",
              "  <tbody>\n",
              "    <tr>\n",
              "      <th>0</th>\n",
              "      <td>1</td>\n",
              "      <td>39.4</td>\n",
              "    </tr>\n",
              "    <tr>\n",
              "      <th>1</th>\n",
              "      <td>2</td>\n",
              "      <td>39.5</td>\n",
              "    </tr>\n",
              "    <tr>\n",
              "      <th>2</th>\n",
              "      <td>3</td>\n",
              "      <td>39.7</td>\n",
              "    </tr>\n",
              "    <tr>\n",
              "      <th>3</th>\n",
              "      <td>4</td>\n",
              "      <td>40.7</td>\n",
              "    </tr>\n",
              "    <tr>\n",
              "      <th>4</th>\n",
              "      <td>5</td>\n",
              "      <td>40.4</td>\n",
              "    </tr>\n",
              "  </tbody>\n",
              "</table>\n",
              "</div>\n",
              "    <div class=\"colab-df-buttons\">\n",
              "\n",
              "  <div class=\"colab-df-container\">\n",
              "    <button class=\"colab-df-convert\" onclick=\"convertToInteractive('df-b9a55891-b098-4efa-a3bc-3e5413b77018')\"\n",
              "            title=\"Convert this dataframe to an interactive table.\"\n",
              "            style=\"display:none;\">\n",
              "\n",
              "  <svg xmlns=\"http://www.w3.org/2000/svg\" height=\"24px\" viewBox=\"0 -960 960 960\">\n",
              "    <path d=\"M120-120v-720h720v720H120Zm60-500h600v-160H180v160Zm220 220h160v-160H400v160Zm0 220h160v-160H400v160ZM180-400h160v-160H180v160Zm440 0h160v-160H620v160ZM180-180h160v-160H180v160Zm440 0h160v-160H620v160Z\"/>\n",
              "  </svg>\n",
              "    </button>\n",
              "\n",
              "  <style>\n",
              "    .colab-df-container {\n",
              "      display:flex;\n",
              "      gap: 12px;\n",
              "    }\n",
              "\n",
              "    .colab-df-convert {\n",
              "      background-color: #E8F0FE;\n",
              "      border: none;\n",
              "      border-radius: 50%;\n",
              "      cursor: pointer;\n",
              "      display: none;\n",
              "      fill: #1967D2;\n",
              "      height: 32px;\n",
              "      padding: 0 0 0 0;\n",
              "      width: 32px;\n",
              "    }\n",
              "\n",
              "    .colab-df-convert:hover {\n",
              "      background-color: #E2EBFA;\n",
              "      box-shadow: 0px 1px 2px rgba(60, 64, 67, 0.3), 0px 1px 3px 1px rgba(60, 64, 67, 0.15);\n",
              "      fill: #174EA6;\n",
              "    }\n",
              "\n",
              "    .colab-df-buttons div {\n",
              "      margin-bottom: 4px;\n",
              "    }\n",
              "\n",
              "    [theme=dark] .colab-df-convert {\n",
              "      background-color: #3B4455;\n",
              "      fill: #D2E3FC;\n",
              "    }\n",
              "\n",
              "    [theme=dark] .colab-df-convert:hover {\n",
              "      background-color: #434B5C;\n",
              "      box-shadow: 0px 1px 3px 1px rgba(0, 0, 0, 0.15);\n",
              "      filter: drop-shadow(0px 1px 2px rgba(0, 0, 0, 0.3));\n",
              "      fill: #FFFFFF;\n",
              "    }\n",
              "  </style>\n",
              "\n",
              "    <script>\n",
              "      const buttonEl =\n",
              "        document.querySelector('#df-b9a55891-b098-4efa-a3bc-3e5413b77018 button.colab-df-convert');\n",
              "      buttonEl.style.display =\n",
              "        google.colab.kernel.accessAllowed ? 'block' : 'none';\n",
              "\n",
              "      async function convertToInteractive(key) {\n",
              "        const element = document.querySelector('#df-b9a55891-b098-4efa-a3bc-3e5413b77018');\n",
              "        const dataTable =\n",
              "          await google.colab.kernel.invokeFunction('convertToInteractive',\n",
              "                                                    [key], {});\n",
              "        if (!dataTable) return;\n",
              "\n",
              "        const docLinkHtml = 'Like what you see? Visit the ' +\n",
              "          '<a target=\"_blank\" href=https://colab.research.google.com/notebooks/data_table.ipynb>data table notebook</a>'\n",
              "          + ' to learn more about interactive tables.';\n",
              "        element.innerHTML = '';\n",
              "        dataTable['output_type'] = 'display_data';\n",
              "        await google.colab.output.renderOutput(dataTable, element);\n",
              "        const docLink = document.createElement('div');\n",
              "        docLink.innerHTML = docLinkHtml;\n",
              "        element.appendChild(docLink);\n",
              "      }\n",
              "    </script>\n",
              "  </div>\n",
              "\n",
              "\n",
              "<div id=\"df-d7204d56-bf9f-4fc2-87ac-f5a5fb5d31c6\">\n",
              "  <button class=\"colab-df-quickchart\" onclick=\"quickchart('df-d7204d56-bf9f-4fc2-87ac-f5a5fb5d31c6')\"\n",
              "            title=\"Suggest charts\"\n",
              "            style=\"display:none;\">\n",
              "\n",
              "<svg xmlns=\"http://www.w3.org/2000/svg\" height=\"24px\"viewBox=\"0 0 24 24\"\n",
              "     width=\"24px\">\n",
              "    <g>\n",
              "        <path d=\"M19 3H5c-1.1 0-2 .9-2 2v14c0 1.1.9 2 2 2h14c1.1 0 2-.9 2-2V5c0-1.1-.9-2-2-2zM9 17H7v-7h2v7zm4 0h-2V7h2v10zm4 0h-2v-4h2v4z\"/>\n",
              "    </g>\n",
              "</svg>\n",
              "  </button>\n",
              "\n",
              "<style>\n",
              "  .colab-df-quickchart {\n",
              "      --bg-color: #E8F0FE;\n",
              "      --fill-color: #1967D2;\n",
              "      --hover-bg-color: #E2EBFA;\n",
              "      --hover-fill-color: #174EA6;\n",
              "      --disabled-fill-color: #AAA;\n",
              "      --disabled-bg-color: #DDD;\n",
              "  }\n",
              "\n",
              "  [theme=dark] .colab-df-quickchart {\n",
              "      --bg-color: #3B4455;\n",
              "      --fill-color: #D2E3FC;\n",
              "      --hover-bg-color: #434B5C;\n",
              "      --hover-fill-color: #FFFFFF;\n",
              "      --disabled-bg-color: #3B4455;\n",
              "      --disabled-fill-color: #666;\n",
              "  }\n",
              "\n",
              "  .colab-df-quickchart {\n",
              "    background-color: var(--bg-color);\n",
              "    border: none;\n",
              "    border-radius: 50%;\n",
              "    cursor: pointer;\n",
              "    display: none;\n",
              "    fill: var(--fill-color);\n",
              "    height: 32px;\n",
              "    padding: 0;\n",
              "    width: 32px;\n",
              "  }\n",
              "\n",
              "  .colab-df-quickchart:hover {\n",
              "    background-color: var(--hover-bg-color);\n",
              "    box-shadow: 0 1px 2px rgba(60, 64, 67, 0.3), 0 1px 3px 1px rgba(60, 64, 67, 0.15);\n",
              "    fill: var(--button-hover-fill-color);\n",
              "  }\n",
              "\n",
              "  .colab-df-quickchart-complete:disabled,\n",
              "  .colab-df-quickchart-complete:disabled:hover {\n",
              "    background-color: var(--disabled-bg-color);\n",
              "    fill: var(--disabled-fill-color);\n",
              "    box-shadow: none;\n",
              "  }\n",
              "\n",
              "  .colab-df-spinner {\n",
              "    border: 2px solid var(--fill-color);\n",
              "    border-color: transparent;\n",
              "    border-bottom-color: var(--fill-color);\n",
              "    animation:\n",
              "      spin 1s steps(1) infinite;\n",
              "  }\n",
              "\n",
              "  @keyframes spin {\n",
              "    0% {\n",
              "      border-color: transparent;\n",
              "      border-bottom-color: var(--fill-color);\n",
              "      border-left-color: var(--fill-color);\n",
              "    }\n",
              "    20% {\n",
              "      border-color: transparent;\n",
              "      border-left-color: var(--fill-color);\n",
              "      border-top-color: var(--fill-color);\n",
              "    }\n",
              "    30% {\n",
              "      border-color: transparent;\n",
              "      border-left-color: var(--fill-color);\n",
              "      border-top-color: var(--fill-color);\n",
              "      border-right-color: var(--fill-color);\n",
              "    }\n",
              "    40% {\n",
              "      border-color: transparent;\n",
              "      border-right-color: var(--fill-color);\n",
              "      border-top-color: var(--fill-color);\n",
              "    }\n",
              "    60% {\n",
              "      border-color: transparent;\n",
              "      border-right-color: var(--fill-color);\n",
              "    }\n",
              "    80% {\n",
              "      border-color: transparent;\n",
              "      border-right-color: var(--fill-color);\n",
              "      border-bottom-color: var(--fill-color);\n",
              "    }\n",
              "    90% {\n",
              "      border-color: transparent;\n",
              "      border-bottom-color: var(--fill-color);\n",
              "    }\n",
              "  }\n",
              "</style>\n",
              "\n",
              "  <script>\n",
              "    async function quickchart(key) {\n",
              "      const quickchartButtonEl =\n",
              "        document.querySelector('#' + key + ' button');\n",
              "      quickchartButtonEl.disabled = true;  // To prevent multiple clicks.\n",
              "      quickchartButtonEl.classList.add('colab-df-spinner');\n",
              "      try {\n",
              "        const charts = await google.colab.kernel.invokeFunction(\n",
              "            'suggestCharts', [key], {});\n",
              "      } catch (error) {\n",
              "        console.error('Error during call to suggestCharts:', error);\n",
              "      }\n",
              "      quickchartButtonEl.classList.remove('colab-df-spinner');\n",
              "      quickchartButtonEl.classList.add('colab-df-quickchart-complete');\n",
              "    }\n",
              "    (() => {\n",
              "      let quickchartButtonEl =\n",
              "        document.querySelector('#df-d7204d56-bf9f-4fc2-87ac-f5a5fb5d31c6 button');\n",
              "      quickchartButtonEl.style.display =\n",
              "        google.colab.kernel.accessAllowed ? 'block' : 'none';\n",
              "    })();\n",
              "  </script>\n",
              "</div>\n",
              "\n",
              "    </div>\n",
              "  </div>\n"
            ],
            "application/vnd.google.colaboratory.intrinsic+json": {
              "type": "dataframe",
              "variable_name": "fastfood",
              "summary": "{\n  \"name\": \"fastfood\",\n  \"rows\": 25,\n  \"fields\": [\n    {\n      \"column\": \"Delivery\",\n      \"properties\": {\n        \"dtype\": \"number\",\n        \"std\": 7,\n        \"min\": 1,\n        \"max\": 25,\n        \"num_unique_values\": 25,\n        \"samples\": [\n          9,\n          17,\n          1\n        ],\n        \"semantic_type\": \"\",\n        \"description\": \"\"\n      }\n    },\n    {\n      \"column\": \"Time\",\n      \"properties\": {\n        \"dtype\": \"number\",\n        \"std\": 1.7414840414619563,\n        \"min\": 39.4,\n        \"max\": 45.7,\n        \"num_unique_values\": 24,\n        \"samples\": [\n          40.3,\n          44.2,\n          39.4\n        ],\n        \"semantic_type\": \"\",\n        \"description\": \"\"\n      }\n    }\n  ]\n}"
            }
          },
          "metadata": {},
          "execution_count": 7
        }
      ],
      "source": [
        "# loading the FastFood1 dataset\n",
        "fastfood = pd.read_csv('/content/drive/MyDrive/Classroom/Data Science/MIT Summer School/2 Foundations of Data Science/2 Statistics for Data Science/1 Hypothesis Testing/Dataset 1 FastFood.csv')\n",
        "fastfood.head()"
      ]
    },
    {
      "cell_type": "markdown",
      "metadata": {
        "id": "gZkj8dfp60mY"
      },
      "source": [
        "**Sanity Check:**  If T-test assumptions are satisfied or not\n",
        "\n",
        "* Continuous data\n",
        "> Yes, the delivery time is measured on a continuous scale.\n",
        "\n",
        "*   Normally distributed population and Sample size < 30\n",
        "> Yes, it is assumed that the population is normal and the sample size is 25 which is less than 30.\n",
        "*   Observations are from a simple random sample\n",
        "> Yes, we are informed that the collected sample is a simple random sample.\n",
        "*   Population standard deviation is known\n",
        "> No\n",
        "\n",
        "Hence, We can use a T-test for this problem."
      ]
    },
    {
      "cell_type": "markdown",
      "metadata": {
        "id": "kxeP-6rx7T63"
      },
      "source": [
        "**Finding the p-value**"
      ]
    },
    {
      "cell_type": "code",
      "execution_count": null,
      "metadata": {
        "colab": {
          "base_uri": "https://localhost:8080/"
        },
        "id": "TRmdVyRM7YUz",
        "outputId": "dadb66a5-cf07-41d1-a61d-4e67e4f61dbb"
      },
      "outputs": [
        {
          "output_type": "stream",
          "name": "stdout",
          "text": [
            "The p-value is  1.4822680927543513e-05\n"
          ]
        }
      ],
      "source": [
        "# import the required functions\n",
        "from scipy.stats import ttest_1samp\n",
        "\n",
        "# calculate the test statistic and p-value\n",
        "test_stat, p_value = ttest_1samp(fastfood['Time'], popmean = 40, alternative = 'greater')\n",
        "print('The p-value is ', p_value)"
      ]
    },
    {
      "cell_type": "markdown",
      "metadata": {
        "id": "uGVihRGE8RIq"
      },
      "source": [
        "**Conclusion**\n",
        "<p align = \"justify\">\n",
        "As the p-value is much less than the level of significance, we can reject the null hypothesis.\n",
        "\n",
        "Hence, we do not have enough significance to conclude that the mean delivery time within a 5 km radius is indeed 40 min or less, as claimed by ZYX in their advertisement."
      ]
    },
    {
      "cell_type": "markdown",
      "source": [
        "### **Two Independent Sample Z-test for Equality of Means**"
      ],
      "metadata": {
        "id": "DOzahK1Kpz0u"
      }
    },
    {
      "cell_type": "markdown",
      "metadata": {
        "id": "23LuDgOiv5JU"
      },
      "source": [
        "**Problem Statement**\n",
        "<p align = \"justify\">\n",
        "To compare customer satisfaction levels of two competing media channels, 150 customers of Channel 1 and 300 customers of Channel 2 were randomly selected and were asked to rate their channels on a scale of 1 to 5, with 1 being least satisfied and 5 being most satisfied (The survey results are summarized in a CSV file). Suppose we know that, $\\sigma_1$ = 0.48 and $\\sigma_2$ = 0.49.\n",
        "\n",
        "*Test at a 0.05 level of significance whether the data provide sufficient evidence to conclude that channel 1 has a higher mean satisfaction rating than channel 2*.\n"
      ]
    },
    {
      "cell_type": "markdown",
      "metadata": {
        "id": "FD4tTSL2v5i6"
      },
      "source": [
        "**Writing the null and alternative hypothesis**\n",
        "\n",
        "Let $\\mu_1, \\mu_2$ be the mean customer rating of channel 1 and channel 2 respectively.\n",
        "\n",
        "We will test the null hypothesis\n",
        "\n",
        ">$H_0:\\mu_1=\\mu_2$\n",
        "\n",
        "against the alternate hypothesis\n",
        "\n",
        ">$H_a:\\mu_1>\\mu_2$"
      ]
    },
    {
      "cell_type": "markdown",
      "metadata": {
        "id": "k6SHWGjvqZbE"
      },
      "source": [
        "**Taking a quick look at the sample data**"
      ]
    },
    {
      "cell_type": "code",
      "execution_count": null,
      "metadata": {
        "colab": {
          "base_uri": "https://localhost:8080/",
          "height": 243
        },
        "id": "QQF4Wfwwqgk2",
        "outputId": "fb8ed5bb-16f0-431e-a43b-fda4af84f3ec"
      },
      "outputs": [
        {
          "output_type": "execute_result",
          "data": {
            "text/plain": [
              "   channel1_rating  channel2_rating\n",
              "0              3.5              3.3\n",
              "1              3.7              3.3\n",
              "2              3.0              2.9\n",
              "3              3.8              3.7\n",
              "4              3.3              4.0"
            ],
            "text/html": [
              "\n",
              "  <div id=\"df-78004be2-43a9-44aa-a744-baa1389e5c6f\" class=\"colab-df-container\">\n",
              "    <div>\n",
              "<style scoped>\n",
              "    .dataframe tbody tr th:only-of-type {\n",
              "        vertical-align: middle;\n",
              "    }\n",
              "\n",
              "    .dataframe tbody tr th {\n",
              "        vertical-align: top;\n",
              "    }\n",
              "\n",
              "    .dataframe thead th {\n",
              "        text-align: right;\n",
              "    }\n",
              "</style>\n",
              "<table border=\"1\" class=\"dataframe\">\n",
              "  <thead>\n",
              "    <tr style=\"text-align: right;\">\n",
              "      <th></th>\n",
              "      <th>channel1_rating</th>\n",
              "      <th>channel2_rating</th>\n",
              "    </tr>\n",
              "  </thead>\n",
              "  <tbody>\n",
              "    <tr>\n",
              "      <th>0</th>\n",
              "      <td>3.5</td>\n",
              "      <td>3.3</td>\n",
              "    </tr>\n",
              "    <tr>\n",
              "      <th>1</th>\n",
              "      <td>3.7</td>\n",
              "      <td>3.3</td>\n",
              "    </tr>\n",
              "    <tr>\n",
              "      <th>2</th>\n",
              "      <td>3.0</td>\n",
              "      <td>2.9</td>\n",
              "    </tr>\n",
              "    <tr>\n",
              "      <th>3</th>\n",
              "      <td>3.8</td>\n",
              "      <td>3.7</td>\n",
              "    </tr>\n",
              "    <tr>\n",
              "      <th>4</th>\n",
              "      <td>3.3</td>\n",
              "      <td>4.0</td>\n",
              "    </tr>\n",
              "  </tbody>\n",
              "</table>\n",
              "</div>\n",
              "    <div class=\"colab-df-buttons\">\n",
              "\n",
              "  <div class=\"colab-df-container\">\n",
              "    <button class=\"colab-df-convert\" onclick=\"convertToInteractive('df-78004be2-43a9-44aa-a744-baa1389e5c6f')\"\n",
              "            title=\"Convert this dataframe to an interactive table.\"\n",
              "            style=\"display:none;\">\n",
              "\n",
              "  <svg xmlns=\"http://www.w3.org/2000/svg\" height=\"24px\" viewBox=\"0 -960 960 960\">\n",
              "    <path d=\"M120-120v-720h720v720H120Zm60-500h600v-160H180v160Zm220 220h160v-160H400v160Zm0 220h160v-160H400v160ZM180-400h160v-160H180v160Zm440 0h160v-160H620v160ZM180-180h160v-160H180v160Zm440 0h160v-160H620v160Z\"/>\n",
              "  </svg>\n",
              "    </button>\n",
              "\n",
              "  <style>\n",
              "    .colab-df-container {\n",
              "      display:flex;\n",
              "      gap: 12px;\n",
              "    }\n",
              "\n",
              "    .colab-df-convert {\n",
              "      background-color: #E8F0FE;\n",
              "      border: none;\n",
              "      border-radius: 50%;\n",
              "      cursor: pointer;\n",
              "      display: none;\n",
              "      fill: #1967D2;\n",
              "      height: 32px;\n",
              "      padding: 0 0 0 0;\n",
              "      width: 32px;\n",
              "    }\n",
              "\n",
              "    .colab-df-convert:hover {\n",
              "      background-color: #E2EBFA;\n",
              "      box-shadow: 0px 1px 2px rgba(60, 64, 67, 0.3), 0px 1px 3px 1px rgba(60, 64, 67, 0.15);\n",
              "      fill: #174EA6;\n",
              "    }\n",
              "\n",
              "    .colab-df-buttons div {\n",
              "      margin-bottom: 4px;\n",
              "    }\n",
              "\n",
              "    [theme=dark] .colab-df-convert {\n",
              "      background-color: #3B4455;\n",
              "      fill: #D2E3FC;\n",
              "    }\n",
              "\n",
              "    [theme=dark] .colab-df-convert:hover {\n",
              "      background-color: #434B5C;\n",
              "      box-shadow: 0px 1px 3px 1px rgba(0, 0, 0, 0.15);\n",
              "      filter: drop-shadow(0px 1px 2px rgba(0, 0, 0, 0.3));\n",
              "      fill: #FFFFFF;\n",
              "    }\n",
              "  </style>\n",
              "\n",
              "    <script>\n",
              "      const buttonEl =\n",
              "        document.querySelector('#df-78004be2-43a9-44aa-a744-baa1389e5c6f button.colab-df-convert');\n",
              "      buttonEl.style.display =\n",
              "        google.colab.kernel.accessAllowed ? 'block' : 'none';\n",
              "\n",
              "      async function convertToInteractive(key) {\n",
              "        const element = document.querySelector('#df-78004be2-43a9-44aa-a744-baa1389e5c6f');\n",
              "        const dataTable =\n",
              "          await google.colab.kernel.invokeFunction('convertToInteractive',\n",
              "                                                    [key], {});\n",
              "        if (!dataTable) return;\n",
              "\n",
              "        const docLinkHtml = 'Like what you see? Visit the ' +\n",
              "          '<a target=\"_blank\" href=https://colab.research.google.com/notebooks/data_table.ipynb>data table notebook</a>'\n",
              "          + ' to learn more about interactive tables.';\n",
              "        element.innerHTML = '';\n",
              "        dataTable['output_type'] = 'display_data';\n",
              "        await google.colab.output.renderOutput(dataTable, element);\n",
              "        const docLink = document.createElement('div');\n",
              "        docLink.innerHTML = docLinkHtml;\n",
              "        element.appendChild(docLink);\n",
              "      }\n",
              "    </script>\n",
              "  </div>\n",
              "\n",
              "\n",
              "<div id=\"df-03108636-0eb7-446a-a8e0-b406f2fd4751\">\n",
              "  <button class=\"colab-df-quickchart\" onclick=\"quickchart('df-03108636-0eb7-446a-a8e0-b406f2fd4751')\"\n",
              "            title=\"Suggest charts\"\n",
              "            style=\"display:none;\">\n",
              "\n",
              "<svg xmlns=\"http://www.w3.org/2000/svg\" height=\"24px\"viewBox=\"0 0 24 24\"\n",
              "     width=\"24px\">\n",
              "    <g>\n",
              "        <path d=\"M19 3H5c-1.1 0-2 .9-2 2v14c0 1.1.9 2 2 2h14c1.1 0 2-.9 2-2V5c0-1.1-.9-2-2-2zM9 17H7v-7h2v7zm4 0h-2V7h2v10zm4 0h-2v-4h2v4z\"/>\n",
              "    </g>\n",
              "</svg>\n",
              "  </button>\n",
              "\n",
              "<style>\n",
              "  .colab-df-quickchart {\n",
              "      --bg-color: #E8F0FE;\n",
              "      --fill-color: #1967D2;\n",
              "      --hover-bg-color: #E2EBFA;\n",
              "      --hover-fill-color: #174EA6;\n",
              "      --disabled-fill-color: #AAA;\n",
              "      --disabled-bg-color: #DDD;\n",
              "  }\n",
              "\n",
              "  [theme=dark] .colab-df-quickchart {\n",
              "      --bg-color: #3B4455;\n",
              "      --fill-color: #D2E3FC;\n",
              "      --hover-bg-color: #434B5C;\n",
              "      --hover-fill-color: #FFFFFF;\n",
              "      --disabled-bg-color: #3B4455;\n",
              "      --disabled-fill-color: #666;\n",
              "  }\n",
              "\n",
              "  .colab-df-quickchart {\n",
              "    background-color: var(--bg-color);\n",
              "    border: none;\n",
              "    border-radius: 50%;\n",
              "    cursor: pointer;\n",
              "    display: none;\n",
              "    fill: var(--fill-color);\n",
              "    height: 32px;\n",
              "    padding: 0;\n",
              "    width: 32px;\n",
              "  }\n",
              "\n",
              "  .colab-df-quickchart:hover {\n",
              "    background-color: var(--hover-bg-color);\n",
              "    box-shadow: 0 1px 2px rgba(60, 64, 67, 0.3), 0 1px 3px 1px rgba(60, 64, 67, 0.15);\n",
              "    fill: var(--button-hover-fill-color);\n",
              "  }\n",
              "\n",
              "  .colab-df-quickchart-complete:disabled,\n",
              "  .colab-df-quickchart-complete:disabled:hover {\n",
              "    background-color: var(--disabled-bg-color);\n",
              "    fill: var(--disabled-fill-color);\n",
              "    box-shadow: none;\n",
              "  }\n",
              "\n",
              "  .colab-df-spinner {\n",
              "    border: 2px solid var(--fill-color);\n",
              "    border-color: transparent;\n",
              "    border-bottom-color: var(--fill-color);\n",
              "    animation:\n",
              "      spin 1s steps(1) infinite;\n",
              "  }\n",
              "\n",
              "  @keyframes spin {\n",
              "    0% {\n",
              "      border-color: transparent;\n",
              "      border-bottom-color: var(--fill-color);\n",
              "      border-left-color: var(--fill-color);\n",
              "    }\n",
              "    20% {\n",
              "      border-color: transparent;\n",
              "      border-left-color: var(--fill-color);\n",
              "      border-top-color: var(--fill-color);\n",
              "    }\n",
              "    30% {\n",
              "      border-color: transparent;\n",
              "      border-left-color: var(--fill-color);\n",
              "      border-top-color: var(--fill-color);\n",
              "      border-right-color: var(--fill-color);\n",
              "    }\n",
              "    40% {\n",
              "      border-color: transparent;\n",
              "      border-right-color: var(--fill-color);\n",
              "      border-top-color: var(--fill-color);\n",
              "    }\n",
              "    60% {\n",
              "      border-color: transparent;\n",
              "      border-right-color: var(--fill-color);\n",
              "    }\n",
              "    80% {\n",
              "      border-color: transparent;\n",
              "      border-right-color: var(--fill-color);\n",
              "      border-bottom-color: var(--fill-color);\n",
              "    }\n",
              "    90% {\n",
              "      border-color: transparent;\n",
              "      border-bottom-color: var(--fill-color);\n",
              "    }\n",
              "  }\n",
              "</style>\n",
              "\n",
              "  <script>\n",
              "    async function quickchart(key) {\n",
              "      const quickchartButtonEl =\n",
              "        document.querySelector('#' + key + ' button');\n",
              "      quickchartButtonEl.disabled = true;  // To prevent multiple clicks.\n",
              "      quickchartButtonEl.classList.add('colab-df-spinner');\n",
              "      try {\n",
              "        const charts = await google.colab.kernel.invokeFunction(\n",
              "            'suggestCharts', [key], {});\n",
              "      } catch (error) {\n",
              "        console.error('Error during call to suggestCharts:', error);\n",
              "      }\n",
              "      quickchartButtonEl.classList.remove('colab-df-spinner');\n",
              "      quickchartButtonEl.classList.add('colab-df-quickchart-complete');\n",
              "    }\n",
              "    (() => {\n",
              "      let quickchartButtonEl =\n",
              "        document.querySelector('#df-03108636-0eb7-446a-a8e0-b406f2fd4751 button');\n",
              "      quickchartButtonEl.style.display =\n",
              "        google.colab.kernel.accessAllowed ? 'block' : 'none';\n",
              "    })();\n",
              "  </script>\n",
              "</div>\n",
              "\n",
              "    </div>\n",
              "  </div>\n"
            ],
            "application/vnd.google.colaboratory.intrinsic+json": {
              "type": "dataframe",
              "variable_name": "rating",
              "summary": "{\n  \"name\": \"rating\",\n  \"rows\": 300,\n  \"fields\": [\n    {\n      \"column\": \"channel1_rating\",\n      \"properties\": {\n        \"dtype\": \"number\",\n        \"std\": 0.48301995549347837,\n        \"min\": 2.3,\n        \"max\": 4.7,\n        \"num_unique_values\": 24,\n        \"samples\": [\n          4.3,\n          3.4,\n          3.5\n        ],\n        \"semantic_type\": \"\",\n        \"description\": \"\"\n      }\n    },\n    {\n      \"column\": \"channel2_rating\",\n      \"properties\": {\n        \"dtype\": \"number\",\n        \"std\": 0.4847759196862937,\n        \"min\": 2.0,\n        \"max\": 4.6,\n        \"num_unique_values\": 26,\n        \"samples\": [\n          2.7,\n          2.2,\n          3.3\n        ],\n        \"semantic_type\": \"\",\n        \"description\": \"\"\n      }\n    }\n  ]\n}"
            }
          },
          "metadata": {},
          "execution_count": 6
        }
      ],
      "source": [
        "# reading the Dataset\n",
        "rating = pd.read_csv('/content/drive/MyDrive/Classroom/Data Science/MIT Summer School/2 Foundations of Data Science/2 Statistics for Data Science/1 Hypothesis Testing/Dataset 2 Rating.csv')\n",
        "rating.head()"
      ]
    },
    {
      "cell_type": "code",
      "execution_count": null,
      "metadata": {
        "colab": {
          "base_uri": "https://localhost:8080/"
        },
        "id": "6TKSnS1-r0yk",
        "outputId": "509b1d69-f728-43be-d165-97ef22e58ef4",
        "scrolled": true
      },
      "outputs": [
        {
          "output_type": "stream",
          "name": "stdout",
          "text": [
            "The mean rating for channel 1 is 3.5\n",
            "The mean rating for channel 2 is 3.2\n"
          ]
        }
      ],
      "source": [
        "# find the sample means and sample standard deviations for the two samples\n",
        "print('The mean rating for channel 1 is ' + str(round(rating['channel1_rating'].mean(), 1)))\n",
        "print('The mean rating for channel 2 is ' + str(round(rating['channel2_rating'].mean(), 1)))"
      ]
    },
    {
      "cell_type": "markdown",
      "metadata": {
        "id": "On9IY1NDv5yJ"
      },
      "source": [
        "**Sanity Check:**  If Z-test assumptions are satisfied or not\n",
        "\n",
        "<p align = \"justify\">\n",
        "\n",
        "* Continuous data\n",
        "> The ratings are measured on a continuous scale.\n",
        "* Normally distributed populations or Sample sizes > 30\n",
        "> Since the sample sizes are greater than 30, Central Limit Theorem states that the distribution of sample means will be normal.\n",
        "* Independent populations\n",
        "> As we are taking samples for two different channels, the two samples are from two independent populations.\n",
        "* Known population standard deviations $\\sigma_1$ and $\\sigma_2$ -\n",
        "> Yes, we know the population standard deviations of both populations.\n",
        "* Random sampling from the population\n",
        "> Yes, we are informed that the collected sample is a simple random sample.\n",
        "\n",
        "From these, we can use a two-sample Z-test for this problem."
      ]
    },
    {
      "cell_type": "markdown",
      "metadata": {
        "id": "xPyf-mDIqqTk"
      },
      "source": [
        "**Calculating the the p-value**"
      ]
    },
    {
      "cell_type": "code",
      "execution_count": null,
      "metadata": {
        "id": "d9A5SND093KE"
      },
      "outputs": [],
      "source": [
        "# user-defined function to compare the equality of two means from two independent populations, where population standard deviations are known\n",
        "# this function returns the p-value for one-tailed test\n",
        "# for two-tailed test, multiply the p-value by 2\n",
        "\n",
        "def ztest_2samp(X1, X2, pop_sd1, pop_sd2, n1, n2):\n",
        "    '''\n",
        "    X1 - first of the two independent samples (sample 1)\n",
        "    X2 - second of the two independent samples (sample 2)\n",
        "    pop_sd1 - Population standard deviation of sample 1\n",
        "    pop_sd2 - Population standard deviation of sample 2\n",
        "    n1 - the size of sample 1\n",
        "    n2 - the size of sample 2\n",
        "    '''\n",
        "    from numpy import sqrt, abs\n",
        "    from scipy.stats import norm\n",
        "    se = sqrt(pop_sd1**2/n1 + pop_sd2**2/n2)\n",
        "    test_stat = ((X1.mean() - X2.mean()) - 0)/ se\n",
        "    pval = 1 - norm.cdf(abs(test_stat))\n",
        "    return pval"
      ]
    },
    {
      "cell_type": "code",
      "execution_count": null,
      "metadata": {
        "colab": {
          "base_uri": "https://localhost:8080/"
        },
        "id": "a_KDzzbLrXc6",
        "outputId": "3ec23b90-b757-480c-d450-be7c0e6e3eec"
      },
      "outputs": [
        {
          "output_type": "stream",
          "name": "stdout",
          "text": [
            "The P-value is 5.87973714161194e-09\n"
          ]
        }
      ],
      "source": [
        "# find the p-value\n",
        "p_value = ztest_2samp(rating['channel1_rating'].dropna(), rating['channel2_rating'], 0.48, 0.49, 150 ,300)\n",
        "print('The P-value is', p_value)"
      ]
    },
    {
      "cell_type": "markdown",
      "metadata": {
        "id": "6YUHgI3hxjrC"
      },
      "source": [
        "**Conclusion**\n",
        "\n",
        "As the p-value is much less than the level of significance of 0.05, we reject the null hypothesis.\n",
        "\n",
        "Thus, we have enough statistical evidence to tell that channel 1 has a higher mean satisfaction rating than channel 2."
      ]
    },
    {
      "cell_type": "markdown",
      "metadata": {
        "id": "gE3YTnBx54pI"
      },
      "source": [
        "### **Two Independent Sample T-test for Equality of Means - Equal Std Dev**"
      ]
    },
    {
      "cell_type": "markdown",
      "metadata": {
        "id": "2VX0ny4f6a_B"
      },
      "source": [
        "**Problem Statement**\n",
        "\n",
        "<p align = \"justify\">\n",
        "During the lockdown period, because of working from home and increased screen time, many opted for listening to FM Radio for entertainment rather than watching Cable TV. An advertisement agency randomly collected daily usage time data (in minutes) from both types of users and stored it in a CSV file.\n",
        "\n",
        "<p align = \"justify\">\n",
        "<i>Assuming daily Radio and TV usage time are normally distributed, do we have enough evidence to conclude that there is any difference between daily TV and Radio usage time at a 0.05 significance level? </i></p>\n"
      ]
    },
    {
      "cell_type": "markdown",
      "metadata": {
        "id": "QQI62wCl9JEB"
      },
      "source": [
        "**Writing the null hypothesis and alternative hypothesis**\n",
        "\n",
        "Let $\\mu_1, \\mu_2$ be the daily mean Radio usage time and TV usage time respectively.\n",
        "\n",
        "We will test the null hypothesis\n",
        "\n",
        ">$H_0:\\mu_1=\\mu_2$\n",
        "\n",
        "against the alternate hypothesis\n",
        "\n",
        ">$H_a:\\mu_1\\neq\\mu_2$\n",
        "\n"
      ]
    },
    {
      "cell_type": "markdown",
      "metadata": {
        "id": "Bq06ETuCYEey"
      },
      "source": [
        "**Taking a quick look at the sample data**"
      ]
    },
    {
      "cell_type": "code",
      "execution_count": null,
      "metadata": {
        "colab": {
          "base_uri": "https://localhost:8080/",
          "height": 243
        },
        "id": "v63O6W_byo2Z",
        "outputId": "47ccb214-9107-46dc-bcbb-06ae59c914ab"
      },
      "outputs": [
        {
          "output_type": "execute_result",
          "data": {
            "text/plain": [
              "   Cable_TV  FM_Radio\n",
              "0        22        25\n",
              "1         8        10\n",
              "2        25        29\n",
              "3        22        19\n",
              "4        12        13"
            ],
            "text/html": [
              "\n",
              "  <div id=\"df-b6ae4705-1861-4fe3-88bc-17b65c5c9f01\" class=\"colab-df-container\">\n",
              "    <div>\n",
              "<style scoped>\n",
              "    .dataframe tbody tr th:only-of-type {\n",
              "        vertical-align: middle;\n",
              "    }\n",
              "\n",
              "    .dataframe tbody tr th {\n",
              "        vertical-align: top;\n",
              "    }\n",
              "\n",
              "    .dataframe thead th {\n",
              "        text-align: right;\n",
              "    }\n",
              "</style>\n",
              "<table border=\"1\" class=\"dataframe\">\n",
              "  <thead>\n",
              "    <tr style=\"text-align: right;\">\n",
              "      <th></th>\n",
              "      <th>Cable_TV</th>\n",
              "      <th>FM_Radio</th>\n",
              "    </tr>\n",
              "  </thead>\n",
              "  <tbody>\n",
              "    <tr>\n",
              "      <th>0</th>\n",
              "      <td>22</td>\n",
              "      <td>25</td>\n",
              "    </tr>\n",
              "    <tr>\n",
              "      <th>1</th>\n",
              "      <td>8</td>\n",
              "      <td>10</td>\n",
              "    </tr>\n",
              "    <tr>\n",
              "      <th>2</th>\n",
              "      <td>25</td>\n",
              "      <td>29</td>\n",
              "    </tr>\n",
              "    <tr>\n",
              "      <th>3</th>\n",
              "      <td>22</td>\n",
              "      <td>19</td>\n",
              "    </tr>\n",
              "    <tr>\n",
              "      <th>4</th>\n",
              "      <td>12</td>\n",
              "      <td>13</td>\n",
              "    </tr>\n",
              "  </tbody>\n",
              "</table>\n",
              "</div>\n",
              "    <div class=\"colab-df-buttons\">\n",
              "\n",
              "  <div class=\"colab-df-container\">\n",
              "    <button class=\"colab-df-convert\" onclick=\"convertToInteractive('df-b6ae4705-1861-4fe3-88bc-17b65c5c9f01')\"\n",
              "            title=\"Convert this dataframe to an interactive table.\"\n",
              "            style=\"display:none;\">\n",
              "\n",
              "  <svg xmlns=\"http://www.w3.org/2000/svg\" height=\"24px\" viewBox=\"0 -960 960 960\">\n",
              "    <path d=\"M120-120v-720h720v720H120Zm60-500h600v-160H180v160Zm220 220h160v-160H400v160Zm0 220h160v-160H400v160ZM180-400h160v-160H180v160Zm440 0h160v-160H620v160ZM180-180h160v-160H180v160Zm440 0h160v-160H620v160Z\"/>\n",
              "  </svg>\n",
              "    </button>\n",
              "\n",
              "  <style>\n",
              "    .colab-df-container {\n",
              "      display:flex;\n",
              "      gap: 12px;\n",
              "    }\n",
              "\n",
              "    .colab-df-convert {\n",
              "      background-color: #E8F0FE;\n",
              "      border: none;\n",
              "      border-radius: 50%;\n",
              "      cursor: pointer;\n",
              "      display: none;\n",
              "      fill: #1967D2;\n",
              "      height: 32px;\n",
              "      padding: 0 0 0 0;\n",
              "      width: 32px;\n",
              "    }\n",
              "\n",
              "    .colab-df-convert:hover {\n",
              "      background-color: #E2EBFA;\n",
              "      box-shadow: 0px 1px 2px rgba(60, 64, 67, 0.3), 0px 1px 3px 1px rgba(60, 64, 67, 0.15);\n",
              "      fill: #174EA6;\n",
              "    }\n",
              "\n",
              "    .colab-df-buttons div {\n",
              "      margin-bottom: 4px;\n",
              "    }\n",
              "\n",
              "    [theme=dark] .colab-df-convert {\n",
              "      background-color: #3B4455;\n",
              "      fill: #D2E3FC;\n",
              "    }\n",
              "\n",
              "    [theme=dark] .colab-df-convert:hover {\n",
              "      background-color: #434B5C;\n",
              "      box-shadow: 0px 1px 3px 1px rgba(0, 0, 0, 0.15);\n",
              "      filter: drop-shadow(0px 1px 2px rgba(0, 0, 0, 0.3));\n",
              "      fill: #FFFFFF;\n",
              "    }\n",
              "  </style>\n",
              "\n",
              "    <script>\n",
              "      const buttonEl =\n",
              "        document.querySelector('#df-b6ae4705-1861-4fe3-88bc-17b65c5c9f01 button.colab-df-convert');\n",
              "      buttonEl.style.display =\n",
              "        google.colab.kernel.accessAllowed ? 'block' : 'none';\n",
              "\n",
              "      async function convertToInteractive(key) {\n",
              "        const element = document.querySelector('#df-b6ae4705-1861-4fe3-88bc-17b65c5c9f01');\n",
              "        const dataTable =\n",
              "          await google.colab.kernel.invokeFunction('convertToInteractive',\n",
              "                                                    [key], {});\n",
              "        if (!dataTable) return;\n",
              "\n",
              "        const docLinkHtml = 'Like what you see? Visit the ' +\n",
              "          '<a target=\"_blank\" href=https://colab.research.google.com/notebooks/data_table.ipynb>data table notebook</a>'\n",
              "          + ' to learn more about interactive tables.';\n",
              "        element.innerHTML = '';\n",
              "        dataTable['output_type'] = 'display_data';\n",
              "        await google.colab.output.renderOutput(dataTable, element);\n",
              "        const docLink = document.createElement('div');\n",
              "        docLink.innerHTML = docLinkHtml;\n",
              "        element.appendChild(docLink);\n",
              "      }\n",
              "    </script>\n",
              "  </div>\n",
              "\n",
              "\n",
              "<div id=\"df-ab3ff190-2f74-4591-89e0-af4d1bdec4e9\">\n",
              "  <button class=\"colab-df-quickchart\" onclick=\"quickchart('df-ab3ff190-2f74-4591-89e0-af4d1bdec4e9')\"\n",
              "            title=\"Suggest charts\"\n",
              "            style=\"display:none;\">\n",
              "\n",
              "<svg xmlns=\"http://www.w3.org/2000/svg\" height=\"24px\"viewBox=\"0 0 24 24\"\n",
              "     width=\"24px\">\n",
              "    <g>\n",
              "        <path d=\"M19 3H5c-1.1 0-2 .9-2 2v14c0 1.1.9 2 2 2h14c1.1 0 2-.9 2-2V5c0-1.1-.9-2-2-2zM9 17H7v-7h2v7zm4 0h-2V7h2v10zm4 0h-2v-4h2v4z\"/>\n",
              "    </g>\n",
              "</svg>\n",
              "  </button>\n",
              "\n",
              "<style>\n",
              "  .colab-df-quickchart {\n",
              "      --bg-color: #E8F0FE;\n",
              "      --fill-color: #1967D2;\n",
              "      --hover-bg-color: #E2EBFA;\n",
              "      --hover-fill-color: #174EA6;\n",
              "      --disabled-fill-color: #AAA;\n",
              "      --disabled-bg-color: #DDD;\n",
              "  }\n",
              "\n",
              "  [theme=dark] .colab-df-quickchart {\n",
              "      --bg-color: #3B4455;\n",
              "      --fill-color: #D2E3FC;\n",
              "      --hover-bg-color: #434B5C;\n",
              "      --hover-fill-color: #FFFFFF;\n",
              "      --disabled-bg-color: #3B4455;\n",
              "      --disabled-fill-color: #666;\n",
              "  }\n",
              "\n",
              "  .colab-df-quickchart {\n",
              "    background-color: var(--bg-color);\n",
              "    border: none;\n",
              "    border-radius: 50%;\n",
              "    cursor: pointer;\n",
              "    display: none;\n",
              "    fill: var(--fill-color);\n",
              "    height: 32px;\n",
              "    padding: 0;\n",
              "    width: 32px;\n",
              "  }\n",
              "\n",
              "  .colab-df-quickchart:hover {\n",
              "    background-color: var(--hover-bg-color);\n",
              "    box-shadow: 0 1px 2px rgba(60, 64, 67, 0.3), 0 1px 3px 1px rgba(60, 64, 67, 0.15);\n",
              "    fill: var(--button-hover-fill-color);\n",
              "  }\n",
              "\n",
              "  .colab-df-quickchart-complete:disabled,\n",
              "  .colab-df-quickchart-complete:disabled:hover {\n",
              "    background-color: var(--disabled-bg-color);\n",
              "    fill: var(--disabled-fill-color);\n",
              "    box-shadow: none;\n",
              "  }\n",
              "\n",
              "  .colab-df-spinner {\n",
              "    border: 2px solid var(--fill-color);\n",
              "    border-color: transparent;\n",
              "    border-bottom-color: var(--fill-color);\n",
              "    animation:\n",
              "      spin 1s steps(1) infinite;\n",
              "  }\n",
              "\n",
              "  @keyframes spin {\n",
              "    0% {\n",
              "      border-color: transparent;\n",
              "      border-bottom-color: var(--fill-color);\n",
              "      border-left-color: var(--fill-color);\n",
              "    }\n",
              "    20% {\n",
              "      border-color: transparent;\n",
              "      border-left-color: var(--fill-color);\n",
              "      border-top-color: var(--fill-color);\n",
              "    }\n",
              "    30% {\n",
              "      border-color: transparent;\n",
              "      border-left-color: var(--fill-color);\n",
              "      border-top-color: var(--fill-color);\n",
              "      border-right-color: var(--fill-color);\n",
              "    }\n",
              "    40% {\n",
              "      border-color: transparent;\n",
              "      border-right-color: var(--fill-color);\n",
              "      border-top-color: var(--fill-color);\n",
              "    }\n",
              "    60% {\n",
              "      border-color: transparent;\n",
              "      border-right-color: var(--fill-color);\n",
              "    }\n",
              "    80% {\n",
              "      border-color: transparent;\n",
              "      border-right-color: var(--fill-color);\n",
              "      border-bottom-color: var(--fill-color);\n",
              "    }\n",
              "    90% {\n",
              "      border-color: transparent;\n",
              "      border-bottom-color: var(--fill-color);\n",
              "    }\n",
              "  }\n",
              "</style>\n",
              "\n",
              "  <script>\n",
              "    async function quickchart(key) {\n",
              "      const quickchartButtonEl =\n",
              "        document.querySelector('#' + key + ' button');\n",
              "      quickchartButtonEl.disabled = true;  // To prevent multiple clicks.\n",
              "      quickchartButtonEl.classList.add('colab-df-spinner');\n",
              "      try {\n",
              "        const charts = await google.colab.kernel.invokeFunction(\n",
              "            'suggestCharts', [key], {});\n",
              "      } catch (error) {\n",
              "        console.error('Error during call to suggestCharts:', error);\n",
              "      }\n",
              "      quickchartButtonEl.classList.remove('colab-df-spinner');\n",
              "      quickchartButtonEl.classList.add('colab-df-quickchart-complete');\n",
              "    }\n",
              "    (() => {\n",
              "      let quickchartButtonEl =\n",
              "        document.querySelector('#df-ab3ff190-2f74-4591-89e0-af4d1bdec4e9 button');\n",
              "      quickchartButtonEl.style.display =\n",
              "        google.colab.kernel.accessAllowed ? 'block' : 'none';\n",
              "    })();\n",
              "  </script>\n",
              "</div>\n",
              "\n",
              "    </div>\n",
              "  </div>\n"
            ],
            "application/vnd.google.colaboratory.intrinsic+json": {
              "type": "dataframe",
              "variable_name": "tvradio",
              "summary": "{\n  \"name\": \"tvradio\",\n  \"rows\": 15,\n  \"fields\": [\n    {\n      \"column\": \"Cable_TV\",\n      \"properties\": {\n        \"dtype\": \"number\",\n        \"std\": 5,\n        \"min\": 8,\n        \"max\": 26,\n        \"num_unique_values\": 11,\n        \"samples\": [\n          19,\n          22,\n          16\n        ],\n        \"semantic_type\": \"\",\n        \"description\": \"\"\n      }\n    },\n    {\n      \"column\": \"FM_Radio\",\n      \"properties\": {\n        \"dtype\": \"number\",\n        \"std\": 5,\n        \"min\": 10,\n        \"max\": 29,\n        \"num_unique_values\": 11,\n        \"samples\": [\n          28,\n          25,\n          18\n        ],\n        \"semantic_type\": \"\",\n        \"description\": \"\"\n      }\n    }\n  ]\n}"
            }
          },
          "metadata": {},
          "execution_count": 11
        }
      ],
      "source": [
        "# Loading the Dataset from google drive\n",
        "tvradio = pd.read_csv('/content/drive/MyDrive/Classroom/Data Science/MIT Summer School/2 Foundations of Data Science/2 Statistics for Data Science/1 Hypothesis Testing/Dataset 3 TVRadio.csv')\n",
        "tvradio.head()"
      ]
    },
    {
      "cell_type": "code",
      "execution_count": null,
      "metadata": {
        "colab": {
          "base_uri": "https://localhost:8080/"
        },
        "id": "aJjplEcBXvnQ",
        "outputId": "7c094f07-0779-4009-a029-216a300a9b67"
      },
      "outputs": [
        {
          "output_type": "stream",
          "name": "stdout",
          "text": [
            "The mean usage time of cable TV is 18.8\n",
            "The mean usage time of FM radio is 20.0\n",
            "The standard deviation of usage time of cable TV is 5.41\n",
            "The standard deviation of usage time of FM radio is 5.42\n"
          ]
        }
      ],
      "source": [
        "# find the sample means and sample standard deviations for the two samples\n",
        "print('The mean usage time of cable TV is ' + str(tvradio['Cable_TV'].mean()))\n",
        "print('The mean usage time of FM radio is ' + str(tvradio['FM_Radio'].mean()))\n",
        "print('The standard deviation of usage time of cable TV is ' + str(round(tvradio['Cable_TV'].std(),2)))\n",
        "print('The standard deviation of usage time of FM radio is ' + str(round(tvradio['FM_Radio'].std(),2)))"
      ]
    },
    {
      "cell_type": "markdown",
      "metadata": {
        "id": "-ZTenzwH-I6f"
      },
      "source": [
        "**Sanity Check:** Whether the T-test assumptions are satisfied or not\n",
        "\n",
        "* Continuous data\n",
        "> Yes, the usage time is measured on a continuous scale.\n",
        "* Normally distributed populations\n",
        "> Yes, we are informed that the populations are assumed to be normal.\n",
        "* Independent populations\n",
        "> As we are taking random samples for two different types of users, the two samples are from two independent populations.\n",
        "* Equal population standard deviations\n",
        "> As the sample standard deviations are almost equal, the population standard deviations can be assumed to be equal.\n",
        "* Random sampling from the population\n",
        "> Yes, we are informed that the collected sample is a simple random sample.\n",
        "\n",
        "From these, We can use a two-sample T-test for this problem."
      ]
    },
    {
      "cell_type": "markdown",
      "metadata": {
        "id": "HaXBN9zP6rFH"
      },
      "source": [
        "**Calculating the p-value**"
      ]
    },
    {
      "cell_type": "code",
      "execution_count": null,
      "metadata": {
        "colab": {
          "base_uri": "https://localhost:8080/"
        },
        "id": "XaRGog9D8_it",
        "outputId": "99434c98-ef36-45dc-a8f3-2088eb06a3de"
      },
      "outputs": [
        {
          "output_type": "stream",
          "name": "stdout",
          "text": [
            "The p-value is 0.5491435225558506\n"
          ]
        }
      ],
      "source": [
        "# import the required functions\n",
        "from scipy.stats import ttest_ind\n",
        "\n",
        "# find the p-value\n",
        "test_stat, p_value = ttest_ind(tvradio['Cable_TV'], tvradio['FM_Radio'], equal_var = True, alternative = 'two-sided')\n",
        "print('The p-value is ' + str(p_value))"
      ]
    },
    {
      "cell_type": "markdown",
      "metadata": {
        "id": "nU8OiJM1bTMJ"
      },
      "source": [
        "**Conclusions**\n",
        "\n",
        "<p align = \"justify\">\n",
        "As the p-value (~0.55) is much greater than the level of significance, we can not reject the null hypothesis.\n",
        "\n",
        "<p align = \"justify\">\n",
        "Hence, we do not have enough significance to conclude that there is any difference between daily TV and Radio usage at a 0.05 significance level."
      ]
    },
    {
      "cell_type": "markdown",
      "metadata": {
        "id": "S94HHmoe6Hlv"
      },
      "source": [
        "### **Two Independent Sample T-test for Equality of Means - Unequal Std Dev**"
      ]
    },
    {
      "cell_type": "markdown",
      "metadata": {
        "id": "GF0J8cvZb_6Q"
      },
      "source": [
        "**Problem Statement**\n",
        "\n",
        "<p align = \"justify\">\n",
        "SAT verbal scores of two groups of students are given in a CSV file. The first group, College, contains scores of students whose parents have at least a bachelor’s degree, and the second group, High School, contains scores of students whose parents do not have any college degree.\n",
        "\n",
        "<p align = \"justify\">\n",
        "The Education Department is interested to know whether the sample data support the theory that students show a higher population mean verbal score on SAT if their parents attain a higher level of education.\n",
        "\n",
        "<p align = \"justify\"><i>\n",
        "Assuming SAT verbal scores for two populations are normally distributed, do we have enough statistical evidence for this at a 5% significance level?"
      ]
    },
    {
      "cell_type": "markdown",
      "metadata": {
        "id": "GJuoxHuSeiZW"
      },
      "source": [
        "**Writing the null hypothesis and alternative hypothesis**\n",
        "\n",
        "\n",
        "Let $\\mu_1, \\mu_2$ be the mean SAT verbal scores of **College** and **High School** groups respectively.\n",
        "\n",
        "We will test the null hypothesis\n",
        "\n",
        ">$H_0:\\mu_1=\\mu_2$\n",
        "\n",
        "against the alternate hypothesis\n",
        "\n",
        ">$H_a:\\mu_1>\\mu_2$"
      ]
    },
    {
      "cell_type": "markdown",
      "metadata": {
        "id": "k6PL8Qg6hc5I"
      },
      "source": [
        "**Taking a quick look at the sample data**"
      ]
    },
    {
      "cell_type": "code",
      "execution_count": null,
      "metadata": {
        "colab": {
          "base_uri": "https://localhost:8080/",
          "height": 243
        },
        "id": "Zw4bSIVzwO7p",
        "outputId": "da82e659-fc4a-40bd-c2d1-ea80be05746f"
      },
      "outputs": [
        {
          "output_type": "execute_result",
          "data": {
            "text/plain": [
              "   College  High School\n",
              "0      485        489.0\n",
              "1      534        507.0\n",
              "2      650        447.0\n",
              "3      554        515.0\n",
              "4      550        470.0"
            ],
            "text/html": [
              "\n",
              "  <div id=\"df-eb2bf5a1-c7ef-4e2f-8624-0019b7c96dd8\" class=\"colab-df-container\">\n",
              "    <div>\n",
              "<style scoped>\n",
              "    .dataframe tbody tr th:only-of-type {\n",
              "        vertical-align: middle;\n",
              "    }\n",
              "\n",
              "    .dataframe tbody tr th {\n",
              "        vertical-align: top;\n",
              "    }\n",
              "\n",
              "    .dataframe thead th {\n",
              "        text-align: right;\n",
              "    }\n",
              "</style>\n",
              "<table border=\"1\" class=\"dataframe\">\n",
              "  <thead>\n",
              "    <tr style=\"text-align: right;\">\n",
              "      <th></th>\n",
              "      <th>College</th>\n",
              "      <th>High School</th>\n",
              "    </tr>\n",
              "  </thead>\n",
              "  <tbody>\n",
              "    <tr>\n",
              "      <th>0</th>\n",
              "      <td>485</td>\n",
              "      <td>489.0</td>\n",
              "    </tr>\n",
              "    <tr>\n",
              "      <th>1</th>\n",
              "      <td>534</td>\n",
              "      <td>507.0</td>\n",
              "    </tr>\n",
              "    <tr>\n",
              "      <th>2</th>\n",
              "      <td>650</td>\n",
              "      <td>447.0</td>\n",
              "    </tr>\n",
              "    <tr>\n",
              "      <th>3</th>\n",
              "      <td>554</td>\n",
              "      <td>515.0</td>\n",
              "    </tr>\n",
              "    <tr>\n",
              "      <th>4</th>\n",
              "      <td>550</td>\n",
              "      <td>470.0</td>\n",
              "    </tr>\n",
              "  </tbody>\n",
              "</table>\n",
              "</div>\n",
              "    <div class=\"colab-df-buttons\">\n",
              "\n",
              "  <div class=\"colab-df-container\">\n",
              "    <button class=\"colab-df-convert\" onclick=\"convertToInteractive('df-eb2bf5a1-c7ef-4e2f-8624-0019b7c96dd8')\"\n",
              "            title=\"Convert this dataframe to an interactive table.\"\n",
              "            style=\"display:none;\">\n",
              "\n",
              "  <svg xmlns=\"http://www.w3.org/2000/svg\" height=\"24px\" viewBox=\"0 -960 960 960\">\n",
              "    <path d=\"M120-120v-720h720v720H120Zm60-500h600v-160H180v160Zm220 220h160v-160H400v160Zm0 220h160v-160H400v160ZM180-400h160v-160H180v160Zm440 0h160v-160H620v160ZM180-180h160v-160H180v160Zm440 0h160v-160H620v160Z\"/>\n",
              "  </svg>\n",
              "    </button>\n",
              "\n",
              "  <style>\n",
              "    .colab-df-container {\n",
              "      display:flex;\n",
              "      gap: 12px;\n",
              "    }\n",
              "\n",
              "    .colab-df-convert {\n",
              "      background-color: #E8F0FE;\n",
              "      border: none;\n",
              "      border-radius: 50%;\n",
              "      cursor: pointer;\n",
              "      display: none;\n",
              "      fill: #1967D2;\n",
              "      height: 32px;\n",
              "      padding: 0 0 0 0;\n",
              "      width: 32px;\n",
              "    }\n",
              "\n",
              "    .colab-df-convert:hover {\n",
              "      background-color: #E2EBFA;\n",
              "      box-shadow: 0px 1px 2px rgba(60, 64, 67, 0.3), 0px 1px 3px 1px rgba(60, 64, 67, 0.15);\n",
              "      fill: #174EA6;\n",
              "    }\n",
              "\n",
              "    .colab-df-buttons div {\n",
              "      margin-bottom: 4px;\n",
              "    }\n",
              "\n",
              "    [theme=dark] .colab-df-convert {\n",
              "      background-color: #3B4455;\n",
              "      fill: #D2E3FC;\n",
              "    }\n",
              "\n",
              "    [theme=dark] .colab-df-convert:hover {\n",
              "      background-color: #434B5C;\n",
              "      box-shadow: 0px 1px 3px 1px rgba(0, 0, 0, 0.15);\n",
              "      filter: drop-shadow(0px 1px 2px rgba(0, 0, 0, 0.3));\n",
              "      fill: #FFFFFF;\n",
              "    }\n",
              "  </style>\n",
              "\n",
              "    <script>\n",
              "      const buttonEl =\n",
              "        document.querySelector('#df-eb2bf5a1-c7ef-4e2f-8624-0019b7c96dd8 button.colab-df-convert');\n",
              "      buttonEl.style.display =\n",
              "        google.colab.kernel.accessAllowed ? 'block' : 'none';\n",
              "\n",
              "      async function convertToInteractive(key) {\n",
              "        const element = document.querySelector('#df-eb2bf5a1-c7ef-4e2f-8624-0019b7c96dd8');\n",
              "        const dataTable =\n",
              "          await google.colab.kernel.invokeFunction('convertToInteractive',\n",
              "                                                    [key], {});\n",
              "        if (!dataTable) return;\n",
              "\n",
              "        const docLinkHtml = 'Like what you see? Visit the ' +\n",
              "          '<a target=\"_blank\" href=https://colab.research.google.com/notebooks/data_table.ipynb>data table notebook</a>'\n",
              "          + ' to learn more about interactive tables.';\n",
              "        element.innerHTML = '';\n",
              "        dataTable['output_type'] = 'display_data';\n",
              "        await google.colab.output.renderOutput(dataTable, element);\n",
              "        const docLink = document.createElement('div');\n",
              "        docLink.innerHTML = docLinkHtml;\n",
              "        element.appendChild(docLink);\n",
              "      }\n",
              "    </script>\n",
              "  </div>\n",
              "\n",
              "\n",
              "<div id=\"df-80cce654-a1d9-426b-b98e-e4f12739adc9\">\n",
              "  <button class=\"colab-df-quickchart\" onclick=\"quickchart('df-80cce654-a1d9-426b-b98e-e4f12739adc9')\"\n",
              "            title=\"Suggest charts\"\n",
              "            style=\"display:none;\">\n",
              "\n",
              "<svg xmlns=\"http://www.w3.org/2000/svg\" height=\"24px\"viewBox=\"0 0 24 24\"\n",
              "     width=\"24px\">\n",
              "    <g>\n",
              "        <path d=\"M19 3H5c-1.1 0-2 .9-2 2v14c0 1.1.9 2 2 2h14c1.1 0 2-.9 2-2V5c0-1.1-.9-2-2-2zM9 17H7v-7h2v7zm4 0h-2V7h2v10zm4 0h-2v-4h2v4z\"/>\n",
              "    </g>\n",
              "</svg>\n",
              "  </button>\n",
              "\n",
              "<style>\n",
              "  .colab-df-quickchart {\n",
              "      --bg-color: #E8F0FE;\n",
              "      --fill-color: #1967D2;\n",
              "      --hover-bg-color: #E2EBFA;\n",
              "      --hover-fill-color: #174EA6;\n",
              "      --disabled-fill-color: #AAA;\n",
              "      --disabled-bg-color: #DDD;\n",
              "  }\n",
              "\n",
              "  [theme=dark] .colab-df-quickchart {\n",
              "      --bg-color: #3B4455;\n",
              "      --fill-color: #D2E3FC;\n",
              "      --hover-bg-color: #434B5C;\n",
              "      --hover-fill-color: #FFFFFF;\n",
              "      --disabled-bg-color: #3B4455;\n",
              "      --disabled-fill-color: #666;\n",
              "  }\n",
              "\n",
              "  .colab-df-quickchart {\n",
              "    background-color: var(--bg-color);\n",
              "    border: none;\n",
              "    border-radius: 50%;\n",
              "    cursor: pointer;\n",
              "    display: none;\n",
              "    fill: var(--fill-color);\n",
              "    height: 32px;\n",
              "    padding: 0;\n",
              "    width: 32px;\n",
              "  }\n",
              "\n",
              "  .colab-df-quickchart:hover {\n",
              "    background-color: var(--hover-bg-color);\n",
              "    box-shadow: 0 1px 2px rgba(60, 64, 67, 0.3), 0 1px 3px 1px rgba(60, 64, 67, 0.15);\n",
              "    fill: var(--button-hover-fill-color);\n",
              "  }\n",
              "\n",
              "  .colab-df-quickchart-complete:disabled,\n",
              "  .colab-df-quickchart-complete:disabled:hover {\n",
              "    background-color: var(--disabled-bg-color);\n",
              "    fill: var(--disabled-fill-color);\n",
              "    box-shadow: none;\n",
              "  }\n",
              "\n",
              "  .colab-df-spinner {\n",
              "    border: 2px solid var(--fill-color);\n",
              "    border-color: transparent;\n",
              "    border-bottom-color: var(--fill-color);\n",
              "    animation:\n",
              "      spin 1s steps(1) infinite;\n",
              "  }\n",
              "\n",
              "  @keyframes spin {\n",
              "    0% {\n",
              "      border-color: transparent;\n",
              "      border-bottom-color: var(--fill-color);\n",
              "      border-left-color: var(--fill-color);\n",
              "    }\n",
              "    20% {\n",
              "      border-color: transparent;\n",
              "      border-left-color: var(--fill-color);\n",
              "      border-top-color: var(--fill-color);\n",
              "    }\n",
              "    30% {\n",
              "      border-color: transparent;\n",
              "      border-left-color: var(--fill-color);\n",
              "      border-top-color: var(--fill-color);\n",
              "      border-right-color: var(--fill-color);\n",
              "    }\n",
              "    40% {\n",
              "      border-color: transparent;\n",
              "      border-right-color: var(--fill-color);\n",
              "      border-top-color: var(--fill-color);\n",
              "    }\n",
              "    60% {\n",
              "      border-color: transparent;\n",
              "      border-right-color: var(--fill-color);\n",
              "    }\n",
              "    80% {\n",
              "      border-color: transparent;\n",
              "      border-right-color: var(--fill-color);\n",
              "      border-bottom-color: var(--fill-color);\n",
              "    }\n",
              "    90% {\n",
              "      border-color: transparent;\n",
              "      border-bottom-color: var(--fill-color);\n",
              "    }\n",
              "  }\n",
              "</style>\n",
              "\n",
              "  <script>\n",
              "    async function quickchart(key) {\n",
              "      const quickchartButtonEl =\n",
              "        document.querySelector('#' + key + ' button');\n",
              "      quickchartButtonEl.disabled = true;  // To prevent multiple clicks.\n",
              "      quickchartButtonEl.classList.add('colab-df-spinner');\n",
              "      try {\n",
              "        const charts = await google.colab.kernel.invokeFunction(\n",
              "            'suggestCharts', [key], {});\n",
              "      } catch (error) {\n",
              "        console.error('Error during call to suggestCharts:', error);\n",
              "      }\n",
              "      quickchartButtonEl.classList.remove('colab-df-spinner');\n",
              "      quickchartButtonEl.classList.add('colab-df-quickchart-complete');\n",
              "    }\n",
              "    (() => {\n",
              "      let quickchartButtonEl =\n",
              "        document.querySelector('#df-80cce654-a1d9-426b-b98e-e4f12739adc9 button');\n",
              "      quickchartButtonEl.style.display =\n",
              "        google.colab.kernel.accessAllowed ? 'block' : 'none';\n",
              "    })();\n",
              "  </script>\n",
              "</div>\n",
              "\n",
              "    </div>\n",
              "  </div>\n"
            ],
            "application/vnd.google.colaboratory.intrinsic+json": {
              "type": "dataframe",
              "variable_name": "satscore",
              "summary": "{\n  \"name\": \"satscore\",\n  \"rows\": 16,\n  \"fields\": [\n    {\n      \"column\": \"College\",\n      \"properties\": {\n        \"dtype\": \"number\",\n        \"std\": 59,\n        \"min\": 410,\n        \"max\": 650,\n        \"num_unique_values\": 16,\n        \"samples\": [\n          485,\n          534,\n          572\n        ],\n        \"semantic_type\": \"\",\n        \"description\": \"\"\n      }\n    },\n    {\n      \"column\": \"High School\",\n      \"properties\": {\n        \"dtype\": \"number\",\n        \"std\": 31.0951618569367,\n        \"min\": 424.0,\n        \"max\": 515.0,\n        \"num_unique_values\": 12,\n        \"samples\": [\n          512.0,\n          441.0,\n          489.0\n        ],\n        \"semantic_type\": \"\",\n        \"description\": \"\"\n      }\n    }\n  ]\n}"
            }
          },
          "metadata": {},
          "execution_count": 14
        }
      ],
      "source": [
        "# importing the data\n",
        "satscore = pd.read_csv('/content/drive/MyDrive/Classroom/Data Science/MIT Summer School/2 Foundations of Data Science/2 Statistics for Data Science/1 Hypothesis Testing/Dataset 4 SATVerbal.csv')\n",
        "satscore.head()"
      ]
    },
    {
      "cell_type": "code",
      "execution_count": null,
      "metadata": {
        "colab": {
          "base_uri": "https://localhost:8080/"
        },
        "id": "I5ZaAJuwwslO",
        "outputId": "fad529c6-cadc-4b3a-d3a7-1f02586c6ac0"
      },
      "outputs": [
        {
          "output_type": "stream",
          "name": "stdout",
          "text": [
            "The mean SAT verbal score for College group is 525.0\n",
            "The mean SAT verbal score for High School group is 480.0\n",
            "The standard deviation of SAT verbal score for College group is 59.42\n",
            "The standard deviation of SAT verbal score for High School group is 31.1\n"
          ]
        }
      ],
      "source": [
        "# find the sample means and sample standard deviations for the two samples\n",
        "print('The mean SAT verbal score for College group is ' + str(satscore['College'].mean()))\n",
        "print('The mean SAT verbal score for High School group is ' + str(satscore['High School'].mean()))\n",
        "print('The standard deviation of SAT verbal score for College group is ' + str(round(satscore['College'].std(), 2)))\n",
        "print('The standard deviation of SAT verbal score for High School group is ' + str(round(satscore['High School'].std(), 2)))"
      ]
    },
    {
      "cell_type": "markdown",
      "metadata": {
        "id": "llTtGBvx6WeR"
      },
      "source": [
        "**Sanity Check:** Whether the T-test assumptions are satisfied or not\n",
        "\n",
        "* Continuous data\n",
        "> Yes, the SAT score is measured on a continuous scale.\n",
        "* Normally distributed populations\n",
        "> Yes, we are informed that the populations are assumed to be normal.\n",
        "* Independent populations\n",
        "> As we are taking random samples for two different groups, the two samples are from two independent populations.\n",
        "* Unequal population standard deviations\n",
        "> As the sample standard deviations are different, the population standard deviations can be assumed to be different.\n",
        "* Random sampling from the population\n",
        "> Yes, we are informed that the collected sample is a simple random sample.\n",
        "\n",
        "With these, we can use a two-sample T-test for this problem."
      ]
    },
    {
      "cell_type": "markdown",
      "metadata": {
        "id": "FLK0t0VL6vMg"
      },
      "source": [
        "**Finding the p-value**"
      ]
    },
    {
      "cell_type": "code",
      "execution_count": null,
      "metadata": {
        "colab": {
          "base_uri": "https://localhost:8080/"
        },
        "id": "aXKIJXB66wCU",
        "outputId": "62466d5e-178e-4cf0-bcd1-cc32e21a637b"
      },
      "outputs": [
        {
          "output_type": "stream",
          "name": "stdout",
          "text": [
            "The p-value is  0.008034956026490195\n"
          ]
        }
      ],
      "source": [
        "# import the required functions\n",
        "from scipy.stats import ttest_ind\n",
        "\n",
        "# find the p-value\n",
        "test_stat, p_value = ttest_ind(satscore['College'], satscore['High School'].dropna(), equal_var = False, alternative = 'greater')\n",
        "print('The p-value is ', p_value)"
      ]
    },
    {
      "cell_type": "markdown",
      "metadata": {
        "id": "7xvyDESl8GXn"
      },
      "source": [
        "**Conclusions**\n",
        "<p align = \"justify\">\n",
        "As the p-value (~0.008) is less than the level of significance, we can reject the null hypothesis.\n",
        "<p align = \"justify\">\n",
        "Hence, we do have enough evidence to support the claim that students show a higher population mean verbal score on SAT if their parents attain a higher level of education."
      ]
    },
    {
      "cell_type": "markdown",
      "metadata": {
        "id": "8JUAO2IjvNyb"
      },
      "source": [
        "### **Paired Sample T-test for Equality of Means**"
      ]
    },
    {
      "cell_type": "markdown",
      "metadata": {
        "id": "sK3hszBz2kFZ"
      },
      "source": [
        "**Problem Statement**\n",
        "<p align = \"justify\">\n",
        "Typical prices of single-family homes in Florida are given for a sample of 15 metropolitan areas (in 1000 USD) for 2002 and 2003 in a CSV file.\n",
        "\n",
        "<p align = \"justify\"><i>\n",
        "Assuming the house prices are normally distributed, do we have enough statistical evidence to say that there is an increase in the house price in one year at a 0.05 significance level?"
      ]
    },
    {
      "cell_type": "markdown",
      "metadata": {
        "id": "d6oqinL-6-JW"
      },
      "source": [
        "**Writing the null hypothesis and alternative hypothesis**\n",
        "\n",
        "Let $\\mu_1, \\mu_2$ be the mean price of single-family homes in metropolitan areas of Florida for 2002 and 2003 respectively.\n",
        "\n",
        "We want to test whether there is an increase in the house price from 2002 to 2003.\n",
        "\n",
        "We will test the null hypothesis\n",
        "\n",
        ">$H_0:\\mu_1=\\mu_2$\n",
        "\n",
        "against the alternate hypothesis\n",
        "\n",
        ">$H_a:\\mu_1<\\mu_2$"
      ]
    },
    {
      "cell_type": "markdown",
      "metadata": {
        "id": "6Bi_wT8h8_A1"
      },
      "source": [
        "**Taking a quick look at the sample data**"
      ]
    },
    {
      "cell_type": "code",
      "execution_count": null,
      "metadata": {
        "colab": {
          "base_uri": "https://localhost:8080/",
          "height": 243
        },
        "id": "z47av-s1Arni",
        "outputId": "5522ea00-0bcf-4c43-ea1c-2c8eb1b7ae3e"
      },
      "outputs": [
        {
          "output_type": "execute_result",
          "data": {
            "text/plain": [
              "   Metropolitan Area  Jan_2003  Jan_2002\n",
              "0      Daytona Beach       117        96\n",
              "1    Fort Lauderdale       207       169\n",
              "2         Fort Myers       143       129\n",
              "3  Fort Walton Beach       139       134\n",
              "4        Gainesville       131       119"
            ],
            "text/html": [
              "\n",
              "  <div id=\"df-c76e9bb4-fb79-497c-abe2-f888f5c5f2f6\" class=\"colab-df-container\">\n",
              "    <div>\n",
              "<style scoped>\n",
              "    .dataframe tbody tr th:only-of-type {\n",
              "        vertical-align: middle;\n",
              "    }\n",
              "\n",
              "    .dataframe tbody tr th {\n",
              "        vertical-align: top;\n",
              "    }\n",
              "\n",
              "    .dataframe thead th {\n",
              "        text-align: right;\n",
              "    }\n",
              "</style>\n",
              "<table border=\"1\" class=\"dataframe\">\n",
              "  <thead>\n",
              "    <tr style=\"text-align: right;\">\n",
              "      <th></th>\n",
              "      <th>Metropolitan Area</th>\n",
              "      <th>Jan_2003</th>\n",
              "      <th>Jan_2002</th>\n",
              "    </tr>\n",
              "  </thead>\n",
              "  <tbody>\n",
              "    <tr>\n",
              "      <th>0</th>\n",
              "      <td>Daytona Beach</td>\n",
              "      <td>117</td>\n",
              "      <td>96</td>\n",
              "    </tr>\n",
              "    <tr>\n",
              "      <th>1</th>\n",
              "      <td>Fort Lauderdale</td>\n",
              "      <td>207</td>\n",
              "      <td>169</td>\n",
              "    </tr>\n",
              "    <tr>\n",
              "      <th>2</th>\n",
              "      <td>Fort Myers</td>\n",
              "      <td>143</td>\n",
              "      <td>129</td>\n",
              "    </tr>\n",
              "    <tr>\n",
              "      <th>3</th>\n",
              "      <td>Fort Walton Beach</td>\n",
              "      <td>139</td>\n",
              "      <td>134</td>\n",
              "    </tr>\n",
              "    <tr>\n",
              "      <th>4</th>\n",
              "      <td>Gainesville</td>\n",
              "      <td>131</td>\n",
              "      <td>119</td>\n",
              "    </tr>\n",
              "  </tbody>\n",
              "</table>\n",
              "</div>\n",
              "    <div class=\"colab-df-buttons\">\n",
              "\n",
              "  <div class=\"colab-df-container\">\n",
              "    <button class=\"colab-df-convert\" onclick=\"convertToInteractive('df-c76e9bb4-fb79-497c-abe2-f888f5c5f2f6')\"\n",
              "            title=\"Convert this dataframe to an interactive table.\"\n",
              "            style=\"display:none;\">\n",
              "\n",
              "  <svg xmlns=\"http://www.w3.org/2000/svg\" height=\"24px\" viewBox=\"0 -960 960 960\">\n",
              "    <path d=\"M120-120v-720h720v720H120Zm60-500h600v-160H180v160Zm220 220h160v-160H400v160Zm0 220h160v-160H400v160ZM180-400h160v-160H180v160Zm440 0h160v-160H620v160ZM180-180h160v-160H180v160Zm440 0h160v-160H620v160Z\"/>\n",
              "  </svg>\n",
              "    </button>\n",
              "\n",
              "  <style>\n",
              "    .colab-df-container {\n",
              "      display:flex;\n",
              "      gap: 12px;\n",
              "    }\n",
              "\n",
              "    .colab-df-convert {\n",
              "      background-color: #E8F0FE;\n",
              "      border: none;\n",
              "      border-radius: 50%;\n",
              "      cursor: pointer;\n",
              "      display: none;\n",
              "      fill: #1967D2;\n",
              "      height: 32px;\n",
              "      padding: 0 0 0 0;\n",
              "      width: 32px;\n",
              "    }\n",
              "\n",
              "    .colab-df-convert:hover {\n",
              "      background-color: #E2EBFA;\n",
              "      box-shadow: 0px 1px 2px rgba(60, 64, 67, 0.3), 0px 1px 3px 1px rgba(60, 64, 67, 0.15);\n",
              "      fill: #174EA6;\n",
              "    }\n",
              "\n",
              "    .colab-df-buttons div {\n",
              "      margin-bottom: 4px;\n",
              "    }\n",
              "\n",
              "    [theme=dark] .colab-df-convert {\n",
              "      background-color: #3B4455;\n",
              "      fill: #D2E3FC;\n",
              "    }\n",
              "\n",
              "    [theme=dark] .colab-df-convert:hover {\n",
              "      background-color: #434B5C;\n",
              "      box-shadow: 0px 1px 3px 1px rgba(0, 0, 0, 0.15);\n",
              "      filter: drop-shadow(0px 1px 2px rgba(0, 0, 0, 0.3));\n",
              "      fill: #FFFFFF;\n",
              "    }\n",
              "  </style>\n",
              "\n",
              "    <script>\n",
              "      const buttonEl =\n",
              "        document.querySelector('#df-c76e9bb4-fb79-497c-abe2-f888f5c5f2f6 button.colab-df-convert');\n",
              "      buttonEl.style.display =\n",
              "        google.colab.kernel.accessAllowed ? 'block' : 'none';\n",
              "\n",
              "      async function convertToInteractive(key) {\n",
              "        const element = document.querySelector('#df-c76e9bb4-fb79-497c-abe2-f888f5c5f2f6');\n",
              "        const dataTable =\n",
              "          await google.colab.kernel.invokeFunction('convertToInteractive',\n",
              "                                                    [key], {});\n",
              "        if (!dataTable) return;\n",
              "\n",
              "        const docLinkHtml = 'Like what you see? Visit the ' +\n",
              "          '<a target=\"_blank\" href=https://colab.research.google.com/notebooks/data_table.ipynb>data table notebook</a>'\n",
              "          + ' to learn more about interactive tables.';\n",
              "        element.innerHTML = '';\n",
              "        dataTable['output_type'] = 'display_data';\n",
              "        await google.colab.output.renderOutput(dataTable, element);\n",
              "        const docLink = document.createElement('div');\n",
              "        docLink.innerHTML = docLinkHtml;\n",
              "        element.appendChild(docLink);\n",
              "      }\n",
              "    </script>\n",
              "  </div>\n",
              "\n",
              "\n",
              "<div id=\"df-7741a059-d65a-400b-a080-ab2a017d9521\">\n",
              "  <button class=\"colab-df-quickchart\" onclick=\"quickchart('df-7741a059-d65a-400b-a080-ab2a017d9521')\"\n",
              "            title=\"Suggest charts\"\n",
              "            style=\"display:none;\">\n",
              "\n",
              "<svg xmlns=\"http://www.w3.org/2000/svg\" height=\"24px\"viewBox=\"0 0 24 24\"\n",
              "     width=\"24px\">\n",
              "    <g>\n",
              "        <path d=\"M19 3H5c-1.1 0-2 .9-2 2v14c0 1.1.9 2 2 2h14c1.1 0 2-.9 2-2V5c0-1.1-.9-2-2-2zM9 17H7v-7h2v7zm4 0h-2V7h2v10zm4 0h-2v-4h2v4z\"/>\n",
              "    </g>\n",
              "</svg>\n",
              "  </button>\n",
              "\n",
              "<style>\n",
              "  .colab-df-quickchart {\n",
              "      --bg-color: #E8F0FE;\n",
              "      --fill-color: #1967D2;\n",
              "      --hover-bg-color: #E2EBFA;\n",
              "      --hover-fill-color: #174EA6;\n",
              "      --disabled-fill-color: #AAA;\n",
              "      --disabled-bg-color: #DDD;\n",
              "  }\n",
              "\n",
              "  [theme=dark] .colab-df-quickchart {\n",
              "      --bg-color: #3B4455;\n",
              "      --fill-color: #D2E3FC;\n",
              "      --hover-bg-color: #434B5C;\n",
              "      --hover-fill-color: #FFFFFF;\n",
              "      --disabled-bg-color: #3B4455;\n",
              "      --disabled-fill-color: #666;\n",
              "  }\n",
              "\n",
              "  .colab-df-quickchart {\n",
              "    background-color: var(--bg-color);\n",
              "    border: none;\n",
              "    border-radius: 50%;\n",
              "    cursor: pointer;\n",
              "    display: none;\n",
              "    fill: var(--fill-color);\n",
              "    height: 32px;\n",
              "    padding: 0;\n",
              "    width: 32px;\n",
              "  }\n",
              "\n",
              "  .colab-df-quickchart:hover {\n",
              "    background-color: var(--hover-bg-color);\n",
              "    box-shadow: 0 1px 2px rgba(60, 64, 67, 0.3), 0 1px 3px 1px rgba(60, 64, 67, 0.15);\n",
              "    fill: var(--button-hover-fill-color);\n",
              "  }\n",
              "\n",
              "  .colab-df-quickchart-complete:disabled,\n",
              "  .colab-df-quickchart-complete:disabled:hover {\n",
              "    background-color: var(--disabled-bg-color);\n",
              "    fill: var(--disabled-fill-color);\n",
              "    box-shadow: none;\n",
              "  }\n",
              "\n",
              "  .colab-df-spinner {\n",
              "    border: 2px solid var(--fill-color);\n",
              "    border-color: transparent;\n",
              "    border-bottom-color: var(--fill-color);\n",
              "    animation:\n",
              "      spin 1s steps(1) infinite;\n",
              "  }\n",
              "\n",
              "  @keyframes spin {\n",
              "    0% {\n",
              "      border-color: transparent;\n",
              "      border-bottom-color: var(--fill-color);\n",
              "      border-left-color: var(--fill-color);\n",
              "    }\n",
              "    20% {\n",
              "      border-color: transparent;\n",
              "      border-left-color: var(--fill-color);\n",
              "      border-top-color: var(--fill-color);\n",
              "    }\n",
              "    30% {\n",
              "      border-color: transparent;\n",
              "      border-left-color: var(--fill-color);\n",
              "      border-top-color: var(--fill-color);\n",
              "      border-right-color: var(--fill-color);\n",
              "    }\n",
              "    40% {\n",
              "      border-color: transparent;\n",
              "      border-right-color: var(--fill-color);\n",
              "      border-top-color: var(--fill-color);\n",
              "    }\n",
              "    60% {\n",
              "      border-color: transparent;\n",
              "      border-right-color: var(--fill-color);\n",
              "    }\n",
              "    80% {\n",
              "      border-color: transparent;\n",
              "      border-right-color: var(--fill-color);\n",
              "      border-bottom-color: var(--fill-color);\n",
              "    }\n",
              "    90% {\n",
              "      border-color: transparent;\n",
              "      border-bottom-color: var(--fill-color);\n",
              "    }\n",
              "  }\n",
              "</style>\n",
              "\n",
              "  <script>\n",
              "    async function quickchart(key) {\n",
              "      const quickchartButtonEl =\n",
              "        document.querySelector('#' + key + ' button');\n",
              "      quickchartButtonEl.disabled = true;  // To prevent multiple clicks.\n",
              "      quickchartButtonEl.classList.add('colab-df-spinner');\n",
              "      try {\n",
              "        const charts = await google.colab.kernel.invokeFunction(\n",
              "            'suggestCharts', [key], {});\n",
              "      } catch (error) {\n",
              "        console.error('Error during call to suggestCharts:', error);\n",
              "      }\n",
              "      quickchartButtonEl.classList.remove('colab-df-spinner');\n",
              "      quickchartButtonEl.classList.add('colab-df-quickchart-complete');\n",
              "    }\n",
              "    (() => {\n",
              "      let quickchartButtonEl =\n",
              "        document.querySelector('#df-7741a059-d65a-400b-a080-ab2a017d9521 button');\n",
              "      quickchartButtonEl.style.display =\n",
              "        google.colab.kernel.accessAllowed ? 'block' : 'none';\n",
              "    })();\n",
              "  </script>\n",
              "</div>\n",
              "\n",
              "    </div>\n",
              "  </div>\n"
            ],
            "application/vnd.google.colaboratory.intrinsic+json": {
              "type": "dataframe",
              "variable_name": "houseprice",
              "summary": "{\n  \"name\": \"houseprice\",\n  \"rows\": 15,\n  \"fields\": [\n    {\n      \"column\": \"Metropolitan Area\",\n      \"properties\": {\n        \"dtype\": \"string\",\n        \"num_unique_values\": 15,\n        \"samples\": [\n          \"Ocala\",\n          \"Pensacola\",\n          \"Daytona Beach\"\n        ],\n        \"semantic_type\": \"\",\n        \"description\": \"\"\n      }\n    },\n    {\n      \"column\": \"Jan_2003\",\n      \"properties\": {\n        \"dtype\": \"number\",\n        \"std\": 46,\n        \"min\": 86,\n        \"max\": 263,\n        \"num_unique_values\": 14,\n        \"samples\": [\n          86,\n          111,\n          117\n        ],\n        \"semantic_type\": \"\",\n        \"description\": \"\"\n      }\n    },\n    {\n      \"column\": \"Jan_2002\",\n      \"properties\": {\n        \"dtype\": \"number\",\n        \"std\": 37,\n        \"min\": 85,\n        \"max\": 233,\n        \"num_unique_values\": 13,\n        \"samples\": [\n          141,\n          121,\n          96\n        ],\n        \"semantic_type\": \"\",\n        \"description\": \"\"\n      }\n    }\n  ]\n}"
            }
          },
          "metadata": {},
          "execution_count": 17
        }
      ],
      "source": [
        "# import the dataset\n",
        "houseprice = pd.read_csv('/content/drive/MyDrive/Classroom/Data Science/MIT Summer School/2 Foundations of Data Science/2 Statistics for Data Science/1 Hypothesis Testing/Dataset 5 Florida.csv')\n",
        "houseprice.head()"
      ]
    },
    {
      "cell_type": "code",
      "execution_count": null,
      "metadata": {
        "colab": {
          "base_uri": "https://localhost:8080/"
        },
        "id": "5IE49UrKBjpO",
        "outputId": "93b4e87c-360c-49a7-bbad-b12f03c81077"
      },
      "outputs": [
        {
          "output_type": "stream",
          "name": "stdout",
          "text": [
            "The mean of the differences between the house prices from 2002 to 2003 15.0\n"
          ]
        }
      ],
      "source": [
        "# find the mean difference between the house prices in year 2002 and 2003\n",
        "diff = np.mean(houseprice['Jan_2003'] - houseprice['Jan_2002'])\n",
        "print('The mean of the differences between the house prices from 2002 to 2003', diff)"
      ]
    },
    {
      "cell_type": "markdown",
      "metadata": {
        "id": "0ZKt050TClTi"
      },
      "source": [
        "**Sanity Check:** Whether the paired T-test assumptions are satisfied or not\n",
        "\n",
        "* Continuous data\n",
        "> Yes, the house price is measured on a continuous scale.\n",
        "* Normally distributed populations\n",
        "> Yes, we are informed that the populations are assumed to be normal.\n",
        "* Independent observations\n",
        "> As we are taking the sampled unit randomly, the observed units are independent.\n",
        "* Random sampling from the population\n",
        "> Yes, we are informed that the collected sample is a simple random sample.\n",
        "\n",
        "From these, We can use paired sample T-test for this problem.\n",
        "\n"
      ]
    },
    {
      "cell_type": "markdown",
      "metadata": {
        "id": "geoF6g58DIpN"
      },
      "source": [
        "**Finding the p-value**"
      ]
    },
    {
      "cell_type": "code",
      "execution_count": null,
      "metadata": {
        "colab": {
          "base_uri": "https://localhost:8080/"
        },
        "id": "b_OSS4ljDL4V",
        "outputId": "8738a022-a0a8-4ff0-95fa-784bbf670bcc"
      },
      "outputs": [
        {
          "output_type": "stream",
          "name": "stdout",
          "text": [
            "The p-value is  8.282698151615477e-05\n"
          ]
        }
      ],
      "source": [
        "# import the required functions\n",
        "from scipy.stats import ttest_rel\n",
        "\n",
        "# find the p-value\n",
        "test_stat, p_value = ttest_rel(houseprice['Jan_2002'], houseprice['Jan_2003'], alternative = 'less')\n",
        "print('The p-value is ', p_value)"
      ]
    },
    {
      "cell_type": "markdown",
      "metadata": {
        "id": "x2ZLqCVRKeO8"
      },
      "source": [
        "**Conclusions**\n",
        "<p align = \"justify\">\n",
        "As the p-value is much less than the level of significance, the null hypothesis can be rejected.\n",
        "<p align = \"justify\">\n",
        "Thus, it may be concluded that there is enough statistical evidence to conclude that there is an increase in the prices from 2002 to 2003."
      ]
    },
    {
      "cell_type": "markdown",
      "source": [
        "### **One Proportion Z-test**"
      ],
      "metadata": {
        "id": "wRH4fX5m03A4"
      }
    },
    {
      "cell_type": "markdown",
      "metadata": {
        "id": "7fKq990WGyjJ"
      },
      "source": [
        "**Problem Statement**\n",
        "\n",
        "<p align = \"justify\">\n",
        "A researcher claims that the Democratic party will win the next United States Presidential election.\n",
        "<p align = \"justify\">\n",
        "To test her belief the researcher randomly surveyed 90 people and 24 out of them said that they voted for the Democratic party.\n",
        "<p align = \"justify\"><i>\n",
        "Is there enough evidence at 𝛂 = 0.05 to support this claim?"
      ]
    },
    {
      "cell_type": "markdown",
      "metadata": {
        "id": "TR0HTVFNP0rI"
      },
      "source": [
        "**Writing the null hypothesis and alternative hypothesis**\n",
        "\n",
        "Let $p$ be the proportion of people who voted for the Democratic party.\n",
        "\n",
        "The researcher will test the null hypothesis\n",
        "\n",
        ">$H_0:p \\leq 0.5$\n",
        "\n",
        "against the alternate hypothesis\n",
        "\n",
        ">$H_a:p > 0.5$"
      ]
    },
    {
      "cell_type": "markdown",
      "metadata": {
        "id": "8mVMkj0EQ4sW"
      },
      "source": [
        "**Sanity Check:** Whether the Z-test assumptions are satisfied or not\n",
        "\n",
        "*   Binomially distributed population\n",
        "> Yes, people either vote for the Democratic or Republic party\n",
        "*   Random sampling from the population\n",
        "> Yes, the researcher conducted a random survey\n",
        "*   Can the binomial distribution be approximated to a normal distribution\n",
        "> Yes, For binary data, CLT works slower than usual. The standard thing is to check whether np and n(1-p) are greater than or equal to 10.\n",
        "\n",
        ">$np = 90\\cdot \\frac{24}{90} =24 \\geq 10\\\\\n",
        "n(1-p) = 90 \\cdot \\frac{90-24}{90} =66 \\geq 10$\n"
      ]
    },
    {
      "cell_type": "markdown",
      "metadata": {
        "id": "MUf9drG-ZzQV"
      },
      "source": [
        "**Finding the p-value**"
      ]
    },
    {
      "cell_type": "code",
      "execution_count": null,
      "metadata": {
        "colab": {
          "base_uri": "https://localhost:8080/"
        },
        "id": "kj47KnHHYZov",
        "outputId": "18209267-829e-4d30-d59b-0ed9310a1bd9"
      },
      "outputs": [
        {
          "output_type": "stream",
          "name": "stdout",
          "text": [
            "The p-value is 0.9999997216721324\n"
          ]
        }
      ],
      "source": [
        "# import the required fuction\n",
        "from statsmodels.stats.proportion import proportions_ztest\n",
        "\n",
        "# find the p-value\n",
        "test_stat, p_value = proportions_ztest(24, 90, value = 0.5, alternative = 'larger')\n",
        "print('The p-value is ' + str(p_value))"
      ]
    },
    {
      "cell_type": "markdown",
      "metadata": {
        "id": "OdpMB1Qocutc"
      },
      "source": [
        "**Conclusions**\n",
        "<p align = \"justify\">\n",
        "As the p-value is much greater than the significance level of 0.05, we can not reject the null hypothesis.\n",
        "\n",
        "<p align = \"justify\">\n",
        "Thus, the researcher does not have enough statistical evidence to claim that the Democratic party will win in the next United States Presidential election at a 5% significance level."
      ]
    },
    {
      "cell_type": "markdown",
      "metadata": {
        "id": "WvHJiRuF6guQ"
      },
      "source": [
        "### **Two Proportion Z-test**"
      ]
    },
    {
      "cell_type": "markdown",
      "metadata": {
        "id": "cn-dYLgzF69x"
      },
      "source": [
        "**Problem Statement**\n",
        "\n",
        "<p align = \"justify\">\n",
        "A car manufacturer aims to improve its products’ quality by reducing defects. So, the manufacturer randomly checks the efficiency of two assembly lines on the shop floor. In line 1, there are 20 defects out of 200 samples, and in line 2, there are 25 defects out of 400 samples.\n",
        "<p align = \"justify\"><i>\n",
        "At a 5% level of significance, do we have enough statistical evidence to conclude that the two assembly procedures are different?"
      ]
    },
    {
      "cell_type": "markdown",
      "metadata": {
        "id": "2YCkHK12HreW"
      },
      "source": [
        "**Writing the null hypothesis and alternative hypothesis**\n",
        "\n",
        "Let $p_1$ and $p_2$ be the proportions of defects in assembly line 1 and line 2 respectively.\n",
        "\n",
        "The manufacturer will test the null hypothesis\n",
        "\n",
        ">$H_0:p_1 =p_2$\n",
        "\n",
        "against the alternate hypothesis\n",
        "\n",
        ">$H_a:p_1 \\neq p_2$"
      ]
    },
    {
      "cell_type": "markdown",
      "metadata": {
        "id": "7c5hHivhKZUM"
      },
      "source": [
        "**Sanity Check:** Whether the Z-test assumptions are satisfied or not\n",
        "\n",
        "*   Binomially distributed population\n",
        "> Yes, a product is either defective or non-defective.\n",
        "*   Random sampling from the population\n",
        "> Yes, we are informed that the collected sample is a simple random sample.  \n",
        "*   Can the binomial distribution be approximated to a normal distribution\n",
        "> Yes, For binary data, CLT works slower than usual. The standard thing is to check whether np and n(1-p) are greater than or equal to 10.\n",
        "\n",
        ">$np_1 = 200\\cdot \\frac{20}{200} =20 \\geq 10\\\\\n",
        "n(1-p_1) = 200 \\cdot \\frac{200-20}{200} =180 \\geq 10 \\\\\n",
        "np_2 = 400\\cdot \\frac{25}{400} =25 \\geq 10\\\\\n",
        "n(1-p_2) = 400 \\cdot \\frac{400-25}{400} =375 \\geq 10 $\n"
      ]
    },
    {
      "cell_type": "markdown",
      "metadata": {
        "id": "hHGP8KFiLdJ2"
      },
      "source": [
        "**Finding the p-value**"
      ]
    },
    {
      "cell_type": "code",
      "execution_count": null,
      "metadata": {
        "colab": {
          "base_uri": "https://localhost:8080/"
        },
        "id": "4EoLlJA4LkzN",
        "outputId": "70e9e81e-9825-4ca8-be64-d9a318fbd9fd"
      },
      "outputs": [
        {
          "output_type": "stream",
          "name": "stdout",
          "text": [
            "The p-value is 0.10017829422626796\n"
          ]
        }
      ],
      "source": [
        "# import the required fuction\n",
        "from statsmodels.stats.proportion import proportions_ztest\n",
        "\n",
        "# set the counts of defective items\n",
        "defect_count = np.array([20, 25])\n",
        "\n",
        "# set the sample sizes\n",
        "nobs = np.array([200, 400])\n",
        "\n",
        "# find the p-value\n",
        "test_stat, p_value = proportions_ztest(defect_count, nobs)\n",
        "print('The p-value is ' + str(p_value))"
      ]
    },
    {
      "cell_type": "markdown",
      "metadata": {
        "id": "IVjQs0SWNQQv"
      },
      "source": [
        "**Conclusions**\n",
        "<p align = \"justify\">\n",
        "As the p-value is greater than the significance level of 0.05, we can not reject the null hypothesis.\n",
        "<p align = \"justify\">Thus, the manufacturer does not have enough statistical evidence to conclude that the two assembly procedures are different."
      ]
    },
    {
      "cell_type": "markdown",
      "metadata": {
        "id": "qc1Cy9re6q1w"
      },
      "source": [
        "### **Chi-Square Test for Variance**"
      ]
    },
    {
      "cell_type": "markdown",
      "metadata": {
        "id": "G9tlnF6ZXOvM"
      },
      "source": [
        "**Problem Statement**\n",
        "<p align = \"justify\">\n",
        "It is conjectured that the standard deviation for the annual return of mid-cap mutual funds is 22.4% when all such funds are considered and over a long period. The sample standard deviation of a certain mid-cap mutual fund based on a random sample of size 32 is observed to be 26.4%.\n",
        "<p align = \"justify\"><i>\n",
        "Do we have enough evidence to claim that the standard deviation of the chosen mutual fund is greater than the conjectured standard deviation for mid-cap mutual funds at a 0.05 level of significance?"
      ]
    },
    {
      "cell_type": "markdown",
      "metadata": {
        "id": "jgP0uEqFflBw"
      },
      "source": [
        "**Writing the null hypothesis and alternative hypothesis**\n",
        "\n",
        "Let $\\sigma$ be the average standard deviation of the mutual funds.\n",
        "\n",
        "We will test the null hypothesis\n",
        "\n",
        ">$H_0:\\sigma^2 = 22.4^2$\n",
        "\n",
        "against the alternate hypothesis\n",
        "\n",
        ">$H_a:\\sigma^2 > 26.4^2$"
      ]
    },
    {
      "cell_type": "markdown",
      "metadata": {
        "id": "yYWQiK5Ehtug"
      },
      "source": [
        "**Sanity Check:** Whether the assumptions are satisfied or not\n",
        "\n",
        "* Continuous data\n",
        "> Yes\n",
        "* Normally distributed population\n",
        "> Since the sample sizes are greater than 30, Central Limit Theorem states that the distribution of sample means will be normal.\n",
        "* Random sampling from the population\n",
        "> Yes, we are informed that the collected sample is a simple random sample.   \n"
      ]
    },
    {
      "cell_type": "markdown",
      "metadata": {
        "id": "PbH-SLqriUcm"
      },
      "source": [
        "**Finding the p-value**"
      ]
    },
    {
      "cell_type": "code",
      "execution_count": null,
      "metadata": {
        "colab": {
          "base_uri": "https://localhost:8080/"
        },
        "id": "Jso7skFviYr2",
        "outputId": "72d99755-64a8-4f61-b723-a35f313362a9"
      },
      "outputs": [
        {
          "output_type": "stream",
          "name": "stdout",
          "text": [
            "The p-value is  0.0733923626973344\n"
          ]
        }
      ],
      "source": [
        "# import the required function\n",
        "from scipy.stats import chi2\n",
        "\n",
        "# user-defined function to get the test stat and p-value\n",
        "def chi_var(pop_var, sample_var, n):\n",
        "    # calculate the test statistic\n",
        "    test_stat = (n - 1) * sample_var / pop_var\n",
        "    # calculate the p-value\n",
        "    p_value = 1 - chi2.cdf(test_stat, n-1)\n",
        "    return (test_stat, p_value)\n",
        "\n",
        "# set the value of sample size\n",
        "n = 32\n",
        "# set the values of population and sample variance\n",
        "sigma_2, s_2 = 22.4**2, 26.4**2\n",
        "\n",
        "test_stat, p_value = chi_var(sigma_2, s_2, n)\n",
        "\n",
        "print('The p-value is ', p_value)"
      ]
    },
    {
      "cell_type": "markdown",
      "metadata": {
        "id": "AW4hJK7D_Fv8"
      },
      "source": [
        "**Plotting the Chi-Square distribution with the test statistic**"
      ]
    },
    {
      "cell_type": "code",
      "execution_count": null,
      "metadata": {
        "colab": {
          "base_uri": "https://localhost:8080/",
          "height": 430
        },
        "id": "JFhfROer_U13",
        "outputId": "355e1eb3-0aca-496d-9f77-5c7c9e00ea45"
      },
      "outputs": [
        {
          "output_type": "display_data",
          "data": {
            "text/plain": [
              "<Figure size 640x480 with 1 Axes>"
            ],
            "image/png": "[encoded data removed]"
          },
          "metadata": {}
        }
      ],
      "source": [
        "# plot the Chi-Square distribution (degrees of freedom n-1) with test statistic\n",
        "x = np.linspace(0, 100, 100)\n",
        "plt.plot(x, chi2.pdf(x, n-1))\n",
        "plt.axvline(x = test_stat, c = 'r')\n",
        "plt.show()"
      ]
    },
    {
      "cell_type": "markdown",
      "metadata": {
        "id": "37fXFQTln_5r"
      },
      "source": [
        "**Conclusions**\n",
        "<p align = \"justify\">\n",
        "As the p-value is greater than the significance level, we can not reject the null hypothesis.\n",
        "<p align = \"justify\">\n",
        "Hence, we do not have enough statistical evidence to conclude that the standard deviation of the chosen mutual fund is greater than the average standard deviation for mid-cap mutual funds at a 0.05 level of significance."
      ]
    },
    {
      "cell_type": "markdown",
      "metadata": {
        "id": "BFROKrmE6975"
      },
      "source": [
        "### **F-test for Equality of Variances**"
      ]
    },
    {
      "cell_type": "markdown",
      "metadata": {
        "id": "8cIrDvcq5f1-"
      },
      "source": [
        "**Problem Statement**\n",
        "<p align = \"justify\">\n",
        "The variance of a process is an important quality of the process. A large variance implies that the process needs better control and there is an opportunity to improve.\n",
        "\n",
        "<p align = \"justify\">\n",
        "The data (Bags.csv) includes weights for two different sets of bags manufactured from two different machines. It is assumed that the weights for two sets of bags follow a normal distribution.\n",
        "<p align = \"justify\"><i>\n",
        "Do we have enough statistical evidence at a 5% significance level to conclude that there is a significant difference between the variances of the bag weights for the two machines?"
      ]
    },
    {
      "cell_type": "markdown",
      "metadata": {
        "id": "KupIZV2zDhmT"
      },
      "source": [
        "**Let's writing the null hypothesis and alternative hypothesis**\n",
        "\n",
        "Let $\\sigma_1^2, \\sigma_2^2$ be the variances of weights of the bags produced by two different machines.\n",
        "\n",
        "We will test the null hypothesis\n",
        "\n",
        ">$H_0:\\sigma_1^2 = \\sigma_2^2$\n",
        "\n",
        "against the alternate hypothesis\n",
        "\n",
        ">$H_a:\\sigma_1^2 \\neq \\sigma_2^2$"
      ]
    },
    {
      "cell_type": "markdown",
      "metadata": {
        "id": "ibuZ0DGDIEuW"
      },
      "source": [
        "**Sanity Check:** See whether the assumptions of the F-test are satisfied or not\n",
        "\n",
        "* Continuous data\n",
        "> Yes, the weight is measured on a continuous scale.\n",
        "* Normally distributed populations\n",
        "> Yes, it is assumed that the populations are normally distributed.\n",
        "* Independent populations\n",
        "> As the two sets of bags are manufactured from two different machines, the populations are independent.\n",
        "* Random sampling from the population\n",
        "> Yes, we are informed that the collected sample is a simple random sample.\n"
      ]
    },
    {
      "cell_type": "markdown",
      "metadata": {
        "id": "O7_5T3R_IoM3"
      },
      "source": [
        "**Taking a quick look at the sample data**"
      ]
    },
    {
      "cell_type": "code",
      "execution_count": null,
      "metadata": {
        "colab": {
          "base_uri": "https://localhost:8080/",
          "height": 243
        },
        "id": "7hU-UWjSbM2d",
        "outputId": "6e56eef2-3d96-4157-c3fc-f1f69ae4294b"
      },
      "outputs": [
        {
          "output_type": "execute_result",
          "data": {
            "text/plain": [
              "   Machine 1  Machine 2\n",
              "0       2.95       3.22\n",
              "1       3.45       3.30\n",
              "2       3.50       3.34\n",
              "3       3.75       3.28\n",
              "4       3.48       3.29"
            ],
            "text/html": [
              "\n",
              "  <div id=\"df-05105b45-18d1-4d50-875a-0dde0fbca04b\" class=\"colab-df-container\">\n",
              "    <div>\n",
              "<style scoped>\n",
              "    .dataframe tbody tr th:only-of-type {\n",
              "        vertical-align: middle;\n",
              "    }\n",
              "\n",
              "    .dataframe tbody tr th {\n",
              "        vertical-align: top;\n",
              "    }\n",
              "\n",
              "    .dataframe thead th {\n",
              "        text-align: right;\n",
              "    }\n",
              "</style>\n",
              "<table border=\"1\" class=\"dataframe\">\n",
              "  <thead>\n",
              "    <tr style=\"text-align: right;\">\n",
              "      <th></th>\n",
              "      <th>Machine 1</th>\n",
              "      <th>Machine 2</th>\n",
              "    </tr>\n",
              "  </thead>\n",
              "  <tbody>\n",
              "    <tr>\n",
              "      <th>0</th>\n",
              "      <td>2.95</td>\n",
              "      <td>3.22</td>\n",
              "    </tr>\n",
              "    <tr>\n",
              "      <th>1</th>\n",
              "      <td>3.45</td>\n",
              "      <td>3.30</td>\n",
              "    </tr>\n",
              "    <tr>\n",
              "      <th>2</th>\n",
              "      <td>3.50</td>\n",
              "      <td>3.34</td>\n",
              "    </tr>\n",
              "    <tr>\n",
              "      <th>3</th>\n",
              "      <td>3.75</td>\n",
              "      <td>3.28</td>\n",
              "    </tr>\n",
              "    <tr>\n",
              "      <th>4</th>\n",
              "      <td>3.48</td>\n",
              "      <td>3.29</td>\n",
              "    </tr>\n",
              "  </tbody>\n",
              "</table>\n",
              "</div>\n",
              "    <div class=\"colab-df-buttons\">\n",
              "\n",
              "  <div class=\"colab-df-container\">\n",
              "    <button class=\"colab-df-convert\" onclick=\"convertToInteractive('df-05105b45-18d1-4d50-875a-0dde0fbca04b')\"\n",
              "            title=\"Convert this dataframe to an interactive table.\"\n",
              "            style=\"display:none;\">\n",
              "\n",
              "  <svg xmlns=\"http://www.w3.org/2000/svg\" height=\"24px\" viewBox=\"0 -960 960 960\">\n",
              "    <path d=\"M120-120v-720h720v720H120Zm60-500h600v-160H180v160Zm220 220h160v-160H400v160Zm0 220h160v-160H400v160ZM180-400h160v-160H180v160Zm440 0h160v-160H620v160ZM180-180h160v-160H180v160Zm440 0h160v-160H620v160Z\"/>\n",
              "  </svg>\n",
              "    </button>\n",
              "\n",
              "  <style>\n",
              "    .colab-df-container {\n",
              "      display:flex;\n",
              "      gap: 12px;\n",
              "    }\n",
              "\n",
              "    .colab-df-convert {\n",
              "      background-color: #E8F0FE;\n",
              "      border: none;\n",
              "      border-radius: 50%;\n",
              "      cursor: pointer;\n",
              "      display: none;\n",
              "      fill: #1967D2;\n",
              "      height: 32px;\n",
              "      padding: 0 0 0 0;\n",
              "      width: 32px;\n",
              "    }\n",
              "\n",
              "    .colab-df-convert:hover {\n",
              "      background-color: #E2EBFA;\n",
              "      box-shadow: 0px 1px 2px rgba(60, 64, 67, 0.3), 0px 1px 3px 1px rgba(60, 64, 67, 0.15);\n",
              "      fill: #174EA6;\n",
              "    }\n",
              "\n",
              "    .colab-df-buttons div {\n",
              "      margin-bottom: 4px;\n",
              "    }\n",
              "\n",
              "    [theme=dark] .colab-df-convert {\n",
              "      background-color: #3B4455;\n",
              "      fill: #D2E3FC;\n",
              "    }\n",
              "\n",
              "    [theme=dark] .colab-df-convert:hover {\n",
              "      background-color: #434B5C;\n",
              "      box-shadow: 0px 1px 3px 1px rgba(0, 0, 0, 0.15);\n",
              "      filter: drop-shadow(0px 1px 2px rgba(0, 0, 0, 0.3));\n",
              "      fill: #FFFFFF;\n",
              "    }\n",
              "  </style>\n",
              "\n",
              "    <script>\n",
              "      const buttonEl =\n",
              "        document.querySelector('#df-05105b45-18d1-4d50-875a-0dde0fbca04b button.colab-df-convert');\n",
              "      buttonEl.style.display =\n",
              "        google.colab.kernel.accessAllowed ? 'block' : 'none';\n",
              "\n",
              "      async function convertToInteractive(key) {\n",
              "        const element = document.querySelector('#df-05105b45-18d1-4d50-875a-0dde0fbca04b');\n",
              "        const dataTable =\n",
              "          await google.colab.kernel.invokeFunction('convertToInteractive',\n",
              "                                                    [key], {});\n",
              "        if (!dataTable) return;\n",
              "\n",
              "        const docLinkHtml = 'Like what you see? Visit the ' +\n",
              "          '<a target=\"_blank\" href=https://colab.research.google.com/notebooks/data_table.ipynb>data table notebook</a>'\n",
              "          + ' to learn more about interactive tables.';\n",
              "        element.innerHTML = '';\n",
              "        dataTable['output_type'] = 'display_data';\n",
              "        await google.colab.output.renderOutput(dataTable, element);\n",
              "        const docLink = document.createElement('div');\n",
              "        docLink.innerHTML = docLinkHtml;\n",
              "        element.appendChild(docLink);\n",
              "      }\n",
              "    </script>\n",
              "  </div>\n",
              "\n",
              "\n",
              "<div id=\"df-da656f77-bd77-4be9-95e9-55539da6f394\">\n",
              "  <button class=\"colab-df-quickchart\" onclick=\"quickchart('df-da656f77-bd77-4be9-95e9-55539da6f394')\"\n",
              "            title=\"Suggest charts\"\n",
              "            style=\"display:none;\">\n",
              "\n",
              "<svg xmlns=\"http://www.w3.org/2000/svg\" height=\"24px\"viewBox=\"0 0 24 24\"\n",
              "     width=\"24px\">\n",
              "    <g>\n",
              "        <path d=\"M19 3H5c-1.1 0-2 .9-2 2v14c0 1.1.9 2 2 2h14c1.1 0 2-.9 2-2V5c0-1.1-.9-2-2-2zM9 17H7v-7h2v7zm4 0h-2V7h2v10zm4 0h-2v-4h2v4z\"/>\n",
              "    </g>\n",
              "</svg>\n",
              "  </button>\n",
              "\n",
              "<style>\n",
              "  .colab-df-quickchart {\n",
              "      --bg-color: #E8F0FE;\n",
              "      --fill-color: #1967D2;\n",
              "      --hover-bg-color: #E2EBFA;\n",
              "      --hover-fill-color: #174EA6;\n",
              "      --disabled-fill-color: #AAA;\n",
              "      --disabled-bg-color: #DDD;\n",
              "  }\n",
              "\n",
              "  [theme=dark] .colab-df-quickchart {\n",
              "      --bg-color: #3B4455;\n",
              "      --fill-color: #D2E3FC;\n",
              "      --hover-bg-color: #434B5C;\n",
              "      --hover-fill-color: #FFFFFF;\n",
              "      --disabled-bg-color: #3B4455;\n",
              "      --disabled-fill-color: #666;\n",
              "  }\n",
              "\n",
              "  .colab-df-quickchart {\n",
              "    background-color: var(--bg-color);\n",
              "    border: none;\n",
              "    border-radius: 50%;\n",
              "    cursor: pointer;\n",
              "    display: none;\n",
              "    fill: var(--fill-color);\n",
              "    height: 32px;\n",
              "    padding: 0;\n",
              "    width: 32px;\n",
              "  }\n",
              "\n",
              "  .colab-df-quickchart:hover {\n",
              "    background-color: var(--hover-bg-color);\n",
              "    box-shadow: 0 1px 2px rgba(60, 64, 67, 0.3), 0 1px 3px 1px rgba(60, 64, 67, 0.15);\n",
              "    fill: var(--button-hover-fill-color);\n",
              "  }\n",
              "\n",
              "  .colab-df-quickchart-complete:disabled,\n",
              "  .colab-df-quickchart-complete:disabled:hover {\n",
              "    background-color: var(--disabled-bg-color);\n",
              "    fill: var(--disabled-fill-color);\n",
              "    box-shadow: none;\n",
              "  }\n",
              "\n",
              "  .colab-df-spinner {\n",
              "    border: 2px solid var(--fill-color);\n",
              "    border-color: transparent;\n",
              "    border-bottom-color: var(--fill-color);\n",
              "    animation:\n",
              "      spin 1s steps(1) infinite;\n",
              "  }\n",
              "\n",
              "  @keyframes spin {\n",
              "    0% {\n",
              "      border-color: transparent;\n",
              "      border-bottom-color: var(--fill-color);\n",
              "      border-left-color: var(--fill-color);\n",
              "    }\n",
              "    20% {\n",
              "      border-color: transparent;\n",
              "      border-left-color: var(--fill-color);\n",
              "      border-top-color: var(--fill-color);\n",
              "    }\n",
              "    30% {\n",
              "      border-color: transparent;\n",
              "      border-left-color: var(--fill-color);\n",
              "      border-top-color: var(--fill-color);\n",
              "      border-right-color: var(--fill-color);\n",
              "    }\n",
              "    40% {\n",
              "      border-color: transparent;\n",
              "      border-right-color: var(--fill-color);\n",
              "      border-top-color: var(--fill-color);\n",
              "    }\n",
              "    60% {\n",
              "      border-color: transparent;\n",
              "      border-right-color: var(--fill-color);\n",
              "    }\n",
              "    80% {\n",
              "      border-color: transparent;\n",
              "      border-right-color: var(--fill-color);\n",
              "      border-bottom-color: var(--fill-color);\n",
              "    }\n",
              "    90% {\n",
              "      border-color: transparent;\n",
              "      border-bottom-color: var(--fill-color);\n",
              "    }\n",
              "  }\n",
              "</style>\n",
              "\n",
              "  <script>\n",
              "    async function quickchart(key) {\n",
              "      const quickchartButtonEl =\n",
              "        document.querySelector('#' + key + ' button');\n",
              "      quickchartButtonEl.disabled = true;  // To prevent multiple clicks.\n",
              "      quickchartButtonEl.classList.add('colab-df-spinner');\n",
              "      try {\n",
              "        const charts = await google.colab.kernel.invokeFunction(\n",
              "            'suggestCharts', [key], {});\n",
              "      } catch (error) {\n",
              "        console.error('Error during call to suggestCharts:', error);\n",
              "      }\n",
              "      quickchartButtonEl.classList.remove('colab-df-spinner');\n",
              "      quickchartButtonEl.classList.add('colab-df-quickchart-complete');\n",
              "    }\n",
              "    (() => {\n",
              "      let quickchartButtonEl =\n",
              "        document.querySelector('#df-da656f77-bd77-4be9-95e9-55539da6f394 button');\n",
              "      quickchartButtonEl.style.display =\n",
              "        google.colab.kernel.accessAllowed ? 'block' : 'none';\n",
              "    })();\n",
              "  </script>\n",
              "</div>\n",
              "\n",
              "    </div>\n",
              "  </div>\n"
            ],
            "application/vnd.google.colaboratory.intrinsic+json": {
              "type": "dataframe",
              "variable_name": "bagweight",
              "summary": "{\n  \"name\": \"bagweight\",\n  \"rows\": 22,\n  \"fields\": [\n    {\n      \"column\": \"Machine 1\",\n      \"properties\": {\n        \"dtype\": \"number\",\n        \"std\": 0.22910894589890868,\n        \"min\": 2.95,\n        \"max\": 3.9,\n        \"num_unique_values\": 18,\n        \"samples\": [\n          2.95,\n          3.45,\n          3.16\n        ],\n        \"semantic_type\": \"\",\n        \"description\": \"\"\n      }\n    },\n    {\n      \"column\": \"Machine 2\",\n      \"properties\": {\n        \"dtype\": \"number\",\n        \"std\": 0.076819910838914,\n        \"min\": 3.05,\n        \"max\": 3.38,\n        \"num_unique_values\": 15,\n        \"samples\": [\n          3.19,\n          3.36,\n          3.22\n        ],\n        \"semantic_type\": \"\",\n        \"description\": \"\"\n      }\n    }\n  ]\n}"
            }
          },
          "metadata": {},
          "execution_count": 24
        }
      ],
      "source": [
        "# Loading the Dataset\n",
        "bagweight = pd.read_csv('/content/drive/MyDrive/Classroom/Data Science/MIT Summer School/2 Foundations of Data Science/2 Statistics for Data Science/1 Hypothesis Testing/Dataset 6 Bags.csv')\n",
        "bagweight.head()"
      ]
    },
    {
      "cell_type": "markdown",
      "metadata": {
        "id": "8LI-d8TAblYi"
      },
      "source": [
        "**Finding the p-value**"
      ]
    },
    {
      "cell_type": "code",
      "execution_count": null,
      "metadata": {
        "colab": {
          "base_uri": "https://localhost:8080/"
        },
        "id": "QqPr1D8KbqOq",
        "outputId": "3910462e-84e1-4ddd-b7bb-1251dacb3df2"
      },
      "outputs": [
        {
          "output_type": "stream",
          "name": "stdout",
          "text": [
            "The p_value is 5.1e-06\n"
          ]
        }
      ],
      "source": [
        "# import the required function\n",
        "from scipy.stats import f\n",
        "\n",
        "# user-defined function to perform F-test\n",
        "def f_test(x, y):\n",
        "    x = np.array(x)\n",
        "    y = np.array(y)\n",
        "    test_stat = np.var(x, ddof = 1)/np.var(y, ddof = 1) # calculate f-test statistic\n",
        "    dfn = x.size-1 # define degrees of freedom numerator\n",
        "    dfd = y.size-1 # define degrees of freedom denominator\n",
        "    p = (1 - f.cdf(test_stat, dfn, dfd)) # find p-value of f-test statistic\n",
        "    p1 = p*2 # converting one-tail to two-tail test\n",
        "    return(print(\"The p_value is {}\" .format(round(p1,8))))\n",
        "\n",
        "# perform f-test\n",
        "f_test(bagweight.dropna()['Machine 1'], bagweight.dropna()['Machine 2'])"
      ]
    },
    {
      "cell_type": "markdown",
      "metadata": {
        "id": "CUHnA3-hdvMO"
      },
      "source": [
        "**Conclusions**\n",
        "<p align = \"justify\">\n",
        "As the p-value is much smaller than the level of significance, the null hypothesis can be rejected.\n",
        "<p align = \"justify\">\n",
        "Hence, we have enough statistical evidence to conclude that there is a difference between the bag weights for the two machines at a 0.05 significance level."
      ]
    },
    {
      "cell_type": "markdown",
      "metadata": {
        "id": "2xnmLq677KkA"
      },
      "source": [
        "### **Chi-Square Test for Independence**"
      ]
    },
    {
      "cell_type": "markdown",
      "metadata": {
        "id": "mU0SDjKyeUcR"
      },
      "source": [
        "**Problem Statement**\n",
        "<p align = \"justify\">\n",
        "The beverage preference data for different age groups is given in the Beverage.csv file.\n",
        "<p align = \"justify\"><i>\n",
        "Do we have enough statistical evidence to conclude that beverage preference depends on age?\n",
        "\n"
      ]
    },
    {
      "cell_type": "markdown",
      "metadata": {
        "id": "9BL1dzNufjcm"
      },
      "source": [
        "**Witing the null hypothesis and alternative hypothesis**\n",
        "\n",
        "\n",
        "We will test the null hypothesis\n",
        "\n",
        ">$H_0:$ Beverage preference is independent of age.\n",
        "\n",
        "against the alternate hypothesis\n",
        "\n",
        ">$H_a:$ Beverage preference depends on age."
      ]
    },
    {
      "cell_type": "markdown",
      "metadata": {
        "id": "ITiDm4GMgEnt"
      },
      "source": [
        "**Sanity Check:** Whether the assumptions of the Chi-Square test are satisfied or not\n",
        "\n",
        "* Categorical variables\n",
        "> Yes\n",
        "* The Expected value of the number of sample observations in each level of the variable is at least 5\n",
        "> Yes, the number of observations in each level is greater than 5.\n",
        "* Random sampling from the population\n",
        "> Yes, we are informed that the collected sample is a simple random sample.\n"
      ]
    },
    {
      "cell_type": "markdown",
      "metadata": {
        "id": "pqjXDxvwe-Io"
      },
      "source": [
        "**Taking a quick look at the sample data**"
      ]
    },
    {
      "cell_type": "code",
      "execution_count": null,
      "metadata": {
        "colab": {
          "base_uri": "https://localhost:8080/",
          "height": 200
        },
        "id": "D5ADnSRofStd",
        "outputId": "ee1f4809-408c-4c9e-f7a6-c362892fb83a"
      },
      "outputs": [
        {
          "output_type": "execute_result",
          "data": {
            "text/plain": [
              "       Age  Tea/Coffee  Soft Drink  Others\n",
              "0  21 - 34          25          90      20\n",
              "1  35 - 55          40          35      25\n",
              "2     > 55          24          15      30"
            ],
            "text/html": [
              "\n",
              "  <div id=\"df-64dfe5b8-1b49-4366-9e9e-66fb93b58a4a\" class=\"colab-df-container\">\n",
              "    <div>\n",
              "<style scoped>\n",
              "    .dataframe tbody tr th:only-of-type {\n",
              "        vertical-align: middle;\n",
              "    }\n",
              "\n",
              "    .dataframe tbody tr th {\n",
              "        vertical-align: top;\n",
              "    }\n",
              "\n",
              "    .dataframe thead th {\n",
              "        text-align: right;\n",
              "    }\n",
              "</style>\n",
              "<table border=\"1\" class=\"dataframe\">\n",
              "  <thead>\n",
              "    <tr style=\"text-align: right;\">\n",
              "      <th></th>\n",
              "      <th>Age</th>\n",
              "      <th>Tea/Coffee</th>\n",
              "      <th>Soft Drink</th>\n",
              "      <th>Others</th>\n",
              "    </tr>\n",
              "  </thead>\n",
              "  <tbody>\n",
              "    <tr>\n",
              "      <th>0</th>\n",
              "      <td>21 - 34</td>\n",
              "      <td>25</td>\n",
              "      <td>90</td>\n",
              "      <td>20</td>\n",
              "    </tr>\n",
              "    <tr>\n",
              "      <th>1</th>\n",
              "      <td>35 - 55</td>\n",
              "      <td>40</td>\n",
              "      <td>35</td>\n",
              "      <td>25</td>\n",
              "    </tr>\n",
              "    <tr>\n",
              "      <th>2</th>\n",
              "      <td>&gt; 55</td>\n",
              "      <td>24</td>\n",
              "      <td>15</td>\n",
              "      <td>30</td>\n",
              "    </tr>\n",
              "  </tbody>\n",
              "</table>\n",
              "</div>\n",
              "    <div class=\"colab-df-buttons\">\n",
              "\n",
              "  <div class=\"colab-df-container\">\n",
              "    <button class=\"colab-df-convert\" onclick=\"convertToInteractive('df-64dfe5b8-1b49-4366-9e9e-66fb93b58a4a')\"\n",
              "            title=\"Convert this dataframe to an interactive table.\"\n",
              "            style=\"display:none;\">\n",
              "\n",
              "  <svg xmlns=\"http://www.w3.org/2000/svg\" height=\"24px\" viewBox=\"0 -960 960 960\">\n",
              "    <path d=\"M120-120v-720h720v720H120Zm60-500h600v-160H180v160Zm220 220h160v-160H400v160Zm0 220h160v-160H400v160ZM180-400h160v-160H180v160Zm440 0h160v-160H620v160ZM180-180h160v-160H180v160Zm440 0h160v-160H620v160Z\"/>\n",
              "  </svg>\n",
              "    </button>\n",
              "\n",
              "  <style>\n",
              "    .colab-df-container {\n",
              "      display:flex;\n",
              "      gap: 12px;\n",
              "    }\n",
              "\n",
              "    .colab-df-convert {\n",
              "      background-color: #E8F0FE;\n",
              "      border: none;\n",
              "      border-radius: 50%;\n",
              "      cursor: pointer;\n",
              "      display: none;\n",
              "      fill: #1967D2;\n",
              "      height: 32px;\n",
              "      padding: 0 0 0 0;\n",
              "      width: 32px;\n",
              "    }\n",
              "\n",
              "    .colab-df-convert:hover {\n",
              "      background-color: #E2EBFA;\n",
              "      box-shadow: 0px 1px 2px rgba(60, 64, 67, 0.3), 0px 1px 3px 1px rgba(60, 64, 67, 0.15);\n",
              "      fill: #174EA6;\n",
              "    }\n",
              "\n",
              "    .colab-df-buttons div {\n",
              "      margin-bottom: 4px;\n",
              "    }\n",
              "\n",
              "    [theme=dark] .colab-df-convert {\n",
              "      background-color: #3B4455;\n",
              "      fill: #D2E3FC;\n",
              "    }\n",
              "\n",
              "    [theme=dark] .colab-df-convert:hover {\n",
              "      background-color: #434B5C;\n",
              "      box-shadow: 0px 1px 3px 1px rgba(0, 0, 0, 0.15);\n",
              "      filter: drop-shadow(0px 1px 2px rgba(0, 0, 0, 0.3));\n",
              "      fill: #FFFFFF;\n",
              "    }\n",
              "  </style>\n",
              "\n",
              "    <script>\n",
              "      const buttonEl =\n",
              "        document.querySelector('#df-64dfe5b8-1b49-4366-9e9e-66fb93b58a4a button.colab-df-convert');\n",
              "      buttonEl.style.display =\n",
              "        google.colab.kernel.accessAllowed ? 'block' : 'none';\n",
              "\n",
              "      async function convertToInteractive(key) {\n",
              "        const element = document.querySelector('#df-64dfe5b8-1b49-4366-9e9e-66fb93b58a4a');\n",
              "        const dataTable =\n",
              "          await google.colab.kernel.invokeFunction('convertToInteractive',\n",
              "                                                    [key], {});\n",
              "        if (!dataTable) return;\n",
              "\n",
              "        const docLinkHtml = 'Like what you see? Visit the ' +\n",
              "          '<a target=\"_blank\" href=https://colab.research.google.com/notebooks/data_table.ipynb>data table notebook</a>'\n",
              "          + ' to learn more about interactive tables.';\n",
              "        element.innerHTML = '';\n",
              "        dataTable['output_type'] = 'display_data';\n",
              "        await google.colab.output.renderOutput(dataTable, element);\n",
              "        const docLink = document.createElement('div');\n",
              "        docLink.innerHTML = docLinkHtml;\n",
              "        element.appendChild(docLink);\n",
              "      }\n",
              "    </script>\n",
              "  </div>\n",
              "\n",
              "\n",
              "<div id=\"df-5966fb05-a3fb-4d58-967a-79f39cc35a3b\">\n",
              "  <button class=\"colab-df-quickchart\" onclick=\"quickchart('df-5966fb05-a3fb-4d58-967a-79f39cc35a3b')\"\n",
              "            title=\"Suggest charts\"\n",
              "            style=\"display:none;\">\n",
              "\n",
              "<svg xmlns=\"http://www.w3.org/2000/svg\" height=\"24px\"viewBox=\"0 0 24 24\"\n",
              "     width=\"24px\">\n",
              "    <g>\n",
              "        <path d=\"M19 3H5c-1.1 0-2 .9-2 2v14c0 1.1.9 2 2 2h14c1.1 0 2-.9 2-2V5c0-1.1-.9-2-2-2zM9 17H7v-7h2v7zm4 0h-2V7h2v10zm4 0h-2v-4h2v4z\"/>\n",
              "    </g>\n",
              "</svg>\n",
              "  </button>\n",
              "\n",
              "<style>\n",
              "  .colab-df-quickchart {\n",
              "      --bg-color: #E8F0FE;\n",
              "      --fill-color: #1967D2;\n",
              "      --hover-bg-color: #E2EBFA;\n",
              "      --hover-fill-color: #174EA6;\n",
              "      --disabled-fill-color: #AAA;\n",
              "      --disabled-bg-color: #DDD;\n",
              "  }\n",
              "\n",
              "  [theme=dark] .colab-df-quickchart {\n",
              "      --bg-color: #3B4455;\n",
              "      --fill-color: #D2E3FC;\n",
              "      --hover-bg-color: #434B5C;\n",
              "      --hover-fill-color: #FFFFFF;\n",
              "      --disabled-bg-color: #3B4455;\n",
              "      --disabled-fill-color: #666;\n",
              "  }\n",
              "\n",
              "  .colab-df-quickchart {\n",
              "    background-color: var(--bg-color);\n",
              "    border: none;\n",
              "    border-radius: 50%;\n",
              "    cursor: pointer;\n",
              "    display: none;\n",
              "    fill: var(--fill-color);\n",
              "    height: 32px;\n",
              "    padding: 0;\n",
              "    width: 32px;\n",
              "  }\n",
              "\n",
              "  .colab-df-quickchart:hover {\n",
              "    background-color: var(--hover-bg-color);\n",
              "    box-shadow: 0 1px 2px rgba(60, 64, 67, 0.3), 0 1px 3px 1px rgba(60, 64, 67, 0.15);\n",
              "    fill: var(--button-hover-fill-color);\n",
              "  }\n",
              "\n",
              "  .colab-df-quickchart-complete:disabled,\n",
              "  .colab-df-quickchart-complete:disabled:hover {\n",
              "    background-color: var(--disabled-bg-color);\n",
              "    fill: var(--disabled-fill-color);\n",
              "    box-shadow: none;\n",
              "  }\n",
              "\n",
              "  .colab-df-spinner {\n",
              "    border: 2px solid var(--fill-color);\n",
              "    border-color: transparent;\n",
              "    border-bottom-color: var(--fill-color);\n",
              "    animation:\n",
              "      spin 1s steps(1) infinite;\n",
              "  }\n",
              "\n",
              "  @keyframes spin {\n",
              "    0% {\n",
              "      border-color: transparent;\n",
              "      border-bottom-color: var(--fill-color);\n",
              "      border-left-color: var(--fill-color);\n",
              "    }\n",
              "    20% {\n",
              "      border-color: transparent;\n",
              "      border-left-color: var(--fill-color);\n",
              "      border-top-color: var(--fill-color);\n",
              "    }\n",
              "    30% {\n",
              "      border-color: transparent;\n",
              "      border-left-color: var(--fill-color);\n",
              "      border-top-color: var(--fill-color);\n",
              "      border-right-color: var(--fill-color);\n",
              "    }\n",
              "    40% {\n",
              "      border-color: transparent;\n",
              "      border-right-color: var(--fill-color);\n",
              "      border-top-color: var(--fill-color);\n",
              "    }\n",
              "    60% {\n",
              "      border-color: transparent;\n",
              "      border-right-color: var(--fill-color);\n",
              "    }\n",
              "    80% {\n",
              "      border-color: transparent;\n",
              "      border-right-color: var(--fill-color);\n",
              "      border-bottom-color: var(--fill-color);\n",
              "    }\n",
              "    90% {\n",
              "      border-color: transparent;\n",
              "      border-bottom-color: var(--fill-color);\n",
              "    }\n",
              "  }\n",
              "</style>\n",
              "\n",
              "  <script>\n",
              "    async function quickchart(key) {\n",
              "      const quickchartButtonEl =\n",
              "        document.querySelector('#' + key + ' button');\n",
              "      quickchartButtonEl.disabled = true;  // To prevent multiple clicks.\n",
              "      quickchartButtonEl.classList.add('colab-df-spinner');\n",
              "      try {\n",
              "        const charts = await google.colab.kernel.invokeFunction(\n",
              "            'suggestCharts', [key], {});\n",
              "      } catch (error) {\n",
              "        console.error('Error during call to suggestCharts:', error);\n",
              "      }\n",
              "      quickchartButtonEl.classList.remove('colab-df-spinner');\n",
              "      quickchartButtonEl.classList.add('colab-df-quickchart-complete');\n",
              "    }\n",
              "    (() => {\n",
              "      let quickchartButtonEl =\n",
              "        document.querySelector('#df-5966fb05-a3fb-4d58-967a-79f39cc35a3b button');\n",
              "      quickchartButtonEl.style.display =\n",
              "        google.colab.kernel.accessAllowed ? 'block' : 'none';\n",
              "    })();\n",
              "  </script>\n",
              "</div>\n",
              "\n",
              "    </div>\n",
              "  </div>\n"
            ],
            "application/vnd.google.colaboratory.intrinsic+json": {
              "type": "dataframe",
              "variable_name": "beverage",
              "summary": "{\n  \"name\": \"beverage\",\n  \"rows\": 3,\n  \"fields\": [\n    {\n      \"column\": \"Age\",\n      \"properties\": {\n        \"dtype\": \"string\",\n        \"num_unique_values\": 3,\n        \"samples\": [\n          \"21 - 34\",\n          \"35 - 55\",\n          \"> 55\"\n        ],\n        \"semantic_type\": \"\",\n        \"description\": \"\"\n      }\n    },\n    {\n      \"column\": \"Tea/Coffee\",\n      \"properties\": {\n        \"dtype\": \"number\",\n        \"std\": 8,\n        \"min\": 24,\n        \"max\": 40,\n        \"num_unique_values\": 3,\n        \"samples\": [\n          25,\n          40,\n          24\n        ],\n        \"semantic_type\": \"\",\n        \"description\": \"\"\n      }\n    },\n    {\n      \"column\": \"Soft Drink\",\n      \"properties\": {\n        \"dtype\": \"number\",\n        \"std\": 38,\n        \"min\": 15,\n        \"max\": 90,\n        \"num_unique_values\": 3,\n        \"samples\": [\n          90,\n          35,\n          15\n        ],\n        \"semantic_type\": \"\",\n        \"description\": \"\"\n      }\n    },\n    {\n      \"column\": \"Others\",\n      \"properties\": {\n        \"dtype\": \"number\",\n        \"std\": 5,\n        \"min\": 20,\n        \"max\": 30,\n        \"num_unique_values\": 3,\n        \"samples\": [\n          20,\n          25,\n          30\n        ],\n        \"semantic_type\": \"\",\n        \"description\": \"\"\n      }\n    }\n  ]\n}"
            }
          },
          "metadata": {},
          "execution_count": 27
        }
      ],
      "source": [
        "beverage = pd.read_csv('/content/drive/MyDrive/Classroom/Data Science/MIT Summer School/2 Foundations of Data Science/2 Statistics for Data Science/1 Hypothesis Testing/Dataset 7 Beverage.csv')\n",
        "beverage.head()"
      ]
    },
    {
      "cell_type": "markdown",
      "metadata": {
        "id": "no52O-10HQ4h"
      },
      "source": [
        "**Finding the p-value**"
      ]
    },
    {
      "cell_type": "code",
      "execution_count": null,
      "metadata": {
        "colab": {
          "base_uri": "https://localhost:8080/"
        },
        "id": "qUPCXOomHXX7",
        "outputId": "f992e40b-6782-4abe-c54f-75e6fcd8f486"
      },
      "outputs": [
        {
          "output_type": "stream",
          "name": "stdout",
          "text": [
            "The p-value is 5.410957050304089e-10\n"
          ]
        }
      ],
      "source": [
        "# import the required function\n",
        "from scipy.stats import chi2_contingency\n",
        "\n",
        "# find the p-value\n",
        "chi, p_value, dof, expected = chi2_contingency(beverage.drop('Age', axis = 1))\n",
        "print('The p-value is', p_value)"
      ]
    },
    {
      "cell_type": "markdown",
      "metadata": {
        "id": "YAb4fDcmJIpQ"
      },
      "source": [
        "**Conclusions**\n",
        "<p align = \"justify\">\n",
        "As the p-value is much less than the significance level, we can reject the null hypothesis.\n",
        "<p align = \"justify\">\n",
        "Hence, we do have enough statistical evidence to conclude that beverage preference is not independent of age at a 5% significance level."
      ]
    },
    {
      "cell_type": "markdown",
      "metadata": {
        "id": "7ZLntwM_WcK2"
      },
      "source": [
        "###**One-way Anova Test**"
      ]
    },
    {
      "cell_type": "markdown",
      "metadata": {
        "id": "qxvEn474b25J"
      },
      "source": [
        "**Problem Statement**\n",
        "<p align = \"justify\">\n",
        "A traffic management inspector in a certain city wants to understand whether carbon emissions from different cars are different. The inspector has reasons to believe that fuel type may be the factor responsible for differences in carbon emission.\n",
        "<p align = \"justify\"><i>\n",
        "For this purpose, the inspector has taken random samples from all registered cars on the road in that city and would like to test if the amount of carbon emission released depends on fuel type at a 5% significance level."
      ]
    },
    {
      "cell_type": "markdown",
      "metadata": {
        "id": "j63R8Uh78C-w"
      },
      "source": [
        "**Let's write the null hypothesis and alternative hypothesis**\n",
        "\n",
        "Let $\\mu_1, \\mu_2, \\mu_3$ be the means of carbon dioxide emissions for fuel type E85, LPG, and Petrol respectively.\n",
        "\n",
        "We will test the null hypothesis\n",
        "\n",
        ">$H_0: \\mu_1 = \\mu_2 = \\mu_3$\n",
        "\n",
        "against the alternative hypothesis\n",
        "\n",
        ">$H_a: $ At least one carbon emission level is different from the rest.\n"
      ]
    },
    {
      "cell_type": "markdown",
      "metadata": {
        "id": "lFMixr_Af40Q"
      },
      "source": [
        "**Taking a quick look at the sample data**"
      ]
    },
    {
      "cell_type": "code",
      "execution_count": null,
      "metadata": {
        "colab": {
          "base_uri": "https://localhost:8080/",
          "height": 243
        },
        "id": "ab3mUcIxgKeH",
        "outputId": "be6ef16a-1618-4250-d01e-53f849b61278"
      },
      "outputs": [
        {
          "output_type": "execute_result",
          "data": {
            "text/plain": [
              "   Car_ID manufacturer fuel_type  co_emissions\n",
              "0       1         Audi    Petrol        441.55\n",
              "1       2          BMW       E85        376.47\n",
              "2       3          BMW       E85        414.12\n",
              "3       4          BMW       E85        351.41\n",
              "4       5        Volvo       E85        284.59"
            ],
            "text/html": [
              "\n",
              "  <div id=\"df-85ce772b-7e31-4cc8-8d8a-ed25888a28f5\" class=\"colab-df-container\">\n",
              "    <div>\n",
              "<style scoped>\n",
              "    .dataframe tbody tr th:only-of-type {\n",
              "        vertical-align: middle;\n",
              "    }\n",
              "\n",
              "    .dataframe tbody tr th {\n",
              "        vertical-align: top;\n",
              "    }\n",
              "\n",
              "    .dataframe thead th {\n",
              "        text-align: right;\n",
              "    }\n",
              "</style>\n",
              "<table border=\"1\" class=\"dataframe\">\n",
              "  <thead>\n",
              "    <tr style=\"text-align: right;\">\n",
              "      <th></th>\n",
              "      <th>Car_ID</th>\n",
              "      <th>manufacturer</th>\n",
              "      <th>fuel_type</th>\n",
              "      <th>co_emissions</th>\n",
              "    </tr>\n",
              "  </thead>\n",
              "  <tbody>\n",
              "    <tr>\n",
              "      <th>0</th>\n",
              "      <td>1</td>\n",
              "      <td>Audi</td>\n",
              "      <td>Petrol</td>\n",
              "      <td>441.55</td>\n",
              "    </tr>\n",
              "    <tr>\n",
              "      <th>1</th>\n",
              "      <td>2</td>\n",
              "      <td>BMW</td>\n",
              "      <td>E85</td>\n",
              "      <td>376.47</td>\n",
              "    </tr>\n",
              "    <tr>\n",
              "      <th>2</th>\n",
              "      <td>3</td>\n",
              "      <td>BMW</td>\n",
              "      <td>E85</td>\n",
              "      <td>414.12</td>\n",
              "    </tr>\n",
              "    <tr>\n",
              "      <th>3</th>\n",
              "      <td>4</td>\n",
              "      <td>BMW</td>\n",
              "      <td>E85</td>\n",
              "      <td>351.41</td>\n",
              "    </tr>\n",
              "    <tr>\n",
              "      <th>4</th>\n",
              "      <td>5</td>\n",
              "      <td>Volvo</td>\n",
              "      <td>E85</td>\n",
              "      <td>284.59</td>\n",
              "    </tr>\n",
              "  </tbody>\n",
              "</table>\n",
              "</div>\n",
              "    <div class=\"colab-df-buttons\">\n",
              "\n",
              "  <div class=\"colab-df-container\">\n",
              "    <button class=\"colab-df-convert\" onclick=\"convertToInteractive('df-85ce772b-7e31-4cc8-8d8a-ed25888a28f5')\"\n",
              "            title=\"Convert this dataframe to an interactive table.\"\n",
              "            style=\"display:none;\">\n",
              "\n",
              "  <svg xmlns=\"http://www.w3.org/2000/svg\" height=\"24px\" viewBox=\"0 -960 960 960\">\n",
              "    <path d=\"M120-120v-720h720v720H120Zm60-500h600v-160H180v160Zm220 220h160v-160H400v160Zm0 220h160v-160H400v160ZM180-400h160v-160H180v160Zm440 0h160v-160H620v160ZM180-180h160v-160H180v160Zm440 0h160v-160H620v160Z\"/>\n",
              "  </svg>\n",
              "    </button>\n",
              "\n",
              "  <style>\n",
              "    .colab-df-container {\n",
              "      display:flex;\n",
              "      gap: 12px;\n",
              "    }\n",
              "\n",
              "    .colab-df-convert {\n",
              "      background-color: #E8F0FE;\n",
              "      border: none;\n",
              "      border-radius: 50%;\n",
              "      cursor: pointer;\n",
              "      display: none;\n",
              "      fill: #1967D2;\n",
              "      height: 32px;\n",
              "      padding: 0 0 0 0;\n",
              "      width: 32px;\n",
              "    }\n",
              "\n",
              "    .colab-df-convert:hover {\n",
              "      background-color: #E2EBFA;\n",
              "      box-shadow: 0px 1px 2px rgba(60, 64, 67, 0.3), 0px 1px 3px 1px rgba(60, 64, 67, 0.15);\n",
              "      fill: #174EA6;\n",
              "    }\n",
              "\n",
              "    .colab-df-buttons div {\n",
              "      margin-bottom: 4px;\n",
              "    }\n",
              "\n",
              "    [theme=dark] .colab-df-convert {\n",
              "      background-color: #3B4455;\n",
              "      fill: #D2E3FC;\n",
              "    }\n",
              "\n",
              "    [theme=dark] .colab-df-convert:hover {\n",
              "      background-color: #434B5C;\n",
              "      box-shadow: 0px 1px 3px 1px rgba(0, 0, 0, 0.15);\n",
              "      filter: drop-shadow(0px 1px 2px rgba(0, 0, 0, 0.3));\n",
              "      fill: #FFFFFF;\n",
              "    }\n",
              "  </style>\n",
              "\n",
              "    <script>\n",
              "      const buttonEl =\n",
              "        document.querySelector('#df-85ce772b-7e31-4cc8-8d8a-ed25888a28f5 button.colab-df-convert');\n",
              "      buttonEl.style.display =\n",
              "        google.colab.kernel.accessAllowed ? 'block' : 'none';\n",
              "\n",
              "      async function convertToInteractive(key) {\n",
              "        const element = document.querySelector('#df-85ce772b-7e31-4cc8-8d8a-ed25888a28f5');\n",
              "        const dataTable =\n",
              "          await google.colab.kernel.invokeFunction('convertToInteractive',\n",
              "                                                    [key], {});\n",
              "        if (!dataTable) return;\n",
              "\n",
              "        const docLinkHtml = 'Like what you see? Visit the ' +\n",
              "          '<a target=\"_blank\" href=https://colab.research.google.com/notebooks/data_table.ipynb>data table notebook</a>'\n",
              "          + ' to learn more about interactive tables.';\n",
              "        element.innerHTML = '';\n",
              "        dataTable['output_type'] = 'display_data';\n",
              "        await google.colab.output.renderOutput(dataTable, element);\n",
              "        const docLink = document.createElement('div');\n",
              "        docLink.innerHTML = docLinkHtml;\n",
              "        element.appendChild(docLink);\n",
              "      }\n",
              "    </script>\n",
              "  </div>\n",
              "\n",
              "\n",
              "<div id=\"df-cfe337c6-cc68-4124-8e6b-716948218fba\">\n",
              "  <button class=\"colab-df-quickchart\" onclick=\"quickchart('df-cfe337c6-cc68-4124-8e6b-716948218fba')\"\n",
              "            title=\"Suggest charts\"\n",
              "            style=\"display:none;\">\n",
              "\n",
              "<svg xmlns=\"http://www.w3.org/2000/svg\" height=\"24px\"viewBox=\"0 0 24 24\"\n",
              "     width=\"24px\">\n",
              "    <g>\n",
              "        <path d=\"M19 3H5c-1.1 0-2 .9-2 2v14c0 1.1.9 2 2 2h14c1.1 0 2-.9 2-2V5c0-1.1-.9-2-2-2zM9 17H7v-7h2v7zm4 0h-2V7h2v10zm4 0h-2v-4h2v4z\"/>\n",
              "    </g>\n",
              "</svg>\n",
              "  </button>\n",
              "\n",
              "<style>\n",
              "  .colab-df-quickchart {\n",
              "      --bg-color: #E8F0FE;\n",
              "      --fill-color: #1967D2;\n",
              "      --hover-bg-color: #E2EBFA;\n",
              "      --hover-fill-color: #174EA6;\n",
              "      --disabled-fill-color: #AAA;\n",
              "      --disabled-bg-color: #DDD;\n",
              "  }\n",
              "\n",
              "  [theme=dark] .colab-df-quickchart {\n",
              "      --bg-color: #3B4455;\n",
              "      --fill-color: #D2E3FC;\n",
              "      --hover-bg-color: #434B5C;\n",
              "      --hover-fill-color: #FFFFFF;\n",
              "      --disabled-bg-color: #3B4455;\n",
              "      --disabled-fill-color: #666;\n",
              "  }\n",
              "\n",
              "  .colab-df-quickchart {\n",
              "    background-color: var(--bg-color);\n",
              "    border: none;\n",
              "    border-radius: 50%;\n",
              "    cursor: pointer;\n",
              "    display: none;\n",
              "    fill: var(--fill-color);\n",
              "    height: 32px;\n",
              "    padding: 0;\n",
              "    width: 32px;\n",
              "  }\n",
              "\n",
              "  .colab-df-quickchart:hover {\n",
              "    background-color: var(--hover-bg-color);\n",
              "    box-shadow: 0 1px 2px rgba(60, 64, 67, 0.3), 0 1px 3px 1px rgba(60, 64, 67, 0.15);\n",
              "    fill: var(--button-hover-fill-color);\n",
              "  }\n",
              "\n",
              "  .colab-df-quickchart-complete:disabled,\n",
              "  .colab-df-quickchart-complete:disabled:hover {\n",
              "    background-color: var(--disabled-bg-color);\n",
              "    fill: var(--disabled-fill-color);\n",
              "    box-shadow: none;\n",
              "  }\n",
              "\n",
              "  .colab-df-spinner {\n",
              "    border: 2px solid var(--fill-color);\n",
              "    border-color: transparent;\n",
              "    border-bottom-color: var(--fill-color);\n",
              "    animation:\n",
              "      spin 1s steps(1) infinite;\n",
              "  }\n",
              "\n",
              "  @keyframes spin {\n",
              "    0% {\n",
              "      border-color: transparent;\n",
              "      border-bottom-color: var(--fill-color);\n",
              "      border-left-color: var(--fill-color);\n",
              "    }\n",
              "    20% {\n",
              "      border-color: transparent;\n",
              "      border-left-color: var(--fill-color);\n",
              "      border-top-color: var(--fill-color);\n",
              "    }\n",
              "    30% {\n",
              "      border-color: transparent;\n",
              "      border-left-color: var(--fill-color);\n",
              "      border-top-color: var(--fill-color);\n",
              "      border-right-color: var(--fill-color);\n",
              "    }\n",
              "    40% {\n",
              "      border-color: transparent;\n",
              "      border-right-color: var(--fill-color);\n",
              "      border-top-color: var(--fill-color);\n",
              "    }\n",
              "    60% {\n",
              "      border-color: transparent;\n",
              "      border-right-color: var(--fill-color);\n",
              "    }\n",
              "    80% {\n",
              "      border-color: transparent;\n",
              "      border-right-color: var(--fill-color);\n",
              "      border-bottom-color: var(--fill-color);\n",
              "    }\n",
              "    90% {\n",
              "      border-color: transparent;\n",
              "      border-bottom-color: var(--fill-color);\n",
              "    }\n",
              "  }\n",
              "</style>\n",
              "\n",
              "  <script>\n",
              "    async function quickchart(key) {\n",
              "      const quickchartButtonEl =\n",
              "        document.querySelector('#' + key + ' button');\n",
              "      quickchartButtonEl.disabled = true;  // To prevent multiple clicks.\n",
              "      quickchartButtonEl.classList.add('colab-df-spinner');\n",
              "      try {\n",
              "        const charts = await google.colab.kernel.invokeFunction(\n",
              "            'suggestCharts', [key], {});\n",
              "      } catch (error) {\n",
              "        console.error('Error during call to suggestCharts:', error);\n",
              "      }\n",
              "      quickchartButtonEl.classList.remove('colab-df-spinner');\n",
              "      quickchartButtonEl.classList.add('colab-df-quickchart-complete');\n",
              "    }\n",
              "    (() => {\n",
              "      let quickchartButtonEl =\n",
              "        document.querySelector('#df-cfe337c6-cc68-4124-8e6b-716948218fba button');\n",
              "      quickchartButtonEl.style.display =\n",
              "        google.colab.kernel.accessAllowed ? 'block' : 'none';\n",
              "    })();\n",
              "  </script>\n",
              "</div>\n",
              "\n",
              "    </div>\n",
              "  </div>\n"
            ],
            "application/vnd.google.colaboratory.intrinsic+json": {
              "type": "dataframe",
              "variable_name": "aovdata",
              "summary": "{\n  \"name\": \"aovdata\",\n  \"rows\": 510,\n  \"fields\": [\n    {\n      \"column\": \"Car_ID\",\n      \"properties\": {\n        \"dtype\": \"number\",\n        \"std\": 147,\n        \"min\": 1,\n        \"max\": 510,\n        \"num_unique_values\": 510,\n        \"samples\": [\n          481,\n          450,\n          476\n        ],\n        \"semantic_type\": \"\",\n        \"description\": \"\"\n      }\n    },\n    {\n      \"column\": \"manufacturer\",\n      \"properties\": {\n        \"dtype\": \"category\",\n        \"num_unique_values\": 4,\n        \"samples\": [\n          \"BMW\",\n          \"Ford\",\n          \"Audi\"\n        ],\n        \"semantic_type\": \"\",\n        \"description\": \"\"\n      }\n    },\n    {\n      \"column\": \"fuel_type\",\n      \"properties\": {\n        \"dtype\": \"category\",\n        \"num_unique_values\": 3,\n        \"samples\": [\n          \"Petrol\",\n          \"E85\",\n          \"LPG\"\n        ],\n        \"semantic_type\": \"\",\n        \"description\": \"\"\n      }\n    },\n    {\n      \"column\": \"co_emissions\",\n      \"properties\": {\n        \"dtype\": \"number\",\n        \"std\": 66.91299893891983,\n        \"min\": 162.07,\n        \"max\": 544.56,\n        \"num_unique_values\": 505,\n        \"samples\": [\n          457.05,\n          302.26,\n          386.6\n        ],\n        \"semantic_type\": \"\",\n        \"description\": \"\"\n      }\n    }\n  ]\n}"
            }
          },
          "metadata": {},
          "execution_count": 29
        }
      ],
      "source": [
        "aovdata = pd.read_csv('/content/drive/MyDrive/Classroom/Data Science/MIT Summer School/2 Foundations of Data Science/2 Statistics for Data Science/1 Hypothesis Testing/Dataset 8 AOVData.csv')\n",
        "aovdata.head()"
      ]
    },
    {
      "cell_type": "markdown",
      "metadata": {
        "id": "Cr_N3sAeoqeO"
      },
      "source": [
        "Here, co_emissions is the response and fuel_type is the factor."
      ]
    },
    {
      "cell_type": "code",
      "execution_count": null,
      "metadata": {
        "colab": {
          "base_uri": "https://localhost:8080/",
          "height": 209
        },
        "id": "1zyATPm47v6N",
        "outputId": "4ce1dbf1-654d-4cc5-930c-069de49302bc"
      },
      "outputs": [
        {
          "output_type": "execute_result",
          "data": {
            "text/plain": [
              "fuel_type\n",
              "Petrol    179\n",
              "LPG       170\n",
              "E85       161\n",
              "Name: count, dtype: int64"
            ],
            "text/html": [
              "<div>\n",
              "<style scoped>\n",
              "    .dataframe tbody tr th:only-of-type {\n",
              "        vertical-align: middle;\n",
              "    }\n",
              "\n",
              "    .dataframe tbody tr th {\n",
              "        vertical-align: top;\n",
              "    }\n",
              "\n",
              "    .dataframe thead th {\n",
              "        text-align: right;\n",
              "    }\n",
              "</style>\n",
              "<table border=\"1\" class=\"dataframe\">\n",
              "  <thead>\n",
              "    <tr style=\"text-align: right;\">\n",
              "      <th></th>\n",
              "      <th>count</th>\n",
              "    </tr>\n",
              "    <tr>\n",
              "      <th>fuel_type</th>\n",
              "      <th></th>\n",
              "    </tr>\n",
              "  </thead>\n",
              "  <tbody>\n",
              "    <tr>\n",
              "      <th>Petrol</th>\n",
              "      <td>179</td>\n",
              "    </tr>\n",
              "    <tr>\n",
              "      <th>LPG</th>\n",
              "      <td>170</td>\n",
              "    </tr>\n",
              "    <tr>\n",
              "      <th>E85</th>\n",
              "      <td>161</td>\n",
              "    </tr>\n",
              "  </tbody>\n",
              "</table>\n",
              "</div><br><label><b>dtype:</b> int64</label>"
            ]
          },
          "metadata": {},
          "execution_count": 30
        }
      ],
      "source": [
        "# get the levels of factor fuel_type\n",
        "aovdata['fuel_type'].value_counts()"
      ]
    },
    {
      "cell_type": "code",
      "execution_count": null,
      "metadata": {
        "colab": {
          "base_uri": "https://localhost:8080/",
          "height": 653
        },
        "id": "WE2FRb1a9Gxs",
        "outputId": "4782ef1e-4994-4ae8-c0e5-fd80edeecad0"
      },
      "outputs": [
        {
          "output_type": "stream",
          "name": "stdout",
          "text": [
            "fuel_type\n",
            "E85       338.124534\n",
            "LPG       363.744412\n",
            "Petrol    371.722961\n",
            "Name: co_emissions, dtype: float64\n"
          ]
        },
        {
          "output_type": "display_data",
          "data": {
            "text/plain": [
              "<Figure size 600x600 with 1 Axes>"
            ],
            "image/png": "[encoded data removed]"
          },
          "metadata": {}
        }
      ],
      "source": [
        "# mean of the carbon emission at different levels of the fuel_type factor\n",
        "print(aovdata.groupby(\"fuel_type\")[\"co_emissions\"].mean())\n",
        "\n",
        "# draw the boxplot for visualization\n",
        "fig, ax = plt.subplots(figsize = (6,6))\n",
        "a = sns.boxplot(x = \"fuel_type\", y = 'co_emissions' , data = aovdata, hue = 'fuel_type')\n",
        "a.set_title(\"Carbon Emission w.r.t. Fuel type (3 levels)\", fontsize = 15)\n",
        "plt.show()"
      ]
    },
    {
      "cell_type": "markdown",
      "metadata": {
        "id": "qb-sMEm2WtHf"
      },
      "source": [
        "Now, the normality and equality variance assumptions need to be checked.\n",
        "\n",
        "* For testing normality, Shapiro-Wilk's test is applied to the response variable.\n",
        "\n",
        "* For equality of variances, Levene's test is applied to the response variable."
      ]
    },
    {
      "cell_type": "markdown",
      "source": [
        "#### **Shapiro-Wilk’s test**\n"
      ],
      "metadata": {
        "id": "uRpTXLod5PNx"
      }
    },
    {
      "cell_type": "markdown",
      "metadata": {
        "id": "_pFdvUuGC6qu"
      },
      "source": [
        "**Writing the null and alternative hypotheses**\n",
        "\n",
        "We will test the null hypothesis\n",
        "\n",
        ">$H_0:$ Carbon emission follows a normal distribution\n",
        "\n",
        "against the alternative hypothesis\n",
        "\n",
        ">$H_a:$ Carbon emission does not follow a normal distribution"
      ]
    },
    {
      "cell_type": "code",
      "execution_count": null,
      "metadata": {
        "colab": {
          "base_uri": "https://localhost:8080/"
        },
        "id": "yHZdbI6hClTY",
        "outputId": "12798745-eb2d-4eaa-f925-b62927ed1825"
      },
      "outputs": [
        {
          "output_type": "stream",
          "name": "stdout",
          "text": [
            "The p-value is 0.49709524943766514\n"
          ]
        }
      ],
      "source": [
        "# Assumption 1: Normality\n",
        "# import the required function\n",
        "from scipy import stats\n",
        "\n",
        "# find the p-value\n",
        "w, p_value = stats.shapiro(aovdata['co_emissions'])\n",
        "print('The p-value is', p_value)"
      ]
    },
    {
      "cell_type": "markdown",
      "metadata": {
        "id": "h1-_8Mi2EYIU"
      },
      "source": [
        "**Conclusions:**\n",
        "<p align = \"justify\">\n",
        "Since the p-value of the test is very large, we fail to reject the null hypothesis that the response variable follows the normal distribution."
      ]
    },
    {
      "cell_type": "markdown",
      "source": [
        "#### **Levene’s test**"
      ],
      "metadata": {
        "id": "VahaNnGX5dv5"
      }
    },
    {
      "cell_type": "markdown",
      "metadata": {
        "id": "RN7l8dkREpFu"
      },
      "source": [
        "**Writing the null and alternative hypotheses**\n",
        "\n",
        "We will test the null hypothesis\n",
        "\n",
        ">$H_0$: All the population variances are equal\n",
        "\n",
        "against the alternative hypothesis\n",
        "\n",
        ">$H_a$: At least one variance is different from the rest"
      ]
    },
    {
      "cell_type": "code",
      "execution_count": null,
      "metadata": {
        "colab": {
          "base_uri": "https://localhost:8080/"
        },
        "id": "Jj-jsFGTFKtI",
        "outputId": "34a74531-6218-4d2a-c349-f04cc03c169c"
      },
      "outputs": [
        {
          "output_type": "stream",
          "name": "stdout",
          "text": [
            "The p-value is 0.19437768490117\n"
          ]
        }
      ],
      "source": [
        "# Assumption 2: Homogeneity of Variance\n",
        "# import the required function\n",
        "from scipy.stats import levene\n",
        "statistic, p_value = levene(aovdata['co_emissions'][aovdata['fuel_type'] == \"Petrol\"],\n",
        "                            aovdata['co_emissions'][aovdata['fuel_type'] == \"E85\"],\n",
        "                            aovdata['co_emissions'][aovdata['fuel_type'] ==  \"LPG\"])\n",
        "# find the p-value\n",
        "print('The p-value is', p_value)"
      ]
    },
    {
      "cell_type": "markdown",
      "metadata": {
        "id": "v6NjQ3iCF7tj"
      },
      "source": [
        "Since the p-value is large, we fail to reject the null hypothesis of homogeneity of variances."
      ]
    },
    {
      "cell_type": "markdown",
      "metadata": {
        "id": "kvMMknJDq_LU"
      },
      "source": [
        "**Sanity Check:** See Whether the assumptions of Anova are satisfied or not\n",
        "\n",
        "* The populations are normally distributed\n",
        "> Yes, the normality assumption is verified using the Shapiro-Wilk’s test.\n",
        "* Samples are independent simple random samples\n",
        "> Yes, we are informed that the collected sample is a simple random sample.\n",
        "* Population variances are equal\n",
        "> Yes, the homogeneity of variance assumption is verified using Levene's test."
      ]
    },
    {
      "cell_type": "markdown",
      "metadata": {
        "id": "mXyl5ApFr6zU"
      },
      "source": [
        "**Finding the p-value**"
      ]
    },
    {
      "cell_type": "code",
      "execution_count": null,
      "metadata": {
        "colab": {
          "base_uri": "https://localhost:8080/"
        },
        "id": "HRjKGT13ryta",
        "outputId": "9390c994-66f8-43b2-94e8-76db14f316cb"
      },
      "outputs": [
        {
          "output_type": "stream",
          "name": "stdout",
          "text": [
            "The p-value is 8.274439764368132e-06\n"
          ]
        }
      ],
      "source": [
        "# import the required function\n",
        "from scipy.stats import f_oneway\n",
        "\n",
        "# perform one-way Anova test\n",
        "test_stat, p_value = f_oneway(aovdata.loc[aovdata['fuel_type'] == 'Petrol', 'co_emissions'],\n",
        "                              aovdata.loc[aovdata['fuel_type'] == 'E85', 'co_emissions'],\n",
        "                              aovdata.loc[aovdata['fuel_type'] == 'LPG', 'co_emissions'])\n",
        "print('The p-value is ' + str(p_value))"
      ]
    },
    {
      "cell_type": "markdown",
      "metadata": {
        "id": "m4Zat_fyvV3j"
      },
      "source": [
        "**Conclusions**\n",
        "<p align = \"justify\">\n",
        "As the p-value is much less than the significance level, we can reject the null hypothesis. Hence, we do have enough statistical evidence to conclude that at least one carbon emission level is different from the rest at a 5% significance level.\n",
        "\n",
        "<p align = \"justify\">\n",
        "However, we don't know which mean is different from the rest or whether all pairs of means are different. Multiple comparison tests are used to test the differences between all pairs of means."
      ]
    },
    {
      "cell_type": "markdown",
      "metadata": {
        "id": "lb7fV6waiIb8"
      },
      "source": [
        "#### **Multiple Comparison test (Tukey HSD)**"
      ]
    },
    {
      "cell_type": "markdown",
      "metadata": {
        "id": "g_YbQ9WL93KO"
      },
      "source": [
        "**Writing the null and alternative hypotheses**\n",
        "\n",
        "To identify which fuel type mean carbon emission is different from other groups, the null hypothesis is\n",
        "\n",
        "  > $𝐻_0: 𝜇_1=𝜇_2 \\text{ and } 𝜇_1=𝜇_3 \\text{ and } 𝜇_2=𝜇_3$\n",
        "\n",
        "against the alternative hypothesis\n",
        "\n",
        " > $𝐻_a: 𝜇_1\\neq𝜇_2 \\text{ or } 𝜇_1\\neq𝜇_3 \\text{ or } 𝜇_2\\neq𝜇_3$"
      ]
    },
    {
      "cell_type": "code",
      "execution_count": null,
      "metadata": {
        "id": "7lb7lwUg93KO",
        "outputId": "e511c9b2-fc55-4744-ba32-d50bbdb9b28c",
        "colab": {
          "base_uri": "https://localhost:8080/"
        }
      },
      "outputs": [
        {
          "output_type": "stream",
          "name": "stdout",
          "text": [
            "Multiple Comparison of Means - Tukey HSD, FWER=0.05 \n",
            "====================================================\n",
            "group1 group2 meandiff p-adj   lower   upper  reject\n",
            "----------------------------------------------------\n",
            "   E85    LPG  25.6199 0.0012  8.6843 42.5554   True\n",
            "   E85 Petrol  33.5984    0.0 16.8712 50.3256   True\n",
            "   LPG Petrol   7.9785 0.4916 -8.5139  24.471  False\n",
            "----------------------------------------------------\n"
          ]
        }
      ],
      "source": [
        "# import the required function\n",
        "from statsmodels.stats.multicomp import pairwise_tukeyhsd\n",
        "\n",
        "# perform multiple pairwise comparison (Tukey HSD)\n",
        "m_comp = pairwise_tukeyhsd(endog = aovdata['co_emissions'], groups = aovdata['fuel_type'], alpha = 0.05)\n",
        "print(m_comp)"
      ]
    },
    {
      "cell_type": "markdown",
      "metadata": {
        "id": "phLeziu_93KP"
      },
      "source": [
        "**Conclusions**\n",
        "<p align = \"justify\">\n",
        "As the p-value for comparing the mean carbon emissions for the pair E85-LPG and E85-Petrol is less than the significance level, the null hypothesis of equality of all population means can be rejected.\n",
        "<p align = \"justify\">\n",
        "Thus, we can say that the mean carbon emission for Petrol and LPG is similar but the emission for fuel type E85 is significantly different from LPG and Petrol."
      ]
    },
    {
      "cell_type": "markdown",
      "source": [
        "### **Summary**\n",
        "<p align = \"justify\">\n",
        "In this exercise, various Statistical Tests were displayed and applied in solving different case scenarios. With the help of python and its libaries, Hypothesis testing was carried out in various case scenarios yielding meaningful statistics-driven conclusions."
      ],
      "metadata": {
        "id": "bO-FrS4u8WSh"
      }
    }
  ],
  "metadata": {
    "colab": {
      "provenance": []
    },
    "kernelspec": {
      "display_name": "Python 3 (ipykernel)",
      "language": "python",
      "name": "python3"
    },
    "language_info": {
      "codemirror_mode": {
        "name": "ipython",
        "version": 3
      },
      "file_extension": ".py",
      "mimetype": "text/x-python",
      "name": "python",
      "nbconvert_exporter": "python",
      "pygments_lexer": "ipython3",
      "version": "3.9.7"
    }
  },
  "nbformat": 4,
  "nbformat_minor": 0
}